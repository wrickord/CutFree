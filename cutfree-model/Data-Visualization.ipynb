{
 "cells": [
  {
   "cell_type": "code",
   "execution_count": 2,
   "metadata": {},
   "outputs": [],
   "source": [
    "import pandas as pd\n",
    "import os\n",
    "\n",
    "file_path = os.path.normpath(os.getcwd() + os.sep + os.pardir) + \"\\\\cutfree-simulations\\\\runtime_data.csv\""
   ]
  },
  {
   "cell_type": "code",
   "execution_count": 3,
   "metadata": {},
   "outputs": [
    {
     "data": {
      "text/plain": [
       "Oligo                        NNNNNN\n",
       "OligoLength                       6\n",
       "Sites                   Any[\"YATR\"]\n",
       "TotalSites                        1\n",
       "SiteLength                        4\n",
       "CutFree_Randomer             NBNVVN\n",
       "CutFree_Degeneracy          7.45472\n",
       "CutFree_Time               0.006211\n",
       "CutFreeRL_Randomer           NNVVVN\n",
       "CutFreeRL_Degeneracy        7.45472\n",
       "CutFreeRL_Time             0.228063\n",
       "Name: 0, dtype: object"
      ]
     },
     "execution_count": 3,
     "metadata": {},
     "output_type": "execute_result"
    }
   ],
   "source": [
    "df = pd.read_csv(file_path)\n",
    "\n",
    "df.iloc[0]"
   ]
  },
  {
   "cell_type": "code",
   "execution_count": 4,
   "metadata": {},
   "outputs": [
    {
     "data": {
      "text/plain": [
       "Index(['Oligo', 'OligoLength', 'Sites', 'TotalSites', 'SiteLength',\n",
       "       'CutFree_Randomer', 'CutFree_Degeneracy', 'CutFree_Time',\n",
       "       'CutFreeRL_Randomer', 'CutFreeRL_Degeneracy', 'CutFreeRL_Time'],\n",
       "      dtype='object')"
      ]
     },
     "execution_count": 4,
     "metadata": {},
     "output_type": "execute_result"
    }
   ],
   "source": [
    "df.columns"
   ]
  },
  {
   "cell_type": "code",
   "execution_count": 5,
   "metadata": {},
   "outputs": [
    {
     "data": {
      "text/html": [
       "<div>\n",
       "<style scoped>\n",
       "    .dataframe tbody tr th:only-of-type {\n",
       "        vertical-align: middle;\n",
       "    }\n",
       "\n",
       "    .dataframe tbody tr th {\n",
       "        vertical-align: top;\n",
       "    }\n",
       "\n",
       "    .dataframe thead th {\n",
       "        text-align: right;\n",
       "    }\n",
       "</style>\n",
       "<table border=\"1\" class=\"dataframe\">\n",
       "  <thead>\n",
       "    <tr style=\"text-align: right;\">\n",
       "      <th></th>\n",
       "      <th>Oligo</th>\n",
       "      <th>OligoLength</th>\n",
       "      <th>Sites</th>\n",
       "      <th>TotalSites</th>\n",
       "      <th>SiteLength</th>\n",
       "      <th>CutFree_Randomer</th>\n",
       "      <th>CutFree_Degeneracy</th>\n",
       "      <th>CutFree_Time</th>\n",
       "      <th>CutFreeRL_Randomer</th>\n",
       "      <th>CutFreeRL_Degeneracy</th>\n",
       "      <th>CutFreeRL_Time</th>\n",
       "    </tr>\n",
       "  </thead>\n",
       "  <tbody>\n",
       "    <tr>\n",
       "      <th>0</th>\n",
       "      <td>NNNNNN</td>\n",
       "      <td>6</td>\n",
       "      <td>Any[\"YATR\"]</td>\n",
       "      <td>1</td>\n",
       "      <td>4</td>\n",
       "      <td>NBNVVN</td>\n",
       "      <td>7.45472</td>\n",
       "      <td>0.006211</td>\n",
       "      <td>NNVVVN</td>\n",
       "      <td>7.45472</td>\n",
       "      <td>0.228063</td>\n",
       "    </tr>\n",
       "  </tbody>\n",
       "</table>\n",
       "</div>"
      ],
      "text/plain": [
       "    Oligo  OligoLength        Sites  TotalSites  SiteLength CutFree_Randomer  \\\n",
       "0  NNNNNN            6  Any[\"YATR\"]           1           4           NBNVVN   \n",
       "\n",
       "   CutFree_Degeneracy  CutFree_Time CutFreeRL_Randomer  CutFreeRL_Degeneracy  \\\n",
       "0             7.45472      0.006211             NNVVVN               7.45472   \n",
       "\n",
       "   CutFreeRL_Time  \n",
       "0        0.228063  "
      ]
     },
     "execution_count": 5,
     "metadata": {},
     "output_type": "execute_result"
    }
   ],
   "source": [
    "df.loc[(df[\"OligoLength\"] == 6) & (df[\"TotalSites\"] == 1) & (df[\"SiteLength\"] == 4)]"
   ]
  },
  {
   "cell_type": "code",
   "execution_count": 30,
   "metadata": {},
   "outputs": [],
   "source": [
    "inputs = df[[\"OligoLength\", \"TotalSites\", \"SiteLength\"]]\n",
    "cutfree_ouputs = df[[\"CutFree_Time\", \"CutFree_Degeneracy\", \"CutFreeRL_Time\", \"CutFreeRL_Degeneracy\"]]"
   ]
  },
  {
   "cell_type": "code",
   "execution_count": 31,
   "metadata": {},
   "outputs": [
    {
     "name": "stdout",
     "output_type": "stream",
     "text": [
      "[[18.07458947 36.18372896  2.0345258  34.9217892 ]\n",
      " [ 2.75656461 25.66388572  0.60326939 24.63023059]\n",
      " [ 6.72299378 14.60671906  1.21957953 13.72777469]\n",
      " [ 8.42253787 23.00223337  0.6795082  20.84963758]\n",
      " [18.37852023 42.05773394  1.93571167 40.65112698]\n",
      " [16.52198592 40.20267773  1.2812093  37.85328048]\n",
      " [-2.59984195 17.61987049  0.06268803 16.49870418]\n",
      " [-9.94809517 14.03162857 -0.34852541 13.59808191]\n",
      " [ 5.78627274 38.5486998   1.44062097 38.79103723]\n",
      " [25.42284269 39.77197088  2.44573924 37.82241147]]\n",
      "      CutFree_Time  CutFree_Degeneracy  CutFreeRL_Time  CutFreeRL_Degeneracy\n",
      "1246     53.568349           35.873754        2.174671             34.265445\n",
      "862       0.092182           27.268306        0.744672             26.523043\n",
      "298       0.175804           13.693045        0.609379             12.594432\n",
      "855       0.199398           24.495717        0.736367             22.076478\n",
      "1534     20.187803           43.040792        2.174223             41.602382\n",
      "1603      0.375691           40.032637        1.265883             38.188762\n",
      "552       0.015955           19.539455        0.514703             18.492959\n",
      "350       0.028935           15.432688        0.220958             15.197122\n",
      "1240      0.017743           39.287374        1.299325             39.287374\n",
      "1448     60.092391           39.810622        2.916380             37.391383\n",
      "CutFree_Time            0.720960\n",
      "CutFree_Degeneracy      0.012021\n",
      "CutFreeRL_Time          0.000311\n",
      "CutFreeRL_Degeneracy    0.018650\n",
      "dtype: float64\n"
     ]
    }
   ],
   "source": [
    "import numpy as np\n",
    "from sklearn import linear_model\n",
    "from sklearn.model_selection import train_test_split\n",
    "\n",
    "X_train, X_test, y_train, y_test = train_test_split(inputs, cutfree_ouputs, test_size=0.2, random_state=42)\n",
    "cutfree_model = linear_model.LinearRegression()\n",
    "cutfree_model.fit(X_train, y_train)\n",
    "\n",
    "y_pred = cutfree_model.predict(X_test)\n",
    "mse = np.mean((y_pred - y_test)**2)\n",
    "print(y_pred[:10])\n",
    "print(y_test[:10])\n",
    "print(mse/len(y_test))"
   ]
  },
  {
   "cell_type": "code",
   "execution_count": null,
   "metadata": {},
   "outputs": [],
   "source": []
  }
 ],
 "metadata": {
  "kernelspec": {
   "display_name": "Python 3",
   "language": "python",
   "name": "python3"
  },
  "language_info": {
   "codemirror_mode": {
    "name": "ipython",
    "version": 3
   },
   "file_extension": ".py",
   "mimetype": "text/x-python",
   "name": "python",
   "nbconvert_exporter": "python",
   "pygments_lexer": "ipython3",
   "version": "3.10.10"
  },
  "orig_nbformat": 4,
  "vscode": {
   "interpreter": {
    "hash": "7a6810209b62bd0645ec8d713df974682bea85272d33ab599257a9fae2222715"
   }
  }
 },
 "nbformat": 4,
 "nbformat_minor": 2
}
