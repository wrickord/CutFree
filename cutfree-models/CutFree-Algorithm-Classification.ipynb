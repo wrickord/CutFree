{
 "cells": [
  {
   "cell_type": "markdown",
   "metadata": {},
   "source": [
    "# Import Dependencies"
   ]
  },
  {
   "cell_type": "code",
   "execution_count": 432,
   "metadata": {},
   "outputs": [],
   "source": [
    "# System\n",
    "import os\n",
    "\n",
    "# Data Analysis\n",
    "import numpy as np\n",
    "import pandas as pd\n",
    "import seaborn as sns\n",
    "import matplotlib.pyplot as plt\n",
    "\n",
    "# Machine Learning\n",
    "from sklearn.model_selection import train_test_split, GridSearchCV\n",
    "from sklearn.neural_network import MLPClassifier\n",
    "from sklearn.metrics import accuracy_score, classification_report, plot_confusion_matrix\n",
    "\n",
    "import tensorflow as tf\n",
    "\n",
    "import csv\n",
    "import pickle"
   ]
  },
  {
   "cell_type": "markdown",
   "metadata": {},
   "source": [
    "# Get Data"
   ]
  },
  {
   "cell_type": "code",
   "execution_count": 433,
   "metadata": {},
   "outputs": [
    {
     "data": {
      "text/plain": [
       "Oligo                        NNNNNN\n",
       "OligoLength                       6\n",
       "Sites                   Any[\"YATR\"]\n",
       "TotalSites                        1\n",
       "SiteLength                        4\n",
       "CutFree_Randomer             NBNVVN\n",
       "CutFree_Degeneracy          7.45472\n",
       "CutFree_Time               0.006211\n",
       "CutFreeRL_Randomer           NNVVVN\n",
       "CutFreeRL_Degeneracy        7.45472\n",
       "CutFreeRL_Time             0.228063\n",
       "Name: 0, dtype: object"
      ]
     },
     "execution_count": 433,
     "metadata": {},
     "output_type": "execute_result"
    }
   ],
   "source": [
    "file_path = os.path.normpath(os.getcwd() + os.sep + os.pardir) + \"/cutfree-simulations/runtime_data_v2.csv\"\n",
    "df_original = pd.read_csv(file_path)\n",
    "df = df_original.copy()\n",
    "df.iloc[0]"
   ]
  },
  {
   "cell_type": "code",
   "execution_count": 434,
   "metadata": {},
   "outputs": [
    {
     "data": {
      "text/html": [
       "<div>\n",
       "<style scoped>\n",
       "    .dataframe tbody tr th:only-of-type {\n",
       "        vertical-align: middle;\n",
       "    }\n",
       "\n",
       "    .dataframe tbody tr th {\n",
       "        vertical-align: top;\n",
       "    }\n",
       "\n",
       "    .dataframe thead th {\n",
       "        text-align: right;\n",
       "    }\n",
       "</style>\n",
       "<table border=\"1\" class=\"dataframe\">\n",
       "  <thead>\n",
       "    <tr style=\"text-align: right;\">\n",
       "      <th></th>\n",
       "      <th>Oligo</th>\n",
       "      <th>OligoLength</th>\n",
       "      <th>Sites</th>\n",
       "      <th>TotalSites</th>\n",
       "      <th>SiteLength</th>\n",
       "      <th>CutFree_Randomer</th>\n",
       "      <th>CutFree_Degeneracy</th>\n",
       "      <th>CutFree_Time</th>\n",
       "      <th>CutFreeRL_Randomer</th>\n",
       "      <th>CutFreeRL_Degeneracy</th>\n",
       "      <th>CutFreeRL_Time</th>\n",
       "    </tr>\n",
       "  </thead>\n",
       "  <tbody>\n",
       "    <tr>\n",
       "      <th>0</th>\n",
       "      <td>NNNNNN</td>\n",
       "      <td>6</td>\n",
       "      <td>Any[\"YATR\"]</td>\n",
       "      <td>1</td>\n",
       "      <td>4</td>\n",
       "      <td>NBNVVN</td>\n",
       "      <td>7.454720</td>\n",
       "      <td>0.006211</td>\n",
       "      <td>NNVVVN</td>\n",
       "      <td>7.454720</td>\n",
       "      <td>0.228063</td>\n",
       "    </tr>\n",
       "    <tr>\n",
       "      <th>1750</th>\n",
       "      <td>NNNNNN</td>\n",
       "      <td>6</td>\n",
       "      <td>Any[\"GATC\"]</td>\n",
       "      <td>1</td>\n",
       "      <td>4</td>\n",
       "      <td>HNNNDD</td>\n",
       "      <td>7.454720</td>\n",
       "      <td>0.006383</td>\n",
       "      <td>NNNDDD</td>\n",
       "      <td>7.454720</td>\n",
       "      <td>0.225150</td>\n",
       "    </tr>\n",
       "    <tr>\n",
       "      <th>3500</th>\n",
       "      <td>NNNNNN</td>\n",
       "      <td>6</td>\n",
       "      <td>Any[\"GGCC\"]</td>\n",
       "      <td>1</td>\n",
       "      <td>4</td>\n",
       "      <td>NHNNDN</td>\n",
       "      <td>7.742402</td>\n",
       "      <td>0.007255</td>\n",
       "      <td>NNNDND</td>\n",
       "      <td>7.742402</td>\n",
       "      <td>0.080954</td>\n",
       "    </tr>\n",
       "  </tbody>\n",
       "</table>\n",
       "</div>"
      ],
      "text/plain": [
       "       Oligo  OligoLength        Sites  TotalSites  SiteLength  \\\n",
       "0     NNNNNN            6  Any[\"YATR\"]           1           4   \n",
       "1750  NNNNNN            6  Any[\"GATC\"]           1           4   \n",
       "3500  NNNNNN            6  Any[\"GGCC\"]           1           4   \n",
       "\n",
       "     CutFree_Randomer  CutFree_Degeneracy  CutFree_Time CutFreeRL_Randomer  \\\n",
       "0              NBNVVN            7.454720      0.006211             NNVVVN   \n",
       "1750           HNNNDD            7.454720      0.006383             NNNDDD   \n",
       "3500           NHNNDN            7.742402      0.007255             NNNDND   \n",
       "\n",
       "      CutFreeRL_Degeneracy  CutFreeRL_Time  \n",
       "0                 7.454720        0.228063  \n",
       "1750              7.454720        0.225150  \n",
       "3500              7.742402        0.080954  "
      ]
     },
     "execution_count": 434,
     "metadata": {},
     "output_type": "execute_result"
    }
   ],
   "source": [
    "df.loc[(df[\"OligoLength\"] == 6) & (df[\"TotalSites\"] == 1) & (df[\"SiteLength\"] == 4)]"
   ]
  },
  {
   "attachments": {},
   "cell_type": "markdown",
   "metadata": {
    "tags": []
   },
   "source": [
    "# Data Classification"
   ]
  },
  {
   "cell_type": "code",
   "execution_count": 435,
   "metadata": {},
   "outputs": [
    {
     "data": {
      "text/plain": [
       "2603"
      ]
     },
     "execution_count": 435,
     "metadata": {},
     "output_type": "execute_result"
    }
   ],
   "source": [
    "random_state = np.random.randint(0, 10000)\n",
    "random_state"
   ]
  },
  {
   "cell_type": "code",
   "execution_count": 436,
   "metadata": {},
   "outputs": [
    {
     "data": {
      "text/html": [
       "<div>\n",
       "<style scoped>\n",
       "    .dataframe tbody tr th:only-of-type {\n",
       "        vertical-align: middle;\n",
       "    }\n",
       "\n",
       "    .dataframe tbody tr th {\n",
       "        vertical-align: top;\n",
       "    }\n",
       "\n",
       "    .dataframe thead th {\n",
       "        text-align: right;\n",
       "    }\n",
       "</style>\n",
       "<table border=\"1\" class=\"dataframe\">\n",
       "  <thead>\n",
       "    <tr style=\"text-align: right;\">\n",
       "      <th></th>\n",
       "      <th>OligoLength</th>\n",
       "      <th>TotalSites</th>\n",
       "      <th>SiteLength</th>\n",
       "      <th>Algorithm</th>\n",
       "      <th>CutFree_Time</th>\n",
       "      <th>CutFreeRL_Time</th>\n",
       "    </tr>\n",
       "  </thead>\n",
       "  <tbody>\n",
       "    <tr>\n",
       "      <th>0</th>\n",
       "      <td>6</td>\n",
       "      <td>1</td>\n",
       "      <td>4</td>\n",
       "      <td>0</td>\n",
       "      <td>0.006211</td>\n",
       "      <td>0.228063</td>\n",
       "    </tr>\n",
       "    <tr>\n",
       "      <th>1</th>\n",
       "      <td>6</td>\n",
       "      <td>2</td>\n",
       "      <td>4</td>\n",
       "      <td>0</td>\n",
       "      <td>0.007820</td>\n",
       "      <td>0.087950</td>\n",
       "    </tr>\n",
       "    <tr>\n",
       "      <th>2</th>\n",
       "      <td>6</td>\n",
       "      <td>3</td>\n",
       "      <td>4</td>\n",
       "      <td>0</td>\n",
       "      <td>0.010071</td>\n",
       "      <td>0.136403</td>\n",
       "    </tr>\n",
       "    <tr>\n",
       "      <th>3</th>\n",
       "      <td>6</td>\n",
       "      <td>4</td>\n",
       "      <td>4</td>\n",
       "      <td>0</td>\n",
       "      <td>0.013531</td>\n",
       "      <td>0.150443</td>\n",
       "    </tr>\n",
       "    <tr>\n",
       "      <th>4</th>\n",
       "      <td>6</td>\n",
       "      <td>5</td>\n",
       "      <td>4</td>\n",
       "      <td>0</td>\n",
       "      <td>0.013882</td>\n",
       "      <td>0.183784</td>\n",
       "    </tr>\n",
       "    <tr>\n",
       "      <th>...</th>\n",
       "      <td>...</td>\n",
       "      <td>...</td>\n",
       "      <td>...</td>\n",
       "      <td>...</td>\n",
       "      <td>...</td>\n",
       "      <td>...</td>\n",
       "    </tr>\n",
       "    <tr>\n",
       "      <th>5244</th>\n",
       "      <td>40</td>\n",
       "      <td>6</td>\n",
       "      <td>8</td>\n",
       "      <td>1</td>\n",
       "      <td>12.737720</td>\n",
       "      <td>4.200124</td>\n",
       "    </tr>\n",
       "    <tr>\n",
       "      <th>5245</th>\n",
       "      <td>40</td>\n",
       "      <td>7</td>\n",
       "      <td>8</td>\n",
       "      <td>1</td>\n",
       "      <td>60.120769</td>\n",
       "      <td>3.009765</td>\n",
       "    </tr>\n",
       "    <tr>\n",
       "      <th>5246</th>\n",
       "      <td>40</td>\n",
       "      <td>8</td>\n",
       "      <td>8</td>\n",
       "      <td>1</td>\n",
       "      <td>60.379011</td>\n",
       "      <td>3.989743</td>\n",
       "    </tr>\n",
       "    <tr>\n",
       "      <th>5247</th>\n",
       "      <td>40</td>\n",
       "      <td>9</td>\n",
       "      <td>8</td>\n",
       "      <td>1</td>\n",
       "      <td>60.156297</td>\n",
       "      <td>3.611050</td>\n",
       "    </tr>\n",
       "    <tr>\n",
       "      <th>5248</th>\n",
       "      <td>40</td>\n",
       "      <td>10</td>\n",
       "      <td>8</td>\n",
       "      <td>1</td>\n",
       "      <td>60.159604</td>\n",
       "      <td>4.173604</td>\n",
       "    </tr>\n",
       "  </tbody>\n",
       "</table>\n",
       "<p>5249 rows × 6 columns</p>\n",
       "</div>"
      ],
      "text/plain": [
       "      OligoLength  TotalSites  SiteLength  Algorithm  CutFree_Time  \\\n",
       "0               6           1           4          0      0.006211   \n",
       "1               6           2           4          0      0.007820   \n",
       "2               6           3           4          0      0.010071   \n",
       "3               6           4           4          0      0.013531   \n",
       "4               6           5           4          0      0.013882   \n",
       "...           ...         ...         ...        ...           ...   \n",
       "5244           40           6           8          1     12.737720   \n",
       "5245           40           7           8          1     60.120769   \n",
       "5246           40           8           8          1     60.379011   \n",
       "5247           40           9           8          1     60.156297   \n",
       "5248           40          10           8          1     60.159604   \n",
       "\n",
       "      CutFreeRL_Time  \n",
       "0           0.228063  \n",
       "1           0.087950  \n",
       "2           0.136403  \n",
       "3           0.150443  \n",
       "4           0.183784  \n",
       "...              ...  \n",
       "5244        4.200124  \n",
       "5245        3.009765  \n",
       "5246        3.989743  \n",
       "5247        3.611050  \n",
       "5248        4.173604  \n",
       "\n",
       "[5249 rows x 6 columns]"
      ]
     },
     "execution_count": 436,
     "metadata": {},
     "output_type": "execute_result"
    }
   ],
   "source": [
    "conditions = [\n",
    "    (df[\"CutFree_Time\"] <= df[\"CutFreeRL_Time\"]),\n",
    "    (df[\"CutFree_Time\"] > df[\"CutFreeRL_Time\"])\n",
    "]\n",
    "\n",
    "values = [0, 1] # 0 = CutFree, 1 = CutFreeRL\n",
    "\n",
    "df[\"Algorithm\"] = np.select(conditions, values)\n",
    "df = df[[\"OligoLength\", \"TotalSites\", \"SiteLength\", \"Algorithm\", \"CutFree_Time\", \"CutFreeRL_Time\"]]\n",
    "df"
   ]
  },
  {
   "attachments": {},
   "cell_type": "markdown",
   "metadata": {},
   "source": [
    "# Rejection Sampling"
   ]
  },
  {
   "cell_type": "code",
   "execution_count": 437,
   "metadata": {},
   "outputs": [
    {
     "name": "stdout",
     "output_type": "stream",
     "text": [
      "3731\n",
      "1518\n"
     ]
    }
   ],
   "source": [
    "numCutFree = df[df.Algorithm == 0].shape[0]\n",
    "print(numCutFree)\n",
    "\n",
    "numCutFreeRL = df[df.Algorithm == 1].shape[0]\n",
    "print(numCutFreeRL)"
   ]
  },
  {
   "cell_type": "code",
   "execution_count": 438,
   "metadata": {},
   "outputs": [
    {
     "data": {
      "text/html": [
       "<div>\n",
       "<style scoped>\n",
       "    .dataframe tbody tr th:only-of-type {\n",
       "        vertical-align: middle;\n",
       "    }\n",
       "\n",
       "    .dataframe tbody tr th {\n",
       "        vertical-align: top;\n",
       "    }\n",
       "\n",
       "    .dataframe thead th {\n",
       "        text-align: right;\n",
       "    }\n",
       "</style>\n",
       "<table border=\"1\" class=\"dataframe\">\n",
       "  <thead>\n",
       "    <tr style=\"text-align: right;\">\n",
       "      <th></th>\n",
       "      <th>OligoLength</th>\n",
       "      <th>TotalSites</th>\n",
       "      <th>SiteLength</th>\n",
       "      <th>Algorithm</th>\n",
       "      <th>CutFree_Time</th>\n",
       "      <th>CutFreeRL_Time</th>\n",
       "    </tr>\n",
       "  </thead>\n",
       "  <tbody>\n",
       "    <tr>\n",
       "      <th>0</th>\n",
       "      <td>6</td>\n",
       "      <td>1</td>\n",
       "      <td>4</td>\n",
       "      <td>0</td>\n",
       "      <td>0.006211</td>\n",
       "      <td>0.228063</td>\n",
       "    </tr>\n",
       "    <tr>\n",
       "      <th>3</th>\n",
       "      <td>6</td>\n",
       "      <td>4</td>\n",
       "      <td>4</td>\n",
       "      <td>0</td>\n",
       "      <td>0.013531</td>\n",
       "      <td>0.150443</td>\n",
       "    </tr>\n",
       "    <tr>\n",
       "      <th>5</th>\n",
       "      <td>6</td>\n",
       "      <td>6</td>\n",
       "      <td>4</td>\n",
       "      <td>0</td>\n",
       "      <td>0.011498</td>\n",
       "      <td>0.194223</td>\n",
       "    </tr>\n",
       "    <tr>\n",
       "      <th>6</th>\n",
       "      <td>6</td>\n",
       "      <td>7</td>\n",
       "      <td>4</td>\n",
       "      <td>0</td>\n",
       "      <td>0.018870</td>\n",
       "      <td>0.205003</td>\n",
       "    </tr>\n",
       "    <tr>\n",
       "      <th>9</th>\n",
       "      <td>6</td>\n",
       "      <td>10</td>\n",
       "      <td>4</td>\n",
       "      <td>0</td>\n",
       "      <td>0.021175</td>\n",
       "      <td>0.262876</td>\n",
       "    </tr>\n",
       "    <tr>\n",
       "      <th>...</th>\n",
       "      <td>...</td>\n",
       "      <td>...</td>\n",
       "      <td>...</td>\n",
       "      <td>...</td>\n",
       "      <td>...</td>\n",
       "      <td>...</td>\n",
       "    </tr>\n",
       "    <tr>\n",
       "      <th>5244</th>\n",
       "      <td>40</td>\n",
       "      <td>6</td>\n",
       "      <td>8</td>\n",
       "      <td>1</td>\n",
       "      <td>12.737720</td>\n",
       "      <td>4.200124</td>\n",
       "    </tr>\n",
       "    <tr>\n",
       "      <th>5245</th>\n",
       "      <td>40</td>\n",
       "      <td>7</td>\n",
       "      <td>8</td>\n",
       "      <td>1</td>\n",
       "      <td>60.120769</td>\n",
       "      <td>3.009765</td>\n",
       "    </tr>\n",
       "    <tr>\n",
       "      <th>5246</th>\n",
       "      <td>40</td>\n",
       "      <td>8</td>\n",
       "      <td>8</td>\n",
       "      <td>1</td>\n",
       "      <td>60.379011</td>\n",
       "      <td>3.989743</td>\n",
       "    </tr>\n",
       "    <tr>\n",
       "      <th>5247</th>\n",
       "      <td>40</td>\n",
       "      <td>9</td>\n",
       "      <td>8</td>\n",
       "      <td>1</td>\n",
       "      <td>60.156297</td>\n",
       "      <td>3.611050</td>\n",
       "    </tr>\n",
       "    <tr>\n",
       "      <th>5248</th>\n",
       "      <td>40</td>\n",
       "      <td>10</td>\n",
       "      <td>8</td>\n",
       "      <td>1</td>\n",
       "      <td>60.159604</td>\n",
       "      <td>4.173604</td>\n",
       "    </tr>\n",
       "  </tbody>\n",
       "</table>\n",
       "<p>3036 rows × 6 columns</p>\n",
       "</div>"
      ],
      "text/plain": [
       "      OligoLength  TotalSites  SiteLength  Algorithm  CutFree_Time  \\\n",
       "0               6           1           4          0      0.006211   \n",
       "3               6           4           4          0      0.013531   \n",
       "5               6           6           4          0      0.011498   \n",
       "6               6           7           4          0      0.018870   \n",
       "9               6          10           4          0      0.021175   \n",
       "...           ...         ...         ...        ...           ...   \n",
       "5244           40           6           8          1     12.737720   \n",
       "5245           40           7           8          1     60.120769   \n",
       "5246           40           8           8          1     60.379011   \n",
       "5247           40           9           8          1     60.156297   \n",
       "5248           40          10           8          1     60.159604   \n",
       "\n",
       "      CutFreeRL_Time  \n",
       "0           0.228063  \n",
       "3           0.150443  \n",
       "5           0.194223  \n",
       "6           0.205003  \n",
       "9           0.262876  \n",
       "...              ...  \n",
       "5244        4.200124  \n",
       "5245        3.009765  \n",
       "5246        3.989743  \n",
       "5247        3.611050  \n",
       "5248        4.173604  \n",
       "\n",
       "[3036 rows x 6 columns]"
      ]
     },
     "execution_count": 438,
     "metadata": {},
     "output_type": "execute_result"
    }
   ],
   "source": [
    "df_rejection = df[df.Algorithm == 0].sample(numCutFree-numCutFreeRL, random_state=random_state)\n",
    "df = df.drop(df_rejection.index)\n",
    "df"
   ]
  },
  {
   "cell_type": "code",
   "execution_count": 439,
   "metadata": {},
   "outputs": [
    {
     "name": "stdout",
     "output_type": "stream",
     "text": [
      "1518\n",
      "1518\n"
     ]
    }
   ],
   "source": [
    "numCutFree = df[df.Algorithm == 0].shape[0]\n",
    "print(numCutFree)\n",
    "\n",
    "numCutFreeRL = df[df.Algorithm == 1].shape[0]\n",
    "print(numCutFreeRL)"
   ]
  },
  {
   "cell_type": "code",
   "execution_count": 440,
   "metadata": {},
   "outputs": [],
   "source": [
    "df_total = df.copy()\n",
    "df = df[[\"OligoLength\", \"TotalSites\", \"SiteLength\", \"Algorithm\"]]"
   ]
  },
  {
   "attachments": {},
   "cell_type": "markdown",
   "metadata": {},
   "source": [
    "# Visualize Data"
   ]
  },
  {
   "cell_type": "code",
   "execution_count": 441,
   "metadata": {},
   "outputs": [
    {
     "data": {
      "image/png": "[encoded data removed]",
      "text/plain": [
       "<Figure size 597x540 with 12 Axes>"
      ]
     },
     "metadata": {
      "needs_background": "light"
     },
     "output_type": "display_data"
    }
   ],
   "source": [
    "pair_plot = sns.pairplot(df, hue=\"Algorithm\", diag_kind=\"kde\")\n",
    "new_labels = [\"CutFree\", \"CutFreeRL\"]\n",
    "for t, l in zip(pair_plot._legend.texts, new_labels):\n",
    "    t.set_text(l)\n",
    "plt.show(pair_plot)"
   ]
  },
  {
   "attachments": {},
   "cell_type": "markdown",
   "metadata": {
    "tags": []
   },
   "source": [
    "# Get Train/Test Split"
   ]
  },
  {
   "cell_type": "code",
   "execution_count": 442,
   "metadata": {},
   "outputs": [],
   "source": [
    "x = df.drop([\"Algorithm\"], axis=1)\n",
    "y = df[\"Algorithm\"]"
   ]
  },
  {
   "cell_type": "code",
   "execution_count": 443,
   "metadata": {},
   "outputs": [
    {
     "data": {
      "text/html": [
       "<div>\n",
       "<style scoped>\n",
       "    .dataframe tbody tr th:only-of-type {\n",
       "        vertical-align: middle;\n",
       "    }\n",
       "\n",
       "    .dataframe tbody tr th {\n",
       "        vertical-align: top;\n",
       "    }\n",
       "\n",
       "    .dataframe thead th {\n",
       "        text-align: right;\n",
       "    }\n",
       "</style>\n",
       "<table border=\"1\" class=\"dataframe\">\n",
       "  <thead>\n",
       "    <tr style=\"text-align: right;\">\n",
       "      <th></th>\n",
       "      <th>OligoLength</th>\n",
       "      <th>TotalSites</th>\n",
       "      <th>SiteLength</th>\n",
       "    </tr>\n",
       "  </thead>\n",
       "  <tbody>\n",
       "    <tr>\n",
       "      <th>4197</th>\n",
       "      <td>19</td>\n",
       "      <td>8</td>\n",
       "      <td>8</td>\n",
       "    </tr>\n",
       "    <tr>\n",
       "      <th>852</th>\n",
       "      <td>23</td>\n",
       "      <td>3</td>\n",
       "      <td>4</td>\n",
       "    </tr>\n",
       "    <tr>\n",
       "      <th>2399</th>\n",
       "      <td>18</td>\n",
       "      <td>10</td>\n",
       "      <td>8</td>\n",
       "    </tr>\n",
       "    <tr>\n",
       "      <th>2972</th>\n",
       "      <td>30</td>\n",
       "      <td>3</td>\n",
       "      <td>6</td>\n",
       "    </tr>\n",
       "    <tr>\n",
       "      <th>4356</th>\n",
       "      <td>23</td>\n",
       "      <td>7</td>\n",
       "      <td>4</td>\n",
       "    </tr>\n",
       "  </tbody>\n",
       "</table>\n",
       "</div>"
      ],
      "text/plain": [
       "      OligoLength  TotalSites  SiteLength\n",
       "4197           19           8           8\n",
       "852            23           3           4\n",
       "2399           18          10           8\n",
       "2972           30           3           6\n",
       "4356           23           7           4"
      ]
     },
     "execution_count": 443,
     "metadata": {},
     "output_type": "execute_result"
    }
   ],
   "source": [
    "x_train_df, x_test_df, y_train_df, y_test_df = train_test_split(x, y, test_size=0.2, random_state=random_state)\n",
    "x_train_df.head()"
   ]
  },
  {
   "cell_type": "code",
   "execution_count": 444,
   "metadata": {},
   "outputs": [
    {
     "data": {
      "text/plain": [
       "4197    1\n",
       "852     0\n",
       "2399    1\n",
       "2972    1\n",
       "4356    1\n",
       "Name: Algorithm, dtype: int32"
      ]
     },
     "execution_count": 444,
     "metadata": {},
     "output_type": "execute_result"
    }
   ],
   "source": [
    "y_train_df.head()"
   ]
  },
  {
   "cell_type": "code",
   "execution_count": 445,
   "metadata": {},
   "outputs": [],
   "source": [
    "x_train, y_train = tf.convert_to_tensor(x_train_df, dtype=tf.float32), tf.convert_to_tensor(y_train_df, dtype=tf.float32)\n",
    "x_test, y_test = tf.convert_to_tensor(x_test_df, dtype=tf.float32), tf.convert_to_tensor(y_test_df, dtype=tf.float32)"
   ]
  },
  {
   "cell_type": "code",
   "execution_count": 446,
   "metadata": {},
   "outputs": [
    {
     "data": {
      "text/plain": [
       "<tf.Tensor: shape=(2428, 3), dtype=float32, numpy=\n",
       "array([[19.,  8.,  8.],\n",
       "       [23.,  3.,  4.],\n",
       "       [18., 10.,  8.],\n",
       "       ...,\n",
       "       [13.,  5.,  8.],\n",
       "       [20.,  7.,  6.],\n",
       "       [ 7., 10.,  7.]], dtype=float32)>"
      ]
     },
     "execution_count": 446,
     "metadata": {},
     "output_type": "execute_result"
    }
   ],
   "source": [
    "x_train"
   ]
  },
  {
   "attachments": {},
   "cell_type": "markdown",
   "metadata": {},
   "source": [
    "# Machine Learning"
   ]
  },
  {
   "attachments": {},
   "cell_type": "markdown",
   "metadata": {},
   "source": [
    "### Accuracy Function"
   ]
  },
  {
   "cell_type": "code",
   "execution_count": 447,
   "metadata": {},
   "outputs": [],
   "source": [
    "def get_accuracy(pred, true):\n",
    "    test_accuracy = accuracy_score(pred, true)*100\n",
    "    print(\"Accuracy: {:.2f}%\".format(test_accuracy))\n",
    "    return test_accuracy"
   ]
  },
  {
   "attachments": {},
   "cell_type": "markdown",
   "metadata": {},
   "source": [
    "### TensorFlow NN"
   ]
  },
  {
   "cell_type": "code",
   "execution_count": 448,
   "metadata": {},
   "outputs": [
    {
     "name": "stdout",
     "output_type": "stream",
     "text": [
      "Model: \"sequential_11\"\n",
      "_________________________________________________________________\n",
      " Layer (type)                Output Shape              Param #   \n",
      "=================================================================\n",
      " dense_66 (Dense)            (None, 32)                128       \n",
      "                                                                 \n",
      " batch_normalization_11 (Bat  (None, 32)               128       \n",
      " chNormalization)                                                \n",
      "                                                                 \n",
      " dropout_33 (Dropout)        (None, 32)                0         \n",
      "                                                                 \n",
      " dense_67 (Dense)            (None, 32)                1056      \n",
      "                                                                 \n",
      " dropout_34 (Dropout)        (None, 32)                0         \n",
      "                                                                 \n",
      " dense_68 (Dense)            (None, 16)                528       \n",
      "                                                                 \n",
      " dropout_35 (Dropout)        (None, 16)                0         \n",
      "                                                                 \n",
      " dense_69 (Dense)            (None, 16)                272       \n",
      "                                                                 \n",
      " dense_70 (Dense)            (None, 8)                 136       \n",
      "                                                                 \n",
      " dense_71 (Dense)            (None, 1)                 9         \n",
      "                                                                 \n",
      "=================================================================\n",
      "Total params: 2,257\n",
      "Trainable params: 2,193\n",
      "Non-trainable params: 64\n",
      "_________________________________________________________________\n"
     ]
    }
   ],
   "source": [
    "model = tf.keras.Sequential([\n",
    "    tf.keras.layers.Dense(32, activation=\"tanh\", input_shape=(3,)),\n",
    "    tf.keras.layers.BatchNormalization(),\n",
    "    tf.keras.layers.Dropout(0.1),\n",
    "    tf.keras.layers.Dense(32, activation=\"tanh\"),\n",
    "    tf.keras.layers.Dropout(0.1),\n",
    "    tf.keras.layers.Dense(16, activation=\"tanh\"),\n",
    "    tf.keras.layers.Dropout(0.1),\n",
    "    tf.keras.layers.Dense(16, activation=\"tanh\"),\n",
    "    tf.keras.layers.Dense(8, activation=\"tanh\"),\n",
    "    tf.keras.layers.Dense(1, activation=\"sigmoid\")\n",
    "])\n",
    "\n",
    "model.summary()"
   ]
  },
  {
   "cell_type": "code",
   "execution_count": 449,
   "metadata": {},
   "outputs": [
    {
     "name": "stdout",
     "output_type": "stream",
     "text": [
      "Epoch 1/100\n",
      "76/76 [==============================] - 1s 3ms/step - loss: 0.2479 - accuracy: 0.5358 - val_loss: 0.2492 - val_accuracy: 0.5378\n",
      "Epoch 2/100\n",
      "76/76 [==============================] - 0s 1ms/step - loss: 0.2432 - accuracy: 0.5647 - val_loss: 0.2405 - val_accuracy: 0.6299\n",
      "Epoch 3/100\n",
      "76/76 [==============================] - 0s 1ms/step - loss: 0.2363 - accuracy: 0.6067 - val_loss: 0.2324 - val_accuracy: 0.6628\n",
      "Epoch 4/100\n",
      "76/76 [==============================] - 0s 2ms/step - loss: 0.2320 - accuracy: 0.6260 - val_loss: 0.2253 - val_accuracy: 0.6809\n",
      "Epoch 5/100\n",
      "76/76 [==============================] - 0s 2ms/step - loss: 0.2261 - accuracy: 0.6536 - val_loss: 0.2193 - val_accuracy: 0.7007\n",
      "Epoch 6/100\n",
      "76/76 [==============================] - 0s 2ms/step - loss: 0.2218 - accuracy: 0.6664 - val_loss: 0.2145 - val_accuracy: 0.7155\n",
      "Epoch 7/100\n",
      "76/76 [==============================] - 0s 1ms/step - loss: 0.2189 - accuracy: 0.6825 - val_loss: 0.2101 - val_accuracy: 0.7368\n",
      "Epoch 8/100\n",
      "76/76 [==============================] - 0s 2ms/step - loss: 0.2140 - accuracy: 0.7063 - val_loss: 0.2064 - val_accuracy: 0.7467\n",
      "Epoch 9/100\n",
      "76/76 [==============================] - 0s 2ms/step - loss: 0.2102 - accuracy: 0.7109 - val_loss: 0.2028 - val_accuracy: 0.7549\n",
      "Epoch 10/100\n",
      "76/76 [==============================] - 0s 2ms/step - loss: 0.2073 - accuracy: 0.7195 - val_loss: 0.1995 - val_accuracy: 0.7632\n",
      "Epoch 11/100\n",
      "76/76 [==============================] - 0s 2ms/step - loss: 0.2059 - accuracy: 0.7150 - val_loss: 0.1963 - val_accuracy: 0.7632\n",
      "Epoch 12/100\n",
      "76/76 [==============================] - 0s 2ms/step - loss: 0.2004 - accuracy: 0.7385 - val_loss: 0.1935 - val_accuracy: 0.7664\n",
      "Epoch 13/100\n",
      "76/76 [==============================] - 0s 2ms/step - loss: 0.1996 - accuracy: 0.7389 - val_loss: 0.1907 - val_accuracy: 0.7664\n",
      "Epoch 14/100\n",
      "76/76 [==============================] - 0s 2ms/step - loss: 0.1963 - accuracy: 0.7426 - val_loss: 0.1881 - val_accuracy: 0.7615\n",
      "Epoch 15/100\n",
      "76/76 [==============================] - 0s 2ms/step - loss: 0.1932 - accuracy: 0.7545 - val_loss: 0.1858 - val_accuracy: 0.7599\n",
      "Epoch 16/100\n",
      "76/76 [==============================] - 0s 2ms/step - loss: 0.1915 - accuracy: 0.7504 - val_loss: 0.1837 - val_accuracy: 0.7615\n",
      "Epoch 17/100\n",
      "76/76 [==============================] - 0s 2ms/step - loss: 0.1907 - accuracy: 0.7500 - val_loss: 0.1816 - val_accuracy: 0.7648\n",
      "Epoch 18/100\n",
      "76/76 [==============================] - 0s 2ms/step - loss: 0.1868 - accuracy: 0.7570 - val_loss: 0.1797 - val_accuracy: 0.7681\n",
      "Epoch 19/100\n",
      "76/76 [==============================] - 0s 2ms/step - loss: 0.1857 - accuracy: 0.7566 - val_loss: 0.1778 - val_accuracy: 0.7714\n",
      "Epoch 20/100\n",
      "76/76 [==============================] - 0s 2ms/step - loss: 0.1841 - accuracy: 0.7537 - val_loss: 0.1761 - val_accuracy: 0.7714\n",
      "Epoch 21/100\n",
      "76/76 [==============================] - 0s 2ms/step - loss: 0.1827 - accuracy: 0.7554 - val_loss: 0.1746 - val_accuracy: 0.7730\n",
      "Epoch 22/100\n",
      "76/76 [==============================] - 0s 2ms/step - loss: 0.1816 - accuracy: 0.7562 - val_loss: 0.1731 - val_accuracy: 0.7763\n",
      "Epoch 23/100\n",
      "76/76 [==============================] - 0s 2ms/step - loss: 0.1794 - accuracy: 0.7545 - val_loss: 0.1716 - val_accuracy: 0.7780\n",
      "Epoch 24/100\n",
      "76/76 [==============================] - 0s 2ms/step - loss: 0.1763 - accuracy: 0.7681 - val_loss: 0.1703 - val_accuracy: 0.7845\n",
      "Epoch 25/100\n",
      "76/76 [==============================] - 0s 2ms/step - loss: 0.1770 - accuracy: 0.7648 - val_loss: 0.1690 - val_accuracy: 0.7911\n",
      "Epoch 26/100\n",
      "76/76 [==============================] - 0s 2ms/step - loss: 0.1749 - accuracy: 0.7689 - val_loss: 0.1679 - val_accuracy: 0.7911\n",
      "Epoch 27/100\n",
      "76/76 [==============================] - 0s 2ms/step - loss: 0.1734 - accuracy: 0.7710 - val_loss: 0.1667 - val_accuracy: 0.7911\n",
      "Epoch 28/100\n",
      "76/76 [==============================] - 0s 2ms/step - loss: 0.1710 - accuracy: 0.7764 - val_loss: 0.1655 - val_accuracy: 0.7911\n",
      "Epoch 29/100\n",
      "76/76 [==============================] - 0s 2ms/step - loss: 0.1725 - accuracy: 0.7764 - val_loss: 0.1643 - val_accuracy: 0.7878\n",
      "Epoch 30/100\n",
      "76/76 [==============================] - 0s 2ms/step - loss: 0.1703 - accuracy: 0.7751 - val_loss: 0.1633 - val_accuracy: 0.7878\n",
      "Epoch 31/100\n",
      "76/76 [==============================] - 0s 2ms/step - loss: 0.1708 - accuracy: 0.7648 - val_loss: 0.1623 - val_accuracy: 0.7895\n",
      "Epoch 32/100\n",
      "76/76 [==============================] - 0s 2ms/step - loss: 0.1704 - accuracy: 0.7685 - val_loss: 0.1614 - val_accuracy: 0.7928\n",
      "Epoch 33/100\n",
      "76/76 [==============================] - 0s 2ms/step - loss: 0.1665 - accuracy: 0.7846 - val_loss: 0.1606 - val_accuracy: 0.7944\n",
      "Epoch 34/100\n",
      "76/76 [==============================] - 0s 2ms/step - loss: 0.1659 - accuracy: 0.7788 - val_loss: 0.1597 - val_accuracy: 0.7993\n",
      "Epoch 35/100\n",
      "76/76 [==============================] - 0s 2ms/step - loss: 0.1643 - accuracy: 0.7801 - val_loss: 0.1589 - val_accuracy: 0.7961\n",
      "Epoch 36/100\n",
      "76/76 [==============================] - 0s 2ms/step - loss: 0.1619 - accuracy: 0.7937 - val_loss: 0.1581 - val_accuracy: 0.7977\n",
      "Epoch 37/100\n",
      "76/76 [==============================] - 0s 1ms/step - loss: 0.1637 - accuracy: 0.7751 - val_loss: 0.1573 - val_accuracy: 0.7961\n",
      "Epoch 38/100\n",
      "76/76 [==============================] - 0s 1ms/step - loss: 0.1645 - accuracy: 0.7731 - val_loss: 0.1566 - val_accuracy: 0.7993\n",
      "Epoch 39/100\n",
      "76/76 [==============================] - 0s 2ms/step - loss: 0.1612 - accuracy: 0.7834 - val_loss: 0.1559 - val_accuracy: 0.8010\n",
      "Epoch 40/100\n",
      "76/76 [==============================] - 0s 2ms/step - loss: 0.1615 - accuracy: 0.7838 - val_loss: 0.1553 - val_accuracy: 0.8026\n",
      "Epoch 41/100\n",
      "76/76 [==============================] - 0s 2ms/step - loss: 0.1580 - accuracy: 0.7842 - val_loss: 0.1545 - val_accuracy: 0.7977\n",
      "Epoch 42/100\n",
      "76/76 [==============================] - 0s 2ms/step - loss: 0.1576 - accuracy: 0.7879 - val_loss: 0.1540 - val_accuracy: 0.7977\n",
      "Epoch 43/100\n",
      "76/76 [==============================] - 0s 2ms/step - loss: 0.1600 - accuracy: 0.7850 - val_loss: 0.1534 - val_accuracy: 0.7977\n",
      "Epoch 44/100\n",
      "76/76 [==============================] - 0s 2ms/step - loss: 0.1592 - accuracy: 0.7772 - val_loss: 0.1528 - val_accuracy: 0.7993\n",
      "Epoch 45/100\n",
      "76/76 [==============================] - 0s 2ms/step - loss: 0.1595 - accuracy: 0.7846 - val_loss: 0.1523 - val_accuracy: 0.7977\n",
      "Epoch 46/100\n",
      "76/76 [==============================] - 0s 2ms/step - loss: 0.1575 - accuracy: 0.7813 - val_loss: 0.1518 - val_accuracy: 0.7977\n",
      "Epoch 47/100\n",
      "76/76 [==============================] - 0s 2ms/step - loss: 0.1586 - accuracy: 0.7862 - val_loss: 0.1513 - val_accuracy: 0.7977\n",
      "Epoch 48/100\n",
      "76/76 [==============================] - 0s 2ms/step - loss: 0.1561 - accuracy: 0.7920 - val_loss: 0.1507 - val_accuracy: 0.7993\n",
      "Epoch 49/100\n",
      "76/76 [==============================] - 0s 2ms/step - loss: 0.1565 - accuracy: 0.7875 - val_loss: 0.1503 - val_accuracy: 0.7977\n",
      "Epoch 50/100\n",
      "76/76 [==============================] - 0s 2ms/step - loss: 0.1549 - accuracy: 0.7916 - val_loss: 0.1499 - val_accuracy: 0.7993\n",
      "Epoch 51/100\n",
      "76/76 [==============================] - 0s 2ms/step - loss: 0.1549 - accuracy: 0.7920 - val_loss: 0.1495 - val_accuracy: 0.7993\n",
      "Epoch 52/100\n",
      "76/76 [==============================] - 0s 1ms/step - loss: 0.1546 - accuracy: 0.7867 - val_loss: 0.1491 - val_accuracy: 0.8010\n",
      "Epoch 53/100\n",
      "76/76 [==============================] - 0s 1ms/step - loss: 0.1512 - accuracy: 0.7945 - val_loss: 0.1487 - val_accuracy: 0.8010\n",
      "Epoch 54/100\n",
      "76/76 [==============================] - 0s 1ms/step - loss: 0.1527 - accuracy: 0.7941 - val_loss: 0.1484 - val_accuracy: 0.8043\n",
      "Epoch 55/100\n",
      "76/76 [==============================] - 0s 2ms/step - loss: 0.1562 - accuracy: 0.7805 - val_loss: 0.1481 - val_accuracy: 0.8026\n",
      "Epoch 56/100\n",
      "76/76 [==============================] - 0s 2ms/step - loss: 0.1536 - accuracy: 0.7891 - val_loss: 0.1478 - val_accuracy: 0.8043\n",
      "Epoch 57/100\n",
      "76/76 [==============================] - 0s 2ms/step - loss: 0.1533 - accuracy: 0.7928 - val_loss: 0.1475 - val_accuracy: 0.8043\n",
      "Epoch 58/100\n",
      "76/76 [==============================] - 0s 2ms/step - loss: 0.1541 - accuracy: 0.7924 - val_loss: 0.1472 - val_accuracy: 0.8043\n",
      "Epoch 59/100\n",
      "76/76 [==============================] - 0s 2ms/step - loss: 0.1512 - accuracy: 0.7990 - val_loss: 0.1469 - val_accuracy: 0.8076\n",
      "Epoch 60/100\n",
      "76/76 [==============================] - 0s 2ms/step - loss: 0.1500 - accuracy: 0.7941 - val_loss: 0.1466 - val_accuracy: 0.8092\n",
      "Epoch 61/100\n",
      "76/76 [==============================] - 0s 2ms/step - loss: 0.1507 - accuracy: 0.7916 - val_loss: 0.1464 - val_accuracy: 0.8109\n",
      "Epoch 62/100\n",
      "76/76 [==============================] - 0s 2ms/step - loss: 0.1497 - accuracy: 0.7908 - val_loss: 0.1461 - val_accuracy: 0.8092\n",
      "Epoch 63/100\n",
      "76/76 [==============================] - 0s 1ms/step - loss: 0.1524 - accuracy: 0.7904 - val_loss: 0.1459 - val_accuracy: 0.8076\n",
      "Epoch 64/100\n",
      "76/76 [==============================] - 0s 1ms/step - loss: 0.1515 - accuracy: 0.7908 - val_loss: 0.1456 - val_accuracy: 0.8076\n",
      "Epoch 65/100\n",
      "76/76 [==============================] - 0s 2ms/step - loss: 0.1502 - accuracy: 0.7887 - val_loss: 0.1454 - val_accuracy: 0.8092\n",
      "Epoch 66/100\n",
      "76/76 [==============================] - 0s 2ms/step - loss: 0.1503 - accuracy: 0.7920 - val_loss: 0.1453 - val_accuracy: 0.8092\n",
      "Epoch 67/100\n",
      "76/76 [==============================] - 0s 2ms/step - loss: 0.1490 - accuracy: 0.7994 - val_loss: 0.1451 - val_accuracy: 0.8092\n",
      "Epoch 68/100\n",
      "76/76 [==============================] - 0s 2ms/step - loss: 0.1501 - accuracy: 0.7941 - val_loss: 0.1449 - val_accuracy: 0.8092\n",
      "Epoch 69/100\n",
      "76/76 [==============================] - 0s 2ms/step - loss: 0.1469 - accuracy: 0.7953 - val_loss: 0.1448 - val_accuracy: 0.8092\n",
      "Epoch 70/100\n",
      "76/76 [==============================] - 0s 2ms/step - loss: 0.1480 - accuracy: 0.7937 - val_loss: 0.1446 - val_accuracy: 0.8092\n",
      "Epoch 71/100\n",
      "76/76 [==============================] - 0s 2ms/step - loss: 0.1461 - accuracy: 0.8023 - val_loss: 0.1444 - val_accuracy: 0.8092\n",
      "Epoch 72/100\n",
      "76/76 [==============================] - 0s 2ms/step - loss: 0.1463 - accuracy: 0.8044 - val_loss: 0.1443 - val_accuracy: 0.8092\n",
      "Epoch 73/100\n",
      "76/76 [==============================] - 0s 2ms/step - loss: 0.1498 - accuracy: 0.7916 - val_loss: 0.1441 - val_accuracy: 0.8092\n",
      "Epoch 74/100\n",
      "76/76 [==============================] - 0s 2ms/step - loss: 0.1496 - accuracy: 0.7965 - val_loss: 0.1440 - val_accuracy: 0.8092\n",
      "Epoch 75/100\n",
      "76/76 [==============================] - 0s 2ms/step - loss: 0.1469 - accuracy: 0.8019 - val_loss: 0.1440 - val_accuracy: 0.8092\n",
      "Epoch 76/100\n",
      "76/76 [==============================] - 0s 1ms/step - loss: 0.1459 - accuracy: 0.8007 - val_loss: 0.1438 - val_accuracy: 0.8092\n",
      "Epoch 77/100\n",
      "76/76 [==============================] - 0s 1ms/step - loss: 0.1479 - accuracy: 0.7978 - val_loss: 0.1437 - val_accuracy: 0.8092\n",
      "Epoch 78/100\n",
      "76/76 [==============================] - 0s 2ms/step - loss: 0.1435 - accuracy: 0.8031 - val_loss: 0.1435 - val_accuracy: 0.8076\n",
      "Epoch 79/100\n",
      "76/76 [==============================] - 0s 1ms/step - loss: 0.1514 - accuracy: 0.7920 - val_loss: 0.1434 - val_accuracy: 0.8109\n",
      "Epoch 80/100\n",
      "76/76 [==============================] - 0s 1ms/step - loss: 0.1462 - accuracy: 0.8072 - val_loss: 0.1433 - val_accuracy: 0.8109\n",
      "Epoch 81/100\n",
      "76/76 [==============================] - 0s 1ms/step - loss: 0.1450 - accuracy: 0.7986 - val_loss: 0.1432 - val_accuracy: 0.8092\n",
      "Epoch 82/100\n",
      "76/76 [==============================] - 0s 1ms/step - loss: 0.1461 - accuracy: 0.8040 - val_loss: 0.1431 - val_accuracy: 0.8158\n",
      "Epoch 83/100\n",
      "76/76 [==============================] - 0s 2ms/step - loss: 0.1452 - accuracy: 0.8007 - val_loss: 0.1430 - val_accuracy: 0.8141\n",
      "Epoch 84/100\n",
      "76/76 [==============================] - 0s 1ms/step - loss: 0.1447 - accuracy: 0.8007 - val_loss: 0.1429 - val_accuracy: 0.8158\n",
      "Epoch 85/100\n",
      "76/76 [==============================] - 0s 2ms/step - loss: 0.1427 - accuracy: 0.8044 - val_loss: 0.1428 - val_accuracy: 0.8158\n",
      "Epoch 86/100\n",
      "76/76 [==============================] - 0s 2ms/step - loss: 0.1478 - accuracy: 0.7982 - val_loss: 0.1427 - val_accuracy: 0.8158\n",
      "Epoch 87/100\n",
      "76/76 [==============================] - 0s 2ms/step - loss: 0.1445 - accuracy: 0.7961 - val_loss: 0.1426 - val_accuracy: 0.8174\n",
      "Epoch 88/100\n",
      "76/76 [==============================] - 0s 2ms/step - loss: 0.1436 - accuracy: 0.8011 - val_loss: 0.1425 - val_accuracy: 0.8158\n",
      "Epoch 89/100\n",
      "76/76 [==============================] - 0s 2ms/step - loss: 0.1442 - accuracy: 0.8015 - val_loss: 0.1424 - val_accuracy: 0.8174\n",
      "Epoch 90/100\n",
      "76/76 [==============================] - 0s 2ms/step - loss: 0.1465 - accuracy: 0.8011 - val_loss: 0.1423 - val_accuracy: 0.8174\n",
      "Epoch 91/100\n",
      "76/76 [==============================] - 0s 2ms/step - loss: 0.1436 - accuracy: 0.8056 - val_loss: 0.1423 - val_accuracy: 0.8158\n",
      "Epoch 92/100\n",
      "76/76 [==============================] - 0s 2ms/step - loss: 0.1463 - accuracy: 0.8011 - val_loss: 0.1422 - val_accuracy: 0.8174\n",
      "Epoch 93/100\n",
      "76/76 [==============================] - 0s 2ms/step - loss: 0.1432 - accuracy: 0.8097 - val_loss: 0.1421 - val_accuracy: 0.8174\n",
      "Epoch 94/100\n",
      "76/76 [==============================] - 0s 2ms/step - loss: 0.1459 - accuracy: 0.8072 - val_loss: 0.1420 - val_accuracy: 0.8191\n",
      "Epoch 95/100\n",
      "76/76 [==============================] - 0s 2ms/step - loss: 0.1447 - accuracy: 0.8019 - val_loss: 0.1420 - val_accuracy: 0.8191\n",
      "Epoch 96/100\n",
      "76/76 [==============================] - 0s 2ms/step - loss: 0.1439 - accuracy: 0.8048 - val_loss: 0.1419 - val_accuracy: 0.8207\n",
      "Epoch 97/100\n",
      "76/76 [==============================] - 0s 2ms/step - loss: 0.1421 - accuracy: 0.8019 - val_loss: 0.1419 - val_accuracy: 0.8207\n",
      "Epoch 98/100\n",
      "76/76 [==============================] - 0s 2ms/step - loss: 0.1486 - accuracy: 0.7916 - val_loss: 0.1418 - val_accuracy: 0.8191\n",
      "Epoch 99/100\n",
      "76/76 [==============================] - 0s 1ms/step - loss: 0.1444 - accuracy: 0.8048 - val_loss: 0.1417 - val_accuracy: 0.8191\n",
      "Epoch 100/100\n",
      "76/76 [==============================] - 0s 2ms/step - loss: 0.1442 - accuracy: 0.7974 - val_loss: 0.1417 - val_accuracy: 0.8207\n"
     ]
    }
   ],
   "source": [
    "optimizer = tf.keras.optimizers.Adam(learning_rate=0.00001)\n",
    "\n",
    "model.compile(\n",
    "    optimizer, \n",
    "    loss=\"mse\", \n",
    "    metrics=[\"accuracy\"])\n",
    "history = model.fit(x_train, y_train, epochs=100, batch_size=32, validation_data=(x_test, y_test))"
   ]
  },
  {
   "cell_type": "code",
   "execution_count": 450,
   "metadata": {},
   "outputs": [
    {
     "name": "stdout",
     "output_type": "stream",
     "text": [
      "19/19 [==============================] - 0s 778us/step\n",
      "Accuracy: 82.07%\n"
     ]
    }
   ],
   "source": [
    "y_pred_tf = np.round(model.predict(x_test)).reshape(1, -1)[0]\n",
    "tf_acc = get_accuracy(y_pred_tf, y_test)"
   ]
  },
  {
   "cell_type": "markdown",
   "metadata": {},
   "source": [
    "### Plot Loss and Accuracy Curves"
   ]
  },
  {
   "cell_type": "code",
   "execution_count": 451,
   "metadata": {},
   "outputs": [
    {
     "data": {
      "image/png": "[encoded data removed]",
      "text/plain": [
       "<Figure size 432x288 with 1 Axes>"
      ]
     },
     "metadata": {
      "needs_background": "light"
     },
     "output_type": "display_data"
    }
   ],
   "source": [
    "plt.plot(history.history['accuracy'])\n",
    "plt.plot(history.history['val_accuracy'])\n",
    "plt.title('model accuracy')\n",
    "plt.ylabel('accuracy')\n",
    "plt.xlabel('epoch')\n",
    "plt.legend(['train', 'val'], loc='upper left')\n",
    "plt.show()"
   ]
  },
  {
   "cell_type": "code",
   "execution_count": 452,
   "metadata": {},
   "outputs": [
    {
     "data": {
      "image/png": "[encoded data removed]",
      "text/plain": [
       "<Figure size 432x288 with 1 Axes>"
      ]
     },
     "metadata": {
      "needs_background": "light"
     },
     "output_type": "display_data"
    }
   ],
   "source": [
    "plt.plot(history.history['loss'])\n",
    "plt.plot(history.history['val_loss'])\n",
    "plt.title('model loss')\n",
    "plt.ylabel('loss')\n",
    "plt.xlabel('epoch')\n",
    "plt.legend(['train', 'val'], loc='upper left')\n",
    "plt.show()"
   ]
  },
  {
   "attachments": {},
   "cell_type": "markdown",
   "metadata": {},
   "source": [
    "### MLP Classifier NN"
   ]
  },
  {
   "cell_type": "code",
   "execution_count": 453,
   "metadata": {},
   "outputs": [
    {
     "data": {
      "text/plain": [
       "MLPClassifier(activation='tanh', hidden_layer_sizes=(32, 32, 32, 32, 32),\n",
       "              learning_rate='adaptive', max_iter=1000, random_state=2603,\n",
       "              verbose=0)"
      ]
     },
     "execution_count": 453,
     "metadata": {},
     "output_type": "execute_result"
    }
   ],
   "source": [
    "class_NN = MLPClassifier(\n",
    "    hidden_layer_sizes=(32, 32, 32, 32, 32),\n",
    "    activation='tanh',\n",
    "    solver='adam',\n",
    "    alpha=0.0001,\n",
    "    learning_rate='adaptive',\n",
    "    max_iter=1000, \n",
    "    verbose=0,\n",
    "    random_state=random_state)\n",
    "class_NN.fit(x_train, y_train)"
   ]
  },
  {
   "cell_type": "code",
   "execution_count": 454,
   "metadata": {},
   "outputs": [
    {
     "name": "stdout",
     "output_type": "stream",
     "text": [
      "Accuracy: 80.10%\n"
     ]
    }
   ],
   "source": [
    "y_pred = class_NN.predict(x_test)\n",
    "mlp_acc = get_accuracy(y_pred, y_test)"
   ]
  },
  {
   "cell_type": "code",
   "execution_count": 455,
   "metadata": {},
   "outputs": [
    {
     "data": {
      "text/plain": [
       "<tf.Tensor: shape=(3,), dtype=float32, numpy=array([11.,  9.,  4.], dtype=float32)>"
      ]
     },
     "execution_count": 455,
     "metadata": {},
     "output_type": "execute_result"
    }
   ],
   "source": [
    "x_test[0]"
   ]
  },
  {
   "attachments": {},
   "cell_type": "markdown",
   "metadata": {},
   "source": [
    "### Grid Search to Find Optimal Parameters"
   ]
  },
  {
   "cell_type": "code",
   "execution_count": 456,
   "metadata": {},
   "outputs": [],
   "source": [
    "params = {\n",
    "    'hidden_layer_sizes' : [(64, 32, 32, 32, 16), (32, 32, 32, 32, 32)],\n",
    "}\n",
    "\n",
    "gscv = GridSearchCV(class_NN, params, verbose=1)\n",
    "\n",
    "# gscv.fit(np.array(x_train), np.array(y_train))\n",
    "# print(gscv.best_params_) "
   ]
  },
  {
   "cell_type": "markdown",
   "metadata": {},
   "source": [
    "### Analyze Results"
   ]
  },
  {
   "cell_type": "code",
   "execution_count": 457,
   "metadata": {},
   "outputs": [
    {
     "data": {
      "image/png": "[encoded data removed]",
      "text/plain": [
       "<Figure size 432x288 with 2 Axes>"
      ]
     },
     "metadata": {
      "needs_background": "light"
     },
     "output_type": "display_data"
    }
   ],
   "source": [
    "plot_confusion_matrix(class_NN, x_test, y_test)  \n",
    "plt.show()"
   ]
  },
  {
   "cell_type": "code",
   "execution_count": 458,
   "metadata": {},
   "outputs": [
    {
     "name": "stdout",
     "output_type": "stream",
     "text": [
      "              precision    recall  f1-score   support\n",
      "\n",
      "     CutFree       0.70      0.88      0.78       240\n",
      "   CutFreeRL       0.90      0.75      0.82       368\n",
      "\n",
      "    accuracy                           0.80       608\n",
      "   macro avg       0.80      0.81      0.80       608\n",
      "weighted avg       0.82      0.80      0.80       608\n",
      "\n"
     ]
    }
   ],
   "source": [
    "print(classification_report(y_pred, y_test, target_names=[\"CutFree\", \"CutFreeRL\"]))"
   ]
  },
  {
   "attachments": {},
   "cell_type": "markdown",
   "metadata": {},
   "source": [
    "# Visualize Incorrect Classifications"
   ]
  },
  {
   "cell_type": "code",
   "execution_count": 459,
   "metadata": {},
   "outputs": [
    {
     "data": {
      "text/html": [
       "<div>\n",
       "<style scoped>\n",
       "    .dataframe tbody tr th:only-of-type {\n",
       "        vertical-align: middle;\n",
       "    }\n",
       "\n",
       "    .dataframe tbody tr th {\n",
       "        vertical-align: top;\n",
       "    }\n",
       "\n",
       "    .dataframe thead th {\n",
       "        text-align: right;\n",
       "    }\n",
       "</style>\n",
       "<table border=\"1\" class=\"dataframe\">\n",
       "  <thead>\n",
       "    <tr style=\"text-align: right;\">\n",
       "      <th></th>\n",
       "      <th>OligoLength</th>\n",
       "      <th>TotalSites</th>\n",
       "      <th>SiteLength</th>\n",
       "      <th>Algorithm</th>\n",
       "      <th>CutFree_Time</th>\n",
       "      <th>CutFreeRL_Time</th>\n",
       "    </tr>\n",
       "  </thead>\n",
       "  <tbody>\n",
       "    <tr>\n",
       "      <th>0</th>\n",
       "      <td>6</td>\n",
       "      <td>1</td>\n",
       "      <td>4</td>\n",
       "      <td>0</td>\n",
       "      <td>0.006211</td>\n",
       "      <td>0.228063</td>\n",
       "    </tr>\n",
       "    <tr>\n",
       "      <th>3</th>\n",
       "      <td>6</td>\n",
       "      <td>4</td>\n",
       "      <td>4</td>\n",
       "      <td>0</td>\n",
       "      <td>0.013531</td>\n",
       "      <td>0.150443</td>\n",
       "    </tr>\n",
       "    <tr>\n",
       "      <th>5</th>\n",
       "      <td>6</td>\n",
       "      <td>6</td>\n",
       "      <td>4</td>\n",
       "      <td>0</td>\n",
       "      <td>0.011498</td>\n",
       "      <td>0.194223</td>\n",
       "    </tr>\n",
       "    <tr>\n",
       "      <th>6</th>\n",
       "      <td>6</td>\n",
       "      <td>7</td>\n",
       "      <td>4</td>\n",
       "      <td>0</td>\n",
       "      <td>0.018870</td>\n",
       "      <td>0.205003</td>\n",
       "    </tr>\n",
       "    <tr>\n",
       "      <th>9</th>\n",
       "      <td>6</td>\n",
       "      <td>10</td>\n",
       "      <td>4</td>\n",
       "      <td>0</td>\n",
       "      <td>0.021175</td>\n",
       "      <td>0.262876</td>\n",
       "    </tr>\n",
       "  </tbody>\n",
       "</table>\n",
       "</div>"
      ],
      "text/plain": [
       "   OligoLength  TotalSites  SiteLength  Algorithm  CutFree_Time  \\\n",
       "0            6           1           4          0      0.006211   \n",
       "3            6           4           4          0      0.013531   \n",
       "5            6           6           4          0      0.011498   \n",
       "6            6           7           4          0      0.018870   \n",
       "9            6          10           4          0      0.021175   \n",
       "\n",
       "   CutFreeRL_Time  \n",
       "0        0.228063  \n",
       "3        0.150443  \n",
       "5        0.194223  \n",
       "6        0.205003  \n",
       "9        0.262876  "
      ]
     },
     "execution_count": 459,
     "metadata": {},
     "output_type": "execute_result"
    }
   ],
   "source": [
    "df_total.head()"
   ]
  },
  {
   "cell_type": "code",
   "execution_count": 460,
   "metadata": {},
   "outputs": [
    {
     "data": {
      "text/html": [
       "<div>\n",
       "<style scoped>\n",
       "    .dataframe tbody tr th:only-of-type {\n",
       "        vertical-align: middle;\n",
       "    }\n",
       "\n",
       "    .dataframe tbody tr th {\n",
       "        vertical-align: top;\n",
       "    }\n",
       "\n",
       "    .dataframe thead th {\n",
       "        text-align: right;\n",
       "    }\n",
       "</style>\n",
       "<table border=\"1\" class=\"dataframe\">\n",
       "  <thead>\n",
       "    <tr style=\"text-align: right;\">\n",
       "      <th></th>\n",
       "      <th>OligoLength</th>\n",
       "      <th>TotalSites</th>\n",
       "      <th>SiteLength</th>\n",
       "      <th>Algorithm</th>\n",
       "      <th>CutFree_Time</th>\n",
       "      <th>CutFreeRL_Time</th>\n",
       "      <th>Discrepency</th>\n",
       "    </tr>\n",
       "  </thead>\n",
       "  <tbody>\n",
       "    <tr>\n",
       "      <th>5137</th>\n",
       "      <td>38</td>\n",
       "      <td>9</td>\n",
       "      <td>7</td>\n",
       "      <td>0</td>\n",
       "      <td>0.649197</td>\n",
       "      <td>3.664514</td>\n",
       "      <td>-3.015318</td>\n",
       "    </tr>\n",
       "    <tr>\n",
       "      <th>5084</th>\n",
       "      <td>37</td>\n",
       "      <td>6</td>\n",
       "      <td>7</td>\n",
       "      <td>0</td>\n",
       "      <td>0.082008</td>\n",
       "      <td>2.770018</td>\n",
       "      <td>-2.688011</td>\n",
       "    </tr>\n",
       "    <tr>\n",
       "      <th>5232</th>\n",
       "      <td>40</td>\n",
       "      <td>4</td>\n",
       "      <td>7</td>\n",
       "      <td>0</td>\n",
       "      <td>0.087409</td>\n",
       "      <td>2.598295</td>\n",
       "      <td>-2.510885</td>\n",
       "    </tr>\n",
       "    <tr>\n",
       "      <th>5234</th>\n",
       "      <td>40</td>\n",
       "      <td>6</td>\n",
       "      <td>7</td>\n",
       "      <td>0</td>\n",
       "      <td>0.101090</td>\n",
       "      <td>2.525037</td>\n",
       "      <td>-2.423947</td>\n",
       "    </tr>\n",
       "    <tr>\n",
       "      <th>2986</th>\n",
       "      <td>30</td>\n",
       "      <td>7</td>\n",
       "      <td>7</td>\n",
       "      <td>0</td>\n",
       "      <td>0.412753</td>\n",
       "      <td>2.758333</td>\n",
       "      <td>-2.345580</td>\n",
       "    </tr>\n",
       "  </tbody>\n",
       "</table>\n",
       "</div>"
      ],
      "text/plain": [
       "      OligoLength  TotalSites  SiteLength  Algorithm  CutFree_Time  \\\n",
       "5137           38           9           7          0      0.649197   \n",
       "5084           37           6           7          0      0.082008   \n",
       "5232           40           4           7          0      0.087409   \n",
       "5234           40           6           7          0      0.101090   \n",
       "2986           30           7           7          0      0.412753   \n",
       "\n",
       "      CutFreeRL_Time  Discrepency  \n",
       "5137        3.664514    -3.015318  \n",
       "5084        2.770018    -2.688011  \n",
       "5232        2.598295    -2.510885  \n",
       "5234        2.525037    -2.423947  \n",
       "2986        2.758333    -2.345580  "
      ]
     },
     "execution_count": 460,
     "metadata": {},
     "output_type": "execute_result"
    }
   ],
   "source": [
    "df_total[\"Discrepency\"] = df_total.CutFree_Time - df_total.CutFreeRL_Time\n",
    "df_total = df_total.sort_values(by=[\"Discrepency\"], ascending=True)\n",
    "df_total.head()"
   ]
  },
  {
   "cell_type": "code",
   "execution_count": 461,
   "metadata": {},
   "outputs": [],
   "source": [
    "df_total_tf = df_total.copy()\n",
    "\n",
    "df_total_tf.loc[x_test_df.index[np.where(y_test_df != y_pred_tf)], \"Prediction\"] = 0\n",
    "df_total_tf.loc[df_total_tf[\"Prediction\"].isna(), \"Prediction\"] = 1\n",
    "\n",
    "df_total_tf = df_total_tf.reset_index(drop=True)\n"
   ]
  },
  {
   "cell_type": "code",
   "execution_count": 462,
   "metadata": {},
   "outputs": [],
   "source": [
    "df_total.loc[x_test_df.index[np.where(y_test_df != y_pred)], \"Prediction\"] = 0\n",
    "df_total.loc[df_total[\"Prediction\"].isna(), \"Prediction\"] = 1\n"
   ]
  },
  {
   "cell_type": "code",
   "execution_count": 463,
   "metadata": {},
   "outputs": [
    {
     "data": {
      "text/html": [
       "<div>\n",
       "<style scoped>\n",
       "    .dataframe tbody tr th:only-of-type {\n",
       "        vertical-align: middle;\n",
       "    }\n",
       "\n",
       "    .dataframe tbody tr th {\n",
       "        vertical-align: top;\n",
       "    }\n",
       "\n",
       "    .dataframe thead th {\n",
       "        text-align: right;\n",
       "    }\n",
       "</style>\n",
       "<table border=\"1\" class=\"dataframe\">\n",
       "  <thead>\n",
       "    <tr style=\"text-align: right;\">\n",
       "      <th></th>\n",
       "      <th>OligoLength</th>\n",
       "      <th>TotalSites</th>\n",
       "      <th>SiteLength</th>\n",
       "      <th>Algorithm</th>\n",
       "      <th>CutFree_Time</th>\n",
       "      <th>CutFreeRL_Time</th>\n",
       "      <th>Discrepency</th>\n",
       "      <th>Prediction</th>\n",
       "    </tr>\n",
       "  </thead>\n",
       "  <tbody>\n",
       "    <tr>\n",
       "      <th>0</th>\n",
       "      <td>38</td>\n",
       "      <td>9</td>\n",
       "      <td>7</td>\n",
       "      <td>0</td>\n",
       "      <td>0.649197</td>\n",
       "      <td>3.664514</td>\n",
       "      <td>-3.015318</td>\n",
       "      <td>1.0</td>\n",
       "    </tr>\n",
       "    <tr>\n",
       "      <th>1</th>\n",
       "      <td>37</td>\n",
       "      <td>6</td>\n",
       "      <td>7</td>\n",
       "      <td>0</td>\n",
       "      <td>0.082008</td>\n",
       "      <td>2.770018</td>\n",
       "      <td>-2.688011</td>\n",
       "      <td>1.0</td>\n",
       "    </tr>\n",
       "    <tr>\n",
       "      <th>2</th>\n",
       "      <td>40</td>\n",
       "      <td>4</td>\n",
       "      <td>7</td>\n",
       "      <td>0</td>\n",
       "      <td>0.087409</td>\n",
       "      <td>2.598295</td>\n",
       "      <td>-2.510885</td>\n",
       "      <td>1.0</td>\n",
       "    </tr>\n",
       "    <tr>\n",
       "      <th>3</th>\n",
       "      <td>40</td>\n",
       "      <td>6</td>\n",
       "      <td>7</td>\n",
       "      <td>0</td>\n",
       "      <td>0.101090</td>\n",
       "      <td>2.525037</td>\n",
       "      <td>-2.423947</td>\n",
       "      <td>0.0</td>\n",
       "    </tr>\n",
       "    <tr>\n",
       "      <th>4</th>\n",
       "      <td>30</td>\n",
       "      <td>7</td>\n",
       "      <td>7</td>\n",
       "      <td>0</td>\n",
       "      <td>0.412753</td>\n",
       "      <td>2.758333</td>\n",
       "      <td>-2.345580</td>\n",
       "      <td>1.0</td>\n",
       "    </tr>\n",
       "  </tbody>\n",
       "</table>\n",
       "</div>"
      ],
      "text/plain": [
       "   OligoLength  TotalSites  SiteLength  Algorithm  CutFree_Time  \\\n",
       "0           38           9           7          0      0.649197   \n",
       "1           37           6           7          0      0.082008   \n",
       "2           40           4           7          0      0.087409   \n",
       "3           40           6           7          0      0.101090   \n",
       "4           30           7           7          0      0.412753   \n",
       "\n",
       "   CutFreeRL_Time  Discrepency  Prediction  \n",
       "0        3.664514    -3.015318         1.0  \n",
       "1        2.770018    -2.688011         1.0  \n",
       "2        2.598295    -2.510885         1.0  \n",
       "3        2.525037    -2.423947         0.0  \n",
       "4        2.758333    -2.345580         1.0  "
      ]
     },
     "execution_count": 463,
     "metadata": {},
     "output_type": "execute_result"
    }
   ],
   "source": [
    "df_total = df_total.reset_index(drop=True)\n",
    "df_total.head()"
   ]
  },
  {
   "cell_type": "code",
   "execution_count": 464,
   "metadata": {},
   "outputs": [
    {
     "data": {
      "text/plain": [
       "<matplotlib.legend.Legend at 0x151ef5bbd60>"
      ]
     },
     "execution_count": 464,
     "metadata": {},
     "output_type": "execute_result"
    },
    {
     "data": {
      "image/png": "[encoded data removed]",
      "text/plain": [
       "<Figure size 1440x1440 with 3 Axes>"
      ]
     },
     "metadata": {
      "needs_background": "light"
     },
     "output_type": "display_data"
    }
   ],
   "source": [
    "plt.figure(figsize=(20,20))\n",
    "\n",
    "plt.subplot(311)\n",
    "plt.scatter(\n",
    "    df_total[df_total.Algorithm==0].index, df_total[df_total.Algorithm==0].Discrepency, \n",
    "    c =\"blue\",\n",
    "    linewidths = 1,\n",
    "    marker =\"s\",\n",
    "    s = 25)\n",
    "\n",
    "plt.scatter(\n",
    "    df_total[df_total.Algorithm==1].index, df_total[df_total.Algorithm==1].Discrepency, \n",
    "    c =\"green\",\n",
    "    linewidths = 1,\n",
    "    marker =\"s\",\n",
    "    s = 25)\n",
    "\n",
    "plt.title(\"Correct Algorithm Selection for Time Discrepency vs. Index\")\n",
    "plt.xlabel(\"Index\")\n",
    "plt.ylabel(\"Time Discrepency (sec)\")\n",
    "plt.legend([\"CutFree\", \"CutFreeRL\"])\n",
    "\n",
    "plt.subplot(312)\n",
    "plt.scatter(\n",
    "    df_total[df_total.Prediction==1].index, df_total[df_total.Prediction==1].Discrepency, \n",
    "    c =\"black\",\n",
    "    linewidths = 1,\n",
    "    marker =\"s\",\n",
    "    s = 25)\n",
    "\n",
    "plt.scatter(\n",
    "    df_total[df_total.Prediction==0].index, df_total[df_total.Prediction==0].Discrepency, \n",
    "    c =\"red\",\n",
    "    linewidths = 3,\n",
    "    marker =\"x\",\n",
    "    s = 250)\n",
    "\n",
    "plt.title(f\"Accuracy of MLP Classifier Predictions ({mlp_acc:.2f}) for Time Discrepency vs. Index\")\n",
    "plt.xlabel(\"Index\")\n",
    "plt.ylabel(\"Time Discrepency (sec)\")\n",
    "plt.legend([\"Correct Prediction\", \"Incorrect Prediction\"])\n",
    "\n",
    "plt.subplot(313)\n",
    "plt.scatter(\n",
    "    df_total_tf[df_total_tf.Prediction==1].index, df_total_tf[df_total_tf.Prediction==1].Discrepency, \n",
    "    c =\"black\",\n",
    "    linewidths = 1,\n",
    "    marker =\"s\",\n",
    "    s = 25)\n",
    "\n",
    "plt.scatter(\n",
    "    df_total_tf[df_total_tf.Prediction==0].index, df_total_tf[df_total_tf.Prediction==0].Discrepency, \n",
    "    c =\"red\",\n",
    "    linewidths = 3,\n",
    "    marker =\"x\",\n",
    "    s = 250)\n",
    "\n",
    "plt.title(f\"Accuracy of TensforFlow Model Predictions ({tf_acc:.2f}%) for Time Discrepency vs. Index\")\n",
    "plt.xlabel(\"Index\")\n",
    "plt.ylabel(\"Time Discrepency (sec)\")\n",
    "plt.legend([\"Correct Prediction\", \"Incorrect Prediction\"])\n"
   ]
  },
  {
   "attachments": {},
   "cell_type": "markdown",
   "metadata": {},
   "source": [
    "# Get Sensitivity"
   ]
  },
  {
   "cell_type": "code",
   "execution_count": 465,
   "metadata": {},
   "outputs": [
    {
     "data": {
      "text/plain": [
       "1.0"
      ]
     },
     "execution_count": 465,
     "metadata": {},
     "output_type": "execute_result"
    }
   ],
   "source": [
    "false_positives = df_total[df_total.Prediction==0].CutFree_Time > 60\n",
    "false_positives = false_positives[false_positives==True].count()\n",
    "\n",
    "true_positives = df_total[df_total.Prediction==1].CutFree_Time > 60\n",
    "true_positives = true_positives[true_positives==True].count()\n",
    "\n",
    "sensitivity = true_positives / (true_positives + false_positives)\n",
    "sensitivity"
   ]
  },
  {
   "cell_type": "code",
   "execution_count": 466,
   "metadata": {},
   "outputs": [],
   "source": [
    "with open(\"sensitivity_results.csv\", \"a\") as f:\n",
    "    writer = csv.writer(f)\n",
    "    writer.writerow([sensitivity])"
   ]
  },
  {
   "cell_type": "code",
   "execution_count": 487,
   "metadata": {},
   "outputs": [
    {
     "name": "stdout",
     "output_type": "stream",
     "text": [
      "Average Sensitivity: 0.99876 +/- 0.00139\n",
      "Number of Trials: 10\n"
     ]
    }
   ],
   "source": [
    "average_sensitivity = np.array([])\n",
    "n = 0\n",
    "\n",
    "with open(\"sensitivity_results.csv\", \"r\") as f:\n",
    "    reader = csv.reader(f)\n",
    "    for row in reader:\n",
    "        if row != []:\n",
    "            average_sensitivity = np.append(average_sensitivity, float(row[0]))\n",
    "            n += 1\n",
    "\n",
    "print(f\"Average Sensitivity: {average_sensitivity.mean():.5f} +/- {average_sensitivity.std():.5f}\")\n",
    "print(f\"Number of Trials: {n}\")"
   ]
  },
  {
   "cell_type": "markdown",
   "metadata": {},
   "source": [
    "# Save Model"
   ]
  },
  {
   "cell_type": "code",
   "execution_count": 467,
   "metadata": {},
   "outputs": [],
   "source": [
    "# with open(\"cutfree_model.pkl\", \"wb\") as f:\n",
    "#     pickle.dump(class_NN, f)"
   ]
  },
  {
   "cell_type": "code",
   "execution_count": 468,
   "metadata": {},
   "outputs": [],
   "source": [
    "# with open(\"../cutfree-models/cutfree_model.pkl\", \"rb\") as f:\n",
    "#     model = pickle.load(f)\n",
    "# model.predict([[6, 1, 4]])"
   ]
  },
  {
   "cell_type": "code",
   "execution_count": null,
   "metadata": {},
   "outputs": [],
   "source": []
  }
 ],
 "metadata": {
  "kernelspec": {
   "display_name": "base",
   "language": "python",
   "name": "python3"
  },
  "language_info": {
   "codemirror_mode": {
    "name": "ipython",
    "version": 3
   },
   "file_extension": ".py",
   "mimetype": "text/x-python",
   "name": "python",
   "nbconvert_exporter": "python",
   "pygments_lexer": "ipython3",
   "version": "3.9.7"
  }
 },
 "nbformat": 4,
 "nbformat_minor": 4
}
