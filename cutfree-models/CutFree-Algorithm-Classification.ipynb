{
 "cells": [
  {
   "cell_type": "markdown",
   "metadata": {},
   "source": [
    "# Import Dependencies"
   ]
  },
  {
   "cell_type": "code",
   "execution_count": 103,
   "metadata": {},
   "outputs": [],
   "source": [
    "# System\n",
    "import os\n",
    "\n",
    "# Data Analysis\n",
    "import numpy as np\n",
    "import pandas as pd\n",
    "import seaborn as sns\n",
    "import matplotlib.pyplot as plt\n",
    "\n",
    "# Machine Learning\n",
    "from sklearn.model_selection import train_test_split, GridSearchCV\n",
    "from sklearn.neural_network import MLPClassifier\n",
    "from sklearn.metrics import accuracy_score, classification_report, plot_confusion_matrix\n",
    "\n",
    "import tensorflow as tf\n",
    "\n",
    "import pickle"
   ]
  },
  {
   "cell_type": "markdown",
   "metadata": {},
   "source": [
    "# Get Data"
   ]
  },
  {
   "cell_type": "code",
   "execution_count": 104,
   "metadata": {},
   "outputs": [
    {
     "data": {
      "text/plain": [
       "Oligo                        NNNNNN\n",
       "OligoLength                       6\n",
       "Sites                   Any[\"YATR\"]\n",
       "TotalSites                        1\n",
       "SiteLength                        4\n",
       "CutFree_Randomer             NBNVVN\n",
       "CutFree_Degeneracy          7.45472\n",
       "CutFree_Time               0.006211\n",
       "CutFreeRL_Randomer           NNVVVN\n",
       "CutFreeRL_Degeneracy        7.45472\n",
       "CutFreeRL_Time             0.228063\n",
       "Name: 0, dtype: object"
      ]
     },
     "execution_count": 104,
     "metadata": {},
     "output_type": "execute_result"
    }
   ],
   "source": [
    "file_path = os.path.normpath(os.getcwd() + os.sep + os.pardir) + \"/cutfree-simulations/runtime_data_v2.csv\"\n",
    "df_original = pd.read_csv(file_path)\n",
    "df = df_original.copy()\n",
    "df.iloc[0]"
   ]
  },
  {
   "cell_type": "code",
   "execution_count": 105,
   "metadata": {},
   "outputs": [
    {
     "data": {
      "text/html": [
       "<div>\n",
       "<style scoped>\n",
       "    .dataframe tbody tr th:only-of-type {\n",
       "        vertical-align: middle;\n",
       "    }\n",
       "\n",
       "    .dataframe tbody tr th {\n",
       "        vertical-align: top;\n",
       "    }\n",
       "\n",
       "    .dataframe thead th {\n",
       "        text-align: right;\n",
       "    }\n",
       "</style>\n",
       "<table border=\"1\" class=\"dataframe\">\n",
       "  <thead>\n",
       "    <tr style=\"text-align: right;\">\n",
       "      <th></th>\n",
       "      <th>Oligo</th>\n",
       "      <th>OligoLength</th>\n",
       "      <th>Sites</th>\n",
       "      <th>TotalSites</th>\n",
       "      <th>SiteLength</th>\n",
       "      <th>CutFree_Randomer</th>\n",
       "      <th>CutFree_Degeneracy</th>\n",
       "      <th>CutFree_Time</th>\n",
       "      <th>CutFreeRL_Randomer</th>\n",
       "      <th>CutFreeRL_Degeneracy</th>\n",
       "      <th>CutFreeRL_Time</th>\n",
       "    </tr>\n",
       "  </thead>\n",
       "  <tbody>\n",
       "    <tr>\n",
       "      <th>0</th>\n",
       "      <td>NNNNNN</td>\n",
       "      <td>6</td>\n",
       "      <td>Any[\"YATR\"]</td>\n",
       "      <td>1</td>\n",
       "      <td>4</td>\n",
       "      <td>NBNVVN</td>\n",
       "      <td>7.454720</td>\n",
       "      <td>0.006211</td>\n",
       "      <td>NNVVVN</td>\n",
       "      <td>7.454720</td>\n",
       "      <td>0.228063</td>\n",
       "    </tr>\n",
       "    <tr>\n",
       "      <th>1750</th>\n",
       "      <td>NNNNNN</td>\n",
       "      <td>6</td>\n",
       "      <td>Any[\"GATC\"]</td>\n",
       "      <td>1</td>\n",
       "      <td>4</td>\n",
       "      <td>HNNNDD</td>\n",
       "      <td>7.454720</td>\n",
       "      <td>0.006383</td>\n",
       "      <td>NNNDDD</td>\n",
       "      <td>7.454720</td>\n",
       "      <td>0.225150</td>\n",
       "    </tr>\n",
       "    <tr>\n",
       "      <th>3500</th>\n",
       "      <td>NNNNNN</td>\n",
       "      <td>6</td>\n",
       "      <td>Any[\"GGCC\"]</td>\n",
       "      <td>1</td>\n",
       "      <td>4</td>\n",
       "      <td>NHNNDN</td>\n",
       "      <td>7.742402</td>\n",
       "      <td>0.007255</td>\n",
       "      <td>NNNDND</td>\n",
       "      <td>7.742402</td>\n",
       "      <td>0.080954</td>\n",
       "    </tr>\n",
       "  </tbody>\n",
       "</table>\n",
       "</div>"
      ],
      "text/plain": [
       "       Oligo  OligoLength        Sites  TotalSites  SiteLength  \\\n",
       "0     NNNNNN            6  Any[\"YATR\"]           1           4   \n",
       "1750  NNNNNN            6  Any[\"GATC\"]           1           4   \n",
       "3500  NNNNNN            6  Any[\"GGCC\"]           1           4   \n",
       "\n",
       "     CutFree_Randomer  CutFree_Degeneracy  CutFree_Time CutFreeRL_Randomer  \\\n",
       "0              NBNVVN            7.454720      0.006211             NNVVVN   \n",
       "1750           HNNNDD            7.454720      0.006383             NNNDDD   \n",
       "3500           NHNNDN            7.742402      0.007255             NNNDND   \n",
       "\n",
       "      CutFreeRL_Degeneracy  CutFreeRL_Time  \n",
       "0                 7.454720        0.228063  \n",
       "1750              7.454720        0.225150  \n",
       "3500              7.742402        0.080954  "
      ]
     },
     "execution_count": 105,
     "metadata": {},
     "output_type": "execute_result"
    }
   ],
   "source": [
    "df.loc[(df[\"OligoLength\"] == 6) & (df[\"TotalSites\"] == 1) & (df[\"SiteLength\"] == 4)]"
   ]
  },
  {
   "attachments": {},
   "cell_type": "markdown",
   "metadata": {
    "tags": []
   },
   "source": [
    "# Data Classification"
   ]
  },
  {
   "cell_type": "code",
   "execution_count": 106,
   "metadata": {},
   "outputs": [
    {
     "data": {
      "text/html": [
       "<div>\n",
       "<style scoped>\n",
       "    .dataframe tbody tr th:only-of-type {\n",
       "        vertical-align: middle;\n",
       "    }\n",
       "\n",
       "    .dataframe tbody tr th {\n",
       "        vertical-align: top;\n",
       "    }\n",
       "\n",
       "    .dataframe thead th {\n",
       "        text-align: right;\n",
       "    }\n",
       "</style>\n",
       "<table border=\"1\" class=\"dataframe\">\n",
       "  <thead>\n",
       "    <tr style=\"text-align: right;\">\n",
       "      <th></th>\n",
       "      <th>OligoLength</th>\n",
       "      <th>TotalSites</th>\n",
       "      <th>SiteLength</th>\n",
       "      <th>Algorithm</th>\n",
       "      <th>CutFree_Time</th>\n",
       "      <th>CutFreeRL_Time</th>\n",
       "    </tr>\n",
       "  </thead>\n",
       "  <tbody>\n",
       "    <tr>\n",
       "      <th>0</th>\n",
       "      <td>6</td>\n",
       "      <td>1</td>\n",
       "      <td>4</td>\n",
       "      <td>0</td>\n",
       "      <td>0.006211</td>\n",
       "      <td>0.228063</td>\n",
       "    </tr>\n",
       "    <tr>\n",
       "      <th>1</th>\n",
       "      <td>6</td>\n",
       "      <td>2</td>\n",
       "      <td>4</td>\n",
       "      <td>0</td>\n",
       "      <td>0.007820</td>\n",
       "      <td>0.087950</td>\n",
       "    </tr>\n",
       "    <tr>\n",
       "      <th>2</th>\n",
       "      <td>6</td>\n",
       "      <td>3</td>\n",
       "      <td>4</td>\n",
       "      <td>0</td>\n",
       "      <td>0.010071</td>\n",
       "      <td>0.136403</td>\n",
       "    </tr>\n",
       "    <tr>\n",
       "      <th>3</th>\n",
       "      <td>6</td>\n",
       "      <td>4</td>\n",
       "      <td>4</td>\n",
       "      <td>0</td>\n",
       "      <td>0.013531</td>\n",
       "      <td>0.150443</td>\n",
       "    </tr>\n",
       "    <tr>\n",
       "      <th>4</th>\n",
       "      <td>6</td>\n",
       "      <td>5</td>\n",
       "      <td>4</td>\n",
       "      <td>0</td>\n",
       "      <td>0.013882</td>\n",
       "      <td>0.183784</td>\n",
       "    </tr>\n",
       "    <tr>\n",
       "      <th>...</th>\n",
       "      <td>...</td>\n",
       "      <td>...</td>\n",
       "      <td>...</td>\n",
       "      <td>...</td>\n",
       "      <td>...</td>\n",
       "      <td>...</td>\n",
       "    </tr>\n",
       "    <tr>\n",
       "      <th>5244</th>\n",
       "      <td>40</td>\n",
       "      <td>6</td>\n",
       "      <td>8</td>\n",
       "      <td>1</td>\n",
       "      <td>12.737720</td>\n",
       "      <td>4.200124</td>\n",
       "    </tr>\n",
       "    <tr>\n",
       "      <th>5245</th>\n",
       "      <td>40</td>\n",
       "      <td>7</td>\n",
       "      <td>8</td>\n",
       "      <td>1</td>\n",
       "      <td>60.120769</td>\n",
       "      <td>3.009765</td>\n",
       "    </tr>\n",
       "    <tr>\n",
       "      <th>5246</th>\n",
       "      <td>40</td>\n",
       "      <td>8</td>\n",
       "      <td>8</td>\n",
       "      <td>1</td>\n",
       "      <td>60.379011</td>\n",
       "      <td>3.989743</td>\n",
       "    </tr>\n",
       "    <tr>\n",
       "      <th>5247</th>\n",
       "      <td>40</td>\n",
       "      <td>9</td>\n",
       "      <td>8</td>\n",
       "      <td>1</td>\n",
       "      <td>60.156297</td>\n",
       "      <td>3.611050</td>\n",
       "    </tr>\n",
       "    <tr>\n",
       "      <th>5248</th>\n",
       "      <td>40</td>\n",
       "      <td>10</td>\n",
       "      <td>8</td>\n",
       "      <td>1</td>\n",
       "      <td>60.159604</td>\n",
       "      <td>4.173604</td>\n",
       "    </tr>\n",
       "  </tbody>\n",
       "</table>\n",
       "<p>5249 rows × 6 columns</p>\n",
       "</div>"
      ],
      "text/plain": [
       "      OligoLength  TotalSites  SiteLength  Algorithm  CutFree_Time  \\\n",
       "0               6           1           4          0      0.006211   \n",
       "1               6           2           4          0      0.007820   \n",
       "2               6           3           4          0      0.010071   \n",
       "3               6           4           4          0      0.013531   \n",
       "4               6           5           4          0      0.013882   \n",
       "...           ...         ...         ...        ...           ...   \n",
       "5244           40           6           8          1     12.737720   \n",
       "5245           40           7           8          1     60.120769   \n",
       "5246           40           8           8          1     60.379011   \n",
       "5247           40           9           8          1     60.156297   \n",
       "5248           40          10           8          1     60.159604   \n",
       "\n",
       "      CutFreeRL_Time  \n",
       "0           0.228063  \n",
       "1           0.087950  \n",
       "2           0.136403  \n",
       "3           0.150443  \n",
       "4           0.183784  \n",
       "...              ...  \n",
       "5244        4.200124  \n",
       "5245        3.009765  \n",
       "5246        3.989743  \n",
       "5247        3.611050  \n",
       "5248        4.173604  \n",
       "\n",
       "[5249 rows x 6 columns]"
      ]
     },
     "execution_count": 106,
     "metadata": {},
     "output_type": "execute_result"
    }
   ],
   "source": [
    "conditions = [\n",
    "    (df[\"CutFree_Time\"] <= df[\"CutFreeRL_Time\"]),\n",
    "    (df[\"CutFree_Time\"] > df[\"CutFreeRL_Time\"])\n",
    "]\n",
    "\n",
    "values = [0, 1] # 0 = CutFree, 1 = CutFreeRL\n",
    "\n",
    "df[\"Algorithm\"] = np.select(conditions, values)\n",
    "df = df[[\"OligoLength\", \"TotalSites\", \"SiteLength\", \"Algorithm\", \"CutFree_Time\", \"CutFreeRL_Time\"]]\n",
    "df"
   ]
  },
  {
   "attachments": {},
   "cell_type": "markdown",
   "metadata": {},
   "source": [
    "# Rejection Sampling"
   ]
  },
  {
   "cell_type": "code",
   "execution_count": 107,
   "metadata": {},
   "outputs": [
    {
     "name": "stdout",
     "output_type": "stream",
     "text": [
      "3731\n",
      "1518\n"
     ]
    }
   ],
   "source": [
    "numCutFree = df[df.Algorithm == 0].shape[0]\n",
    "print(numCutFree)\n",
    "\n",
    "numCutFreeRL = df[df.Algorithm == 1].shape[0]\n",
    "print(numCutFreeRL)"
   ]
  },
  {
   "cell_type": "code",
   "execution_count": 108,
   "metadata": {},
   "outputs": [
    {
     "data": {
      "text/html": [
       "<div>\n",
       "<style scoped>\n",
       "    .dataframe tbody tr th:only-of-type {\n",
       "        vertical-align: middle;\n",
       "    }\n",
       "\n",
       "    .dataframe tbody tr th {\n",
       "        vertical-align: top;\n",
       "    }\n",
       "\n",
       "    .dataframe thead th {\n",
       "        text-align: right;\n",
       "    }\n",
       "</style>\n",
       "<table border=\"1\" class=\"dataframe\">\n",
       "  <thead>\n",
       "    <tr style=\"text-align: right;\">\n",
       "      <th></th>\n",
       "      <th>OligoLength</th>\n",
       "      <th>TotalSites</th>\n",
       "      <th>SiteLength</th>\n",
       "      <th>Algorithm</th>\n",
       "      <th>CutFree_Time</th>\n",
       "      <th>CutFreeRL_Time</th>\n",
       "    </tr>\n",
       "  </thead>\n",
       "  <tbody>\n",
       "    <tr>\n",
       "      <th>2</th>\n",
       "      <td>6</td>\n",
       "      <td>3</td>\n",
       "      <td>4</td>\n",
       "      <td>0</td>\n",
       "      <td>0.010071</td>\n",
       "      <td>0.136403</td>\n",
       "    </tr>\n",
       "    <tr>\n",
       "      <th>5</th>\n",
       "      <td>6</td>\n",
       "      <td>6</td>\n",
       "      <td>4</td>\n",
       "      <td>0</td>\n",
       "      <td>0.011498</td>\n",
       "      <td>0.194223</td>\n",
       "    </tr>\n",
       "    <tr>\n",
       "      <th>9</th>\n",
       "      <td>6</td>\n",
       "      <td>10</td>\n",
       "      <td>4</td>\n",
       "      <td>0</td>\n",
       "      <td>0.021175</td>\n",
       "      <td>0.262876</td>\n",
       "    </tr>\n",
       "    <tr>\n",
       "      <th>14</th>\n",
       "      <td>6</td>\n",
       "      <td>5</td>\n",
       "      <td>5</td>\n",
       "      <td>0</td>\n",
       "      <td>0.009659</td>\n",
       "      <td>0.153055</td>\n",
       "    </tr>\n",
       "    <tr>\n",
       "      <th>15</th>\n",
       "      <td>6</td>\n",
       "      <td>6</td>\n",
       "      <td>5</td>\n",
       "      <td>0</td>\n",
       "      <td>0.019252</td>\n",
       "      <td>0.188987</td>\n",
       "    </tr>\n",
       "    <tr>\n",
       "      <th>...</th>\n",
       "      <td>...</td>\n",
       "      <td>...</td>\n",
       "      <td>...</td>\n",
       "      <td>...</td>\n",
       "      <td>...</td>\n",
       "      <td>...</td>\n",
       "    </tr>\n",
       "    <tr>\n",
       "      <th>5244</th>\n",
       "      <td>40</td>\n",
       "      <td>6</td>\n",
       "      <td>8</td>\n",
       "      <td>1</td>\n",
       "      <td>12.737720</td>\n",
       "      <td>4.200124</td>\n",
       "    </tr>\n",
       "    <tr>\n",
       "      <th>5245</th>\n",
       "      <td>40</td>\n",
       "      <td>7</td>\n",
       "      <td>8</td>\n",
       "      <td>1</td>\n",
       "      <td>60.120769</td>\n",
       "      <td>3.009765</td>\n",
       "    </tr>\n",
       "    <tr>\n",
       "      <th>5246</th>\n",
       "      <td>40</td>\n",
       "      <td>8</td>\n",
       "      <td>8</td>\n",
       "      <td>1</td>\n",
       "      <td>60.379011</td>\n",
       "      <td>3.989743</td>\n",
       "    </tr>\n",
       "    <tr>\n",
       "      <th>5247</th>\n",
       "      <td>40</td>\n",
       "      <td>9</td>\n",
       "      <td>8</td>\n",
       "      <td>1</td>\n",
       "      <td>60.156297</td>\n",
       "      <td>3.611050</td>\n",
       "    </tr>\n",
       "    <tr>\n",
       "      <th>5248</th>\n",
       "      <td>40</td>\n",
       "      <td>10</td>\n",
       "      <td>8</td>\n",
       "      <td>1</td>\n",
       "      <td>60.159604</td>\n",
       "      <td>4.173604</td>\n",
       "    </tr>\n",
       "  </tbody>\n",
       "</table>\n",
       "<p>3036 rows × 6 columns</p>\n",
       "</div>"
      ],
      "text/plain": [
       "      OligoLength  TotalSites  SiteLength  Algorithm  CutFree_Time  \\\n",
       "2               6           3           4          0      0.010071   \n",
       "5               6           6           4          0      0.011498   \n",
       "9               6          10           4          0      0.021175   \n",
       "14              6           5           5          0      0.009659   \n",
       "15              6           6           5          0      0.019252   \n",
       "...           ...         ...         ...        ...           ...   \n",
       "5244           40           6           8          1     12.737720   \n",
       "5245           40           7           8          1     60.120769   \n",
       "5246           40           8           8          1     60.379011   \n",
       "5247           40           9           8          1     60.156297   \n",
       "5248           40          10           8          1     60.159604   \n",
       "\n",
       "      CutFreeRL_Time  \n",
       "2           0.136403  \n",
       "5           0.194223  \n",
       "9           0.262876  \n",
       "14          0.153055  \n",
       "15          0.188987  \n",
       "...              ...  \n",
       "5244        4.200124  \n",
       "5245        3.009765  \n",
       "5246        3.989743  \n",
       "5247        3.611050  \n",
       "5248        4.173604  \n",
       "\n",
       "[3036 rows x 6 columns]"
      ]
     },
     "execution_count": 108,
     "metadata": {},
     "output_type": "execute_result"
    }
   ],
   "source": [
    "df_rejection = df[df.Algorithm == 0].sample(numCutFree-numCutFreeRL, random_state=1)\n",
    "df = df.drop(df_rejection.index)\n",
    "df"
   ]
  },
  {
   "cell_type": "code",
   "execution_count": 109,
   "metadata": {},
   "outputs": [
    {
     "name": "stdout",
     "output_type": "stream",
     "text": [
      "1518\n",
      "1518\n"
     ]
    }
   ],
   "source": [
    "numCutFree = df[df.Algorithm == 0].shape[0]\n",
    "print(numCutFree)\n",
    "\n",
    "numCutFreeRL = df[df.Algorithm == 1].shape[0]\n",
    "print(numCutFreeRL)"
   ]
  },
  {
   "cell_type": "code",
   "execution_count": 110,
   "metadata": {},
   "outputs": [],
   "source": [
    "df_total = df.copy()\n",
    "df = df[[\"OligoLength\", \"TotalSites\", \"SiteLength\", \"Algorithm\"]]"
   ]
  },
  {
   "attachments": {},
   "cell_type": "markdown",
   "metadata": {},
   "source": [
    "# Visualize Data"
   ]
  },
  {
   "cell_type": "code",
   "execution_count": 111,
   "metadata": {},
   "outputs": [
    {
     "data": {
      "image/png": "[encoded data removed]",
      "text/plain": [
       "<Figure size 597x540 with 12 Axes>"
      ]
     },
     "metadata": {
      "needs_background": "light"
     },
     "output_type": "display_data"
    }
   ],
   "source": [
    "pair_plot = sns.pairplot(df, hue=\"Algorithm\", diag_kind=\"kde\")\n",
    "new_labels = [\"CutFree\", \"CutFreeRL\"]\n",
    "for t, l in zip(pair_plot._legend.texts, new_labels):\n",
    "    t.set_text(l)\n",
    "plt.show(pair_plot)"
   ]
  },
  {
   "attachments": {},
   "cell_type": "markdown",
   "metadata": {
    "tags": []
   },
   "source": [
    "# Get Train/Test Split"
   ]
  },
  {
   "cell_type": "code",
   "execution_count": 112,
   "metadata": {},
   "outputs": [],
   "source": [
    "x = df.drop([\"Algorithm\"], axis=1)\n",
    "y = df[\"Algorithm\"]"
   ]
  },
  {
   "cell_type": "code",
   "execution_count": 113,
   "metadata": {},
   "outputs": [
    {
     "data": {
      "text/html": [
       "<div>\n",
       "<style scoped>\n",
       "    .dataframe tbody tr th:only-of-type {\n",
       "        vertical-align: middle;\n",
       "    }\n",
       "\n",
       "    .dataframe tbody tr th {\n",
       "        vertical-align: top;\n",
       "    }\n",
       "\n",
       "    .dataframe thead th {\n",
       "        text-align: right;\n",
       "    }\n",
       "</style>\n",
       "<table border=\"1\" class=\"dataframe\">\n",
       "  <thead>\n",
       "    <tr style=\"text-align: right;\">\n",
       "      <th></th>\n",
       "      <th>OligoLength</th>\n",
       "      <th>TotalSites</th>\n",
       "      <th>SiteLength</th>\n",
       "    </tr>\n",
       "  </thead>\n",
       "  <tbody>\n",
       "    <tr>\n",
       "      <th>4304</th>\n",
       "      <td>22</td>\n",
       "      <td>5</td>\n",
       "      <td>4</td>\n",
       "    </tr>\n",
       "    <tr>\n",
       "      <th>2654</th>\n",
       "      <td>24</td>\n",
       "      <td>5</td>\n",
       "      <td>4</td>\n",
       "    </tr>\n",
       "    <tr>\n",
       "      <th>512</th>\n",
       "      <td>16</td>\n",
       "      <td>3</td>\n",
       "      <td>5</td>\n",
       "    </tr>\n",
       "    <tr>\n",
       "      <th>4210</th>\n",
       "      <td>20</td>\n",
       "      <td>1</td>\n",
       "      <td>5</td>\n",
       "    </tr>\n",
       "    <tr>\n",
       "      <th>3402</th>\n",
       "      <td>39</td>\n",
       "      <td>3</td>\n",
       "      <td>4</td>\n",
       "    </tr>\n",
       "  </tbody>\n",
       "</table>\n",
       "</div>"
      ],
      "text/plain": [
       "      OligoLength  TotalSites  SiteLength\n",
       "4304           22           5           4\n",
       "2654           24           5           4\n",
       "512            16           3           5\n",
       "4210           20           1           5\n",
       "3402           39           3           4"
      ]
     },
     "execution_count": 113,
     "metadata": {},
     "output_type": "execute_result"
    }
   ],
   "source": [
    "x_train_df, x_test_df, y_train_df, y_test_df = train_test_split(x, y, test_size=0.2, random_state=1)\n",
    "x_train_df.head()"
   ]
  },
  {
   "cell_type": "code",
   "execution_count": 114,
   "metadata": {},
   "outputs": [
    {
     "data": {
      "text/plain": [
       "4304    1\n",
       "2654    1\n",
       "512     0\n",
       "4210    0\n",
       "3402    1\n",
       "Name: Algorithm, dtype: int32"
      ]
     },
     "execution_count": 114,
     "metadata": {},
     "output_type": "execute_result"
    }
   ],
   "source": [
    "y_train_df.head()"
   ]
  },
  {
   "cell_type": "code",
   "execution_count": 115,
   "metadata": {},
   "outputs": [],
   "source": [
    "x_train, y_train = tf.convert_to_tensor(x_train_df, dtype=tf.float32), tf.convert_to_tensor(y_train_df, dtype=tf.float32)\n",
    "x_test, y_test = tf.convert_to_tensor(x_test_df, dtype=tf.float32), tf.convert_to_tensor(y_test_df, dtype=tf.float32)"
   ]
  },
  {
   "cell_type": "code",
   "execution_count": 116,
   "metadata": {},
   "outputs": [
    {
     "data": {
      "text/plain": [
       "<tf.Tensor: shape=(2428, 3), dtype=float32, numpy=\n",
       "array([[22.,  5.,  4.],\n",
       "       [24.,  5.,  4.],\n",
       "       [16.,  3.,  5.],\n",
       "       ...,\n",
       "       [11.,  3.,  4.],\n",
       "       [16.,  3.,  8.],\n",
       "       [ 9., 10.,  5.]], dtype=float32)>"
      ]
     },
     "execution_count": 116,
     "metadata": {},
     "output_type": "execute_result"
    }
   ],
   "source": [
    "x_train"
   ]
  },
  {
   "attachments": {},
   "cell_type": "markdown",
   "metadata": {},
   "source": [
    "# Machine Learning"
   ]
  },
  {
   "attachments": {},
   "cell_type": "markdown",
   "metadata": {},
   "source": [
    "### Accuracy Function"
   ]
  },
  {
   "cell_type": "code",
   "execution_count": 117,
   "metadata": {},
   "outputs": [],
   "source": [
    "def get_accuracy(pred, true):\n",
    "    test_accuracy = accuracy_score(pred, true)*100\n",
    "    print(\"Accuracy: {:.2f}%\".format(test_accuracy))\n",
    "    return test_accuracy"
   ]
  },
  {
   "attachments": {},
   "cell_type": "markdown",
   "metadata": {},
   "source": [
    "### TensorFlow NN"
   ]
  },
  {
   "cell_type": "code",
   "execution_count": 118,
   "metadata": {},
   "outputs": [
    {
     "name": "stdout",
     "output_type": "stream",
     "text": [
      "Model: \"sequential_3\"\n",
      "_________________________________________________________________\n",
      " Layer (type)                Output Shape              Param #   \n",
      "=================================================================\n",
      " dense_18 (Dense)            (None, 32)                128       \n",
      "                                                                 \n",
      " batch_normalization_3 (Batc  (None, 32)               128       \n",
      " hNormalization)                                                 \n",
      "                                                                 \n",
      " dropout_9 (Dropout)         (None, 32)                0         \n",
      "                                                                 \n",
      " dense_19 (Dense)            (None, 32)                1056      \n",
      "                                                                 \n",
      " dropout_10 (Dropout)        (None, 32)                0         \n",
      "                                                                 \n",
      " dense_20 (Dense)            (None, 16)                528       \n",
      "                                                                 \n",
      " dropout_11 (Dropout)        (None, 16)                0         \n",
      "                                                                 \n",
      " dense_21 (Dense)            (None, 16)                272       \n",
      "                                                                 \n",
      " dense_22 (Dense)            (None, 8)                 136       \n",
      "                                                                 \n",
      " dense_23 (Dense)            (None, 1)                 9         \n",
      "                                                                 \n",
      "=================================================================\n",
      "Total params: 2,257\n",
      "Trainable params: 2,193\n",
      "Non-trainable params: 64\n",
      "_________________________________________________________________\n"
     ]
    }
   ],
   "source": [
    "model = tf.keras.Sequential([\n",
    "    tf.keras.layers.Dense(32, activation=\"tanh\", input_shape=(3,)),\n",
    "    tf.keras.layers.BatchNormalization(),\n",
    "    tf.keras.layers.Dropout(0.1),\n",
    "    tf.keras.layers.Dense(32, activation=\"tanh\"),\n",
    "    tf.keras.layers.Dropout(0.1),\n",
    "    tf.keras.layers.Dense(16, activation=\"tanh\"),\n",
    "    tf.keras.layers.Dropout(0.1),\n",
    "    tf.keras.layers.Dense(16, activation=\"tanh\"),\n",
    "    tf.keras.layers.Dense(8, activation=\"tanh\"),\n",
    "    tf.keras.layers.Dense(1, activation=\"sigmoid\")\n",
    "])\n",
    "\n",
    "model.summary()"
   ]
  },
  {
   "cell_type": "code",
   "execution_count": 119,
   "metadata": {},
   "outputs": [
    {
     "name": "stdout",
     "output_type": "stream",
     "text": [
      "Epoch 1/100\n",
      "76/76 [==============================] - 1s 3ms/step - loss: 0.2183 - accuracy: 0.6672 - val_loss: 0.2818 - val_accuracy: 0.4967\n",
      "Epoch 2/100\n",
      "76/76 [==============================] - 0s 2ms/step - loss: 0.2123 - accuracy: 0.6903 - val_loss: 0.2538 - val_accuracy: 0.5740\n",
      "Epoch 3/100\n",
      "76/76 [==============================] - 0s 1ms/step - loss: 0.2079 - accuracy: 0.6993 - val_loss: 0.2308 - val_accuracy: 0.6398\n",
      "Epoch 4/100\n",
      "76/76 [==============================] - 0s 1ms/step - loss: 0.2063 - accuracy: 0.6998 - val_loss: 0.2161 - val_accuracy: 0.6645\n",
      "Epoch 5/100\n",
      "76/76 [==============================] - 0s 2ms/step - loss: 0.2015 - accuracy: 0.7117 - val_loss: 0.2075 - val_accuracy: 0.6809\n",
      "Epoch 6/100\n",
      "76/76 [==============================] - 0s 1ms/step - loss: 0.1944 - accuracy: 0.7273 - val_loss: 0.2012 - val_accuracy: 0.6974\n",
      "Epoch 7/100\n",
      "76/76 [==============================] - 0s 1ms/step - loss: 0.1948 - accuracy: 0.7265 - val_loss: 0.1971 - val_accuracy: 0.7122\n",
      "Epoch 8/100\n",
      "76/76 [==============================] - 0s 1ms/step - loss: 0.1896 - accuracy: 0.7331 - val_loss: 0.1937 - val_accuracy: 0.7155\n",
      "Epoch 9/100\n",
      "76/76 [==============================] - 0s 1ms/step - loss: 0.1883 - accuracy: 0.7368 - val_loss: 0.1906 - val_accuracy: 0.7188\n",
      "Epoch 10/100\n",
      "76/76 [==============================] - 0s 1ms/step - loss: 0.1861 - accuracy: 0.7372 - val_loss: 0.1888 - val_accuracy: 0.7188\n",
      "Epoch 11/100\n",
      "76/76 [==============================] - 0s 2ms/step - loss: 0.1828 - accuracy: 0.7451 - val_loss: 0.1867 - val_accuracy: 0.7220\n",
      "Epoch 12/100\n",
      "76/76 [==============================] - 0s 2ms/step - loss: 0.1803 - accuracy: 0.7471 - val_loss: 0.1851 - val_accuracy: 0.7253\n",
      "Epoch 13/100\n",
      "76/76 [==============================] - 0s 1ms/step - loss: 0.1779 - accuracy: 0.7586 - val_loss: 0.1832 - val_accuracy: 0.7286\n",
      "Epoch 14/100\n",
      "76/76 [==============================] - 0s 1ms/step - loss: 0.1775 - accuracy: 0.7554 - val_loss: 0.1815 - val_accuracy: 0.7303\n",
      "Epoch 15/100\n",
      "76/76 [==============================] - 0s 1ms/step - loss: 0.1766 - accuracy: 0.7525 - val_loss: 0.1801 - val_accuracy: 0.7303\n",
      "Epoch 16/100\n",
      "76/76 [==============================] - 0s 1ms/step - loss: 0.1721 - accuracy: 0.7652 - val_loss: 0.1788 - val_accuracy: 0.7286\n",
      "Epoch 17/100\n",
      "76/76 [==============================] - 0s 1ms/step - loss: 0.1735 - accuracy: 0.7698 - val_loss: 0.1773 - val_accuracy: 0.7286\n",
      "Epoch 18/100\n",
      "76/76 [==============================] - 0s 1ms/step - loss: 0.1684 - accuracy: 0.7677 - val_loss: 0.1758 - val_accuracy: 0.7336\n",
      "Epoch 19/100\n",
      "76/76 [==============================] - 0s 1ms/step - loss: 0.1714 - accuracy: 0.7603 - val_loss: 0.1752 - val_accuracy: 0.7336\n",
      "Epoch 20/100\n",
      "76/76 [==============================] - 0s 1ms/step - loss: 0.1678 - accuracy: 0.7661 - val_loss: 0.1740 - val_accuracy: 0.7385\n",
      "Epoch 21/100\n",
      "76/76 [==============================] - 0s 1ms/step - loss: 0.1663 - accuracy: 0.7706 - val_loss: 0.1726 - val_accuracy: 0.7418\n",
      "Epoch 22/100\n",
      "76/76 [==============================] - 0s 1ms/step - loss: 0.1648 - accuracy: 0.7640 - val_loss: 0.1716 - val_accuracy: 0.7418\n",
      "Epoch 23/100\n",
      "76/76 [==============================] - 0s 1ms/step - loss: 0.1622 - accuracy: 0.7759 - val_loss: 0.1702 - val_accuracy: 0.7434\n",
      "Epoch 24/100\n",
      "76/76 [==============================] - 0s 1ms/step - loss: 0.1640 - accuracy: 0.7694 - val_loss: 0.1692 - val_accuracy: 0.7418\n",
      "Epoch 25/100\n",
      "76/76 [==============================] - 0s 1ms/step - loss: 0.1590 - accuracy: 0.7801 - val_loss: 0.1683 - val_accuracy: 0.7451\n",
      "Epoch 26/100\n",
      "76/76 [==============================] - 0s 1ms/step - loss: 0.1602 - accuracy: 0.7780 - val_loss: 0.1673 - val_accuracy: 0.7500\n",
      "Epoch 27/100\n",
      "76/76 [==============================] - 0s 1ms/step - loss: 0.1571 - accuracy: 0.7887 - val_loss: 0.1664 - val_accuracy: 0.7516\n",
      "Epoch 28/100\n",
      "76/76 [==============================] - 0s 2ms/step - loss: 0.1599 - accuracy: 0.7801 - val_loss: 0.1656 - val_accuracy: 0.7549\n",
      "Epoch 29/100\n",
      "76/76 [==============================] - 0s 1ms/step - loss: 0.1567 - accuracy: 0.7797 - val_loss: 0.1649 - val_accuracy: 0.7582\n",
      "Epoch 30/100\n",
      "76/76 [==============================] - 0s 1ms/step - loss: 0.1582 - accuracy: 0.7858 - val_loss: 0.1640 - val_accuracy: 0.7582\n",
      "Epoch 31/100\n",
      "76/76 [==============================] - 0s 1ms/step - loss: 0.1546 - accuracy: 0.7912 - val_loss: 0.1631 - val_accuracy: 0.7681\n",
      "Epoch 32/100\n",
      "76/76 [==============================] - 0s 1ms/step - loss: 0.1529 - accuracy: 0.7887 - val_loss: 0.1624 - val_accuracy: 0.7697\n",
      "Epoch 33/100\n",
      "76/76 [==============================] - 0s 1ms/step - loss: 0.1550 - accuracy: 0.7945 - val_loss: 0.1618 - val_accuracy: 0.7681\n",
      "Epoch 34/100\n",
      "76/76 [==============================] - 0s 1ms/step - loss: 0.1545 - accuracy: 0.7895 - val_loss: 0.1610 - val_accuracy: 0.7730\n",
      "Epoch 35/100\n",
      "76/76 [==============================] - 0s 1ms/step - loss: 0.1503 - accuracy: 0.7949 - val_loss: 0.1607 - val_accuracy: 0.7747\n",
      "Epoch 36/100\n",
      "76/76 [==============================] - 0s 1ms/step - loss: 0.1543 - accuracy: 0.7858 - val_loss: 0.1599 - val_accuracy: 0.7763\n",
      "Epoch 37/100\n",
      "76/76 [==============================] - 0s 1ms/step - loss: 0.1524 - accuracy: 0.7916 - val_loss: 0.1595 - val_accuracy: 0.7780\n",
      "Epoch 38/100\n",
      "76/76 [==============================] - 0s 1ms/step - loss: 0.1525 - accuracy: 0.7871 - val_loss: 0.1594 - val_accuracy: 0.7763\n",
      "Epoch 39/100\n",
      "76/76 [==============================] - 0s 1ms/step - loss: 0.1502 - accuracy: 0.7974 - val_loss: 0.1587 - val_accuracy: 0.7780\n",
      "Epoch 40/100\n",
      "76/76 [==============================] - 0s 1ms/step - loss: 0.1547 - accuracy: 0.7858 - val_loss: 0.1582 - val_accuracy: 0.7763\n",
      "Epoch 41/100\n",
      "76/76 [==============================] - 0s 1ms/step - loss: 0.1497 - accuracy: 0.7924 - val_loss: 0.1576 - val_accuracy: 0.7780\n",
      "Epoch 42/100\n",
      "76/76 [==============================] - 0s 1ms/step - loss: 0.1520 - accuracy: 0.7945 - val_loss: 0.1572 - val_accuracy: 0.7780\n",
      "Epoch 43/100\n",
      "76/76 [==============================] - 0s 1ms/step - loss: 0.1532 - accuracy: 0.7842 - val_loss: 0.1568 - val_accuracy: 0.7796\n",
      "Epoch 44/100\n",
      "76/76 [==============================] - 0s 1ms/step - loss: 0.1495 - accuracy: 0.8002 - val_loss: 0.1565 - val_accuracy: 0.7812\n",
      "Epoch 45/100\n",
      "76/76 [==============================] - 0s 1ms/step - loss: 0.1503 - accuracy: 0.7891 - val_loss: 0.1564 - val_accuracy: 0.7812\n",
      "Epoch 46/100\n",
      "76/76 [==============================] - 0s 1ms/step - loss: 0.1507 - accuracy: 0.7941 - val_loss: 0.1560 - val_accuracy: 0.7812\n",
      "Epoch 47/100\n",
      "76/76 [==============================] - 0s 1ms/step - loss: 0.1494 - accuracy: 0.7928 - val_loss: 0.1552 - val_accuracy: 0.7730\n",
      "Epoch 48/100\n",
      "76/76 [==============================] - 0s 1ms/step - loss: 0.1484 - accuracy: 0.8035 - val_loss: 0.1554 - val_accuracy: 0.7763\n",
      "Epoch 49/100\n",
      "76/76 [==============================] - 0s 1ms/step - loss: 0.1500 - accuracy: 0.7887 - val_loss: 0.1549 - val_accuracy: 0.7730\n",
      "Epoch 50/100\n",
      "76/76 [==============================] - 0s 2ms/step - loss: 0.1474 - accuracy: 0.7990 - val_loss: 0.1547 - val_accuracy: 0.7747\n",
      "Epoch 51/100\n",
      "76/76 [==============================] - 0s 1ms/step - loss: 0.1476 - accuracy: 0.7970 - val_loss: 0.1547 - val_accuracy: 0.7763\n",
      "Epoch 52/100\n",
      "76/76 [==============================] - 0s 1ms/step - loss: 0.1456 - accuracy: 0.8011 - val_loss: 0.1542 - val_accuracy: 0.7780\n",
      "Epoch 53/100\n",
      "76/76 [==============================] - 0s 1ms/step - loss: 0.1469 - accuracy: 0.7974 - val_loss: 0.1543 - val_accuracy: 0.7780\n",
      "Epoch 54/100\n",
      "76/76 [==============================] - 0s 1ms/step - loss: 0.1455 - accuracy: 0.8015 - val_loss: 0.1541 - val_accuracy: 0.7796\n",
      "Epoch 55/100\n",
      "76/76 [==============================] - 0s 1ms/step - loss: 0.1460 - accuracy: 0.7957 - val_loss: 0.1536 - val_accuracy: 0.7812\n",
      "Epoch 56/100\n",
      "76/76 [==============================] - 0s 1ms/step - loss: 0.1495 - accuracy: 0.7945 - val_loss: 0.1536 - val_accuracy: 0.7829\n",
      "Epoch 57/100\n",
      "76/76 [==============================] - 0s 2ms/step - loss: 0.1452 - accuracy: 0.8007 - val_loss: 0.1536 - val_accuracy: 0.7829\n",
      "Epoch 58/100\n",
      "76/76 [==============================] - 0s 1ms/step - loss: 0.1457 - accuracy: 0.8031 - val_loss: 0.1534 - val_accuracy: 0.7812\n",
      "Epoch 59/100\n",
      "76/76 [==============================] - 0s 1ms/step - loss: 0.1462 - accuracy: 0.7998 - val_loss: 0.1532 - val_accuracy: 0.7845\n",
      "Epoch 60/100\n",
      "76/76 [==============================] - 0s 2ms/step - loss: 0.1479 - accuracy: 0.7965 - val_loss: 0.1534 - val_accuracy: 0.7845\n",
      "Epoch 61/100\n",
      "76/76 [==============================] - 0s 1ms/step - loss: 0.1451 - accuracy: 0.8048 - val_loss: 0.1534 - val_accuracy: 0.7829\n",
      "Epoch 62/100\n",
      "76/76 [==============================] - 0s 1ms/step - loss: 0.1471 - accuracy: 0.8007 - val_loss: 0.1528 - val_accuracy: 0.7878\n",
      "Epoch 63/100\n",
      "76/76 [==============================] - 0s 1ms/step - loss: 0.1448 - accuracy: 0.7970 - val_loss: 0.1526 - val_accuracy: 0.7829\n",
      "Epoch 64/100\n",
      "76/76 [==============================] - 0s 1ms/step - loss: 0.1461 - accuracy: 0.8019 - val_loss: 0.1525 - val_accuracy: 0.7895\n",
      "Epoch 65/100\n",
      "76/76 [==============================] - 0s 1ms/step - loss: 0.1462 - accuracy: 0.7978 - val_loss: 0.1523 - val_accuracy: 0.7878\n",
      "Epoch 66/100\n",
      "76/76 [==============================] - 0s 1ms/step - loss: 0.1439 - accuracy: 0.8052 - val_loss: 0.1523 - val_accuracy: 0.7878\n",
      "Epoch 67/100\n",
      "76/76 [==============================] - 0s 1ms/step - loss: 0.1443 - accuracy: 0.8040 - val_loss: 0.1524 - val_accuracy: 0.7895\n",
      "Epoch 68/100\n",
      "76/76 [==============================] - 0s 1ms/step - loss: 0.1479 - accuracy: 0.7941 - val_loss: 0.1524 - val_accuracy: 0.7895\n",
      "Epoch 69/100\n",
      "76/76 [==============================] - 0s 1ms/step - loss: 0.1428 - accuracy: 0.8019 - val_loss: 0.1520 - val_accuracy: 0.7878\n",
      "Epoch 70/100\n",
      "76/76 [==============================] - 0s 1ms/step - loss: 0.1449 - accuracy: 0.8077 - val_loss: 0.1521 - val_accuracy: 0.7895\n",
      "Epoch 71/100\n",
      "76/76 [==============================] - 0s 1ms/step - loss: 0.1425 - accuracy: 0.8052 - val_loss: 0.1518 - val_accuracy: 0.7862\n",
      "Epoch 72/100\n",
      "76/76 [==============================] - 0s 1ms/step - loss: 0.1425 - accuracy: 0.8023 - val_loss: 0.1519 - val_accuracy: 0.7878\n",
      "Epoch 73/100\n",
      "76/76 [==============================] - 0s 1ms/step - loss: 0.1465 - accuracy: 0.7953 - val_loss: 0.1519 - val_accuracy: 0.7878\n",
      "Epoch 74/100\n",
      "76/76 [==============================] - 0s 1ms/step - loss: 0.1446 - accuracy: 0.8007 - val_loss: 0.1517 - val_accuracy: 0.7862\n",
      "Epoch 75/100\n",
      "76/76 [==============================] - 0s 1ms/step - loss: 0.1432 - accuracy: 0.8072 - val_loss: 0.1516 - val_accuracy: 0.7911\n",
      "Epoch 76/100\n",
      "76/76 [==============================] - 0s 2ms/step - loss: 0.1468 - accuracy: 0.7949 - val_loss: 0.1515 - val_accuracy: 0.7895\n",
      "Epoch 77/100\n",
      "76/76 [==============================] - 0s 1ms/step - loss: 0.1468 - accuracy: 0.7978 - val_loss: 0.1514 - val_accuracy: 0.7895\n",
      "Epoch 78/100\n",
      "76/76 [==============================] - 0s 2ms/step - loss: 0.1448 - accuracy: 0.7982 - val_loss: 0.1513 - val_accuracy: 0.7895\n",
      "Epoch 79/100\n",
      "76/76 [==============================] - 0s 2ms/step - loss: 0.1459 - accuracy: 0.7986 - val_loss: 0.1514 - val_accuracy: 0.7911\n",
      "Epoch 80/100\n",
      "76/76 [==============================] - 0s 1ms/step - loss: 0.1427 - accuracy: 0.7998 - val_loss: 0.1514 - val_accuracy: 0.7911\n",
      "Epoch 81/100\n",
      "76/76 [==============================] - 0s 1ms/step - loss: 0.1426 - accuracy: 0.8060 - val_loss: 0.1511 - val_accuracy: 0.7895\n",
      "Epoch 82/100\n",
      "76/76 [==============================] - 0s 1ms/step - loss: 0.1404 - accuracy: 0.8101 - val_loss: 0.1508 - val_accuracy: 0.7895\n",
      "Epoch 83/100\n",
      "76/76 [==============================] - 0s 1ms/step - loss: 0.1448 - accuracy: 0.7965 - val_loss: 0.1509 - val_accuracy: 0.7895\n",
      "Epoch 84/100\n",
      "76/76 [==============================] - 0s 2ms/step - loss: 0.1454 - accuracy: 0.7994 - val_loss: 0.1508 - val_accuracy: 0.7895\n",
      "Epoch 85/100\n",
      "76/76 [==============================] - 0s 2ms/step - loss: 0.1422 - accuracy: 0.8060 - val_loss: 0.1508 - val_accuracy: 0.7895\n",
      "Epoch 86/100\n",
      "76/76 [==============================] - 0s 2ms/step - loss: 0.1416 - accuracy: 0.8035 - val_loss: 0.1508 - val_accuracy: 0.7895\n",
      "Epoch 87/100\n",
      "76/76 [==============================] - 0s 2ms/step - loss: 0.1400 - accuracy: 0.8068 - val_loss: 0.1507 - val_accuracy: 0.7878\n",
      "Epoch 88/100\n",
      "76/76 [==============================] - 0s 1ms/step - loss: 0.1468 - accuracy: 0.7974 - val_loss: 0.1508 - val_accuracy: 0.7878\n",
      "Epoch 89/100\n",
      "76/76 [==============================] - 0s 1ms/step - loss: 0.1410 - accuracy: 0.8097 - val_loss: 0.1508 - val_accuracy: 0.7878\n",
      "Epoch 90/100\n",
      "76/76 [==============================] - 0s 2ms/step - loss: 0.1426 - accuracy: 0.8064 - val_loss: 0.1510 - val_accuracy: 0.7911\n",
      "Epoch 91/100\n",
      "76/76 [==============================] - 0s 2ms/step - loss: 0.1418 - accuracy: 0.8015 - val_loss: 0.1507 - val_accuracy: 0.7878\n",
      "Epoch 92/100\n",
      "76/76 [==============================] - 0s 1ms/step - loss: 0.1453 - accuracy: 0.7974 - val_loss: 0.1506 - val_accuracy: 0.7895\n",
      "Epoch 93/100\n",
      "76/76 [==============================] - 0s 1ms/step - loss: 0.1447 - accuracy: 0.8048 - val_loss: 0.1509 - val_accuracy: 0.7895\n",
      "Epoch 94/100\n",
      "76/76 [==============================] - 0s 2ms/step - loss: 0.1428 - accuracy: 0.8007 - val_loss: 0.1507 - val_accuracy: 0.7911\n",
      "Epoch 95/100\n",
      "76/76 [==============================] - 0s 1ms/step - loss: 0.1445 - accuracy: 0.8044 - val_loss: 0.1507 - val_accuracy: 0.7911\n",
      "Epoch 96/100\n",
      "76/76 [==============================] - 0s 1ms/step - loss: 0.1408 - accuracy: 0.8072 - val_loss: 0.1505 - val_accuracy: 0.7895\n",
      "Epoch 97/100\n",
      "76/76 [==============================] - 0s 1ms/step - loss: 0.1411 - accuracy: 0.8027 - val_loss: 0.1506 - val_accuracy: 0.7911\n",
      "Epoch 98/100\n",
      "76/76 [==============================] - 0s 1ms/step - loss: 0.1445 - accuracy: 0.7974 - val_loss: 0.1504 - val_accuracy: 0.7895\n",
      "Epoch 99/100\n",
      "76/76 [==============================] - 0s 1ms/step - loss: 0.1383 - accuracy: 0.8089 - val_loss: 0.1506 - val_accuracy: 0.7911\n",
      "Epoch 100/100\n",
      "76/76 [==============================] - 0s 1ms/step - loss: 0.1457 - accuracy: 0.7920 - val_loss: 0.1507 - val_accuracy: 0.7911\n"
     ]
    }
   ],
   "source": [
    "optimizer = tf.keras.optimizers.Adam(learning_rate=0.00001)\n",
    "\n",
    "model.compile(\n",
    "    optimizer, \n",
    "    loss=\"mse\", \n",
    "    metrics=[\"accuracy\"])\n",
    "history = model.fit(x_train, y_train, epochs=100, batch_size=32, validation_data=(x_test, y_test))"
   ]
  },
  {
   "cell_type": "code",
   "execution_count": 120,
   "metadata": {},
   "outputs": [
    {
     "name": "stdout",
     "output_type": "stream",
     "text": [
      "19/19 [==============================] - 0s 697us/step\n",
      "Accuracy: 79.11%\n"
     ]
    }
   ],
   "source": [
    "y_pred_tf = np.round(model.predict(x_test)).reshape(1, -1)[0]\n",
    "tf_acc = get_accuracy(y_pred_tf, y_test)"
   ]
  },
  {
   "cell_type": "markdown",
   "metadata": {},
   "source": [
    "### Plot Loss and Accuracy Curves"
   ]
  },
  {
   "cell_type": "code",
   "execution_count": 121,
   "metadata": {},
   "outputs": [
    {
     "data": {
      "image/png": "[encoded data removed]",
      "text/plain": [
       "<Figure size 432x288 with 1 Axes>"
      ]
     },
     "metadata": {
      "needs_background": "light"
     },
     "output_type": "display_data"
    }
   ],
   "source": [
    "plt.plot(history.history['accuracy'])\n",
    "plt.plot(history.history['val_accuracy'])\n",
    "plt.title('model accuracy')\n",
    "plt.ylabel('accuracy')\n",
    "plt.xlabel('epoch')\n",
    "plt.legend(['train', 'val'], loc='upper left')\n",
    "plt.show()"
   ]
  },
  {
   "cell_type": "code",
   "execution_count": 122,
   "metadata": {},
   "outputs": [
    {
     "data": {
      "image/png": "[encoded data removed]",
      "text/plain": [
       "<Figure size 432x288 with 1 Axes>"
      ]
     },
     "metadata": {
      "needs_background": "light"
     },
     "output_type": "display_data"
    }
   ],
   "source": [
    "plt.plot(history.history['loss'])\n",
    "plt.plot(history.history['val_loss'])\n",
    "plt.title('model loss')\n",
    "plt.ylabel('loss')\n",
    "plt.xlabel('epoch')\n",
    "plt.legend(['train', 'val'], loc='upper left')\n",
    "plt.show()"
   ]
  },
  {
   "attachments": {},
   "cell_type": "markdown",
   "metadata": {},
   "source": [
    "### MLP Classifier NN"
   ]
  },
  {
   "cell_type": "code",
   "execution_count": 123,
   "metadata": {},
   "outputs": [
    {
     "data": {
      "text/plain": [
       "MLPClassifier(activation='tanh', hidden_layer_sizes=(32, 32, 32, 32, 32),\n",
       "              learning_rate='adaptive', max_iter=1000, random_state=1,\n",
       "              verbose=0)"
      ]
     },
     "execution_count": 123,
     "metadata": {},
     "output_type": "execute_result"
    }
   ],
   "source": [
    "class_NN = MLPClassifier(\n",
    "    hidden_layer_sizes=(32, 32, 32, 32, 32),\n",
    "    activation='tanh',\n",
    "    solver='adam',\n",
    "    alpha=0.0001,\n",
    "    learning_rate='adaptive',\n",
    "    max_iter=1000, \n",
    "    verbose=0,\n",
    "    random_state=1)\n",
    "class_NN.fit(x_train, y_train)"
   ]
  },
  {
   "cell_type": "code",
   "execution_count": 124,
   "metadata": {},
   "outputs": [
    {
     "name": "stdout",
     "output_type": "stream",
     "text": [
      "Accuracy: 77.96%\n"
     ]
    }
   ],
   "source": [
    "y_pred = class_NN.predict(x_test)\n",
    "mlp_acc = get_accuracy(y_pred, y_test)"
   ]
  },
  {
   "cell_type": "code",
   "execution_count": 125,
   "metadata": {},
   "outputs": [
    {
     "data": {
      "text/plain": [
       "<tf.Tensor: shape=(3,), dtype=float32, numpy=array([6., 1., 6.], dtype=float32)>"
      ]
     },
     "execution_count": 125,
     "metadata": {},
     "output_type": "execute_result"
    }
   ],
   "source": [
    "x_test[0]"
   ]
  },
  {
   "attachments": {},
   "cell_type": "markdown",
   "metadata": {},
   "source": [
    "### Grid Search to Find Optimal Parameters"
   ]
  },
  {
   "cell_type": "code",
   "execution_count": 126,
   "metadata": {},
   "outputs": [],
   "source": [
    "params = {\n",
    "    'hidden_layer_sizes' : [(64, 32, 32, 32, 16), (32, 32, 32, 32, 32)],\n",
    "}\n",
    "\n",
    "gscv = GridSearchCV(class_NN, params, verbose=1)\n",
    "\n",
    "# gscv.fit(np.array(x_train), np.array(y_train))\n",
    "# print(gscv.best_params_) "
   ]
  },
  {
   "cell_type": "markdown",
   "metadata": {},
   "source": [
    "### Analyze Results"
   ]
  },
  {
   "cell_type": "code",
   "execution_count": 127,
   "metadata": {},
   "outputs": [
    {
     "data": {
      "image/png": "[encoded data removed]",
      "text/plain": [
       "<Figure size 432x288 with 2 Axes>"
      ]
     },
     "metadata": {
      "needs_background": "light"
     },
     "output_type": "display_data"
    }
   ],
   "source": [
    "plot_confusion_matrix(class_NN, x_test, y_test)  \n",
    "plt.show()"
   ]
  },
  {
   "cell_type": "code",
   "execution_count": 128,
   "metadata": {},
   "outputs": [
    {
     "name": "stdout",
     "output_type": "stream",
     "text": [
      "              precision    recall  f1-score   support\n",
      "\n",
      "     CutFree       0.66      0.89      0.76       237\n",
      "   CutFreeRL       0.91      0.71      0.80       371\n",
      "\n",
      "    accuracy                           0.78       608\n",
      "   macro avg       0.79      0.80      0.78       608\n",
      "weighted avg       0.81      0.78      0.78       608\n",
      "\n"
     ]
    }
   ],
   "source": [
    "print(classification_report(y_pred, y_test, target_names=[\"CutFree\", \"CutFreeRL\"]))"
   ]
  },
  {
   "attachments": {},
   "cell_type": "markdown",
   "metadata": {},
   "source": [
    "# Visualize Incorrect Classifications"
   ]
  },
  {
   "cell_type": "code",
   "execution_count": 129,
   "metadata": {},
   "outputs": [
    {
     "data": {
      "text/html": [
       "<div>\n",
       "<style scoped>\n",
       "    .dataframe tbody tr th:only-of-type {\n",
       "        vertical-align: middle;\n",
       "    }\n",
       "\n",
       "    .dataframe tbody tr th {\n",
       "        vertical-align: top;\n",
       "    }\n",
       "\n",
       "    .dataframe thead th {\n",
       "        text-align: right;\n",
       "    }\n",
       "</style>\n",
       "<table border=\"1\" class=\"dataframe\">\n",
       "  <thead>\n",
       "    <tr style=\"text-align: right;\">\n",
       "      <th></th>\n",
       "      <th>OligoLength</th>\n",
       "      <th>TotalSites</th>\n",
       "      <th>SiteLength</th>\n",
       "      <th>Algorithm</th>\n",
       "      <th>CutFree_Time</th>\n",
       "      <th>CutFreeRL_Time</th>\n",
       "    </tr>\n",
       "  </thead>\n",
       "  <tbody>\n",
       "    <tr>\n",
       "      <th>2</th>\n",
       "      <td>6</td>\n",
       "      <td>3</td>\n",
       "      <td>4</td>\n",
       "      <td>0</td>\n",
       "      <td>0.010071</td>\n",
       "      <td>0.136403</td>\n",
       "    </tr>\n",
       "    <tr>\n",
       "      <th>5</th>\n",
       "      <td>6</td>\n",
       "      <td>6</td>\n",
       "      <td>4</td>\n",
       "      <td>0</td>\n",
       "      <td>0.011498</td>\n",
       "      <td>0.194223</td>\n",
       "    </tr>\n",
       "    <tr>\n",
       "      <th>9</th>\n",
       "      <td>6</td>\n",
       "      <td>10</td>\n",
       "      <td>4</td>\n",
       "      <td>0</td>\n",
       "      <td>0.021175</td>\n",
       "      <td>0.262876</td>\n",
       "    </tr>\n",
       "    <tr>\n",
       "      <th>14</th>\n",
       "      <td>6</td>\n",
       "      <td>5</td>\n",
       "      <td>5</td>\n",
       "      <td>0</td>\n",
       "      <td>0.009659</td>\n",
       "      <td>0.153055</td>\n",
       "    </tr>\n",
       "    <tr>\n",
       "      <th>15</th>\n",
       "      <td>6</td>\n",
       "      <td>6</td>\n",
       "      <td>5</td>\n",
       "      <td>0</td>\n",
       "      <td>0.019252</td>\n",
       "      <td>0.188987</td>\n",
       "    </tr>\n",
       "  </tbody>\n",
       "</table>\n",
       "</div>"
      ],
      "text/plain": [
       "    OligoLength  TotalSites  SiteLength  Algorithm  CutFree_Time  \\\n",
       "2             6           3           4          0      0.010071   \n",
       "5             6           6           4          0      0.011498   \n",
       "9             6          10           4          0      0.021175   \n",
       "14            6           5           5          0      0.009659   \n",
       "15            6           6           5          0      0.019252   \n",
       "\n",
       "    CutFreeRL_Time  \n",
       "2         0.136403  \n",
       "5         0.194223  \n",
       "9         0.262876  \n",
       "14        0.153055  \n",
       "15        0.188987  "
      ]
     },
     "execution_count": 129,
     "metadata": {},
     "output_type": "execute_result"
    }
   ],
   "source": [
    "df_total.head()"
   ]
  },
  {
   "cell_type": "code",
   "execution_count": 130,
   "metadata": {},
   "outputs": [
    {
     "data": {
      "text/html": [
       "<div>\n",
       "<style scoped>\n",
       "    .dataframe tbody tr th:only-of-type {\n",
       "        vertical-align: middle;\n",
       "    }\n",
       "\n",
       "    .dataframe tbody tr th {\n",
       "        vertical-align: top;\n",
       "    }\n",
       "\n",
       "    .dataframe thead th {\n",
       "        text-align: right;\n",
       "    }\n",
       "</style>\n",
       "<table border=\"1\" class=\"dataframe\">\n",
       "  <thead>\n",
       "    <tr style=\"text-align: right;\">\n",
       "      <th></th>\n",
       "      <th>OligoLength</th>\n",
       "      <th>TotalSites</th>\n",
       "      <th>SiteLength</th>\n",
       "      <th>Algorithm</th>\n",
       "      <th>CutFree_Time</th>\n",
       "      <th>CutFreeRL_Time</th>\n",
       "      <th>Discrepency</th>\n",
       "    </tr>\n",
       "  </thead>\n",
       "  <tbody>\n",
       "    <tr>\n",
       "      <th>4988</th>\n",
       "      <td>35</td>\n",
       "      <td>10</td>\n",
       "      <td>7</td>\n",
       "      <td>0</td>\n",
       "      <td>0.531718</td>\n",
       "      <td>3.553635</td>\n",
       "      <td>-3.021917</td>\n",
       "    </tr>\n",
       "    <tr>\n",
       "      <th>1447</th>\n",
       "      <td>34</td>\n",
       "      <td>8</td>\n",
       "      <td>8</td>\n",
       "      <td>0</td>\n",
       "      <td>0.525760</td>\n",
       "      <td>3.372835</td>\n",
       "      <td>-2.847075</td>\n",
       "    </tr>\n",
       "    <tr>\n",
       "      <th>1239</th>\n",
       "      <td>30</td>\n",
       "      <td>10</td>\n",
       "      <td>7</td>\n",
       "      <td>0</td>\n",
       "      <td>0.290017</td>\n",
       "      <td>3.013270</td>\n",
       "      <td>-2.723253</td>\n",
       "    </tr>\n",
       "    <tr>\n",
       "      <th>5084</th>\n",
       "      <td>37</td>\n",
       "      <td>6</td>\n",
       "      <td>7</td>\n",
       "      <td>0</td>\n",
       "      <td>0.082008</td>\n",
       "      <td>2.770018</td>\n",
       "      <td>-2.688011</td>\n",
       "    </tr>\n",
       "    <tr>\n",
       "      <th>2989</th>\n",
       "      <td>30</td>\n",
       "      <td>10</td>\n",
       "      <td>7</td>\n",
       "      <td>0</td>\n",
       "      <td>0.238599</td>\n",
       "      <td>2.892359</td>\n",
       "      <td>-2.653759</td>\n",
       "    </tr>\n",
       "  </tbody>\n",
       "</table>\n",
       "</div>"
      ],
      "text/plain": [
       "      OligoLength  TotalSites  SiteLength  Algorithm  CutFree_Time  \\\n",
       "4988           35          10           7          0      0.531718   \n",
       "1447           34           8           8          0      0.525760   \n",
       "1239           30          10           7          0      0.290017   \n",
       "5084           37           6           7          0      0.082008   \n",
       "2989           30          10           7          0      0.238599   \n",
       "\n",
       "      CutFreeRL_Time  Discrepency  \n",
       "4988        3.553635    -3.021917  \n",
       "1447        3.372835    -2.847075  \n",
       "1239        3.013270    -2.723253  \n",
       "5084        2.770018    -2.688011  \n",
       "2989        2.892359    -2.653759  "
      ]
     },
     "execution_count": 130,
     "metadata": {},
     "output_type": "execute_result"
    }
   ],
   "source": [
    "df_total[\"Discrepency\"] = df_total.CutFree_Time - df_total.CutFreeRL_Time\n",
    "df_total = df_total.sort_values(by=[\"Discrepency\"], ascending=True)\n",
    "df_total.head()"
   ]
  },
  {
   "cell_type": "code",
   "execution_count": 131,
   "metadata": {},
   "outputs": [],
   "source": [
    "df_total_tf = df_total.copy()\n",
    "\n",
    "df_total_tf.loc[x_test_df.index[np.where(y_test_df != y_pred_tf)], \"Prediction\"] = 0\n",
    "df_total_tf.loc[df_total_tf[\"Prediction\"].isna(), \"Prediction\"] = 1\n",
    "\n",
    "df_total_tf = df_total_tf.reset_index(drop=True)\n"
   ]
  },
  {
   "cell_type": "code",
   "execution_count": 132,
   "metadata": {},
   "outputs": [],
   "source": [
    "df_total.loc[x_test_df.index[np.where(y_test_df != y_pred)], \"Prediction\"] = 0\n",
    "df_total.loc[df_total[\"Prediction\"].isna(), \"Prediction\"] = 1\n"
   ]
  },
  {
   "cell_type": "code",
   "execution_count": 133,
   "metadata": {},
   "outputs": [
    {
     "data": {
      "text/html": [
       "<div>\n",
       "<style scoped>\n",
       "    .dataframe tbody tr th:only-of-type {\n",
       "        vertical-align: middle;\n",
       "    }\n",
       "\n",
       "    .dataframe tbody tr th {\n",
       "        vertical-align: top;\n",
       "    }\n",
       "\n",
       "    .dataframe thead th {\n",
       "        text-align: right;\n",
       "    }\n",
       "</style>\n",
       "<table border=\"1\" class=\"dataframe\">\n",
       "  <thead>\n",
       "    <tr style=\"text-align: right;\">\n",
       "      <th></th>\n",
       "      <th>OligoLength</th>\n",
       "      <th>TotalSites</th>\n",
       "      <th>SiteLength</th>\n",
       "      <th>Algorithm</th>\n",
       "      <th>CutFree_Time</th>\n",
       "      <th>CutFreeRL_Time</th>\n",
       "      <th>Discrepency</th>\n",
       "      <th>Prediction</th>\n",
       "    </tr>\n",
       "  </thead>\n",
       "  <tbody>\n",
       "    <tr>\n",
       "      <th>0</th>\n",
       "      <td>35</td>\n",
       "      <td>10</td>\n",
       "      <td>7</td>\n",
       "      <td>0</td>\n",
       "      <td>0.531718</td>\n",
       "      <td>3.553635</td>\n",
       "      <td>-3.021917</td>\n",
       "      <td>1.0</td>\n",
       "    </tr>\n",
       "    <tr>\n",
       "      <th>1</th>\n",
       "      <td>34</td>\n",
       "      <td>8</td>\n",
       "      <td>8</td>\n",
       "      <td>0</td>\n",
       "      <td>0.525760</td>\n",
       "      <td>3.372835</td>\n",
       "      <td>-2.847075</td>\n",
       "      <td>0.0</td>\n",
       "    </tr>\n",
       "    <tr>\n",
       "      <th>2</th>\n",
       "      <td>30</td>\n",
       "      <td>10</td>\n",
       "      <td>7</td>\n",
       "      <td>0</td>\n",
       "      <td>0.290017</td>\n",
       "      <td>3.013270</td>\n",
       "      <td>-2.723253</td>\n",
       "      <td>1.0</td>\n",
       "    </tr>\n",
       "    <tr>\n",
       "      <th>3</th>\n",
       "      <td>37</td>\n",
       "      <td>6</td>\n",
       "      <td>7</td>\n",
       "      <td>0</td>\n",
       "      <td>0.082008</td>\n",
       "      <td>2.770018</td>\n",
       "      <td>-2.688011</td>\n",
       "      <td>1.0</td>\n",
       "    </tr>\n",
       "    <tr>\n",
       "      <th>4</th>\n",
       "      <td>30</td>\n",
       "      <td>10</td>\n",
       "      <td>7</td>\n",
       "      <td>0</td>\n",
       "      <td>0.238599</td>\n",
       "      <td>2.892359</td>\n",
       "      <td>-2.653759</td>\n",
       "      <td>1.0</td>\n",
       "    </tr>\n",
       "  </tbody>\n",
       "</table>\n",
       "</div>"
      ],
      "text/plain": [
       "   OligoLength  TotalSites  SiteLength  Algorithm  CutFree_Time  \\\n",
       "0           35          10           7          0      0.531718   \n",
       "1           34           8           8          0      0.525760   \n",
       "2           30          10           7          0      0.290017   \n",
       "3           37           6           7          0      0.082008   \n",
       "4           30          10           7          0      0.238599   \n",
       "\n",
       "   CutFreeRL_Time  Discrepency  Prediction  \n",
       "0        3.553635    -3.021917         1.0  \n",
       "1        3.372835    -2.847075         0.0  \n",
       "2        3.013270    -2.723253         1.0  \n",
       "3        2.770018    -2.688011         1.0  \n",
       "4        2.892359    -2.653759         1.0  "
      ]
     },
     "execution_count": 133,
     "metadata": {},
     "output_type": "execute_result"
    }
   ],
   "source": [
    "df_total = df_total.reset_index(drop=True)\n",
    "df_total.head()"
   ]
  },
  {
   "cell_type": "code",
   "execution_count": 134,
   "metadata": {},
   "outputs": [
    {
     "data": {
      "text/plain": [
       "<matplotlib.legend.Legend at 0x24bb0a6f9a0>"
      ]
     },
     "execution_count": 134,
     "metadata": {},
     "output_type": "execute_result"
    },
    {
     "data": {
      "image/png": "[encoded data removed]",
      "text/plain": [
       "<Figure size 1440x1440 with 3 Axes>"
      ]
     },
     "metadata": {
      "needs_background": "light"
     },
     "output_type": "display_data"
    }
   ],
   "source": [
    "plt.figure(figsize=(20,20))\n",
    "\n",
    "plt.subplot(311)\n",
    "plt.scatter(\n",
    "    df_total[df_total.Algorithm==0].index, df_total[df_total.Algorithm==0].Discrepency, \n",
    "    c =\"blue\",\n",
    "    linewidths = 1,\n",
    "    marker =\"s\",\n",
    "    s = 25)\n",
    "\n",
    "plt.scatter(\n",
    "    df_total[df_total.Algorithm==1].index, df_total[df_total.Algorithm==1].Discrepency, \n",
    "    c =\"green\",\n",
    "    linewidths = 1,\n",
    "    marker =\"s\",\n",
    "    s = 25)\n",
    "\n",
    "plt.title(\"Correct Algorithm Selection for Time Discrepency vs. Index\")\n",
    "plt.xlabel(\"Index\")\n",
    "plt.ylabel(\"Time Discrepency (sec)\")\n",
    "plt.legend([\"CutFree\", \"CutFreeRL\"])\n",
    "\n",
    "plt.subplot(312)\n",
    "plt.scatter(\n",
    "    df_total[df_total.Prediction==1].index, df_total[df_total.Prediction==1].Discrepency, \n",
    "    c =\"black\",\n",
    "    linewidths = 1,\n",
    "    marker =\"s\",\n",
    "    s = 25)\n",
    "\n",
    "plt.scatter(\n",
    "    df_total[df_total.Prediction==0].index, df_total[df_total.Prediction==0].Discrepency, \n",
    "    c =\"red\",\n",
    "    linewidths = 3,\n",
    "    marker =\"x\",\n",
    "    s = 250)\n",
    "\n",
    "plt.title(f\"Accuracy of MLP Classifier Predictions ({mlp_acc:.2f}) for Time Discrepency vs. Index\")\n",
    "plt.xlabel(\"Index\")\n",
    "plt.ylabel(\"Time Discrepency (sec)\")\n",
    "plt.legend([\"Correct Prediction\", \"Incorrect Prediction\"])\n",
    "\n",
    "plt.subplot(313)\n",
    "plt.scatter(\n",
    "    df_total_tf[df_total_tf.Prediction==1].index, df_total_tf[df_total_tf.Prediction==1].Discrepency, \n",
    "    c =\"black\",\n",
    "    linewidths = 1,\n",
    "    marker =\"s\",\n",
    "    s = 25)\n",
    "\n",
    "plt.scatter(\n",
    "    df_total_tf[df_total_tf.Prediction==0].index, df_total_tf[df_total_tf.Prediction==0].Discrepency, \n",
    "    c =\"red\",\n",
    "    linewidths = 3,\n",
    "    marker =\"x\",\n",
    "    s = 250)\n",
    "\n",
    "plt.title(f\"Accuracy of TensforFlow Model Predictions ({tf_acc:.2f}%) for Time Discrepency vs. Index\")\n",
    "plt.xlabel(\"Index\")\n",
    "plt.ylabel(\"Time Discrepency (sec)\")\n",
    "plt.legend([\"Correct Prediction\", \"Incorrect Prediction\"])\n"
   ]
  },
  {
   "cell_type": "markdown",
   "metadata": {},
   "source": [
    "# Save Model"
   ]
  },
  {
   "cell_type": "code",
   "execution_count": 135,
   "metadata": {},
   "outputs": [],
   "source": [
    "# with open(\"cutfree_model.pkl\", \"wb\") as f:\n",
    "#     pickle.dump(class_NN, f)"
   ]
  },
  {
   "cell_type": "code",
   "execution_count": 136,
   "metadata": {},
   "outputs": [],
   "source": [
    "# with open(\"../cutfree-models/cutfree_model.pkl\", \"rb\") as f:\n",
    "#     model = pickle.load(f)\n",
    "# model.predict([[6, 1, 4]])"
   ]
  },
  {
   "cell_type": "code",
   "execution_count": null,
   "metadata": {},
   "outputs": [],
   "source": []
  }
 ],
 "metadata": {
  "kernelspec": {
   "display_name": "base",
   "language": "python",
   "name": "python3"
  },
  "language_info": {
   "codemirror_mode": {
    "name": "ipython",
    "version": 3
   },
   "file_extension": ".py",
   "mimetype": "text/x-python",
   "name": "python",
   "nbconvert_exporter": "python",
   "pygments_lexer": "ipython3",
   "version": "3.9.7"
  }
 },
 "nbformat": 4,
 "nbformat_minor": 4
}
