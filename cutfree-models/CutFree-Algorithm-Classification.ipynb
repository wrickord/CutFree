{
 "cells": [
  {
   "cell_type": "markdown",
   "metadata": {},
   "source": [
    "# Import Dependencies"
   ]
  },
  {
   "cell_type": "code",
   "execution_count": 3,
   "metadata": {},
   "outputs": [],
   "source": [
    "# System\n",
    "import os\n",
    "\n",
    "# Data Analysis\n",
    "import numpy as np\n",
    "import pandas as pd\n",
    "import seaborn as sns\n",
    "import matplotlib.pyplot as plt\n",
    "\n",
    "# Machine Learning\n",
    "from sklearn.model_selection import train_test_split, GridSearchCV\n",
    "from sklearn.neural_network import MLPClassifier\n",
    "from sklearn.metrics import accuracy_score, classification_report, plot_confusion_matrix\n",
    "\n",
    "import tensorflow as tf\n",
    "\n",
    "import pickle"
   ]
  },
  {
   "cell_type": "markdown",
   "metadata": {},
   "source": [
    "# Get Data"
   ]
  },
  {
   "cell_type": "code",
   "execution_count": 4,
   "metadata": {},
   "outputs": [
    {
     "data": {
      "text/plain": [
       "Oligo                        NNNNNN\n",
       "OligoLength                       6\n",
       "Sites                   Any[\"YATR\"]\n",
       "TotalSites                        1\n",
       "SiteLength                        4\n",
       "CutFree_Randomer             NBNVVN\n",
       "CutFree_Degeneracy          7.45472\n",
       "CutFree_Time               0.006211\n",
       "CutFreeRL_Randomer           NNVVVN\n",
       "CutFreeRL_Degeneracy        7.45472\n",
       "CutFreeRL_Time             0.228063\n",
       "Name: 0, dtype: object"
      ]
     },
     "execution_count": 4,
     "metadata": {},
     "output_type": "execute_result"
    }
   ],
   "source": [
    "file_path = os.path.normpath(os.getcwd() + os.sep + os.pardir) + \"/cutfree-simulations/runtime_data_v2.csv\"\n",
    "df_original = pd.read_csv(file_path)\n",
    "df = df_original.copy()\n",
    "df.iloc[0]"
   ]
  },
  {
   "cell_type": "code",
   "execution_count": 5,
   "metadata": {},
   "outputs": [
    {
     "data": {
      "text/html": [
       "<div>\n",
       "<style scoped>\n",
       "    .dataframe tbody tr th:only-of-type {\n",
       "        vertical-align: middle;\n",
       "    }\n",
       "\n",
       "    .dataframe tbody tr th {\n",
       "        vertical-align: top;\n",
       "    }\n",
       "\n",
       "    .dataframe thead th {\n",
       "        text-align: right;\n",
       "    }\n",
       "</style>\n",
       "<table border=\"1\" class=\"dataframe\">\n",
       "  <thead>\n",
       "    <tr style=\"text-align: right;\">\n",
       "      <th></th>\n",
       "      <th>Oligo</th>\n",
       "      <th>OligoLength</th>\n",
       "      <th>Sites</th>\n",
       "      <th>TotalSites</th>\n",
       "      <th>SiteLength</th>\n",
       "      <th>CutFree_Randomer</th>\n",
       "      <th>CutFree_Degeneracy</th>\n",
       "      <th>CutFree_Time</th>\n",
       "      <th>CutFreeRL_Randomer</th>\n",
       "      <th>CutFreeRL_Degeneracy</th>\n",
       "      <th>CutFreeRL_Time</th>\n",
       "    </tr>\n",
       "  </thead>\n",
       "  <tbody>\n",
       "    <tr>\n",
       "      <th>0</th>\n",
       "      <td>NNNNNN</td>\n",
       "      <td>6</td>\n",
       "      <td>Any[\"YATR\"]</td>\n",
       "      <td>1</td>\n",
       "      <td>4</td>\n",
       "      <td>NBNVVN</td>\n",
       "      <td>7.454720</td>\n",
       "      <td>0.006211</td>\n",
       "      <td>NNVVVN</td>\n",
       "      <td>7.454720</td>\n",
       "      <td>0.228063</td>\n",
       "    </tr>\n",
       "    <tr>\n",
       "      <th>1750</th>\n",
       "      <td>NNNNNN</td>\n",
       "      <td>6</td>\n",
       "      <td>Any[\"GATC\"]</td>\n",
       "      <td>1</td>\n",
       "      <td>4</td>\n",
       "      <td>HNNNDD</td>\n",
       "      <td>7.454720</td>\n",
       "      <td>0.006383</td>\n",
       "      <td>NNNDDD</td>\n",
       "      <td>7.454720</td>\n",
       "      <td>0.225150</td>\n",
       "    </tr>\n",
       "    <tr>\n",
       "      <th>3500</th>\n",
       "      <td>NNNNNN</td>\n",
       "      <td>6</td>\n",
       "      <td>Any[\"GGCC\"]</td>\n",
       "      <td>1</td>\n",
       "      <td>4</td>\n",
       "      <td>NHNNDN</td>\n",
       "      <td>7.742402</td>\n",
       "      <td>0.007255</td>\n",
       "      <td>NNNDND</td>\n",
       "      <td>7.742402</td>\n",
       "      <td>0.080954</td>\n",
       "    </tr>\n",
       "  </tbody>\n",
       "</table>\n",
       "</div>"
      ],
      "text/plain": [
       "       Oligo  OligoLength        Sites  TotalSites  SiteLength  \\\n",
       "0     NNNNNN            6  Any[\"YATR\"]           1           4   \n",
       "1750  NNNNNN            6  Any[\"GATC\"]           1           4   \n",
       "3500  NNNNNN            6  Any[\"GGCC\"]           1           4   \n",
       "\n",
       "     CutFree_Randomer  CutFree_Degeneracy  CutFree_Time CutFreeRL_Randomer  \\\n",
       "0              NBNVVN            7.454720      0.006211             NNVVVN   \n",
       "1750           HNNNDD            7.454720      0.006383             NNNDDD   \n",
       "3500           NHNNDN            7.742402      0.007255             NNNDND   \n",
       "\n",
       "      CutFreeRL_Degeneracy  CutFreeRL_Time  \n",
       "0                 7.454720        0.228063  \n",
       "1750              7.454720        0.225150  \n",
       "3500              7.742402        0.080954  "
      ]
     },
     "execution_count": 5,
     "metadata": {},
     "output_type": "execute_result"
    }
   ],
   "source": [
    "df.loc[(df[\"OligoLength\"] == 6) & (df[\"TotalSites\"] == 1) & (df[\"SiteLength\"] == 4)]"
   ]
  },
  {
   "attachments": {},
   "cell_type": "markdown",
   "metadata": {
    "tags": []
   },
   "source": [
    "# Data Classification"
   ]
  },
  {
   "cell_type": "code",
   "execution_count": 6,
   "metadata": {},
   "outputs": [
    {
     "data": {
      "text/html": [
       "<div>\n",
       "<style scoped>\n",
       "    .dataframe tbody tr th:only-of-type {\n",
       "        vertical-align: middle;\n",
       "    }\n",
       "\n",
       "    .dataframe tbody tr th {\n",
       "        vertical-align: top;\n",
       "    }\n",
       "\n",
       "    .dataframe thead th {\n",
       "        text-align: right;\n",
       "    }\n",
       "</style>\n",
       "<table border=\"1\" class=\"dataframe\">\n",
       "  <thead>\n",
       "    <tr style=\"text-align: right;\">\n",
       "      <th></th>\n",
       "      <th>OligoLength</th>\n",
       "      <th>TotalSites</th>\n",
       "      <th>SiteLength</th>\n",
       "      <th>Algorithm</th>\n",
       "      <th>CutFree_Time</th>\n",
       "      <th>CutFreeRL_Time</th>\n",
       "    </tr>\n",
       "  </thead>\n",
       "  <tbody>\n",
       "    <tr>\n",
       "      <th>0</th>\n",
       "      <td>6</td>\n",
       "      <td>1</td>\n",
       "      <td>4</td>\n",
       "      <td>0</td>\n",
       "      <td>0.006211</td>\n",
       "      <td>0.228063</td>\n",
       "    </tr>\n",
       "    <tr>\n",
       "      <th>1</th>\n",
       "      <td>6</td>\n",
       "      <td>2</td>\n",
       "      <td>4</td>\n",
       "      <td>0</td>\n",
       "      <td>0.007820</td>\n",
       "      <td>0.087950</td>\n",
       "    </tr>\n",
       "    <tr>\n",
       "      <th>2</th>\n",
       "      <td>6</td>\n",
       "      <td>3</td>\n",
       "      <td>4</td>\n",
       "      <td>0</td>\n",
       "      <td>0.010071</td>\n",
       "      <td>0.136403</td>\n",
       "    </tr>\n",
       "    <tr>\n",
       "      <th>3</th>\n",
       "      <td>6</td>\n",
       "      <td>4</td>\n",
       "      <td>4</td>\n",
       "      <td>0</td>\n",
       "      <td>0.013531</td>\n",
       "      <td>0.150443</td>\n",
       "    </tr>\n",
       "    <tr>\n",
       "      <th>4</th>\n",
       "      <td>6</td>\n",
       "      <td>5</td>\n",
       "      <td>4</td>\n",
       "      <td>0</td>\n",
       "      <td>0.013882</td>\n",
       "      <td>0.183784</td>\n",
       "    </tr>\n",
       "    <tr>\n",
       "      <th>...</th>\n",
       "      <td>...</td>\n",
       "      <td>...</td>\n",
       "      <td>...</td>\n",
       "      <td>...</td>\n",
       "      <td>...</td>\n",
       "      <td>...</td>\n",
       "    </tr>\n",
       "    <tr>\n",
       "      <th>5244</th>\n",
       "      <td>40</td>\n",
       "      <td>6</td>\n",
       "      <td>8</td>\n",
       "      <td>1</td>\n",
       "      <td>12.737720</td>\n",
       "      <td>4.200124</td>\n",
       "    </tr>\n",
       "    <tr>\n",
       "      <th>5245</th>\n",
       "      <td>40</td>\n",
       "      <td>7</td>\n",
       "      <td>8</td>\n",
       "      <td>1</td>\n",
       "      <td>60.120769</td>\n",
       "      <td>3.009765</td>\n",
       "    </tr>\n",
       "    <tr>\n",
       "      <th>5246</th>\n",
       "      <td>40</td>\n",
       "      <td>8</td>\n",
       "      <td>8</td>\n",
       "      <td>1</td>\n",
       "      <td>60.379011</td>\n",
       "      <td>3.989743</td>\n",
       "    </tr>\n",
       "    <tr>\n",
       "      <th>5247</th>\n",
       "      <td>40</td>\n",
       "      <td>9</td>\n",
       "      <td>8</td>\n",
       "      <td>1</td>\n",
       "      <td>60.156297</td>\n",
       "      <td>3.611050</td>\n",
       "    </tr>\n",
       "    <tr>\n",
       "      <th>5248</th>\n",
       "      <td>40</td>\n",
       "      <td>10</td>\n",
       "      <td>8</td>\n",
       "      <td>1</td>\n",
       "      <td>60.159604</td>\n",
       "      <td>4.173604</td>\n",
       "    </tr>\n",
       "  </tbody>\n",
       "</table>\n",
       "<p>5249 rows × 6 columns</p>\n",
       "</div>"
      ],
      "text/plain": [
       "      OligoLength  TotalSites  SiteLength  Algorithm  CutFree_Time  \\\n",
       "0               6           1           4          0      0.006211   \n",
       "1               6           2           4          0      0.007820   \n",
       "2               6           3           4          0      0.010071   \n",
       "3               6           4           4          0      0.013531   \n",
       "4               6           5           4          0      0.013882   \n",
       "...           ...         ...         ...        ...           ...   \n",
       "5244           40           6           8          1     12.737720   \n",
       "5245           40           7           8          1     60.120769   \n",
       "5246           40           8           8          1     60.379011   \n",
       "5247           40           9           8          1     60.156297   \n",
       "5248           40          10           8          1     60.159604   \n",
       "\n",
       "      CutFreeRL_Time  \n",
       "0           0.228063  \n",
       "1           0.087950  \n",
       "2           0.136403  \n",
       "3           0.150443  \n",
       "4           0.183784  \n",
       "...              ...  \n",
       "5244        4.200124  \n",
       "5245        3.009765  \n",
       "5246        3.989743  \n",
       "5247        3.611050  \n",
       "5248        4.173604  \n",
       "\n",
       "[5249 rows x 6 columns]"
      ]
     },
     "execution_count": 6,
     "metadata": {},
     "output_type": "execute_result"
    }
   ],
   "source": [
    "conditions = [\n",
    "    (df[\"CutFree_Time\"] <= df[\"CutFreeRL_Time\"]),\n",
    "    (df[\"CutFree_Time\"] > df[\"CutFreeRL_Time\"])\n",
    "]\n",
    "\n",
    "values = [0, 1] # 0 = CutFree, 1 = CutFreeRL\n",
    "\n",
    "df[\"Algorithm\"] = np.select(conditions, values)\n",
    "df = df[[\"OligoLength\", \"TotalSites\", \"SiteLength\", \"Algorithm\", \"CutFree_Time\", \"CutFreeRL_Time\"]]\n",
    "df"
   ]
  },
  {
   "attachments": {},
   "cell_type": "markdown",
   "metadata": {},
   "source": [
    "# Rejection Sampling"
   ]
  },
  {
   "cell_type": "code",
   "execution_count": 7,
   "metadata": {},
   "outputs": [
    {
     "name": "stdout",
     "output_type": "stream",
     "text": [
      "3731\n",
      "1518\n"
     ]
    }
   ],
   "source": [
    "numCutFree = df[df.Algorithm == 0].shape[0]\n",
    "print(numCutFree)\n",
    "\n",
    "numCutFreeRL = df[df.Algorithm == 1].shape[0]\n",
    "print(numCutFreeRL)"
   ]
  },
  {
   "cell_type": "code",
   "execution_count": 8,
   "metadata": {},
   "outputs": [
    {
     "data": {
      "text/html": [
       "<div>\n",
       "<style scoped>\n",
       "    .dataframe tbody tr th:only-of-type {\n",
       "        vertical-align: middle;\n",
       "    }\n",
       "\n",
       "    .dataframe tbody tr th {\n",
       "        vertical-align: top;\n",
       "    }\n",
       "\n",
       "    .dataframe thead th {\n",
       "        text-align: right;\n",
       "    }\n",
       "</style>\n",
       "<table border=\"1\" class=\"dataframe\">\n",
       "  <thead>\n",
       "    <tr style=\"text-align: right;\">\n",
       "      <th></th>\n",
       "      <th>OligoLength</th>\n",
       "      <th>TotalSites</th>\n",
       "      <th>SiteLength</th>\n",
       "      <th>Algorithm</th>\n",
       "      <th>CutFree_Time</th>\n",
       "      <th>CutFreeRL_Time</th>\n",
       "    </tr>\n",
       "  </thead>\n",
       "  <tbody>\n",
       "    <tr>\n",
       "      <th>2</th>\n",
       "      <td>6</td>\n",
       "      <td>3</td>\n",
       "      <td>4</td>\n",
       "      <td>0</td>\n",
       "      <td>0.010071</td>\n",
       "      <td>0.136403</td>\n",
       "    </tr>\n",
       "    <tr>\n",
       "      <th>3</th>\n",
       "      <td>6</td>\n",
       "      <td>4</td>\n",
       "      <td>4</td>\n",
       "      <td>0</td>\n",
       "      <td>0.013531</td>\n",
       "      <td>0.150443</td>\n",
       "    </tr>\n",
       "    <tr>\n",
       "      <th>6</th>\n",
       "      <td>6</td>\n",
       "      <td>7</td>\n",
       "      <td>4</td>\n",
       "      <td>0</td>\n",
       "      <td>0.018870</td>\n",
       "      <td>0.205003</td>\n",
       "    </tr>\n",
       "    <tr>\n",
       "      <th>7</th>\n",
       "      <td>6</td>\n",
       "      <td>8</td>\n",
       "      <td>4</td>\n",
       "      <td>0</td>\n",
       "      <td>0.019908</td>\n",
       "      <td>0.165705</td>\n",
       "    </tr>\n",
       "    <tr>\n",
       "      <th>10</th>\n",
       "      <td>6</td>\n",
       "      <td>1</td>\n",
       "      <td>5</td>\n",
       "      <td>0</td>\n",
       "      <td>0.004702</td>\n",
       "      <td>0.119446</td>\n",
       "    </tr>\n",
       "    <tr>\n",
       "      <th>...</th>\n",
       "      <td>...</td>\n",
       "      <td>...</td>\n",
       "      <td>...</td>\n",
       "      <td>...</td>\n",
       "      <td>...</td>\n",
       "      <td>...</td>\n",
       "    </tr>\n",
       "    <tr>\n",
       "      <th>5244</th>\n",
       "      <td>40</td>\n",
       "      <td>6</td>\n",
       "      <td>8</td>\n",
       "      <td>1</td>\n",
       "      <td>12.737720</td>\n",
       "      <td>4.200124</td>\n",
       "    </tr>\n",
       "    <tr>\n",
       "      <th>5245</th>\n",
       "      <td>40</td>\n",
       "      <td>7</td>\n",
       "      <td>8</td>\n",
       "      <td>1</td>\n",
       "      <td>60.120769</td>\n",
       "      <td>3.009765</td>\n",
       "    </tr>\n",
       "    <tr>\n",
       "      <th>5246</th>\n",
       "      <td>40</td>\n",
       "      <td>8</td>\n",
       "      <td>8</td>\n",
       "      <td>1</td>\n",
       "      <td>60.379011</td>\n",
       "      <td>3.989743</td>\n",
       "    </tr>\n",
       "    <tr>\n",
       "      <th>5247</th>\n",
       "      <td>40</td>\n",
       "      <td>9</td>\n",
       "      <td>8</td>\n",
       "      <td>1</td>\n",
       "      <td>60.156297</td>\n",
       "      <td>3.611050</td>\n",
       "    </tr>\n",
       "    <tr>\n",
       "      <th>5248</th>\n",
       "      <td>40</td>\n",
       "      <td>10</td>\n",
       "      <td>8</td>\n",
       "      <td>1</td>\n",
       "      <td>60.159604</td>\n",
       "      <td>4.173604</td>\n",
       "    </tr>\n",
       "  </tbody>\n",
       "</table>\n",
       "<p>3036 rows × 6 columns</p>\n",
       "</div>"
      ],
      "text/plain": [
       "      OligoLength  TotalSites  SiteLength  Algorithm  CutFree_Time  \\\n",
       "2               6           3           4          0      0.010071   \n",
       "3               6           4           4          0      0.013531   \n",
       "6               6           7           4          0      0.018870   \n",
       "7               6           8           4          0      0.019908   \n",
       "10              6           1           5          0      0.004702   \n",
       "...           ...         ...         ...        ...           ...   \n",
       "5244           40           6           8          1     12.737720   \n",
       "5245           40           7           8          1     60.120769   \n",
       "5246           40           8           8          1     60.379011   \n",
       "5247           40           9           8          1     60.156297   \n",
       "5248           40          10           8          1     60.159604   \n",
       "\n",
       "      CutFreeRL_Time  \n",
       "2           0.136403  \n",
       "3           0.150443  \n",
       "6           0.205003  \n",
       "7           0.165705  \n",
       "10          0.119446  \n",
       "...              ...  \n",
       "5244        4.200124  \n",
       "5245        3.009765  \n",
       "5246        3.989743  \n",
       "5247        3.611050  \n",
       "5248        4.173604  \n",
       "\n",
       "[3036 rows x 6 columns]"
      ]
     },
     "execution_count": 8,
     "metadata": {},
     "output_type": "execute_result"
    }
   ],
   "source": [
    "df_rejection = df[df.Algorithm == 0].sample(numCutFree-numCutFreeRL)\n",
    "df = df.drop(df_rejection.index)\n",
    "df"
   ]
  },
  {
   "cell_type": "code",
   "execution_count": 9,
   "metadata": {},
   "outputs": [
    {
     "name": "stdout",
     "output_type": "stream",
     "text": [
      "1518\n",
      "1518\n"
     ]
    }
   ],
   "source": [
    "numCutFree = df[df.Algorithm == 0].shape[0]\n",
    "print(numCutFree)\n",
    "\n",
    "numCutFreeRL = df[df.Algorithm == 1].shape[0]\n",
    "print(numCutFreeRL)"
   ]
  },
  {
   "cell_type": "code",
   "execution_count": 10,
   "metadata": {},
   "outputs": [],
   "source": [
    "df_total = df.copy()\n",
    "df = df[[\"OligoLength\", \"TotalSites\", \"SiteLength\", \"Algorithm\"]]"
   ]
  },
  {
   "attachments": {},
   "cell_type": "markdown",
   "metadata": {},
   "source": [
    "# Visualize Data"
   ]
  },
  {
   "cell_type": "code",
   "execution_count": 11,
   "metadata": {},
   "outputs": [
    {
     "data": {
      "image/png": "[encoded data removed]",
      "text/plain": [
       "<Figure size 597x540 with 12 Axes>"
      ]
     },
     "metadata": {
      "needs_background": "light"
     },
     "output_type": "display_data"
    }
   ],
   "source": [
    "pair_plot = sns.pairplot(df, hue=\"Algorithm\", diag_kind=\"kde\")\n",
    "new_labels = [\"CutFree\", \"CutFreeRL\"]\n",
    "for t, l in zip(pair_plot._legend.texts, new_labels):\n",
    "    t.set_text(l)\n",
    "plt.show(pair_plot)"
   ]
  },
  {
   "attachments": {},
   "cell_type": "markdown",
   "metadata": {
    "tags": []
   },
   "source": [
    "# Get Train/Test Split"
   ]
  },
  {
   "cell_type": "code",
   "execution_count": 12,
   "metadata": {},
   "outputs": [],
   "source": [
    "x = df.drop([\"Algorithm\"], axis=1)\n",
    "y = df[\"Algorithm\"]"
   ]
  },
  {
   "cell_type": "code",
   "execution_count": 13,
   "metadata": {},
   "outputs": [
    {
     "data": {
      "text/html": [
       "<div>\n",
       "<style scoped>\n",
       "    .dataframe tbody tr th:only-of-type {\n",
       "        vertical-align: middle;\n",
       "    }\n",
       "\n",
       "    .dataframe tbody tr th {\n",
       "        vertical-align: top;\n",
       "    }\n",
       "\n",
       "    .dataframe thead th {\n",
       "        text-align: right;\n",
       "    }\n",
       "</style>\n",
       "<table border=\"1\" class=\"dataframe\">\n",
       "  <thead>\n",
       "    <tr style=\"text-align: right;\">\n",
       "      <th></th>\n",
       "      <th>OligoLength</th>\n",
       "      <th>TotalSites</th>\n",
       "      <th>SiteLength</th>\n",
       "    </tr>\n",
       "  </thead>\n",
       "  <tbody>\n",
       "    <tr>\n",
       "      <th>4268</th>\n",
       "      <td>21</td>\n",
       "      <td>9</td>\n",
       "      <td>5</td>\n",
       "    </tr>\n",
       "    <tr>\n",
       "      <th>2604</th>\n",
       "      <td>23</td>\n",
       "      <td>5</td>\n",
       "      <td>4</td>\n",
       "    </tr>\n",
       "    <tr>\n",
       "      <th>504</th>\n",
       "      <td>16</td>\n",
       "      <td>5</td>\n",
       "      <td>4</td>\n",
       "    </tr>\n",
       "    <tr>\n",
       "      <th>4172</th>\n",
       "      <td>19</td>\n",
       "      <td>3</td>\n",
       "      <td>6</td>\n",
       "    </tr>\n",
       "    <tr>\n",
       "      <th>3387</th>\n",
       "      <td>38</td>\n",
       "      <td>8</td>\n",
       "      <td>7</td>\n",
       "    </tr>\n",
       "  </tbody>\n",
       "</table>\n",
       "</div>"
      ],
      "text/plain": [
       "      OligoLength  TotalSites  SiteLength\n",
       "4268           21           9           5\n",
       "2604           23           5           4\n",
       "504            16           5           4\n",
       "4172           19           3           6\n",
       "3387           38           8           7"
      ]
     },
     "execution_count": 13,
     "metadata": {},
     "output_type": "execute_result"
    }
   ],
   "source": [
    "x_train_df, x_test_df, y_train_df, y_test_df = train_test_split(x, y, test_size=0.2, random_state=1)\n",
    "x_train_df.head()"
   ]
  },
  {
   "cell_type": "code",
   "execution_count": 14,
   "metadata": {},
   "outputs": [
    {
     "data": {
      "text/plain": [
       "4268    1\n",
       "2604    0\n",
       "504     0\n",
       "4172    0\n",
       "3387    1\n",
       "Name: Algorithm, dtype: int32"
      ]
     },
     "execution_count": 14,
     "metadata": {},
     "output_type": "execute_result"
    }
   ],
   "source": [
    "y_train_df.head()"
   ]
  },
  {
   "cell_type": "code",
   "execution_count": 15,
   "metadata": {},
   "outputs": [],
   "source": [
    "x_train, y_train = tf.convert_to_tensor(x_train_df, dtype=tf.float32), tf.convert_to_tensor(y_train_df, dtype=tf.float32)\n",
    "x_test, y_test = tf.convert_to_tensor(x_test_df, dtype=tf.float32), tf.convert_to_tensor(y_test_df, dtype=tf.float32)"
   ]
  },
  {
   "cell_type": "code",
   "execution_count": 16,
   "metadata": {},
   "outputs": [
    {
     "data": {
      "text/plain": [
       "<tf.Tensor: shape=(2428, 3), dtype=float32, numpy=\n",
       "array([[21.,  9.,  5.],\n",
       "       [23.,  5.,  4.],\n",
       "       [16.,  5.,  4.],\n",
       "       ...,\n",
       "       [ 9.,  2.,  7.],\n",
       "       [16.,  4.,  6.],\n",
       "       [ 8.,  2.,  4.]], dtype=float32)>"
      ]
     },
     "execution_count": 16,
     "metadata": {},
     "output_type": "execute_result"
    }
   ],
   "source": [
    "x_train"
   ]
  },
  {
   "attachments": {},
   "cell_type": "markdown",
   "metadata": {},
   "source": [
    "# Machine Learning"
   ]
  },
  {
   "attachments": {},
   "cell_type": "markdown",
   "metadata": {},
   "source": [
    "### Accuracy Function"
   ]
  },
  {
   "cell_type": "code",
   "execution_count": 17,
   "metadata": {},
   "outputs": [],
   "source": [
    "def get_accuracy(pred, true):\n",
    "    test_accuracy = accuracy_score(pred, true)*100\n",
    "    print(\"Accuracy: {:.2f}%\".format(test_accuracy))\n",
    "    return test_accuracy"
   ]
  },
  {
   "attachments": {},
   "cell_type": "markdown",
   "metadata": {},
   "source": [
    "### TensorFlow NN"
   ]
  },
  {
   "cell_type": "code",
   "execution_count": 18,
   "metadata": {},
   "outputs": [
    {
     "name": "stdout",
     "output_type": "stream",
     "text": [
      "Model: \"sequential\"\n",
      "_________________________________________________________________\n",
      " Layer (type)                Output Shape              Param #   \n",
      "=================================================================\n",
      " dense (Dense)               (None, 32)                128       \n",
      "                                                                 \n",
      " batch_normalization (BatchN  (None, 32)               128       \n",
      " ormalization)                                                   \n",
      "                                                                 \n",
      " dropout (Dropout)           (None, 32)                0         \n",
      "                                                                 \n",
      " dense_1 (Dense)             (None, 32)                1056      \n",
      "                                                                 \n",
      " dropout_1 (Dropout)         (None, 32)                0         \n",
      "                                                                 \n",
      " dense_2 (Dense)             (None, 16)                528       \n",
      "                                                                 \n",
      " dropout_2 (Dropout)         (None, 16)                0         \n",
      "                                                                 \n",
      " dense_3 (Dense)             (None, 16)                272       \n",
      "                                                                 \n",
      " dense_4 (Dense)             (None, 8)                 136       \n",
      "                                                                 \n",
      " dense_5 (Dense)             (None, 1)                 9         \n",
      "                                                                 \n",
      "=================================================================\n",
      "Total params: 2,257\n",
      "Trainable params: 2,193\n",
      "Non-trainable params: 64\n",
      "_________________________________________________________________\n"
     ]
    }
   ],
   "source": [
    "model = tf.keras.Sequential([\n",
    "    tf.keras.layers.Dense(32, activation=\"tanh\", input_shape=(3,)),\n",
    "    tf.keras.layers.BatchNormalization(),\n",
    "    tf.keras.layers.Dropout(0.1),\n",
    "    tf.keras.layers.Dense(32, activation=\"tanh\"),\n",
    "    tf.keras.layers.Dropout(0.1),\n",
    "    tf.keras.layers.Dense(16, activation=\"tanh\"),\n",
    "    tf.keras.layers.Dropout(0.1),\n",
    "    tf.keras.layers.Dense(16, activation=\"tanh\"),\n",
    "    tf.keras.layers.Dense(8, activation=\"tanh\"),\n",
    "    tf.keras.layers.Dense(1, activation=\"sigmoid\")\n",
    "])\n",
    "\n",
    "model.summary()"
   ]
  },
  {
   "cell_type": "code",
   "execution_count": 19,
   "metadata": {},
   "outputs": [
    {
     "name": "stdout",
     "output_type": "stream",
     "text": [
      "Epoch 1/100\n",
      "76/76 [==============================] - 1s 3ms/step - loss: 0.2937 - accuracy: 0.3958 - val_loss: 0.2980 - val_accuracy: 0.4490\n",
      "Epoch 2/100\n",
      "76/76 [==============================] - 0s 1ms/step - loss: 0.2831 - accuracy: 0.4267 - val_loss: 0.2881 - val_accuracy: 0.4095\n",
      "Epoch 3/100\n",
      "76/76 [==============================] - 0s 2ms/step - loss: 0.2754 - accuracy: 0.4506 - val_loss: 0.2792 - val_accuracy: 0.4046\n",
      "Epoch 4/100\n",
      "76/76 [==============================] - 0s 1ms/step - loss: 0.2689 - accuracy: 0.4588 - val_loss: 0.2710 - val_accuracy: 0.4161\n",
      "Epoch 5/100\n",
      "76/76 [==============================] - 0s 1ms/step - loss: 0.2606 - accuracy: 0.4914 - val_loss: 0.2624 - val_accuracy: 0.4424\n",
      "Epoch 6/100\n",
      "76/76 [==============================] - 0s 1ms/step - loss: 0.2530 - accuracy: 0.5288 - val_loss: 0.2535 - val_accuracy: 0.4770\n",
      "Epoch 7/100\n",
      "76/76 [==============================] - 0s 1ms/step - loss: 0.2445 - accuracy: 0.5655 - val_loss: 0.2446 - val_accuracy: 0.5428\n",
      "Epoch 8/100\n",
      "76/76 [==============================] - 0s 1ms/step - loss: 0.2401 - accuracy: 0.5824 - val_loss: 0.2366 - val_accuracy: 0.6398\n",
      "Epoch 9/100\n",
      "76/76 [==============================] - 0s 1ms/step - loss: 0.2352 - accuracy: 0.6021 - val_loss: 0.2294 - val_accuracy: 0.6957\n",
      "Epoch 10/100\n",
      "76/76 [==============================] - 0s 1ms/step - loss: 0.2286 - accuracy: 0.6347 - val_loss: 0.2230 - val_accuracy: 0.7105\n",
      "Epoch 11/100\n",
      "76/76 [==============================] - 0s 1ms/step - loss: 0.2239 - accuracy: 0.6404 - val_loss: 0.2174 - val_accuracy: 0.7122\n",
      "Epoch 12/100\n",
      "76/76 [==============================] - 0s 2ms/step - loss: 0.2212 - accuracy: 0.6565 - val_loss: 0.2123 - val_accuracy: 0.7105\n",
      "Epoch 13/100\n",
      "76/76 [==============================] - 0s 2ms/step - loss: 0.2150 - accuracy: 0.6820 - val_loss: 0.2075 - val_accuracy: 0.7155\n",
      "Epoch 14/100\n",
      "76/76 [==============================] - 0s 1ms/step - loss: 0.2121 - accuracy: 0.6899 - val_loss: 0.2033 - val_accuracy: 0.7171\n",
      "Epoch 15/100\n",
      "76/76 [==============================] - 0s 1ms/step - loss: 0.2064 - accuracy: 0.7006 - val_loss: 0.1993 - val_accuracy: 0.7237\n",
      "Epoch 16/100\n",
      "76/76 [==============================] - 0s 1ms/step - loss: 0.2041 - accuracy: 0.7088 - val_loss: 0.1956 - val_accuracy: 0.7319\n",
      "Epoch 17/100\n",
      "76/76 [==============================] - 0s 1ms/step - loss: 0.2024 - accuracy: 0.7088 - val_loss: 0.1924 - val_accuracy: 0.7352\n",
      "Epoch 18/100\n",
      "76/76 [==============================] - 0s 2ms/step - loss: 0.1970 - accuracy: 0.7278 - val_loss: 0.1893 - val_accuracy: 0.7467\n",
      "Epoch 19/100\n",
      "76/76 [==============================] - 0s 1ms/step - loss: 0.1943 - accuracy: 0.7368 - val_loss: 0.1863 - val_accuracy: 0.7484\n",
      "Epoch 20/100\n",
      "76/76 [==============================] - 0s 1ms/step - loss: 0.1932 - accuracy: 0.7343 - val_loss: 0.1835 - val_accuracy: 0.7599\n",
      "Epoch 21/100\n",
      "76/76 [==============================] - 0s 1ms/step - loss: 0.1904 - accuracy: 0.7368 - val_loss: 0.1809 - val_accuracy: 0.7648\n",
      "Epoch 22/100\n",
      "76/76 [==============================] - 0s 1ms/step - loss: 0.1835 - accuracy: 0.7516 - val_loss: 0.1787 - val_accuracy: 0.7648\n",
      "Epoch 23/100\n",
      "76/76 [==============================] - 0s 2ms/step - loss: 0.1867 - accuracy: 0.7405 - val_loss: 0.1767 - val_accuracy: 0.7681\n",
      "Epoch 24/100\n",
      "76/76 [==============================] - 0s 1ms/step - loss: 0.1813 - accuracy: 0.7479 - val_loss: 0.1746 - val_accuracy: 0.7714\n",
      "Epoch 25/100\n",
      "76/76 [==============================] - 0s 1ms/step - loss: 0.1802 - accuracy: 0.7525 - val_loss: 0.1725 - val_accuracy: 0.7747\n",
      "Epoch 26/100\n",
      "76/76 [==============================] - 0s 1ms/step - loss: 0.1792 - accuracy: 0.7529 - val_loss: 0.1709 - val_accuracy: 0.7730\n",
      "Epoch 27/100\n",
      "76/76 [==============================] - 0s 1ms/step - loss: 0.1778 - accuracy: 0.7615 - val_loss: 0.1690 - val_accuracy: 0.7730\n",
      "Epoch 28/100\n",
      "76/76 [==============================] - 0s 1ms/step - loss: 0.1757 - accuracy: 0.7706 - val_loss: 0.1672 - val_accuracy: 0.7747\n",
      "Epoch 29/100\n",
      "76/76 [==============================] - 0s 1ms/step - loss: 0.1745 - accuracy: 0.7681 - val_loss: 0.1658 - val_accuracy: 0.7747\n",
      "Epoch 30/100\n",
      "76/76 [==============================] - 0s 1ms/step - loss: 0.1729 - accuracy: 0.7702 - val_loss: 0.1641 - val_accuracy: 0.7796\n",
      "Epoch 31/100\n",
      "76/76 [==============================] - 0s 1ms/step - loss: 0.1721 - accuracy: 0.7689 - val_loss: 0.1632 - val_accuracy: 0.7763\n",
      "Epoch 32/100\n",
      "76/76 [==============================] - 0s 1ms/step - loss: 0.1693 - accuracy: 0.7776 - val_loss: 0.1618 - val_accuracy: 0.7796\n",
      "Epoch 33/100\n",
      "76/76 [==============================] - 0s 1ms/step - loss: 0.1679 - accuracy: 0.7842 - val_loss: 0.1605 - val_accuracy: 0.7812\n",
      "Epoch 34/100\n",
      "76/76 [==============================] - 0s 1ms/step - loss: 0.1665 - accuracy: 0.7759 - val_loss: 0.1591 - val_accuracy: 0.7845\n",
      "Epoch 35/100\n",
      "76/76 [==============================] - 0s 1ms/step - loss: 0.1671 - accuracy: 0.7747 - val_loss: 0.1582 - val_accuracy: 0.7845\n",
      "Epoch 36/100\n",
      "76/76 [==============================] - 0s 1ms/step - loss: 0.1679 - accuracy: 0.7689 - val_loss: 0.1571 - val_accuracy: 0.7862\n",
      "Epoch 37/100\n",
      "76/76 [==============================] - 0s 1ms/step - loss: 0.1621 - accuracy: 0.7801 - val_loss: 0.1559 - val_accuracy: 0.7895\n",
      "Epoch 38/100\n",
      "76/76 [==============================] - 0s 2ms/step - loss: 0.1647 - accuracy: 0.7751 - val_loss: 0.1553 - val_accuracy: 0.7878\n",
      "Epoch 39/100\n",
      "76/76 [==============================] - 0s 1ms/step - loss: 0.1636 - accuracy: 0.7862 - val_loss: 0.1546 - val_accuracy: 0.7895\n",
      "Epoch 40/100\n",
      "76/76 [==============================] - 0s 1ms/step - loss: 0.1617 - accuracy: 0.7780 - val_loss: 0.1535 - val_accuracy: 0.7911\n",
      "Epoch 41/100\n",
      "76/76 [==============================] - 0s 1ms/step - loss: 0.1609 - accuracy: 0.7941 - val_loss: 0.1526 - val_accuracy: 0.7928\n",
      "Epoch 42/100\n",
      "76/76 [==============================] - 0s 1ms/step - loss: 0.1594 - accuracy: 0.7805 - val_loss: 0.1516 - val_accuracy: 0.7977\n",
      "Epoch 43/100\n",
      "76/76 [==============================] - 0s 1ms/step - loss: 0.1614 - accuracy: 0.7805 - val_loss: 0.1512 - val_accuracy: 0.7977\n",
      "Epoch 44/100\n",
      "76/76 [==============================] - 0s 1ms/step - loss: 0.1577 - accuracy: 0.7887 - val_loss: 0.1507 - val_accuracy: 0.7977\n",
      "Epoch 45/100\n",
      "76/76 [==============================] - 0s 1ms/step - loss: 0.1589 - accuracy: 0.7900 - val_loss: 0.1499 - val_accuracy: 0.7993\n",
      "Epoch 46/100\n",
      "76/76 [==============================] - 0s 1ms/step - loss: 0.1563 - accuracy: 0.7858 - val_loss: 0.1492 - val_accuracy: 0.8043\n",
      "Epoch 47/100\n",
      "76/76 [==============================] - 0s 1ms/step - loss: 0.1563 - accuracy: 0.7887 - val_loss: 0.1485 - val_accuracy: 0.8043\n",
      "Epoch 48/100\n",
      "76/76 [==============================] - 0s 1ms/step - loss: 0.1576 - accuracy: 0.7817 - val_loss: 0.1479 - val_accuracy: 0.8043\n",
      "Epoch 49/100\n",
      "76/76 [==============================] - 0s 1ms/step - loss: 0.1588 - accuracy: 0.7867 - val_loss: 0.1472 - val_accuracy: 0.8076\n",
      "Epoch 50/100\n",
      "76/76 [==============================] - 0s 1ms/step - loss: 0.1551 - accuracy: 0.7908 - val_loss: 0.1470 - val_accuracy: 0.8076\n",
      "Epoch 51/100\n",
      "76/76 [==============================] - 0s 1ms/step - loss: 0.1551 - accuracy: 0.7949 - val_loss: 0.1463 - val_accuracy: 0.8076\n",
      "Epoch 52/100\n",
      "76/76 [==============================] - 0s 1ms/step - loss: 0.1525 - accuracy: 0.7953 - val_loss: 0.1458 - val_accuracy: 0.8059\n",
      "Epoch 53/100\n",
      "76/76 [==============================] - 0s 1ms/step - loss: 0.1553 - accuracy: 0.7838 - val_loss: 0.1452 - val_accuracy: 0.8059\n",
      "Epoch 54/100\n",
      "76/76 [==============================] - 0s 1ms/step - loss: 0.1525 - accuracy: 0.7953 - val_loss: 0.1447 - val_accuracy: 0.8026\n",
      "Epoch 55/100\n",
      "76/76 [==============================] - 0s 1ms/step - loss: 0.1515 - accuracy: 0.7895 - val_loss: 0.1444 - val_accuracy: 0.8043\n",
      "Epoch 56/100\n",
      "76/76 [==============================] - 0s 1ms/step - loss: 0.1559 - accuracy: 0.7904 - val_loss: 0.1440 - val_accuracy: 0.8043\n",
      "Epoch 57/100\n",
      "76/76 [==============================] - 0s 1ms/step - loss: 0.1513 - accuracy: 0.7924 - val_loss: 0.1437 - val_accuracy: 0.8059\n",
      "Epoch 58/100\n",
      "76/76 [==============================] - 0s 1ms/step - loss: 0.1565 - accuracy: 0.7821 - val_loss: 0.1432 - val_accuracy: 0.8059\n",
      "Epoch 59/100\n",
      "76/76 [==============================] - 0s 1ms/step - loss: 0.1510 - accuracy: 0.7887 - val_loss: 0.1431 - val_accuracy: 0.8092\n",
      "Epoch 60/100\n",
      "76/76 [==============================] - 0s 1ms/step - loss: 0.1497 - accuracy: 0.7937 - val_loss: 0.1426 - val_accuracy: 0.8059\n",
      "Epoch 61/100\n",
      "76/76 [==============================] - 0s 1ms/step - loss: 0.1490 - accuracy: 0.7994 - val_loss: 0.1422 - val_accuracy: 0.8059\n",
      "Epoch 62/100\n",
      "76/76 [==============================] - 0s 1ms/step - loss: 0.1506 - accuracy: 0.7932 - val_loss: 0.1419 - val_accuracy: 0.8076\n",
      "Epoch 63/100\n",
      "76/76 [==============================] - 0s 2ms/step - loss: 0.1488 - accuracy: 0.7953 - val_loss: 0.1418 - val_accuracy: 0.8076\n",
      "Epoch 64/100\n",
      "76/76 [==============================] - 0s 1ms/step - loss: 0.1525 - accuracy: 0.7945 - val_loss: 0.1416 - val_accuracy: 0.8076\n",
      "Epoch 65/100\n",
      "76/76 [==============================] - 0s 1ms/step - loss: 0.1535 - accuracy: 0.7887 - val_loss: 0.1412 - val_accuracy: 0.8109\n",
      "Epoch 66/100\n",
      "76/76 [==============================] - 0s 1ms/step - loss: 0.1481 - accuracy: 0.7928 - val_loss: 0.1408 - val_accuracy: 0.8109\n",
      "Epoch 67/100\n",
      "76/76 [==============================] - 0s 1ms/step - loss: 0.1501 - accuracy: 0.7953 - val_loss: 0.1405 - val_accuracy: 0.8109\n",
      "Epoch 68/100\n",
      "76/76 [==============================] - 0s 1ms/step - loss: 0.1469 - accuracy: 0.8052 - val_loss: 0.1403 - val_accuracy: 0.8125\n",
      "Epoch 69/100\n",
      "76/76 [==============================] - 0s 1ms/step - loss: 0.1450 - accuracy: 0.8019 - val_loss: 0.1401 - val_accuracy: 0.8109\n",
      "Epoch 70/100\n",
      "76/76 [==============================] - 0s 1ms/step - loss: 0.1510 - accuracy: 0.7904 - val_loss: 0.1400 - val_accuracy: 0.8125\n",
      "Epoch 71/100\n",
      "76/76 [==============================] - 0s 2ms/step - loss: 0.1491 - accuracy: 0.7965 - val_loss: 0.1398 - val_accuracy: 0.8125\n",
      "Epoch 72/100\n",
      "76/76 [==============================] - 0s 1ms/step - loss: 0.1467 - accuracy: 0.7998 - val_loss: 0.1396 - val_accuracy: 0.8125\n",
      "Epoch 73/100\n",
      "76/76 [==============================] - 0s 2ms/step - loss: 0.1468 - accuracy: 0.8011 - val_loss: 0.1395 - val_accuracy: 0.8125\n",
      "Epoch 74/100\n",
      "76/76 [==============================] - 0s 2ms/step - loss: 0.1505 - accuracy: 0.7986 - val_loss: 0.1391 - val_accuracy: 0.8092\n",
      "Epoch 75/100\n",
      "76/76 [==============================] - 0s 1ms/step - loss: 0.1469 - accuracy: 0.8007 - val_loss: 0.1391 - val_accuracy: 0.8092\n",
      "Epoch 76/100\n",
      "76/76 [==============================] - 0s 2ms/step - loss: 0.1455 - accuracy: 0.8035 - val_loss: 0.1388 - val_accuracy: 0.8076\n",
      "Epoch 77/100\n",
      "76/76 [==============================] - 0s 1ms/step - loss: 0.1447 - accuracy: 0.8040 - val_loss: 0.1387 - val_accuracy: 0.8076\n",
      "Epoch 78/100\n",
      "76/76 [==============================] - 0s 2ms/step - loss: 0.1487 - accuracy: 0.7887 - val_loss: 0.1385 - val_accuracy: 0.8076\n",
      "Epoch 79/100\n",
      "76/76 [==============================] - 0s 2ms/step - loss: 0.1471 - accuracy: 0.7953 - val_loss: 0.1384 - val_accuracy: 0.8092\n",
      "Epoch 80/100\n",
      "76/76 [==============================] - 0s 2ms/step - loss: 0.1464 - accuracy: 0.7961 - val_loss: 0.1383 - val_accuracy: 0.8092\n",
      "Epoch 81/100\n",
      "76/76 [==============================] - 0s 1ms/step - loss: 0.1471 - accuracy: 0.8019 - val_loss: 0.1381 - val_accuracy: 0.8092\n",
      "Epoch 82/100\n",
      "76/76 [==============================] - 0s 1ms/step - loss: 0.1470 - accuracy: 0.7970 - val_loss: 0.1381 - val_accuracy: 0.8092\n",
      "Epoch 83/100\n",
      "76/76 [==============================] - 0s 2ms/step - loss: 0.1496 - accuracy: 0.7990 - val_loss: 0.1379 - val_accuracy: 0.8092\n",
      "Epoch 84/100\n",
      "76/76 [==============================] - 0s 2ms/step - loss: 0.1407 - accuracy: 0.8060 - val_loss: 0.1377 - val_accuracy: 0.8125\n",
      "Epoch 85/100\n",
      "76/76 [==============================] - 0s 1ms/step - loss: 0.1441 - accuracy: 0.8035 - val_loss: 0.1375 - val_accuracy: 0.8125\n",
      "Epoch 86/100\n",
      "76/76 [==============================] - 0s 1ms/step - loss: 0.1506 - accuracy: 0.7883 - val_loss: 0.1376 - val_accuracy: 0.8109\n",
      "Epoch 87/100\n",
      "76/76 [==============================] - 0s 1ms/step - loss: 0.1402 - accuracy: 0.8147 - val_loss: 0.1375 - val_accuracy: 0.8109\n",
      "Epoch 88/100\n",
      "76/76 [==============================] - 0s 1ms/step - loss: 0.1440 - accuracy: 0.7970 - val_loss: 0.1374 - val_accuracy: 0.8109\n",
      "Epoch 89/100\n",
      "76/76 [==============================] - 0s 1ms/step - loss: 0.1460 - accuracy: 0.7970 - val_loss: 0.1371 - val_accuracy: 0.8109\n",
      "Epoch 90/100\n",
      "76/76 [==============================] - 0s 1ms/step - loss: 0.1462 - accuracy: 0.7916 - val_loss: 0.1371 - val_accuracy: 0.8109\n",
      "Epoch 91/100\n",
      "76/76 [==============================] - 0s 1ms/step - loss: 0.1455 - accuracy: 0.8035 - val_loss: 0.1372 - val_accuracy: 0.8109\n",
      "Epoch 92/100\n",
      "76/76 [==============================] - 0s 1ms/step - loss: 0.1458 - accuracy: 0.7982 - val_loss: 0.1369 - val_accuracy: 0.8092\n",
      "Epoch 93/100\n",
      "76/76 [==============================] - 0s 1ms/step - loss: 0.1426 - accuracy: 0.8023 - val_loss: 0.1369 - val_accuracy: 0.8092\n",
      "Epoch 94/100\n",
      "76/76 [==============================] - 0s 1ms/step - loss: 0.1466 - accuracy: 0.7928 - val_loss: 0.1369 - val_accuracy: 0.8092\n",
      "Epoch 95/100\n",
      "76/76 [==============================] - 0s 1ms/step - loss: 0.1441 - accuracy: 0.8019 - val_loss: 0.1368 - val_accuracy: 0.8092\n",
      "Epoch 96/100\n",
      "76/76 [==============================] - 0s 2ms/step - loss: 0.1459 - accuracy: 0.8011 - val_loss: 0.1368 - val_accuracy: 0.8092\n",
      "Epoch 97/100\n",
      "76/76 [==============================] - 0s 2ms/step - loss: 0.1435 - accuracy: 0.8052 - val_loss: 0.1366 - val_accuracy: 0.8092\n",
      "Epoch 98/100\n",
      "76/76 [==============================] - 0s 2ms/step - loss: 0.1460 - accuracy: 0.8023 - val_loss: 0.1364 - val_accuracy: 0.8109\n",
      "Epoch 99/100\n",
      "76/76 [==============================] - 0s 2ms/step - loss: 0.1409 - accuracy: 0.8097 - val_loss: 0.1363 - val_accuracy: 0.8109\n",
      "Epoch 100/100\n",
      "76/76 [==============================] - 0s 1ms/step - loss: 0.1433 - accuracy: 0.8081 - val_loss: 0.1363 - val_accuracy: 0.8109\n"
     ]
    }
   ],
   "source": [
    "optimizer = tf.keras.optimizers.Adam(learning_rate=0.00001)\n",
    "\n",
    "model.compile(\n",
    "    optimizer, \n",
    "    loss=\"mse\", \n",
    "    metrics=[\"accuracy\"])\n",
    "history = model.fit(x_train, y_train, epochs=100, batch_size=32, validation_data=(x_test, y_test))"
   ]
  },
  {
   "cell_type": "code",
   "execution_count": 20,
   "metadata": {},
   "outputs": [
    {
     "name": "stdout",
     "output_type": "stream",
     "text": [
      "19/19 [==============================] - 0s 778us/step\n",
      "Accuracy: 81.09%\n"
     ]
    }
   ],
   "source": [
    "y_pred_tf = np.round(model.predict(x_test)).reshape(1, -1)[0]\n",
    "tf_acc = get_accuracy(y_pred_tf, y_test)"
   ]
  },
  {
   "cell_type": "markdown",
   "metadata": {},
   "source": [
    "### Plot Loss and Accuracy Curves"
   ]
  },
  {
   "cell_type": "code",
   "execution_count": 21,
   "metadata": {},
   "outputs": [
    {
     "data": {
      "image/png": "[encoded data removed]",
      "text/plain": [
       "<Figure size 432x288 with 1 Axes>"
      ]
     },
     "metadata": {
      "needs_background": "light"
     },
     "output_type": "display_data"
    }
   ],
   "source": [
    "plt.plot(history.history['accuracy'])\n",
    "plt.plot(history.history['val_accuracy'])\n",
    "plt.title('model accuracy')\n",
    "plt.ylabel('accuracy')\n",
    "plt.xlabel('epoch')\n",
    "plt.legend(['train', 'val'], loc='upper left')\n",
    "plt.show()"
   ]
  },
  {
   "cell_type": "code",
   "execution_count": 22,
   "metadata": {},
   "outputs": [
    {
     "data": {
      "image/png": "[encoded data removed]",
      "text/plain": [
       "<Figure size 432x288 with 1 Axes>"
      ]
     },
     "metadata": {
      "needs_background": "light"
     },
     "output_type": "display_data"
    }
   ],
   "source": [
    "plt.plot(history.history['loss'])\n",
    "plt.plot(history.history['val_loss'])\n",
    "plt.title('model loss')\n",
    "plt.ylabel('loss')\n",
    "plt.xlabel('epoch')\n",
    "plt.legend(['train', 'val'], loc='upper left')\n",
    "plt.show()"
   ]
  },
  {
   "attachments": {},
   "cell_type": "markdown",
   "metadata": {},
   "source": [
    "### MLP Classifier NN"
   ]
  },
  {
   "cell_type": "code",
   "execution_count": 23,
   "metadata": {},
   "outputs": [
    {
     "data": {
      "text/plain": [
       "MLPClassifier(activation='tanh', hidden_layer_sizes=(32, 32, 32, 32, 32),\n",
       "              learning_rate='adaptive', max_iter=1000, random_state=1,\n",
       "              verbose=0)"
      ]
     },
     "execution_count": 23,
     "metadata": {},
     "output_type": "execute_result"
    }
   ],
   "source": [
    "class_NN = MLPClassifier(\n",
    "    hidden_layer_sizes=(32, 32, 32, 32, 32),\n",
    "    activation='tanh',\n",
    "    solver='adam',\n",
    "    alpha=0.0001,\n",
    "    learning_rate='adaptive',\n",
    "    max_iter=1000, \n",
    "    verbose=0,\n",
    "    random_state=1)\n",
    "class_NN.fit(x_train, y_train)"
   ]
  },
  {
   "cell_type": "code",
   "execution_count": 24,
   "metadata": {},
   "outputs": [
    {
     "name": "stdout",
     "output_type": "stream",
     "text": [
      "Accuracy: 82.57%\n"
     ]
    }
   ],
   "source": [
    "y_pred = class_NN.predict(x_test)\n",
    "mlp_acc = get_accuracy(y_pred, y_test)"
   ]
  },
  {
   "cell_type": "code",
   "execution_count": 25,
   "metadata": {},
   "outputs": [
    {
     "data": {
      "text/plain": [
       "<tf.Tensor: shape=(3,), dtype=float32, numpy=array([ 6., 10.,  5.], dtype=float32)>"
      ]
     },
     "execution_count": 25,
     "metadata": {},
     "output_type": "execute_result"
    }
   ],
   "source": [
    "x_test[0]"
   ]
  },
  {
   "attachments": {},
   "cell_type": "markdown",
   "metadata": {},
   "source": [
    "### Grid Search to Find Optimal Parameters"
   ]
  },
  {
   "cell_type": "code",
   "execution_count": 26,
   "metadata": {},
   "outputs": [],
   "source": [
    "params = {\n",
    "    'hidden_layer_sizes' : [(64, 32, 32, 32, 16), (32, 32, 32, 32, 32)],\n",
    "}\n",
    "\n",
    "gscv = GridSearchCV(class_NN, params, verbose=1)\n",
    "\n",
    "# gscv.fit(np.array(x_train), np.array(y_train))\n",
    "# print(gscv.best_params_) "
   ]
  },
  {
   "cell_type": "markdown",
   "metadata": {},
   "source": [
    "### Analyze Results"
   ]
  },
  {
   "cell_type": "code",
   "execution_count": 27,
   "metadata": {},
   "outputs": [
    {
     "data": {
      "image/png": "[encoded data removed]",
      "text/plain": [
       "<Figure size 432x288 with 2 Axes>"
      ]
     },
     "metadata": {
      "needs_background": "light"
     },
     "output_type": "display_data"
    }
   ],
   "source": [
    "plot_confusion_matrix(class_NN, x_test, y_test)  \n",
    "plt.show()"
   ]
  },
  {
   "cell_type": "code",
   "execution_count": 28,
   "metadata": {},
   "outputs": [
    {
     "name": "stdout",
     "output_type": "stream",
     "text": [
      "              precision    recall  f1-score   support\n",
      "\n",
      "     CutFree       0.74      0.91      0.82       261\n",
      "   CutFreeRL       0.92      0.76      0.83       347\n",
      "\n",
      "    accuracy                           0.83       608\n",
      "   macro avg       0.83      0.84      0.83       608\n",
      "weighted avg       0.84      0.83      0.83       608\n",
      "\n"
     ]
    }
   ],
   "source": [
    "print(classification_report(y_pred, y_test, target_names=[\"CutFree\", \"CutFreeRL\"]))"
   ]
  },
  {
   "attachments": {},
   "cell_type": "markdown",
   "metadata": {},
   "source": [
    "# Visualize Incorrect Classifications"
   ]
  },
  {
   "cell_type": "code",
   "execution_count": 29,
   "metadata": {},
   "outputs": [
    {
     "data": {
      "text/html": [
       "<div>\n",
       "<style scoped>\n",
       "    .dataframe tbody tr th:only-of-type {\n",
       "        vertical-align: middle;\n",
       "    }\n",
       "\n",
       "    .dataframe tbody tr th {\n",
       "        vertical-align: top;\n",
       "    }\n",
       "\n",
       "    .dataframe thead th {\n",
       "        text-align: right;\n",
       "    }\n",
       "</style>\n",
       "<table border=\"1\" class=\"dataframe\">\n",
       "  <thead>\n",
       "    <tr style=\"text-align: right;\">\n",
       "      <th></th>\n",
       "      <th>OligoLength</th>\n",
       "      <th>TotalSites</th>\n",
       "      <th>SiteLength</th>\n",
       "      <th>Algorithm</th>\n",
       "      <th>CutFree_Time</th>\n",
       "      <th>CutFreeRL_Time</th>\n",
       "    </tr>\n",
       "  </thead>\n",
       "  <tbody>\n",
       "    <tr>\n",
       "      <th>2</th>\n",
       "      <td>6</td>\n",
       "      <td>3</td>\n",
       "      <td>4</td>\n",
       "      <td>0</td>\n",
       "      <td>0.010071</td>\n",
       "      <td>0.136403</td>\n",
       "    </tr>\n",
       "    <tr>\n",
       "      <th>3</th>\n",
       "      <td>6</td>\n",
       "      <td>4</td>\n",
       "      <td>4</td>\n",
       "      <td>0</td>\n",
       "      <td>0.013531</td>\n",
       "      <td>0.150443</td>\n",
       "    </tr>\n",
       "    <tr>\n",
       "      <th>6</th>\n",
       "      <td>6</td>\n",
       "      <td>7</td>\n",
       "      <td>4</td>\n",
       "      <td>0</td>\n",
       "      <td>0.018870</td>\n",
       "      <td>0.205003</td>\n",
       "    </tr>\n",
       "    <tr>\n",
       "      <th>7</th>\n",
       "      <td>6</td>\n",
       "      <td>8</td>\n",
       "      <td>4</td>\n",
       "      <td>0</td>\n",
       "      <td>0.019908</td>\n",
       "      <td>0.165705</td>\n",
       "    </tr>\n",
       "    <tr>\n",
       "      <th>10</th>\n",
       "      <td>6</td>\n",
       "      <td>1</td>\n",
       "      <td>5</td>\n",
       "      <td>0</td>\n",
       "      <td>0.004702</td>\n",
       "      <td>0.119446</td>\n",
       "    </tr>\n",
       "  </tbody>\n",
       "</table>\n",
       "</div>"
      ],
      "text/plain": [
       "    OligoLength  TotalSites  SiteLength  Algorithm  CutFree_Time  \\\n",
       "2             6           3           4          0      0.010071   \n",
       "3             6           4           4          0      0.013531   \n",
       "6             6           7           4          0      0.018870   \n",
       "7             6           8           4          0      0.019908   \n",
       "10            6           1           5          0      0.004702   \n",
       "\n",
       "    CutFreeRL_Time  \n",
       "2         0.136403  \n",
       "3         0.150443  \n",
       "6         0.205003  \n",
       "7         0.165705  \n",
       "10        0.119446  "
      ]
     },
     "execution_count": 29,
     "metadata": {},
     "output_type": "execute_result"
    }
   ],
   "source": [
    "df_total.head()"
   ]
  },
  {
   "cell_type": "code",
   "execution_count": 30,
   "metadata": {},
   "outputs": [
    {
     "data": {
      "text/html": [
       "<div>\n",
       "<style scoped>\n",
       "    .dataframe tbody tr th:only-of-type {\n",
       "        vertical-align: middle;\n",
       "    }\n",
       "\n",
       "    .dataframe tbody tr th {\n",
       "        vertical-align: top;\n",
       "    }\n",
       "\n",
       "    .dataframe thead th {\n",
       "        text-align: right;\n",
       "    }\n",
       "</style>\n",
       "<table border=\"1\" class=\"dataframe\">\n",
       "  <thead>\n",
       "    <tr style=\"text-align: right;\">\n",
       "      <th></th>\n",
       "      <th>OligoLength</th>\n",
       "      <th>TotalSites</th>\n",
       "      <th>SiteLength</th>\n",
       "      <th>Algorithm</th>\n",
       "      <th>CutFree_Time</th>\n",
       "      <th>CutFreeRL_Time</th>\n",
       "      <th>Discrepency</th>\n",
       "    </tr>\n",
       "  </thead>\n",
       "  <tbody>\n",
       "    <tr>\n",
       "      <th>3445</th>\n",
       "      <td>39</td>\n",
       "      <td>6</td>\n",
       "      <td>8</td>\n",
       "      <td>0</td>\n",
       "      <td>0.295460</td>\n",
       "      <td>3.208158</td>\n",
       "      <td>-2.912698</td>\n",
       "    </tr>\n",
       "    <tr>\n",
       "      <th>1239</th>\n",
       "      <td>30</td>\n",
       "      <td>10</td>\n",
       "      <td>7</td>\n",
       "      <td>0</td>\n",
       "      <td>0.290017</td>\n",
       "      <td>3.013270</td>\n",
       "      <td>-2.723253</td>\n",
       "    </tr>\n",
       "    <tr>\n",
       "      <th>5084</th>\n",
       "      <td>37</td>\n",
       "      <td>6</td>\n",
       "      <td>7</td>\n",
       "      <td>0</td>\n",
       "      <td>0.082008</td>\n",
       "      <td>2.770018</td>\n",
       "      <td>-2.688011</td>\n",
       "    </tr>\n",
       "    <tr>\n",
       "      <th>4945</th>\n",
       "      <td>34</td>\n",
       "      <td>7</td>\n",
       "      <td>8</td>\n",
       "      <td>0</td>\n",
       "      <td>0.143880</td>\n",
       "      <td>2.799703</td>\n",
       "      <td>-2.655823</td>\n",
       "    </tr>\n",
       "    <tr>\n",
       "      <th>4937</th>\n",
       "      <td>34</td>\n",
       "      <td>9</td>\n",
       "      <td>7</td>\n",
       "      <td>0</td>\n",
       "      <td>0.756201</td>\n",
       "      <td>3.400161</td>\n",
       "      <td>-2.643960</td>\n",
       "    </tr>\n",
       "  </tbody>\n",
       "</table>\n",
       "</div>"
      ],
      "text/plain": [
       "      OligoLength  TotalSites  SiteLength  Algorithm  CutFree_Time  \\\n",
       "3445           39           6           8          0      0.295460   \n",
       "1239           30          10           7          0      0.290017   \n",
       "5084           37           6           7          0      0.082008   \n",
       "4945           34           7           8          0      0.143880   \n",
       "4937           34           9           7          0      0.756201   \n",
       "\n",
       "      CutFreeRL_Time  Discrepency  \n",
       "3445        3.208158    -2.912698  \n",
       "1239        3.013270    -2.723253  \n",
       "5084        2.770018    -2.688011  \n",
       "4945        2.799703    -2.655823  \n",
       "4937        3.400161    -2.643960  "
      ]
     },
     "execution_count": 30,
     "metadata": {},
     "output_type": "execute_result"
    }
   ],
   "source": [
    "df_total[\"Discrepency\"] = df_total.CutFree_Time - df_total.CutFreeRL_Time\n",
    "df_total = df_total.sort_values(by=[\"Discrepency\"], ascending=True)\n",
    "df_total.head()"
   ]
  },
  {
   "cell_type": "code",
   "execution_count": 31,
   "metadata": {},
   "outputs": [],
   "source": [
    "df_total_tf = df_total.copy()\n",
    "\n",
    "df_total_tf.loc[x_test_df.index[np.where(y_test_df != y_pred_tf)], \"Prediction\"] = 0\n",
    "df_total_tf.loc[df_total_tf[\"Prediction\"].isna(), \"Prediction\"] = 1\n",
    "\n",
    "df_total_tf = df_total_tf.reset_index(drop=True)\n"
   ]
  },
  {
   "cell_type": "code",
   "execution_count": 32,
   "metadata": {},
   "outputs": [],
   "source": [
    "df_total.loc[x_test_df.index[np.where(y_test_df != y_pred)], \"Prediction\"] = 0\n",
    "df_total.loc[df_total[\"Prediction\"].isna(), \"Prediction\"] = 1\n"
   ]
  },
  {
   "cell_type": "code",
   "execution_count": 33,
   "metadata": {},
   "outputs": [
    {
     "data": {
      "text/html": [
       "<div>\n",
       "<style scoped>\n",
       "    .dataframe tbody tr th:only-of-type {\n",
       "        vertical-align: middle;\n",
       "    }\n",
       "\n",
       "    .dataframe tbody tr th {\n",
       "        vertical-align: top;\n",
       "    }\n",
       "\n",
       "    .dataframe thead th {\n",
       "        text-align: right;\n",
       "    }\n",
       "</style>\n",
       "<table border=\"1\" class=\"dataframe\">\n",
       "  <thead>\n",
       "    <tr style=\"text-align: right;\">\n",
       "      <th></th>\n",
       "      <th>OligoLength</th>\n",
       "      <th>TotalSites</th>\n",
       "      <th>SiteLength</th>\n",
       "      <th>Algorithm</th>\n",
       "      <th>CutFree_Time</th>\n",
       "      <th>CutFreeRL_Time</th>\n",
       "      <th>Discrepency</th>\n",
       "      <th>Prediction</th>\n",
       "    </tr>\n",
       "  </thead>\n",
       "  <tbody>\n",
       "    <tr>\n",
       "      <th>0</th>\n",
       "      <td>39</td>\n",
       "      <td>6</td>\n",
       "      <td>8</td>\n",
       "      <td>0</td>\n",
       "      <td>0.295460</td>\n",
       "      <td>3.208158</td>\n",
       "      <td>-2.912698</td>\n",
       "      <td>1.0</td>\n",
       "    </tr>\n",
       "    <tr>\n",
       "      <th>1</th>\n",
       "      <td>30</td>\n",
       "      <td>10</td>\n",
       "      <td>7</td>\n",
       "      <td>0</td>\n",
       "      <td>0.290017</td>\n",
       "      <td>3.013270</td>\n",
       "      <td>-2.723253</td>\n",
       "      <td>1.0</td>\n",
       "    </tr>\n",
       "    <tr>\n",
       "      <th>2</th>\n",
       "      <td>37</td>\n",
       "      <td>6</td>\n",
       "      <td>7</td>\n",
       "      <td>0</td>\n",
       "      <td>0.082008</td>\n",
       "      <td>2.770018</td>\n",
       "      <td>-2.688011</td>\n",
       "      <td>1.0</td>\n",
       "    </tr>\n",
       "    <tr>\n",
       "      <th>3</th>\n",
       "      <td>34</td>\n",
       "      <td>7</td>\n",
       "      <td>8</td>\n",
       "      <td>0</td>\n",
       "      <td>0.143880</td>\n",
       "      <td>2.799703</td>\n",
       "      <td>-2.655823</td>\n",
       "      <td>1.0</td>\n",
       "    </tr>\n",
       "    <tr>\n",
       "      <th>4</th>\n",
       "      <td>34</td>\n",
       "      <td>9</td>\n",
       "      <td>7</td>\n",
       "      <td>0</td>\n",
       "      <td>0.756201</td>\n",
       "      <td>3.400161</td>\n",
       "      <td>-2.643960</td>\n",
       "      <td>0.0</td>\n",
       "    </tr>\n",
       "  </tbody>\n",
       "</table>\n",
       "</div>"
      ],
      "text/plain": [
       "   OligoLength  TotalSites  SiteLength  Algorithm  CutFree_Time  \\\n",
       "0           39           6           8          0      0.295460   \n",
       "1           30          10           7          0      0.290017   \n",
       "2           37           6           7          0      0.082008   \n",
       "3           34           7           8          0      0.143880   \n",
       "4           34           9           7          0      0.756201   \n",
       "\n",
       "   CutFreeRL_Time  Discrepency  Prediction  \n",
       "0        3.208158    -2.912698         1.0  \n",
       "1        3.013270    -2.723253         1.0  \n",
       "2        2.770018    -2.688011         1.0  \n",
       "3        2.799703    -2.655823         1.0  \n",
       "4        3.400161    -2.643960         0.0  "
      ]
     },
     "execution_count": 33,
     "metadata": {},
     "output_type": "execute_result"
    }
   ],
   "source": [
    "df_total = df_total.reset_index(drop=True)\n",
    "df_total.head()"
   ]
  },
  {
   "cell_type": "code",
   "execution_count": 34,
   "metadata": {},
   "outputs": [
    {
     "data": {
      "text/plain": [
       "<matplotlib.legend.Legend at 0x16ea23fea90>"
      ]
     },
     "execution_count": 34,
     "metadata": {},
     "output_type": "execute_result"
    },
    {
     "data": {
      "image/png": "[encoded data removed]",
      "text/plain": [
       "<Figure size 1440x1440 with 3 Axes>"
      ]
     },
     "metadata": {
      "needs_background": "light"
     },
     "output_type": "display_data"
    }
   ],
   "source": [
    "plt.figure(figsize=(20,20))\n",
    "\n",
    "plt.subplot(311)\n",
    "plt.scatter(\n",
    "    df_total[df_total.Algorithm==0].index, df_total[df_total.Algorithm==0].Discrepency, \n",
    "    c =\"blue\",\n",
    "    linewidths = 1,\n",
    "    marker =\"s\",\n",
    "    s = 25)\n",
    "\n",
    "plt.scatter(\n",
    "    df_total[df_total.Algorithm==1].index, df_total[df_total.Algorithm==1].Discrepency, \n",
    "    c =\"green\",\n",
    "    linewidths = 1,\n",
    "    marker =\"s\",\n",
    "    s = 25)\n",
    "\n",
    "plt.title(\"Correct Algorithm Selection for Time Discrepency vs. Index\")\n",
    "plt.xlabel(\"Index\")\n",
    "plt.ylabel(\"Time Discrepency (sec)\")\n",
    "plt.legend([\"CutFree\", \"CutFreeRL\"])\n",
    "\n",
    "plt.subplot(312)\n",
    "plt.scatter(\n",
    "    df_total[df_total.Prediction==1].index, df_total[df_total.Prediction==1].Discrepency, \n",
    "    c =\"black\",\n",
    "    linewidths = 1,\n",
    "    marker =\"s\",\n",
    "    s = 25)\n",
    "\n",
    "plt.scatter(\n",
    "    df_total[df_total.Prediction==0].index, df_total[df_total.Prediction==0].Discrepency, \n",
    "    c =\"red\",\n",
    "    linewidths = 3,\n",
    "    marker =\"x\",\n",
    "    s = 250)\n",
    "\n",
    "plt.title(f\"Accuracy of MLP Classifier Predictions ({mlp_acc:.2f}) for Time Discrepency vs. Index\")\n",
    "plt.xlabel(\"Index\")\n",
    "plt.ylabel(\"Time Discrepency (sec)\")\n",
    "plt.legend([\"Correct Prediction\", \"Incorrect Prediction\"])\n",
    "\n",
    "plt.subplot(313)\n",
    "plt.scatter(\n",
    "    df_total_tf[df_total_tf.Prediction==1].index, df_total_tf[df_total_tf.Prediction==1].Discrepency, \n",
    "    c =\"black\",\n",
    "    linewidths = 1,\n",
    "    marker =\"s\",\n",
    "    s = 25)\n",
    "\n",
    "plt.scatter(\n",
    "    df_total_tf[df_total_tf.Prediction==0].index, df_total_tf[df_total_tf.Prediction==0].Discrepency, \n",
    "    c =\"red\",\n",
    "    linewidths = 3,\n",
    "    marker =\"x\",\n",
    "    s = 250)\n",
    "\n",
    "plt.title(f\"Accuracy of TensforFlow Model Predictions ({tf_acc:.2f}%) for Time Discrepency vs. Index\")\n",
    "plt.xlabel(\"Index\")\n",
    "plt.ylabel(\"Time Discrepency (sec)\")\n",
    "plt.legend([\"Correct Prediction\", \"Incorrect Prediction\"])\n"
   ]
  },
  {
   "cell_type": "markdown",
   "metadata": {},
   "source": [
    "# Save Model"
   ]
  },
  {
   "cell_type": "code",
   "execution_count": 35,
   "metadata": {},
   "outputs": [],
   "source": [
    "# with open(\"cutfree_model.pkl\", \"wb\") as f:\n",
    "#     pickle.dump(class_NN, f)"
   ]
  },
  {
   "cell_type": "code",
   "execution_count": 36,
   "metadata": {},
   "outputs": [],
   "source": [
    "# with open(\"../cutfree-models/cutfree_model.pkl\", \"rb\") as f:\n",
    "#     model = pickle.load(f)\n",
    "# model.predict([[6, 1, 4]])"
   ]
  },
  {
   "cell_type": "code",
   "execution_count": null,
   "metadata": {},
   "outputs": [],
   "source": []
  }
 ],
 "metadata": {
  "kernelspec": {
   "display_name": "base",
   "language": "python",
   "name": "python3"
  },
  "language_info": {
   "codemirror_mode": {
    "name": "ipython",
    "version": 3
   },
   "file_extension": ".py",
   "mimetype": "text/x-python",
   "name": "python",
   "nbconvert_exporter": "python",
   "pygments_lexer": "ipython3",
   "version": "3.9.7"
  }
 },
 "nbformat": 4,
 "nbformat_minor": 4
}
