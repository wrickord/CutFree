{
 "cells": [
  {
   "cell_type": "markdown",
   "metadata": {},
   "source": [
    "# Import Dependencies"
   ]
  },
  {
   "cell_type": "code",
   "execution_count": 3300,
   "metadata": {},
   "outputs": [],
   "source": [
    "# System\n",
    "import os\n",
    "\n",
    "# Data Analysis\n",
    "import numpy as np\n",
    "import pandas as pd\n",
    "import seaborn as sns\n",
    "import matplotlib.pyplot as plt\n",
    "\n",
    "# Machine Learning\n",
    "from sklearn.model_selection import train_test_split, GridSearchCV\n",
    "from sklearn.neural_network import MLPClassifier\n",
    "from sklearn.metrics import accuracy_score, classification_report, plot_confusion_matrix\n",
    "\n",
    "import tensorflow as tf\n",
    "\n",
    "import csv\n",
    "import pickle"
   ]
  },
  {
   "cell_type": "markdown",
   "metadata": {},
   "source": [
    "# Get Data"
   ]
  },
  {
   "cell_type": "code",
   "execution_count": 3301,
   "metadata": {},
   "outputs": [
    {
     "data": {
      "text/plain": [
       "Oligo                        NNNNNN\n",
       "OligoLength                       6\n",
       "Sites                   Any[\"YATR\"]\n",
       "TotalSites                        1\n",
       "SiteLength                        4\n",
       "CutFree_Randomer             NBNVVN\n",
       "CutFree_Degeneracy          7.45472\n",
       "CutFree_Time               0.006211\n",
       "CutFreeRL_Randomer           NNVVVN\n",
       "CutFreeRL_Degeneracy        7.45472\n",
       "CutFreeRL_Time             0.228063\n",
       "Name: 0, dtype: object"
      ]
     },
     "execution_count": 3301,
     "metadata": {},
     "output_type": "execute_result"
    }
   ],
   "source": [
    "file_path = os.path.normpath(os.getcwd() + os.sep + os.pardir) + \"/cutfree-simulations/runtime_data_v2.csv\"\n",
    "df_original = pd.read_csv(file_path)\n",
    "df = df_original.copy()\n",
    "df.iloc[0]"
   ]
  },
  {
   "cell_type": "code",
   "execution_count": 3302,
   "metadata": {},
   "outputs": [
    {
     "data": {
      "text/html": [
       "<div>\n",
       "<style scoped>\n",
       "    .dataframe tbody tr th:only-of-type {\n",
       "        vertical-align: middle;\n",
       "    }\n",
       "\n",
       "    .dataframe tbody tr th {\n",
       "        vertical-align: top;\n",
       "    }\n",
       "\n",
       "    .dataframe thead th {\n",
       "        text-align: right;\n",
       "    }\n",
       "</style>\n",
       "<table border=\"1\" class=\"dataframe\">\n",
       "  <thead>\n",
       "    <tr style=\"text-align: right;\">\n",
       "      <th></th>\n",
       "      <th>Oligo</th>\n",
       "      <th>OligoLength</th>\n",
       "      <th>Sites</th>\n",
       "      <th>TotalSites</th>\n",
       "      <th>SiteLength</th>\n",
       "      <th>CutFree_Randomer</th>\n",
       "      <th>CutFree_Degeneracy</th>\n",
       "      <th>CutFree_Time</th>\n",
       "      <th>CutFreeRL_Randomer</th>\n",
       "      <th>CutFreeRL_Degeneracy</th>\n",
       "      <th>CutFreeRL_Time</th>\n",
       "    </tr>\n",
       "  </thead>\n",
       "  <tbody>\n",
       "    <tr>\n",
       "      <th>0</th>\n",
       "      <td>NNNNNN</td>\n",
       "      <td>6</td>\n",
       "      <td>Any[\"YATR\"]</td>\n",
       "      <td>1</td>\n",
       "      <td>4</td>\n",
       "      <td>NBNVVN</td>\n",
       "      <td>7.454720</td>\n",
       "      <td>0.006211</td>\n",
       "      <td>NNVVVN</td>\n",
       "      <td>7.454720</td>\n",
       "      <td>0.228063</td>\n",
       "    </tr>\n",
       "    <tr>\n",
       "      <th>1750</th>\n",
       "      <td>NNNNNN</td>\n",
       "      <td>6</td>\n",
       "      <td>Any[\"GATC\"]</td>\n",
       "      <td>1</td>\n",
       "      <td>4</td>\n",
       "      <td>HNNNDD</td>\n",
       "      <td>7.454720</td>\n",
       "      <td>0.006383</td>\n",
       "      <td>NNNDDD</td>\n",
       "      <td>7.454720</td>\n",
       "      <td>0.225150</td>\n",
       "    </tr>\n",
       "    <tr>\n",
       "      <th>3500</th>\n",
       "      <td>NNNNNN</td>\n",
       "      <td>6</td>\n",
       "      <td>Any[\"GGCC\"]</td>\n",
       "      <td>1</td>\n",
       "      <td>4</td>\n",
       "      <td>NHNNDN</td>\n",
       "      <td>7.742402</td>\n",
       "      <td>0.007255</td>\n",
       "      <td>NNNDND</td>\n",
       "      <td>7.742402</td>\n",
       "      <td>0.080954</td>\n",
       "    </tr>\n",
       "  </tbody>\n",
       "</table>\n",
       "</div>"
      ],
      "text/plain": [
       "       Oligo  OligoLength        Sites  TotalSites  SiteLength  \\\n",
       "0     NNNNNN            6  Any[\"YATR\"]           1           4   \n",
       "1750  NNNNNN            6  Any[\"GATC\"]           1           4   \n",
       "3500  NNNNNN            6  Any[\"GGCC\"]           1           4   \n",
       "\n",
       "     CutFree_Randomer  CutFree_Degeneracy  CutFree_Time CutFreeRL_Randomer  \\\n",
       "0              NBNVVN            7.454720      0.006211             NNVVVN   \n",
       "1750           HNNNDD            7.454720      0.006383             NNNDDD   \n",
       "3500           NHNNDN            7.742402      0.007255             NNNDND   \n",
       "\n",
       "      CutFreeRL_Degeneracy  CutFreeRL_Time  \n",
       "0                 7.454720        0.228063  \n",
       "1750              7.454720        0.225150  \n",
       "3500              7.742402        0.080954  "
      ]
     },
     "execution_count": 3302,
     "metadata": {},
     "output_type": "execute_result"
    }
   ],
   "source": [
    "df.loc[(df[\"OligoLength\"] == 6) & (df[\"TotalSites\"] == 1) & (df[\"SiteLength\"] == 4)]"
   ]
  },
  {
   "attachments": {},
   "cell_type": "markdown",
   "metadata": {
    "tags": []
   },
   "source": [
    "# Data Classification"
   ]
  },
  {
   "cell_type": "code",
   "execution_count": 3303,
   "metadata": {},
   "outputs": [
    {
     "data": {
      "text/plain": [
       "9549"
      ]
     },
     "execution_count": 3303,
     "metadata": {},
     "output_type": "execute_result"
    }
   ],
   "source": [
    "random_state = np.random.randint(0, 10000)\n",
    "random_state #93"
   ]
  },
  {
   "cell_type": "code",
   "execution_count": 3304,
   "metadata": {},
   "outputs": [
    {
     "name": "stderr",
     "output_type": "stream",
     "text": [
      "c:\\Users\\wrick\\anaconda3\\lib\\site-packages\\IPython\\core\\displayhook.py:275: UserWarning: Output cache limit (currently 1000 entries) hit.\n",
      "Flushing oldest 200 entries.\n",
      "  warn('Output cache limit (currently {sz} entries) hit.\\n'\n"
     ]
    },
    {
     "data": {
      "text/html": [
       "<div>\n",
       "<style scoped>\n",
       "    .dataframe tbody tr th:only-of-type {\n",
       "        vertical-align: middle;\n",
       "    }\n",
       "\n",
       "    .dataframe tbody tr th {\n",
       "        vertical-align: top;\n",
       "    }\n",
       "\n",
       "    .dataframe thead th {\n",
       "        text-align: right;\n",
       "    }\n",
       "</style>\n",
       "<table border=\"1\" class=\"dataframe\">\n",
       "  <thead>\n",
       "    <tr style=\"text-align: right;\">\n",
       "      <th></th>\n",
       "      <th>OligoLength</th>\n",
       "      <th>TotalSites</th>\n",
       "      <th>SiteLength</th>\n",
       "      <th>Algorithm</th>\n",
       "      <th>CutFree_Time</th>\n",
       "      <th>CutFreeRL_Time</th>\n",
       "    </tr>\n",
       "  </thead>\n",
       "  <tbody>\n",
       "    <tr>\n",
       "      <th>0</th>\n",
       "      <td>6</td>\n",
       "      <td>1</td>\n",
       "      <td>4</td>\n",
       "      <td>0</td>\n",
       "      <td>0.006211</td>\n",
       "      <td>0.228063</td>\n",
       "    </tr>\n",
       "    <tr>\n",
       "      <th>1</th>\n",
       "      <td>6</td>\n",
       "      <td>2</td>\n",
       "      <td>4</td>\n",
       "      <td>0</td>\n",
       "      <td>0.007820</td>\n",
       "      <td>0.087950</td>\n",
       "    </tr>\n",
       "    <tr>\n",
       "      <th>2</th>\n",
       "      <td>6</td>\n",
       "      <td>3</td>\n",
       "      <td>4</td>\n",
       "      <td>0</td>\n",
       "      <td>0.010071</td>\n",
       "      <td>0.136403</td>\n",
       "    </tr>\n",
       "    <tr>\n",
       "      <th>3</th>\n",
       "      <td>6</td>\n",
       "      <td>4</td>\n",
       "      <td>4</td>\n",
       "      <td>0</td>\n",
       "      <td>0.013531</td>\n",
       "      <td>0.150443</td>\n",
       "    </tr>\n",
       "    <tr>\n",
       "      <th>4</th>\n",
       "      <td>6</td>\n",
       "      <td>5</td>\n",
       "      <td>4</td>\n",
       "      <td>0</td>\n",
       "      <td>0.013882</td>\n",
       "      <td>0.183784</td>\n",
       "    </tr>\n",
       "    <tr>\n",
       "      <th>...</th>\n",
       "      <td>...</td>\n",
       "      <td>...</td>\n",
       "      <td>...</td>\n",
       "      <td>...</td>\n",
       "      <td>...</td>\n",
       "      <td>...</td>\n",
       "    </tr>\n",
       "    <tr>\n",
       "      <th>5244</th>\n",
       "      <td>40</td>\n",
       "      <td>6</td>\n",
       "      <td>8</td>\n",
       "      <td>1</td>\n",
       "      <td>12.737720</td>\n",
       "      <td>4.200124</td>\n",
       "    </tr>\n",
       "    <tr>\n",
       "      <th>5245</th>\n",
       "      <td>40</td>\n",
       "      <td>7</td>\n",
       "      <td>8</td>\n",
       "      <td>1</td>\n",
       "      <td>60.120769</td>\n",
       "      <td>3.009765</td>\n",
       "    </tr>\n",
       "    <tr>\n",
       "      <th>5246</th>\n",
       "      <td>40</td>\n",
       "      <td>8</td>\n",
       "      <td>8</td>\n",
       "      <td>1</td>\n",
       "      <td>60.379011</td>\n",
       "      <td>3.989743</td>\n",
       "    </tr>\n",
       "    <tr>\n",
       "      <th>5247</th>\n",
       "      <td>40</td>\n",
       "      <td>9</td>\n",
       "      <td>8</td>\n",
       "      <td>1</td>\n",
       "      <td>60.156297</td>\n",
       "      <td>3.611050</td>\n",
       "    </tr>\n",
       "    <tr>\n",
       "      <th>5248</th>\n",
       "      <td>40</td>\n",
       "      <td>10</td>\n",
       "      <td>8</td>\n",
       "      <td>1</td>\n",
       "      <td>60.159604</td>\n",
       "      <td>4.173604</td>\n",
       "    </tr>\n",
       "  </tbody>\n",
       "</table>\n",
       "<p>5249 rows × 6 columns</p>\n",
       "</div>"
      ],
      "text/plain": [
       "      OligoLength  TotalSites  SiteLength  Algorithm  CutFree_Time  \\\n",
       "0               6           1           4          0      0.006211   \n",
       "1               6           2           4          0      0.007820   \n",
       "2               6           3           4          0      0.010071   \n",
       "3               6           4           4          0      0.013531   \n",
       "4               6           5           4          0      0.013882   \n",
       "...           ...         ...         ...        ...           ...   \n",
       "5244           40           6           8          1     12.737720   \n",
       "5245           40           7           8          1     60.120769   \n",
       "5246           40           8           8          1     60.379011   \n",
       "5247           40           9           8          1     60.156297   \n",
       "5248           40          10           8          1     60.159604   \n",
       "\n",
       "      CutFreeRL_Time  \n",
       "0           0.228063  \n",
       "1           0.087950  \n",
       "2           0.136403  \n",
       "3           0.150443  \n",
       "4           0.183784  \n",
       "...              ...  \n",
       "5244        4.200124  \n",
       "5245        3.009765  \n",
       "5246        3.989743  \n",
       "5247        3.611050  \n",
       "5248        4.173604  \n",
       "\n",
       "[5249 rows x 6 columns]"
      ]
     },
     "execution_count": 3304,
     "metadata": {},
     "output_type": "execute_result"
    }
   ],
   "source": [
    "conditions = [\n",
    "    (df[\"CutFree_Time\"] <= df[\"CutFreeRL_Time\"]),\n",
    "    (df[\"CutFree_Time\"] > df[\"CutFreeRL_Time\"])\n",
    "]\n",
    "\n",
    "values = [0, 1] # 0 = CutFree, 1 = CutFreeRL\n",
    "\n",
    "df[\"Algorithm\"] = np.select(conditions, values)\n",
    "df = df[[\"OligoLength\", \"TotalSites\", \"SiteLength\", \"Algorithm\", \"CutFree_Time\", \"CutFreeRL_Time\"]]\n",
    "df"
   ]
  },
  {
   "attachments": {},
   "cell_type": "markdown",
   "metadata": {},
   "source": [
    "# Rejection Sampling"
   ]
  },
  {
   "cell_type": "code",
   "execution_count": 3305,
   "metadata": {},
   "outputs": [
    {
     "name": "stdout",
     "output_type": "stream",
     "text": [
      "3731\n",
      "1518\n"
     ]
    }
   ],
   "source": [
    "numCutFree = df[df.Algorithm == 0].shape[0]\n",
    "print(numCutFree)\n",
    "\n",
    "numCutFreeRL = df[df.Algorithm == 1].shape[0]\n",
    "print(numCutFreeRL)"
   ]
  },
  {
   "cell_type": "code",
   "execution_count": 3306,
   "metadata": {},
   "outputs": [
    {
     "data": {
      "text/html": [
       "<div>\n",
       "<style scoped>\n",
       "    .dataframe tbody tr th:only-of-type {\n",
       "        vertical-align: middle;\n",
       "    }\n",
       "\n",
       "    .dataframe tbody tr th {\n",
       "        vertical-align: top;\n",
       "    }\n",
       "\n",
       "    .dataframe thead th {\n",
       "        text-align: right;\n",
       "    }\n",
       "</style>\n",
       "<table border=\"1\" class=\"dataframe\">\n",
       "  <thead>\n",
       "    <tr style=\"text-align: right;\">\n",
       "      <th></th>\n",
       "      <th>OligoLength</th>\n",
       "      <th>TotalSites</th>\n",
       "      <th>SiteLength</th>\n",
       "      <th>Algorithm</th>\n",
       "      <th>CutFree_Time</th>\n",
       "      <th>CutFreeRL_Time</th>\n",
       "    </tr>\n",
       "  </thead>\n",
       "  <tbody>\n",
       "    <tr>\n",
       "      <th>0</th>\n",
       "      <td>6</td>\n",
       "      <td>1</td>\n",
       "      <td>4</td>\n",
       "      <td>0</td>\n",
       "      <td>0.006211</td>\n",
       "      <td>0.228063</td>\n",
       "    </tr>\n",
       "    <tr>\n",
       "      <th>1</th>\n",
       "      <td>6</td>\n",
       "      <td>2</td>\n",
       "      <td>4</td>\n",
       "      <td>0</td>\n",
       "      <td>0.007820</td>\n",
       "      <td>0.087950</td>\n",
       "    </tr>\n",
       "    <tr>\n",
       "      <th>2</th>\n",
       "      <td>6</td>\n",
       "      <td>3</td>\n",
       "      <td>4</td>\n",
       "      <td>0</td>\n",
       "      <td>0.010071</td>\n",
       "      <td>0.136403</td>\n",
       "    </tr>\n",
       "    <tr>\n",
       "      <th>3</th>\n",
       "      <td>6</td>\n",
       "      <td>4</td>\n",
       "      <td>4</td>\n",
       "      <td>0</td>\n",
       "      <td>0.013531</td>\n",
       "      <td>0.150443</td>\n",
       "    </tr>\n",
       "    <tr>\n",
       "      <th>4</th>\n",
       "      <td>6</td>\n",
       "      <td>5</td>\n",
       "      <td>4</td>\n",
       "      <td>0</td>\n",
       "      <td>0.013882</td>\n",
       "      <td>0.183784</td>\n",
       "    </tr>\n",
       "    <tr>\n",
       "      <th>...</th>\n",
       "      <td>...</td>\n",
       "      <td>...</td>\n",
       "      <td>...</td>\n",
       "      <td>...</td>\n",
       "      <td>...</td>\n",
       "      <td>...</td>\n",
       "    </tr>\n",
       "    <tr>\n",
       "      <th>5244</th>\n",
       "      <td>40</td>\n",
       "      <td>6</td>\n",
       "      <td>8</td>\n",
       "      <td>1</td>\n",
       "      <td>12.737720</td>\n",
       "      <td>4.200124</td>\n",
       "    </tr>\n",
       "    <tr>\n",
       "      <th>5245</th>\n",
       "      <td>40</td>\n",
       "      <td>7</td>\n",
       "      <td>8</td>\n",
       "      <td>1</td>\n",
       "      <td>60.120769</td>\n",
       "      <td>3.009765</td>\n",
       "    </tr>\n",
       "    <tr>\n",
       "      <th>5246</th>\n",
       "      <td>40</td>\n",
       "      <td>8</td>\n",
       "      <td>8</td>\n",
       "      <td>1</td>\n",
       "      <td>60.379011</td>\n",
       "      <td>3.989743</td>\n",
       "    </tr>\n",
       "    <tr>\n",
       "      <th>5247</th>\n",
       "      <td>40</td>\n",
       "      <td>9</td>\n",
       "      <td>8</td>\n",
       "      <td>1</td>\n",
       "      <td>60.156297</td>\n",
       "      <td>3.611050</td>\n",
       "    </tr>\n",
       "    <tr>\n",
       "      <th>5248</th>\n",
       "      <td>40</td>\n",
       "      <td>10</td>\n",
       "      <td>8</td>\n",
       "      <td>1</td>\n",
       "      <td>60.159604</td>\n",
       "      <td>4.173604</td>\n",
       "    </tr>\n",
       "  </tbody>\n",
       "</table>\n",
       "<p>3036 rows × 6 columns</p>\n",
       "</div>"
      ],
      "text/plain": [
       "      OligoLength  TotalSites  SiteLength  Algorithm  CutFree_Time  \\\n",
       "0               6           1           4          0      0.006211   \n",
       "1               6           2           4          0      0.007820   \n",
       "2               6           3           4          0      0.010071   \n",
       "3               6           4           4          0      0.013531   \n",
       "4               6           5           4          0      0.013882   \n",
       "...           ...         ...         ...        ...           ...   \n",
       "5244           40           6           8          1     12.737720   \n",
       "5245           40           7           8          1     60.120769   \n",
       "5246           40           8           8          1     60.379011   \n",
       "5247           40           9           8          1     60.156297   \n",
       "5248           40          10           8          1     60.159604   \n",
       "\n",
       "      CutFreeRL_Time  \n",
       "0           0.228063  \n",
       "1           0.087950  \n",
       "2           0.136403  \n",
       "3           0.150443  \n",
       "4           0.183784  \n",
       "...              ...  \n",
       "5244        4.200124  \n",
       "5245        3.009765  \n",
       "5246        3.989743  \n",
       "5247        3.611050  \n",
       "5248        4.173604  \n",
       "\n",
       "[3036 rows x 6 columns]"
      ]
     },
     "execution_count": 3306,
     "metadata": {},
     "output_type": "execute_result"
    }
   ],
   "source": [
    "df_rejection = df[df.Algorithm == 0].sample(numCutFree-numCutFreeRL, random_state=random_state)\n",
    "df = df.drop(df_rejection.index)\n",
    "df"
   ]
  },
  {
   "cell_type": "code",
   "execution_count": 3307,
   "metadata": {},
   "outputs": [
    {
     "name": "stdout",
     "output_type": "stream",
     "text": [
      "1518\n",
      "1518\n"
     ]
    }
   ],
   "source": [
    "numCutFree = df[df.Algorithm == 0].shape[0]\n",
    "print(numCutFree)\n",
    "\n",
    "numCutFreeRL = df[df.Algorithm == 1].shape[0]\n",
    "print(numCutFreeRL)"
   ]
  },
  {
   "cell_type": "code",
   "execution_count": 3308,
   "metadata": {},
   "outputs": [],
   "source": [
    "df_total = df.copy()\n",
    "df = df[[\"OligoLength\", \"TotalSites\", \"SiteLength\", \"Algorithm\"]]"
   ]
  },
  {
   "attachments": {},
   "cell_type": "markdown",
   "metadata": {},
   "source": [
    "# Visualize Data"
   ]
  },
  {
   "cell_type": "code",
   "execution_count": 3309,
   "metadata": {},
   "outputs": [
    {
     "data": {
      "image/png": "[encoded data removed]",
      "text/plain": [
       "<Figure size 597x540 with 12 Axes>"
      ]
     },
     "metadata": {
      "needs_background": "light"
     },
     "output_type": "display_data"
    }
   ],
   "source": [
    "pair_plot = sns.pairplot(df, hue=\"Algorithm\", diag_kind=\"kde\")\n",
    "new_labels = [\"CutFree\", \"CutFreeRL\"]\n",
    "for t, l in zip(pair_plot._legend.texts, new_labels):\n",
    "    t.set_text(l)\n",
    "plt.show(pair_plot)"
   ]
  },
  {
   "attachments": {},
   "cell_type": "markdown",
   "metadata": {
    "tags": []
   },
   "source": [
    "# Get Train/Test Split"
   ]
  },
  {
   "cell_type": "code",
   "execution_count": 3310,
   "metadata": {},
   "outputs": [],
   "source": [
    "x = df.drop([\"Algorithm\"], axis=1)\n",
    "y = df[\"Algorithm\"]"
   ]
  },
  {
   "cell_type": "code",
   "execution_count": 3311,
   "metadata": {},
   "outputs": [
    {
     "data": {
      "text/html": [
       "<div>\n",
       "<style scoped>\n",
       "    .dataframe tbody tr th:only-of-type {\n",
       "        vertical-align: middle;\n",
       "    }\n",
       "\n",
       "    .dataframe tbody tr th {\n",
       "        vertical-align: top;\n",
       "    }\n",
       "\n",
       "    .dataframe thead th {\n",
       "        text-align: right;\n",
       "    }\n",
       "</style>\n",
       "<table border=\"1\" class=\"dataframe\">\n",
       "  <thead>\n",
       "    <tr style=\"text-align: right;\">\n",
       "      <th></th>\n",
       "      <th>OligoLength</th>\n",
       "      <th>TotalSites</th>\n",
       "      <th>SiteLength</th>\n",
       "    </tr>\n",
       "  </thead>\n",
       "  <tbody>\n",
       "    <tr>\n",
       "      <th>1539</th>\n",
       "      <td>36</td>\n",
       "      <td>10</td>\n",
       "      <td>7</td>\n",
       "    </tr>\n",
       "    <tr>\n",
       "      <th>4896</th>\n",
       "      <td>33</td>\n",
       "      <td>8</td>\n",
       "      <td>8</td>\n",
       "    </tr>\n",
       "    <tr>\n",
       "      <th>3284</th>\n",
       "      <td>36</td>\n",
       "      <td>5</td>\n",
       "      <td>7</td>\n",
       "    </tr>\n",
       "    <tr>\n",
       "      <th>3023</th>\n",
       "      <td>31</td>\n",
       "      <td>4</td>\n",
       "      <td>6</td>\n",
       "    </tr>\n",
       "    <tr>\n",
       "      <th>4608</th>\n",
       "      <td>28</td>\n",
       "      <td>9</td>\n",
       "      <td>4</td>\n",
       "    </tr>\n",
       "  </tbody>\n",
       "</table>\n",
       "</div>"
      ],
      "text/plain": [
       "      OligoLength  TotalSites  SiteLength\n",
       "1539           36          10           7\n",
       "4896           33           8           8\n",
       "3284           36           5           7\n",
       "3023           31           4           6\n",
       "4608           28           9           4"
      ]
     },
     "execution_count": 3311,
     "metadata": {},
     "output_type": "execute_result"
    }
   ],
   "source": [
    "x_train_df, x_test_df, y_train_df, y_test_df = train_test_split(x, y, test_size=0.2, random_state=random_state)\n",
    "x_train_df.head()"
   ]
  },
  {
   "cell_type": "code",
   "execution_count": 3312,
   "metadata": {},
   "outputs": [
    {
     "data": {
      "text/plain": [
       "1539    1\n",
       "4896    1\n",
       "3284    1\n",
       "3023    1\n",
       "4608    1\n",
       "Name: Algorithm, dtype: int32"
      ]
     },
     "execution_count": 3312,
     "metadata": {},
     "output_type": "execute_result"
    }
   ],
   "source": [
    "y_train_df.head()"
   ]
  },
  {
   "cell_type": "code",
   "execution_count": 3313,
   "metadata": {},
   "outputs": [],
   "source": [
    "x_train, y_train = tf.convert_to_tensor(x_train_df, dtype=tf.float32), tf.convert_to_tensor(y_train_df, dtype=tf.float32)\n",
    "x_test, y_test = tf.convert_to_tensor(x_test_df, dtype=tf.float32), tf.convert_to_tensor(y_test_df, dtype=tf.float32)"
   ]
  },
  {
   "cell_type": "code",
   "execution_count": 3314,
   "metadata": {},
   "outputs": [
    {
     "data": {
      "text/plain": [
       "<tf.Tensor: shape=(2428, 3), dtype=float32, numpy=\n",
       "array([[36., 10.,  7.],\n",
       "       [33.,  8.,  8.],\n",
       "       [36.,  5.,  7.],\n",
       "       ...,\n",
       "       [25.,  3.,  5.],\n",
       "       [31.,  3.,  6.],\n",
       "       [37.,  7.,  7.]], dtype=float32)>"
      ]
     },
     "execution_count": 3314,
     "metadata": {},
     "output_type": "execute_result"
    }
   ],
   "source": [
    "x_train"
   ]
  },
  {
   "attachments": {},
   "cell_type": "markdown",
   "metadata": {},
   "source": [
    "# Machine Learning"
   ]
  },
  {
   "attachments": {},
   "cell_type": "markdown",
   "metadata": {},
   "source": [
    "### Accuracy Function"
   ]
  },
  {
   "cell_type": "code",
   "execution_count": 3315,
   "metadata": {},
   "outputs": [],
   "source": [
    "def get_accuracy(pred, true):\n",
    "    test_accuracy = accuracy_score(pred, true)*100\n",
    "    print(\"Accuracy: {:.2f}%\".format(test_accuracy))\n",
    "    return test_accuracy"
   ]
  },
  {
   "attachments": {},
   "cell_type": "markdown",
   "metadata": {},
   "source": [
    "### TensorFlow NN"
   ]
  },
  {
   "cell_type": "code",
   "execution_count": 3316,
   "metadata": {},
   "outputs": [
    {
     "name": "stdout",
     "output_type": "stream",
     "text": [
      "Model: \"sequential_61\"\n",
      "_________________________________________________________________\n",
      " Layer (type)                Output Shape              Param #   \n",
      "=================================================================\n",
      " dense_122 (Dense)           (None, 128)               512       \n",
      "                                                                 \n",
      " batch_normalization_61 (Bat  (None, 128)              512       \n",
      " chNormalization)                                                \n",
      "                                                                 \n",
      " dense_123 (Dense)           (None, 1)                 129       \n",
      "                                                                 \n",
      "=================================================================\n",
      "Total params: 1,153\n",
      "Trainable params: 897\n",
      "Non-trainable params: 256\n",
      "_________________________________________________________________\n"
     ]
    }
   ],
   "source": [
    "model = tf.keras.Sequential([\n",
    "    tf.keras.layers.Dense(128, activation=\"tanh\", input_shape=(3,)),\n",
    "    tf.keras.layers.BatchNormalization(),\n",
    "    tf.keras.layers.Dense(1, activation=\"sigmoid\")\n",
    "])\n",
    "\n",
    "model.summary()"
   ]
  },
  {
   "cell_type": "code",
   "execution_count": 3317,
   "metadata": {},
   "outputs": [
    {
     "name": "stdout",
     "output_type": "stream",
     "text": [
      "Epoch 1/30\n",
      "76/76 [==============================] - 1s 3ms/step - loss: 0.4862 - accuracy: 0.2768 - val_loss: 0.3869 - val_accuracy: 0.3947\n",
      "Epoch 2/30\n",
      "76/76 [==============================] - 0s 1ms/step - loss: 0.4672 - accuracy: 0.2867 - val_loss: 0.3754 - val_accuracy: 0.3372\n",
      "Epoch 3/30\n",
      "76/76 [==============================] - 0s 1ms/step - loss: 0.4501 - accuracy: 0.2829 - val_loss: 0.3663 - val_accuracy: 0.3273\n",
      "Epoch 4/30\n",
      "76/76 [==============================] - 0s 1ms/step - loss: 0.4281 - accuracy: 0.2904 - val_loss: 0.3568 - val_accuracy: 0.3306\n",
      "Epoch 5/30\n",
      "76/76 [==============================] - 0s 1ms/step - loss: 0.4071 - accuracy: 0.3105 - val_loss: 0.3455 - val_accuracy: 0.3487\n",
      "Epoch 6/30\n",
      "76/76 [==============================] - 0s 1ms/step - loss: 0.3874 - accuracy: 0.3270 - val_loss: 0.3323 - val_accuracy: 0.4178\n",
      "Epoch 7/30\n",
      "76/76 [==============================] - 0s 1ms/step - loss: 0.3662 - accuracy: 0.3583 - val_loss: 0.3185 - val_accuracy: 0.4885\n",
      "Epoch 8/30\n",
      "76/76 [==============================] - 0s 1ms/step - loss: 0.3432 - accuracy: 0.4090 - val_loss: 0.3045 - val_accuracy: 0.5263\n",
      "Epoch 9/30\n",
      "76/76 [==============================] - 0s 1ms/step - loss: 0.3249 - accuracy: 0.4498 - val_loss: 0.2899 - val_accuracy: 0.5461\n",
      "Epoch 10/30\n",
      "76/76 [==============================] - 0s 1ms/step - loss: 0.3028 - accuracy: 0.5012 - val_loss: 0.2746 - val_accuracy: 0.5789\n",
      "Epoch 11/30\n",
      "76/76 [==============================] - 0s 1ms/step - loss: 0.2851 - accuracy: 0.5400 - val_loss: 0.2588 - val_accuracy: 0.6020\n",
      "Epoch 12/30\n",
      "76/76 [==============================] - 0s 1ms/step - loss: 0.2664 - accuracy: 0.5762 - val_loss: 0.2440 - val_accuracy: 0.6217\n",
      "Epoch 13/30\n",
      "76/76 [==============================] - 0s 1ms/step - loss: 0.2491 - accuracy: 0.6182 - val_loss: 0.2295 - val_accuracy: 0.6530\n",
      "Epoch 14/30\n",
      "76/76 [==============================] - 0s 1ms/step - loss: 0.2350 - accuracy: 0.6339 - val_loss: 0.2163 - val_accuracy: 0.6776\n",
      "Epoch 15/30\n",
      "76/76 [==============================] - 0s 1ms/step - loss: 0.2198 - accuracy: 0.6742 - val_loss: 0.2045 - val_accuracy: 0.6891\n",
      "Epoch 16/30\n",
      "76/76 [==============================] - 0s 1ms/step - loss: 0.2080 - accuracy: 0.7002 - val_loss: 0.1940 - val_accuracy: 0.7171\n",
      "Epoch 17/30\n",
      "76/76 [==============================] - 0s 1ms/step - loss: 0.1964 - accuracy: 0.7175 - val_loss: 0.1846 - val_accuracy: 0.7303\n",
      "Epoch 18/30\n",
      "76/76 [==============================] - 0s 1ms/step - loss: 0.1873 - accuracy: 0.7364 - val_loss: 0.1770 - val_accuracy: 0.7484\n",
      "Epoch 19/30\n",
      "76/76 [==============================] - 0s 1ms/step - loss: 0.1818 - accuracy: 0.7463 - val_loss: 0.1705 - val_accuracy: 0.7500\n",
      "Epoch 20/30\n",
      "76/76 [==============================] - 0s 1ms/step - loss: 0.1756 - accuracy: 0.7500 - val_loss: 0.1653 - val_accuracy: 0.7664\n",
      "Epoch 21/30\n",
      "76/76 [==============================] - 0s 1ms/step - loss: 0.1695 - accuracy: 0.7665 - val_loss: 0.1608 - val_accuracy: 0.7730\n",
      "Epoch 22/30\n",
      "76/76 [==============================] - 0s 1ms/step - loss: 0.1659 - accuracy: 0.7710 - val_loss: 0.1571 - val_accuracy: 0.7780\n",
      "Epoch 23/30\n",
      "76/76 [==============================] - 0s 1ms/step - loss: 0.1629 - accuracy: 0.7739 - val_loss: 0.1542 - val_accuracy: 0.7812\n",
      "Epoch 24/30\n",
      "76/76 [==============================] - 0s 1ms/step - loss: 0.1620 - accuracy: 0.7772 - val_loss: 0.1517 - val_accuracy: 0.7845\n",
      "Epoch 25/30\n",
      "76/76 [==============================] - 0s 1ms/step - loss: 0.1606 - accuracy: 0.7768 - val_loss: 0.1495 - val_accuracy: 0.7862\n",
      "Epoch 26/30\n",
      "76/76 [==============================] - 0s 1ms/step - loss: 0.1571 - accuracy: 0.7850 - val_loss: 0.1478 - val_accuracy: 0.7895\n",
      "Epoch 27/30\n",
      "76/76 [==============================] - 0s 1ms/step - loss: 0.1551 - accuracy: 0.7916 - val_loss: 0.1465 - val_accuracy: 0.7911\n",
      "Epoch 28/30\n",
      "76/76 [==============================] - 0s 1ms/step - loss: 0.1534 - accuracy: 0.7850 - val_loss: 0.1454 - val_accuracy: 0.7961\n",
      "Epoch 29/30\n",
      "76/76 [==============================] - 0s 1ms/step - loss: 0.1517 - accuracy: 0.7887 - val_loss: 0.1443 - val_accuracy: 0.7993\n",
      "Epoch 30/30\n",
      "76/76 [==============================] - 0s 1ms/step - loss: 0.1534 - accuracy: 0.7858 - val_loss: 0.1432 - val_accuracy: 0.7961\n"
     ]
    }
   ],
   "source": [
    "optimizer = tf.keras.optimizers.Adam(learning_rate=1e-5)\n",
    "\n",
    "model.compile(\n",
    "    optimizer, \n",
    "    loss=\"mse\", \n",
    "    metrics=[\"accuracy\"])\n",
    "history = model.fit(x_train, y_train, epochs=30, batch_size=32, validation_data=(x_test, y_test))"
   ]
  },
  {
   "cell_type": "code",
   "execution_count": 3318,
   "metadata": {},
   "outputs": [
    {
     "name": "stdout",
     "output_type": "stream",
     "text": [
      "19/19 [==============================] - 0s 667us/step\n",
      "Accuracy: 79.61%\n"
     ]
    }
   ],
   "source": [
    "y_pred_tf = np.round(model.predict(x_test)).reshape(1, -1)[0]\n",
    "tf_acc = get_accuracy(y_pred_tf, y_test)"
   ]
  },
  {
   "cell_type": "markdown",
   "metadata": {},
   "source": [
    "### Plot Loss and Accuracy Curves"
   ]
  },
  {
   "cell_type": "code",
   "execution_count": 3319,
   "metadata": {},
   "outputs": [
    {
     "data": {
      "image/png": "[encoded data removed]",
      "text/plain": [
       "<Figure size 432x288 with 1 Axes>"
      ]
     },
     "metadata": {
      "needs_background": "light"
     },
     "output_type": "display_data"
    }
   ],
   "source": [
    "plt.plot(history.history['accuracy'])\n",
    "plt.plot(history.history['val_accuracy'])\n",
    "plt.title('model accuracy')\n",
    "plt.ylabel('accuracy')\n",
    "plt.xlabel('epoch')\n",
    "plt.legend(['train', 'val'], loc='upper left')\n",
    "plt.show()"
   ]
  },
  {
   "cell_type": "code",
   "execution_count": 3320,
   "metadata": {},
   "outputs": [
    {
     "data": {
      "image/png": "[encoded data removed]",
      "text/plain": [
       "<Figure size 432x288 with 1 Axes>"
      ]
     },
     "metadata": {
      "needs_background": "light"
     },
     "output_type": "display_data"
    }
   ],
   "source": [
    "plt.plot(history.history['loss'])\n",
    "plt.plot(history.history['val_loss'])\n",
    "plt.title('model loss')\n",
    "plt.ylabel('loss')\n",
    "plt.xlabel('epoch')\n",
    "plt.legend(['train', 'val'], loc='upper left')\n",
    "plt.show()"
   ]
  },
  {
   "attachments": {},
   "cell_type": "markdown",
   "metadata": {},
   "source": [
    "### MLP Classifier NN"
   ]
  },
  {
   "cell_type": "code",
   "execution_count": 3321,
   "metadata": {},
   "outputs": [
    {
     "data": {
      "text/plain": [
       "MLPClassifier(activation='tanh', alpha=1e-05, batch_size=32,\n",
       "              hidden_layer_sizes=128, learning_rate='adaptive', max_iter=1000,\n",
       "              random_state=9549, verbose=0)"
      ]
     },
     "execution_count": 3321,
     "metadata": {},
     "output_type": "execute_result"
    }
   ],
   "source": [
    "class_NN = MLPClassifier(\n",
    "    hidden_layer_sizes=(128),\n",
    "    batch_size=32,\n",
    "    activation='tanh',\n",
    "    solver='adam',\n",
    "    alpha=1e-5,\n",
    "    learning_rate='adaptive',\n",
    "    max_iter=1000, \n",
    "    verbose=0,\n",
    "    random_state=random_state)\n",
    "class_NN.fit(x_train, y_train)"
   ]
  },
  {
   "cell_type": "code",
   "execution_count": 3322,
   "metadata": {},
   "outputs": [
    {
     "name": "stdout",
     "output_type": "stream",
     "text": [
      "Accuracy: 79.61%\n"
     ]
    }
   ],
   "source": [
    "y_pred = class_NN.predict(x_test)\n",
    "mlp_acc = get_accuracy(y_pred, y_test)"
   ]
  },
  {
   "cell_type": "code",
   "execution_count": 3323,
   "metadata": {},
   "outputs": [
    {
     "data": {
      "text/plain": [
       "<tf.Tensor: shape=(3,), dtype=float32, numpy=array([9., 2., 4.], dtype=float32)>"
      ]
     },
     "execution_count": 3323,
     "metadata": {},
     "output_type": "execute_result"
    }
   ],
   "source": [
    "x_test[0]"
   ]
  },
  {
   "attachments": {},
   "cell_type": "markdown",
   "metadata": {},
   "source": [
    "### Grid Search to Find Optimal Parameters"
   ]
  },
  {
   "cell_type": "code",
   "execution_count": 3324,
   "metadata": {},
   "outputs": [],
   "source": [
    "params = {\n",
    "    #'hidden_layer_sizes' : [128],\n",
    "    #'activation' : ['tanh', 'relu'],\n",
    "    #'solver' : ['adam', 'sgd']\n",
    "    #'learning_rate' : ['adaptive', 'constant'],\n",
    "    'alpha' : [1e-8, 1e-7],\n",
    "}\n",
    "\n",
    "gscv = GridSearchCV(class_NN, params, verbose=1)\n",
    "\n",
    "# gscv.fit(np.array(x_train), np.array(y_train))\n",
    "# print(gscv.best_params_) "
   ]
  },
  {
   "cell_type": "markdown",
   "metadata": {},
   "source": [
    "### Analyze Results"
   ]
  },
  {
   "cell_type": "code",
   "execution_count": 3325,
   "metadata": {},
   "outputs": [
    {
     "data": {
      "image/png": "[encoded data removed]",
      "text/plain": [
       "<Figure size 432x288 with 2 Axes>"
      ]
     },
     "metadata": {
      "needs_background": "light"
     },
     "output_type": "display_data"
    }
   ],
   "source": [
    "plot_confusion_matrix(class_NN, x_test, y_test)  \n",
    "plt.show()"
   ]
  },
  {
   "cell_type": "code",
   "execution_count": 3326,
   "metadata": {},
   "outputs": [
    {
     "name": "stdout",
     "output_type": "stream",
     "text": [
      "              precision    recall  f1-score   support\n",
      "\n",
      "     CutFree       0.78      0.81      0.79       294\n",
      "   CutFreeRL       0.81      0.78      0.80       314\n",
      "\n",
      "    accuracy                           0.80       608\n",
      "   macro avg       0.80      0.80      0.80       608\n",
      "weighted avg       0.80      0.80      0.80       608\n",
      "\n"
     ]
    }
   ],
   "source": [
    "print(classification_report(y_pred, y_test, target_names=[\"CutFree\", \"CutFreeRL\"]))"
   ]
  },
  {
   "attachments": {},
   "cell_type": "markdown",
   "metadata": {},
   "source": [
    "# Visualize Incorrect Classifications"
   ]
  },
  {
   "cell_type": "code",
   "execution_count": 3327,
   "metadata": {},
   "outputs": [
    {
     "data": {
      "text/html": [
       "<div>\n",
       "<style scoped>\n",
       "    .dataframe tbody tr th:only-of-type {\n",
       "        vertical-align: middle;\n",
       "    }\n",
       "\n",
       "    .dataframe tbody tr th {\n",
       "        vertical-align: top;\n",
       "    }\n",
       "\n",
       "    .dataframe thead th {\n",
       "        text-align: right;\n",
       "    }\n",
       "</style>\n",
       "<table border=\"1\" class=\"dataframe\">\n",
       "  <thead>\n",
       "    <tr style=\"text-align: right;\">\n",
       "      <th></th>\n",
       "      <th>OligoLength</th>\n",
       "      <th>TotalSites</th>\n",
       "      <th>SiteLength</th>\n",
       "      <th>Algorithm</th>\n",
       "      <th>CutFree_Time</th>\n",
       "      <th>CutFreeRL_Time</th>\n",
       "    </tr>\n",
       "  </thead>\n",
       "  <tbody>\n",
       "    <tr>\n",
       "      <th>0</th>\n",
       "      <td>6</td>\n",
       "      <td>1</td>\n",
       "      <td>4</td>\n",
       "      <td>0</td>\n",
       "      <td>0.006211</td>\n",
       "      <td>0.228063</td>\n",
       "    </tr>\n",
       "    <tr>\n",
       "      <th>1</th>\n",
       "      <td>6</td>\n",
       "      <td>2</td>\n",
       "      <td>4</td>\n",
       "      <td>0</td>\n",
       "      <td>0.007820</td>\n",
       "      <td>0.087950</td>\n",
       "    </tr>\n",
       "    <tr>\n",
       "      <th>2</th>\n",
       "      <td>6</td>\n",
       "      <td>3</td>\n",
       "      <td>4</td>\n",
       "      <td>0</td>\n",
       "      <td>0.010071</td>\n",
       "      <td>0.136403</td>\n",
       "    </tr>\n",
       "    <tr>\n",
       "      <th>3</th>\n",
       "      <td>6</td>\n",
       "      <td>4</td>\n",
       "      <td>4</td>\n",
       "      <td>0</td>\n",
       "      <td>0.013531</td>\n",
       "      <td>0.150443</td>\n",
       "    </tr>\n",
       "    <tr>\n",
       "      <th>4</th>\n",
       "      <td>6</td>\n",
       "      <td>5</td>\n",
       "      <td>4</td>\n",
       "      <td>0</td>\n",
       "      <td>0.013882</td>\n",
       "      <td>0.183784</td>\n",
       "    </tr>\n",
       "  </tbody>\n",
       "</table>\n",
       "</div>"
      ],
      "text/plain": [
       "   OligoLength  TotalSites  SiteLength  Algorithm  CutFree_Time  \\\n",
       "0            6           1           4          0      0.006211   \n",
       "1            6           2           4          0      0.007820   \n",
       "2            6           3           4          0      0.010071   \n",
       "3            6           4           4          0      0.013531   \n",
       "4            6           5           4          0      0.013882   \n",
       "\n",
       "   CutFreeRL_Time  \n",
       "0        0.228063  \n",
       "1        0.087950  \n",
       "2        0.136403  \n",
       "3        0.150443  \n",
       "4        0.183784  "
      ]
     },
     "execution_count": 3327,
     "metadata": {},
     "output_type": "execute_result"
    }
   ],
   "source": [
    "df_total.head()"
   ]
  },
  {
   "cell_type": "code",
   "execution_count": 3328,
   "metadata": {},
   "outputs": [
    {
     "data": {
      "text/html": [
       "<div>\n",
       "<style scoped>\n",
       "    .dataframe tbody tr th:only-of-type {\n",
       "        vertical-align: middle;\n",
       "    }\n",
       "\n",
       "    .dataframe tbody tr th {\n",
       "        vertical-align: top;\n",
       "    }\n",
       "\n",
       "    .dataframe thead th {\n",
       "        text-align: right;\n",
       "    }\n",
       "</style>\n",
       "<table border=\"1\" class=\"dataframe\">\n",
       "  <thead>\n",
       "    <tr style=\"text-align: right;\">\n",
       "      <th></th>\n",
       "      <th>OligoLength</th>\n",
       "      <th>TotalSites</th>\n",
       "      <th>SiteLength</th>\n",
       "      <th>Algorithm</th>\n",
       "      <th>CutFree_Time</th>\n",
       "      <th>CutFreeRL_Time</th>\n",
       "      <th>Discrepency</th>\n",
       "    </tr>\n",
       "  </thead>\n",
       "  <tbody>\n",
       "    <tr>\n",
       "      <th>5238</th>\n",
       "      <td>40</td>\n",
       "      <td>10</td>\n",
       "      <td>7</td>\n",
       "      <td>0</td>\n",
       "      <td>0.919619</td>\n",
       "      <td>3.840002</td>\n",
       "      <td>-2.920383</td>\n",
       "    </tr>\n",
       "    <tr>\n",
       "      <th>3438</th>\n",
       "      <td>39</td>\n",
       "      <td>9</td>\n",
       "      <td>7</td>\n",
       "      <td>0</td>\n",
       "      <td>0.642305</td>\n",
       "      <td>3.527832</td>\n",
       "      <td>-2.885527</td>\n",
       "    </tr>\n",
       "    <tr>\n",
       "      <th>1447</th>\n",
       "      <td>34</td>\n",
       "      <td>8</td>\n",
       "      <td>8</td>\n",
       "      <td>0</td>\n",
       "      <td>0.525760</td>\n",
       "      <td>3.372835</td>\n",
       "      <td>-2.847075</td>\n",
       "    </tr>\n",
       "    <tr>\n",
       "      <th>1239</th>\n",
       "      <td>30</td>\n",
       "      <td>10</td>\n",
       "      <td>7</td>\n",
       "      <td>0</td>\n",
       "      <td>0.290017</td>\n",
       "      <td>3.013270</td>\n",
       "      <td>-2.723253</td>\n",
       "    </tr>\n",
       "    <tr>\n",
       "      <th>2989</th>\n",
       "      <td>30</td>\n",
       "      <td>10</td>\n",
       "      <td>7</td>\n",
       "      <td>0</td>\n",
       "      <td>0.238599</td>\n",
       "      <td>2.892359</td>\n",
       "      <td>-2.653759</td>\n",
       "    </tr>\n",
       "  </tbody>\n",
       "</table>\n",
       "</div>"
      ],
      "text/plain": [
       "      OligoLength  TotalSites  SiteLength  Algorithm  CutFree_Time  \\\n",
       "5238           40          10           7          0      0.919619   \n",
       "3438           39           9           7          0      0.642305   \n",
       "1447           34           8           8          0      0.525760   \n",
       "1239           30          10           7          0      0.290017   \n",
       "2989           30          10           7          0      0.238599   \n",
       "\n",
       "      CutFreeRL_Time  Discrepency  \n",
       "5238        3.840002    -2.920383  \n",
       "3438        3.527832    -2.885527  \n",
       "1447        3.372835    -2.847075  \n",
       "1239        3.013270    -2.723253  \n",
       "2989        2.892359    -2.653759  "
      ]
     },
     "execution_count": 3328,
     "metadata": {},
     "output_type": "execute_result"
    }
   ],
   "source": [
    "df_total[\"Discrepency\"] = df_total.CutFree_Time - df_total.CutFreeRL_Time\n",
    "df_total = df_total.sort_values(by=[\"Discrepency\"], ascending=True)\n",
    "df_total.head()"
   ]
  },
  {
   "cell_type": "code",
   "execution_count": 3329,
   "metadata": {},
   "outputs": [],
   "source": [
    "df_total_tf = df_total.copy()\n",
    "\n",
    "df_total_tf.loc[x_test_df.index[np.where(y_test_df != y_pred_tf)], \"Prediction\"] = 0\n",
    "df_total_tf.loc[df_total_tf[\"Prediction\"].isna(), \"Prediction\"] = 1\n",
    "\n",
    "df_total_tf = df_total_tf.reset_index(drop=True)\n"
   ]
  },
  {
   "cell_type": "code",
   "execution_count": 3330,
   "metadata": {},
   "outputs": [],
   "source": [
    "df_total.loc[x_test_df.index[np.where(y_test_df != y_pred)], \"Prediction\"] = 0\n",
    "df_total.loc[df_total[\"Prediction\"].isna(), \"Prediction\"] = 1\n"
   ]
  },
  {
   "cell_type": "code",
   "execution_count": 3331,
   "metadata": {},
   "outputs": [
    {
     "data": {
      "text/html": [
       "<div>\n",
       "<style scoped>\n",
       "    .dataframe tbody tr th:only-of-type {\n",
       "        vertical-align: middle;\n",
       "    }\n",
       "\n",
       "    .dataframe tbody tr th {\n",
       "        vertical-align: top;\n",
       "    }\n",
       "\n",
       "    .dataframe thead th {\n",
       "        text-align: right;\n",
       "    }\n",
       "</style>\n",
       "<table border=\"1\" class=\"dataframe\">\n",
       "  <thead>\n",
       "    <tr style=\"text-align: right;\">\n",
       "      <th></th>\n",
       "      <th>OligoLength</th>\n",
       "      <th>TotalSites</th>\n",
       "      <th>SiteLength</th>\n",
       "      <th>Algorithm</th>\n",
       "      <th>CutFree_Time</th>\n",
       "      <th>CutFreeRL_Time</th>\n",
       "      <th>Discrepency</th>\n",
       "      <th>Prediction</th>\n",
       "    </tr>\n",
       "  </thead>\n",
       "  <tbody>\n",
       "    <tr>\n",
       "      <th>0</th>\n",
       "      <td>40</td>\n",
       "      <td>10</td>\n",
       "      <td>7</td>\n",
       "      <td>0</td>\n",
       "      <td>0.919619</td>\n",
       "      <td>3.840002</td>\n",
       "      <td>-2.920383</td>\n",
       "      <td>1.0</td>\n",
       "    </tr>\n",
       "    <tr>\n",
       "      <th>1</th>\n",
       "      <td>39</td>\n",
       "      <td>9</td>\n",
       "      <td>7</td>\n",
       "      <td>0</td>\n",
       "      <td>0.642305</td>\n",
       "      <td>3.527832</td>\n",
       "      <td>-2.885527</td>\n",
       "      <td>1.0</td>\n",
       "    </tr>\n",
       "    <tr>\n",
       "      <th>2</th>\n",
       "      <td>34</td>\n",
       "      <td>8</td>\n",
       "      <td>8</td>\n",
       "      <td>0</td>\n",
       "      <td>0.525760</td>\n",
       "      <td>3.372835</td>\n",
       "      <td>-2.847075</td>\n",
       "      <td>1.0</td>\n",
       "    </tr>\n",
       "    <tr>\n",
       "      <th>3</th>\n",
       "      <td>30</td>\n",
       "      <td>10</td>\n",
       "      <td>7</td>\n",
       "      <td>0</td>\n",
       "      <td>0.290017</td>\n",
       "      <td>3.013270</td>\n",
       "      <td>-2.723253</td>\n",
       "      <td>0.0</td>\n",
       "    </tr>\n",
       "    <tr>\n",
       "      <th>4</th>\n",
       "      <td>30</td>\n",
       "      <td>10</td>\n",
       "      <td>7</td>\n",
       "      <td>0</td>\n",
       "      <td>0.238599</td>\n",
       "      <td>2.892359</td>\n",
       "      <td>-2.653759</td>\n",
       "      <td>1.0</td>\n",
       "    </tr>\n",
       "  </tbody>\n",
       "</table>\n",
       "</div>"
      ],
      "text/plain": [
       "   OligoLength  TotalSites  SiteLength  Algorithm  CutFree_Time  \\\n",
       "0           40          10           7          0      0.919619   \n",
       "1           39           9           7          0      0.642305   \n",
       "2           34           8           8          0      0.525760   \n",
       "3           30          10           7          0      0.290017   \n",
       "4           30          10           7          0      0.238599   \n",
       "\n",
       "   CutFreeRL_Time  Discrepency  Prediction  \n",
       "0        3.840002    -2.920383         1.0  \n",
       "1        3.527832    -2.885527         1.0  \n",
       "2        3.372835    -2.847075         1.0  \n",
       "3        3.013270    -2.723253         0.0  \n",
       "4        2.892359    -2.653759         1.0  "
      ]
     },
     "execution_count": 3331,
     "metadata": {},
     "output_type": "execute_result"
    }
   ],
   "source": [
    "df_total = df_total.reset_index(drop=True)\n",
    "df_total.head()"
   ]
  },
  {
   "cell_type": "code",
   "execution_count": 3332,
   "metadata": {},
   "outputs": [],
   "source": [
    "rgb = []\n",
    "for _ in df_total[df_total.Algorithm==0].index:\n",
    "    c = [46/255, 108/255 , 190/255]\n",
    "    rgb.append(c)\n",
    "\n",
    "rgb2 = []\n",
    "for _ in df_total[df_total.Algorithm==1].index:\n",
    "    c = [220/255, 77/255 , 58/255]\n",
    "    rgb2.append(c)"
   ]
  },
  {
   "cell_type": "code",
   "execution_count": 3333,
   "metadata": {},
   "outputs": [],
   "source": [
    "import matplotlib.font_manager as font_manager\n",
    "gfont = {'fontname':'Georgia'}\n",
    "font = font_manager.FontProperties(family='Georgia', style='normal', size=32)"
   ]
  },
  {
   "cell_type": "code",
   "execution_count": 3334,
   "metadata": {},
   "outputs": [
    {
     "data": {
      "image/png": "[encoded data removed]",
      "text/plain": [
       "<Figure size 1440x1440 with 2 Axes>"
      ]
     },
     "metadata": {
      "needs_background": "light"
     },
     "output_type": "display_data"
    }
   ],
   "source": [
    "plt.figure(figsize=(20,20))\n",
    "\n",
    "plt.subplot(311)\n",
    "\n",
    "plt.scatter(\n",
    "    df_total[df_total.Algorithm==0].index, df_total[df_total.Algorithm==0].Discrepency, \n",
    "    c = rgb,\n",
    "    linewidths = 1,\n",
    "    marker =\"s\",\n",
    "    s = 25)\n",
    "\n",
    "plt.scatter(\n",
    "    df_total[df_total.Algorithm==1].index, df_total[df_total.Algorithm==1].Discrepency, \n",
    "    c =rgb2,\n",
    "    linewidths = 1,\n",
    "    marker =\"s\",\n",
    "    s = 25)\n",
    "\n",
    "plt.title(\"Correct Algorithm Selection Based on Time Discrepency\", fontsize=32, **gfont)\n",
    "plt.ylabel(\"Discrepency (sec)\", fontsize=32, **gfont)\n",
    "plt.legend([\"CutFree\", \"CutFreeRL\"], prop=font)\n",
    "ax = plt.gca()\n",
    "plt.xticks(fontsize=32, **gfont)\n",
    "plt.yticks(fontsize=32, **gfont)\n",
    "ax.get_xaxis().set_visible(False)\n",
    "ax.spines.right.set_visible(False)\n",
    "ax.spines.top.set_visible(False)\n",
    "\n",
    "plt.subplot(312)\n",
    "plt.scatter(\n",
    "    df_total[df_total.Prediction==1].index, df_total[df_total.Prediction==1].Discrepency, \n",
    "    c = \"k\",\n",
    "    linewidths = 1,\n",
    "    marker =\"s\",\n",
    "    s = 25)\n",
    "\n",
    "plt.scatter(\n",
    "    df_total[df_total.Prediction==0].index, df_total[df_total.Prediction==0].Discrepency, \n",
    "    c =\"red\",\n",
    "    linewidths = 3,\n",
    "    marker =\"x\",\n",
    "    s = 250)\n",
    "\n",
    "plt.title(f\"Accuracy of MLP Classifier Predictions ({mlp_acc:.1f}%) Based on Time Discrepency\", fontsize=32, **gfont)\n",
    "plt.ylabel(\"Discrepency (sec)\", fontsize=32, **gfont)\n",
    "plt.legend([\"Correct Prediction\", \"Incorrect Prediction\"], prop=font)\n",
    "ax = plt.gca()\n",
    "plt.xticks(fontsize=32, **gfont)\n",
    "plt.yticks(fontsize=32, **gfont)\n",
    "ax.get_xaxis().set_visible(False)\n",
    "ax.spines.right.set_visible(False)\n",
    "ax.spines.top.set_visible(False)\n",
    "\n",
    "# plt.subplot(313)\n",
    "# plt.scatter(\n",
    "#     df_total_tf[df_total_tf.Prediction==1].index, df_total_tf[df_total_tf.Prediction==1].Discrepency, \n",
    "#     c =\"black\",\n",
    "#     linewidths = 1,\n",
    "#     marker =\"s\",\n",
    "#     s = 25)\n",
    "\n",
    "# plt.scatter(\n",
    "#     df_total_tf[df_total_tf.Prediction==0].index, df_total_tf[df_total_tf.Prediction==0].Discrepency, \n",
    "#     c =\"red\",\n",
    "#     linewidths = 3,\n",
    "#     marker =\"x\",\n",
    "#     s = 250)\n",
    "\n",
    "# plt.title(f\"Accuracy of TensforFlow Model Predictions ({tf_acc:.2f}%) for Time Discrepency vs. Index\")\n",
    "# plt.xlabel(\"Index\")\n",
    "# plt.ylabel(\"Time Discrepency (sec)\")\n",
    "# plt.legend([\"Correct Prediction\", \"Incorrect Prediction\"])\n"
   ]
  },
  {
   "cell_type": "code",
   "execution_count": 3335,
   "metadata": {},
   "outputs": [
    {
     "name": "stdout",
     "output_type": "stream",
     "text": [
      "MLPClassifier(activation='tanh', alpha=1e-05, batch_size=32,\n",
      "              hidden_layer_sizes=128, learning_rate='adaptive', max_iter=1000,\n",
      "              random_state=9549, verbose=0)\n"
     ]
    }
   ],
   "source": [
    "print(class_NN)"
   ]
  },
  {
   "attachments": {},
   "cell_type": "markdown",
   "metadata": {},
   "source": [
    "# Get Results"
   ]
  },
  {
   "cell_type": "code",
   "execution_count": 3336,
   "metadata": {},
   "outputs": [],
   "source": [
    "with open(\"results/accuracy_results.csv\", \"a\") as f:\n",
    "    writer = csv.writer(f)\n",
    "    writer.writerow([mlp_acc])"
   ]
  },
  {
   "cell_type": "code",
   "execution_count": 3337,
   "metadata": {},
   "outputs": [
    {
     "name": "stdout",
     "output_type": "stream",
     "text": [
      "Average Accuracy: 80.75658 +/- 1.66493\n",
      "Number of Trials: 17\n"
     ]
    }
   ],
   "source": [
    "average_acc = np.array([])\n",
    "n = 0\n",
    "\n",
    "with open(\"results/accuracy_results.csv\", \"r\") as f:\n",
    "    reader = csv.reader(f)\n",
    "    for row in reader:\n",
    "        if row != []:\n",
    "            average_acc = np.append(average_acc, float(row[0]))\n",
    "            n += 1\n",
    "\n",
    "print(f\"Average Accuracy: {average_acc.mean():.5f} +/- {average_acc.std():.5f}\")\n",
    "print(f\"Number of Trials: {n}\")"
   ]
  },
  {
   "cell_type": "code",
   "execution_count": 3338,
   "metadata": {},
   "outputs": [],
   "source": [
    "false_positives = df_total[df_total.Prediction==0].CutFree_Time > 60\n",
    "false_positives = false_positives[false_positives==True].count()\n",
    "\n",
    "true_positives = df_total[df_total.Prediction==1].CutFree_Time > 60\n",
    "true_positives = true_positives[true_positives==True].count()\n",
    "\n",
    "sensitivity = true_positives / (true_positives + false_positives)"
   ]
  },
  {
   "cell_type": "code",
   "execution_count": 3339,
   "metadata": {},
   "outputs": [],
   "source": [
    "with open(\"results/sensitivity_results.csv\", \"a\") as f:\n",
    "    writer = csv.writer(f)\n",
    "    writer.writerow([sensitivity])"
   ]
  },
  {
   "cell_type": "code",
   "execution_count": 3340,
   "metadata": {},
   "outputs": [
    {
     "name": "stdout",
     "output_type": "stream",
     "text": [
      "Average Sensitivity: 0.99791 +/- 0.00287\n",
      "Number of Trials: 17\n"
     ]
    }
   ],
   "source": [
    "average_sensitivity = np.array([])\n",
    "n = 0\n",
    "\n",
    "with open(\"results/sensitivity_results.csv\", \"r\") as f:\n",
    "    reader = csv.reader(f)\n",
    "    for row in reader:\n",
    "        if row != []:\n",
    "            average_sensitivity = np.append(average_sensitivity, float(row[0]))\n",
    "            n += 1\n",
    "\n",
    "print(f\"Average Sensitivity: {average_sensitivity.mean():.5f} +/- {average_sensitivity.std():.5f}\")\n",
    "print(f\"Number of Trials: {n}\")"
   ]
  },
  {
   "attachments": {},
   "cell_type": "markdown",
   "metadata": {},
   "source": [
    "# Ensemble Model"
   ]
  },
  {
   "cell_type": "code",
   "execution_count": 3341,
   "metadata": {},
   "outputs": [
    {
     "name": "stderr",
     "output_type": "stream",
     "text": [
      "C:\\Users\\wrick\\AppData\\Local\\Temp/ipykernel_19420/2532155634.py:1: UserWarning: Boolean Series key will be reindexed to match DataFrame index.\n",
      "  incorrect_cutfree = df_total[df_total.Prediction == 0][df_total.Algorithm == 1]\n"
     ]
    },
    {
     "data": {
      "text/plain": [
       "(56, 8)"
      ]
     },
     "execution_count": 3341,
     "metadata": {},
     "output_type": "execute_result"
    }
   ],
   "source": [
    "incorrect_cutfree = df_total[df_total.Prediction == 0][df_total.Algorithm == 1]\n",
    "incorrect_cutfree.shape"
   ]
  },
  {
   "cell_type": "code",
   "execution_count": 3342,
   "metadata": {},
   "outputs": [
    {
     "name": "stderr",
     "output_type": "stream",
     "text": [
      "C:\\Users\\wrick\\AppData\\Local\\Temp/ipykernel_19420/3990438713.py:1: UserWarning: Boolean Series key will be reindexed to match DataFrame index.\n",
      "  cutfree_total = df_total[df_total.Prediction == 1][df_total.Algorithm == 0]\n"
     ]
    },
    {
     "data": {
      "text/plain": [
       "(1450, 8)"
      ]
     },
     "execution_count": 3342,
     "metadata": {},
     "output_type": "execute_result"
    }
   ],
   "source": [
    "cutfree_total = df_total[df_total.Prediction == 1][df_total.Algorithm == 0]\n",
    "cutfree_total.shape"
   ]
  },
  {
   "cell_type": "code",
   "execution_count": 3343,
   "metadata": {},
   "outputs": [],
   "source": [
    "#incorrect_cutfree = incorrect_cutfree.append(cutfree_total)"
   ]
  },
  {
   "cell_type": "code",
   "execution_count": 3344,
   "metadata": {},
   "outputs": [
    {
     "name": "stdout",
     "output_type": "stream",
     "text": [
      "Fixed 8 incorrect predictions\n"
     ]
    },
    {
     "data": {
      "text/html": [
       "<div>\n",
       "<style scoped>\n",
       "    .dataframe tbody tr th:only-of-type {\n",
       "        vertical-align: middle;\n",
       "    }\n",
       "\n",
       "    .dataframe tbody tr th {\n",
       "        vertical-align: top;\n",
       "    }\n",
       "\n",
       "    .dataframe thead th {\n",
       "        text-align: right;\n",
       "    }\n",
       "</style>\n",
       "<table border=\"1\" class=\"dataframe\">\n",
       "  <thead>\n",
       "    <tr style=\"text-align: right;\">\n",
       "      <th></th>\n",
       "      <th>OligoLength</th>\n",
       "      <th>TotalSites</th>\n",
       "      <th>SiteLength</th>\n",
       "      <th>Algorithm</th>\n",
       "      <th>CutFree_Time</th>\n",
       "      <th>CutFreeRL_Time</th>\n",
       "      <th>Discrepency</th>\n",
       "      <th>Prediction</th>\n",
       "    </tr>\n",
       "  </thead>\n",
       "  <tbody>\n",
       "    <tr>\n",
       "      <th>1524</th>\n",
       "      <td>35</td>\n",
       "      <td>2</td>\n",
       "      <td>4</td>\n",
       "      <td>1</td>\n",
       "      <td>0.633275</td>\n",
       "      <td>0.621732</td>\n",
       "      <td>0.011543</td>\n",
       "      <td>0.0</td>\n",
       "    </tr>\n",
       "    <tr>\n",
       "      <th>1556</th>\n",
       "      <td>15</td>\n",
       "      <td>4</td>\n",
       "      <td>6</td>\n",
       "      <td>1</td>\n",
       "      <td>0.649979</td>\n",
       "      <td>0.574511</td>\n",
       "      <td>0.075468</td>\n",
       "      <td>0.0</td>\n",
       "    </tr>\n",
       "    <tr>\n",
       "      <th>1561</th>\n",
       "      <td>15</td>\n",
       "      <td>10</td>\n",
       "      <td>4</td>\n",
       "      <td>1</td>\n",
       "      <td>0.302598</td>\n",
       "      <td>0.216150</td>\n",
       "      <td>0.086448</td>\n",
       "      <td>0.0</td>\n",
       "    </tr>\n",
       "    <tr>\n",
       "      <th>1562</th>\n",
       "      <td>19</td>\n",
       "      <td>8</td>\n",
       "      <td>8</td>\n",
       "      <td>1</td>\n",
       "      <td>1.282868</td>\n",
       "      <td>1.195143</td>\n",
       "      <td>0.087724</td>\n",
       "      <td>0.0</td>\n",
       "    </tr>\n",
       "    <tr>\n",
       "      <th>1573</th>\n",
       "      <td>36</td>\n",
       "      <td>2</td>\n",
       "      <td>5</td>\n",
       "      <td>1</td>\n",
       "      <td>1.062386</td>\n",
       "      <td>0.940312</td>\n",
       "      <td>0.122074</td>\n",
       "      <td>0.0</td>\n",
       "    </tr>\n",
       "    <tr>\n",
       "      <th>1580</th>\n",
       "      <td>23</td>\n",
       "      <td>4</td>\n",
       "      <td>8</td>\n",
       "      <td>1</td>\n",
       "      <td>1.398099</td>\n",
       "      <td>1.259087</td>\n",
       "      <td>0.139012</td>\n",
       "      <td>0.0</td>\n",
       "    </tr>\n",
       "    <tr>\n",
       "      <th>1581</th>\n",
       "      <td>39</td>\n",
       "      <td>1</td>\n",
       "      <td>6</td>\n",
       "      <td>1</td>\n",
       "      <td>1.473049</td>\n",
       "      <td>1.333725</td>\n",
       "      <td>0.139323</td>\n",
       "      <td>0.0</td>\n",
       "    </tr>\n",
       "    <tr>\n",
       "      <th>1602</th>\n",
       "      <td>15</td>\n",
       "      <td>5</td>\n",
       "      <td>6</td>\n",
       "      <td>1</td>\n",
       "      <td>0.881788</td>\n",
       "      <td>0.652319</td>\n",
       "      <td>0.229468</td>\n",
       "      <td>0.0</td>\n",
       "    </tr>\n",
       "    <tr>\n",
       "      <th>1614</th>\n",
       "      <td>19</td>\n",
       "      <td>6</td>\n",
       "      <td>6</td>\n",
       "      <td>1</td>\n",
       "      <td>1.149420</td>\n",
       "      <td>0.878769</td>\n",
       "      <td>0.270652</td>\n",
       "      <td>0.0</td>\n",
       "    </tr>\n",
       "    <tr>\n",
       "      <th>1628</th>\n",
       "      <td>20</td>\n",
       "      <td>6</td>\n",
       "      <td>8</td>\n",
       "      <td>1</td>\n",
       "      <td>1.699099</td>\n",
       "      <td>1.354435</td>\n",
       "      <td>0.344665</td>\n",
       "      <td>0.0</td>\n",
       "    </tr>\n",
       "    <tr>\n",
       "      <th>1637</th>\n",
       "      <td>15</td>\n",
       "      <td>7</td>\n",
       "      <td>6</td>\n",
       "      <td>1</td>\n",
       "      <td>1.030897</td>\n",
       "      <td>0.650034</td>\n",
       "      <td>0.380863</td>\n",
       "      <td>0.0</td>\n",
       "    </tr>\n",
       "    <tr>\n",
       "      <th>1647</th>\n",
       "      <td>23</td>\n",
       "      <td>2</td>\n",
       "      <td>6</td>\n",
       "      <td>1</td>\n",
       "      <td>0.912836</td>\n",
       "      <td>0.508700</td>\n",
       "      <td>0.404135</td>\n",
       "      <td>0.0</td>\n",
       "    </tr>\n",
       "    <tr>\n",
       "      <th>1650</th>\n",
       "      <td>16</td>\n",
       "      <td>5</td>\n",
       "      <td>5</td>\n",
       "      <td>1</td>\n",
       "      <td>1.120297</td>\n",
       "      <td>0.697277</td>\n",
       "      <td>0.423020</td>\n",
       "      <td>0.0</td>\n",
       "    </tr>\n",
       "    <tr>\n",
       "      <th>1657</th>\n",
       "      <td>15</td>\n",
       "      <td>9</td>\n",
       "      <td>6</td>\n",
       "      <td>1</td>\n",
       "      <td>1.480573</td>\n",
       "      <td>1.033775</td>\n",
       "      <td>0.446798</td>\n",
       "      <td>0.0</td>\n",
       "    </tr>\n",
       "    <tr>\n",
       "      <th>1667</th>\n",
       "      <td>16</td>\n",
       "      <td>9</td>\n",
       "      <td>6</td>\n",
       "      <td>1</td>\n",
       "      <td>1.506518</td>\n",
       "      <td>0.986956</td>\n",
       "      <td>0.519562</td>\n",
       "      <td>0.0</td>\n",
       "    </tr>\n",
       "    <tr>\n",
       "      <th>1705</th>\n",
       "      <td>15</td>\n",
       "      <td>8</td>\n",
       "      <td>6</td>\n",
       "      <td>1</td>\n",
       "      <td>1.960210</td>\n",
       "      <td>1.137682</td>\n",
       "      <td>0.822529</td>\n",
       "      <td>0.0</td>\n",
       "    </tr>\n",
       "    <tr>\n",
       "      <th>1708</th>\n",
       "      <td>22</td>\n",
       "      <td>8</td>\n",
       "      <td>8</td>\n",
       "      <td>1</td>\n",
       "      <td>2.145798</td>\n",
       "      <td>1.318272</td>\n",
       "      <td>0.827526</td>\n",
       "      <td>0.0</td>\n",
       "    </tr>\n",
       "    <tr>\n",
       "      <th>1712</th>\n",
       "      <td>23</td>\n",
       "      <td>5</td>\n",
       "      <td>6</td>\n",
       "      <td>1</td>\n",
       "      <td>2.030705</td>\n",
       "      <td>1.195525</td>\n",
       "      <td>0.835180</td>\n",
       "      <td>0.0</td>\n",
       "    </tr>\n",
       "    <tr>\n",
       "      <th>1726</th>\n",
       "      <td>20</td>\n",
       "      <td>5</td>\n",
       "      <td>6</td>\n",
       "      <td>1</td>\n",
       "      <td>1.809893</td>\n",
       "      <td>0.838253</td>\n",
       "      <td>0.971640</td>\n",
       "      <td>0.0</td>\n",
       "    </tr>\n",
       "    <tr>\n",
       "      <th>1733</th>\n",
       "      <td>37</td>\n",
       "      <td>2</td>\n",
       "      <td>8</td>\n",
       "      <td>1</td>\n",
       "      <td>2.780458</td>\n",
       "      <td>1.694955</td>\n",
       "      <td>1.085503</td>\n",
       "      <td>0.0</td>\n",
       "    </tr>\n",
       "    <tr>\n",
       "      <th>1748</th>\n",
       "      <td>39</td>\n",
       "      <td>1</td>\n",
       "      <td>6</td>\n",
       "      <td>1</td>\n",
       "      <td>2.637609</td>\n",
       "      <td>1.367293</td>\n",
       "      <td>1.270316</td>\n",
       "      <td>0.0</td>\n",
       "    </tr>\n",
       "    <tr>\n",
       "      <th>1751</th>\n",
       "      <td>18</td>\n",
       "      <td>6</td>\n",
       "      <td>5</td>\n",
       "      <td>1</td>\n",
       "      <td>2.106154</td>\n",
       "      <td>0.819981</td>\n",
       "      <td>1.286173</td>\n",
       "      <td>0.0</td>\n",
       "    </tr>\n",
       "    <tr>\n",
       "      <th>1756</th>\n",
       "      <td>20</td>\n",
       "      <td>4</td>\n",
       "      <td>4</td>\n",
       "      <td>1</td>\n",
       "      <td>2.042877</td>\n",
       "      <td>0.711392</td>\n",
       "      <td>1.331485</td>\n",
       "      <td>0.0</td>\n",
       "    </tr>\n",
       "    <tr>\n",
       "      <th>1761</th>\n",
       "      <td>15</td>\n",
       "      <td>9</td>\n",
       "      <td>6</td>\n",
       "      <td>1</td>\n",
       "      <td>2.229734</td>\n",
       "      <td>0.835702</td>\n",
       "      <td>1.394032</td>\n",
       "      <td>0.0</td>\n",
       "    </tr>\n",
       "    <tr>\n",
       "      <th>1762</th>\n",
       "      <td>40</td>\n",
       "      <td>2</td>\n",
       "      <td>6</td>\n",
       "      <td>1</td>\n",
       "      <td>2.785726</td>\n",
       "      <td>1.388629</td>\n",
       "      <td>1.397096</td>\n",
       "      <td>0.0</td>\n",
       "    </tr>\n",
       "    <tr>\n",
       "      <th>1798</th>\n",
       "      <td>18</td>\n",
       "      <td>7</td>\n",
       "      <td>6</td>\n",
       "      <td>1</td>\n",
       "      <td>2.548160</td>\n",
       "      <td>0.790160</td>\n",
       "      <td>1.758000</td>\n",
       "      <td>0.0</td>\n",
       "    </tr>\n",
       "    <tr>\n",
       "      <th>1804</th>\n",
       "      <td>25</td>\n",
       "      <td>3</td>\n",
       "      <td>7</td>\n",
       "      <td>1</td>\n",
       "      <td>3.072289</td>\n",
       "      <td>1.255232</td>\n",
       "      <td>1.817056</td>\n",
       "      <td>0.0</td>\n",
       "    </tr>\n",
       "    <tr>\n",
       "      <th>1807</th>\n",
       "      <td>21</td>\n",
       "      <td>4</td>\n",
       "      <td>4</td>\n",
       "      <td>1</td>\n",
       "      <td>2.365731</td>\n",
       "      <td>0.517525</td>\n",
       "      <td>1.848206</td>\n",
       "      <td>0.0</td>\n",
       "    </tr>\n",
       "    <tr>\n",
       "      <th>1815</th>\n",
       "      <td>28</td>\n",
       "      <td>3</td>\n",
       "      <td>6</td>\n",
       "      <td>1</td>\n",
       "      <td>3.037512</td>\n",
       "      <td>1.074059</td>\n",
       "      <td>1.963453</td>\n",
       "      <td>0.0</td>\n",
       "    </tr>\n",
       "    <tr>\n",
       "      <th>1825</th>\n",
       "      <td>18</td>\n",
       "      <td>6</td>\n",
       "      <td>4</td>\n",
       "      <td>1</td>\n",
       "      <td>2.730769</td>\n",
       "      <td>0.640050</td>\n",
       "      <td>2.090719</td>\n",
       "      <td>0.0</td>\n",
       "    </tr>\n",
       "    <tr>\n",
       "      <th>1873</th>\n",
       "      <td>23</td>\n",
       "      <td>7</td>\n",
       "      <td>8</td>\n",
       "      <td>1</td>\n",
       "      <td>4.292050</td>\n",
       "      <td>1.593419</td>\n",
       "      <td>2.698631</td>\n",
       "      <td>0.0</td>\n",
       "    </tr>\n",
       "    <tr>\n",
       "      <th>1898</th>\n",
       "      <td>30</td>\n",
       "      <td>3</td>\n",
       "      <td>6</td>\n",
       "      <td>1</td>\n",
       "      <td>4.031069</td>\n",
       "      <td>0.999396</td>\n",
       "      <td>3.031673</td>\n",
       "      <td>0.0</td>\n",
       "    </tr>\n",
       "    <tr>\n",
       "      <th>1900</th>\n",
       "      <td>31</td>\n",
       "      <td>3</td>\n",
       "      <td>4</td>\n",
       "      <td>1</td>\n",
       "      <td>3.570354</td>\n",
       "      <td>0.526759</td>\n",
       "      <td>3.043595</td>\n",
       "      <td>0.0</td>\n",
       "    </tr>\n",
       "    <tr>\n",
       "      <th>1912</th>\n",
       "      <td>20</td>\n",
       "      <td>9</td>\n",
       "      <td>8</td>\n",
       "      <td>1</td>\n",
       "      <td>4.658893</td>\n",
       "      <td>1.403824</td>\n",
       "      <td>3.255069</td>\n",
       "      <td>0.0</td>\n",
       "    </tr>\n",
       "    <tr>\n",
       "      <th>1913</th>\n",
       "      <td>35</td>\n",
       "      <td>2</td>\n",
       "      <td>5</td>\n",
       "      <td>1</td>\n",
       "      <td>4.300154</td>\n",
       "      <td>1.020918</td>\n",
       "      <td>3.279236</td>\n",
       "      <td>0.0</td>\n",
       "    </tr>\n",
       "    <tr>\n",
       "      <th>1920</th>\n",
       "      <td>34</td>\n",
       "      <td>3</td>\n",
       "      <td>6</td>\n",
       "      <td>1</td>\n",
       "      <td>4.460465</td>\n",
       "      <td>1.093185</td>\n",
       "      <td>3.367279</td>\n",
       "      <td>0.0</td>\n",
       "    </tr>\n",
       "    <tr>\n",
       "      <th>1943</th>\n",
       "      <td>27</td>\n",
       "      <td>4</td>\n",
       "      <td>6</td>\n",
       "      <td>1</td>\n",
       "      <td>4.901386</td>\n",
       "      <td>1.159973</td>\n",
       "      <td>3.741413</td>\n",
       "      <td>0.0</td>\n",
       "    </tr>\n",
       "    <tr>\n",
       "      <th>1948</th>\n",
       "      <td>16</td>\n",
       "      <td>10</td>\n",
       "      <td>6</td>\n",
       "      <td>1</td>\n",
       "      <td>5.857742</td>\n",
       "      <td>2.023493</td>\n",
       "      <td>3.834249</td>\n",
       "      <td>0.0</td>\n",
       "    </tr>\n",
       "    <tr>\n",
       "      <th>1985</th>\n",
       "      <td>26</td>\n",
       "      <td>6</td>\n",
       "      <td>8</td>\n",
       "      <td>1</td>\n",
       "      <td>6.376248</td>\n",
       "      <td>1.654538</td>\n",
       "      <td>4.721710</td>\n",
       "      <td>0.0</td>\n",
       "    </tr>\n",
       "    <tr>\n",
       "      <th>1987</th>\n",
       "      <td>26</td>\n",
       "      <td>3</td>\n",
       "      <td>5</td>\n",
       "      <td>1</td>\n",
       "      <td>5.430665</td>\n",
       "      <td>0.673961</td>\n",
       "      <td>4.756704</td>\n",
       "      <td>0.0</td>\n",
       "    </tr>\n",
       "    <tr>\n",
       "      <th>2092</th>\n",
       "      <td>21</td>\n",
       "      <td>6</td>\n",
       "      <td>6</td>\n",
       "      <td>1</td>\n",
       "      <td>8.683467</td>\n",
       "      <td>0.972917</td>\n",
       "      <td>7.710550</td>\n",
       "      <td>0.0</td>\n",
       "    </tr>\n",
       "    <tr>\n",
       "      <th>2112</th>\n",
       "      <td>33</td>\n",
       "      <td>3</td>\n",
       "      <td>6</td>\n",
       "      <td>1</td>\n",
       "      <td>9.585088</td>\n",
       "      <td>1.267587</td>\n",
       "      <td>8.317501</td>\n",
       "      <td>0.0</td>\n",
       "    </tr>\n",
       "    <tr>\n",
       "      <th>2164</th>\n",
       "      <td>30</td>\n",
       "      <td>2</td>\n",
       "      <td>6</td>\n",
       "      <td>1</td>\n",
       "      <td>12.036505</td>\n",
       "      <td>0.981754</td>\n",
       "      <td>11.054751</td>\n",
       "      <td>0.0</td>\n",
       "    </tr>\n",
       "    <tr>\n",
       "      <th>2224</th>\n",
       "      <td>22</td>\n",
       "      <td>4</td>\n",
       "      <td>6</td>\n",
       "      <td>1</td>\n",
       "      <td>15.247396</td>\n",
       "      <td>1.046640</td>\n",
       "      <td>14.200755</td>\n",
       "      <td>0.0</td>\n",
       "    </tr>\n",
       "    <tr>\n",
       "      <th>2229</th>\n",
       "      <td>20</td>\n",
       "      <td>5</td>\n",
       "      <td>5</td>\n",
       "      <td>1</td>\n",
       "      <td>15.571376</td>\n",
       "      <td>0.693211</td>\n",
       "      <td>14.878165</td>\n",
       "      <td>0.0</td>\n",
       "    </tr>\n",
       "    <tr>\n",
       "      <th>2269</th>\n",
       "      <td>34</td>\n",
       "      <td>3</td>\n",
       "      <td>6</td>\n",
       "      <td>1</td>\n",
       "      <td>20.083198</td>\n",
       "      <td>1.329766</td>\n",
       "      <td>18.753432</td>\n",
       "      <td>0.0</td>\n",
       "    </tr>\n",
       "    <tr>\n",
       "      <th>2282</th>\n",
       "      <td>26</td>\n",
       "      <td>3</td>\n",
       "      <td>6</td>\n",
       "      <td>1</td>\n",
       "      <td>21.519302</td>\n",
       "      <td>0.992519</td>\n",
       "      <td>20.526783</td>\n",
       "      <td>0.0</td>\n",
       "    </tr>\n",
       "    <tr>\n",
       "      <th>2441</th>\n",
       "      <td>34</td>\n",
       "      <td>3</td>\n",
       "      <td>6</td>\n",
       "      <td>1</td>\n",
       "      <td>49.809059</td>\n",
       "      <td>1.710322</td>\n",
       "      <td>48.098737</td>\n",
       "      <td>0.0</td>\n",
       "    </tr>\n",
       "  </tbody>\n",
       "</table>\n",
       "</div>"
      ],
      "text/plain": [
       "      OligoLength  TotalSites  SiteLength  Algorithm  CutFree_Time  \\\n",
       "1524           35           2           4          1      0.633275   \n",
       "1556           15           4           6          1      0.649979   \n",
       "1561           15          10           4          1      0.302598   \n",
       "1562           19           8           8          1      1.282868   \n",
       "1573           36           2           5          1      1.062386   \n",
       "1580           23           4           8          1      1.398099   \n",
       "1581           39           1           6          1      1.473049   \n",
       "1602           15           5           6          1      0.881788   \n",
       "1614           19           6           6          1      1.149420   \n",
       "1628           20           6           8          1      1.699099   \n",
       "1637           15           7           6          1      1.030897   \n",
       "1647           23           2           6          1      0.912836   \n",
       "1650           16           5           5          1      1.120297   \n",
       "1657           15           9           6          1      1.480573   \n",
       "1667           16           9           6          1      1.506518   \n",
       "1705           15           8           6          1      1.960210   \n",
       "1708           22           8           8          1      2.145798   \n",
       "1712           23           5           6          1      2.030705   \n",
       "1726           20           5           6          1      1.809893   \n",
       "1733           37           2           8          1      2.780458   \n",
       "1748           39           1           6          1      2.637609   \n",
       "1751           18           6           5          1      2.106154   \n",
       "1756           20           4           4          1      2.042877   \n",
       "1761           15           9           6          1      2.229734   \n",
       "1762           40           2           6          1      2.785726   \n",
       "1798           18           7           6          1      2.548160   \n",
       "1804           25           3           7          1      3.072289   \n",
       "1807           21           4           4          1      2.365731   \n",
       "1815           28           3           6          1      3.037512   \n",
       "1825           18           6           4          1      2.730769   \n",
       "1873           23           7           8          1      4.292050   \n",
       "1898           30           3           6          1      4.031069   \n",
       "1900           31           3           4          1      3.570354   \n",
       "1912           20           9           8          1      4.658893   \n",
       "1913           35           2           5          1      4.300154   \n",
       "1920           34           3           6          1      4.460465   \n",
       "1943           27           4           6          1      4.901386   \n",
       "1948           16          10           6          1      5.857742   \n",
       "1985           26           6           8          1      6.376248   \n",
       "1987           26           3           5          1      5.430665   \n",
       "2092           21           6           6          1      8.683467   \n",
       "2112           33           3           6          1      9.585088   \n",
       "2164           30           2           6          1     12.036505   \n",
       "2224           22           4           6          1     15.247396   \n",
       "2229           20           5           5          1     15.571376   \n",
       "2269           34           3           6          1     20.083198   \n",
       "2282           26           3           6          1     21.519302   \n",
       "2441           34           3           6          1     49.809059   \n",
       "\n",
       "      CutFreeRL_Time  Discrepency  Prediction  \n",
       "1524        0.621732     0.011543         0.0  \n",
       "1556        0.574511     0.075468         0.0  \n",
       "1561        0.216150     0.086448         0.0  \n",
       "1562        1.195143     0.087724         0.0  \n",
       "1573        0.940312     0.122074         0.0  \n",
       "1580        1.259087     0.139012         0.0  \n",
       "1581        1.333725     0.139323         0.0  \n",
       "1602        0.652319     0.229468         0.0  \n",
       "1614        0.878769     0.270652         0.0  \n",
       "1628        1.354435     0.344665         0.0  \n",
       "1637        0.650034     0.380863         0.0  \n",
       "1647        0.508700     0.404135         0.0  \n",
       "1650        0.697277     0.423020         0.0  \n",
       "1657        1.033775     0.446798         0.0  \n",
       "1667        0.986956     0.519562         0.0  \n",
       "1705        1.137682     0.822529         0.0  \n",
       "1708        1.318272     0.827526         0.0  \n",
       "1712        1.195525     0.835180         0.0  \n",
       "1726        0.838253     0.971640         0.0  \n",
       "1733        1.694955     1.085503         0.0  \n",
       "1748        1.367293     1.270316         0.0  \n",
       "1751        0.819981     1.286173         0.0  \n",
       "1756        0.711392     1.331485         0.0  \n",
       "1761        0.835702     1.394032         0.0  \n",
       "1762        1.388629     1.397096         0.0  \n",
       "1798        0.790160     1.758000         0.0  \n",
       "1804        1.255232     1.817056         0.0  \n",
       "1807        0.517525     1.848206         0.0  \n",
       "1815        1.074059     1.963453         0.0  \n",
       "1825        0.640050     2.090719         0.0  \n",
       "1873        1.593419     2.698631         0.0  \n",
       "1898        0.999396     3.031673         0.0  \n",
       "1900        0.526759     3.043595         0.0  \n",
       "1912        1.403824     3.255069         0.0  \n",
       "1913        1.020918     3.279236         0.0  \n",
       "1920        1.093185     3.367279         0.0  \n",
       "1943        1.159973     3.741413         0.0  \n",
       "1948        2.023493     3.834249         0.0  \n",
       "1985        1.654538     4.721710         0.0  \n",
       "1987        0.673961     4.756704         0.0  \n",
       "2092        0.972917     7.710550         0.0  \n",
       "2112        1.267587     8.317501         0.0  \n",
       "2164        0.981754    11.054751         0.0  \n",
       "2224        1.046640    14.200755         0.0  \n",
       "2229        0.693211    14.878165         0.0  \n",
       "2269        1.329766    18.753432         0.0  \n",
       "2282        0.992519    20.526783         0.0  \n",
       "2441        1.710322    48.098737         0.0  "
      ]
     },
     "execution_count": 3344,
     "metadata": {},
     "output_type": "execute_result"
    }
   ],
   "source": [
    "with open(\"../cutfree-models/cutfree_runtime_classification_model.pkl\", \"rb\") as f:\n",
    "    model = pickle.load(f)\n",
    "\n",
    "df_not_fixed = incorrect_cutfree.copy()\n",
    "df_fixed = incorrect_cutfree.copy()\n",
    "\n",
    "fixed = 0\n",
    "for i in range(len(incorrect_cutfree)):\n",
    "    correct = model.predict([[int(incorrect_cutfree.iloc[i].OligoLength), int(incorrect_cutfree.iloc[i].TotalSites), int(incorrect_cutfree.iloc[i].SiteLength)]])\n",
    "\n",
    "    if correct == 0:\n",
    "        df_not_fixed.drop(incorrect_cutfree.iloc[i].name, inplace=True)\n",
    "        fixed += 1\n",
    "    else:\n",
    "        df_fixed.drop(incorrect_cutfree.iloc[i].name, inplace=True)\n",
    "\n",
    "print(f\"Fixed {fixed} incorrect predictions\")\n",
    "df_not_fixed"
   ]
  },
  {
   "cell_type": "code",
   "execution_count": 3345,
   "metadata": {},
   "outputs": [
    {
     "data": {
      "text/plain": [
       "(8, 8)"
      ]
     },
     "execution_count": 3345,
     "metadata": {},
     "output_type": "execute_result"
    }
   ],
   "source": [
    "df_fixed.shape"
   ]
  },
  {
   "cell_type": "code",
   "execution_count": 3346,
   "metadata": {},
   "outputs": [
    {
     "name": "stdout",
     "output_type": "stream",
     "text": [
      "Accuracy: 80.92%\n"
     ]
    }
   ],
   "source": [
    "new_accuracy = ((accuracy_score(y_pred, y_test)) + (fixed/len(y_test))) *100\n",
    "print(\"Accuracy: {:.2f}%\".format(new_accuracy))\n"
   ]
  },
  {
   "cell_type": "code",
   "execution_count": 3347,
   "metadata": {},
   "outputs": [],
   "source": [
    "df_total = df_total[df_total.Algorithm == 1]"
   ]
  },
  {
   "cell_type": "code",
   "execution_count": 3348,
   "metadata": {},
   "outputs": [
    {
     "data": {
      "image/png": "[encoded data removed]",
      "text/plain": [
       "<Figure size 1440x1440 with 1 Axes>"
      ]
     },
     "metadata": {
      "needs_background": "light"
     },
     "output_type": "display_data"
    }
   ],
   "source": [
    "plt.figure(figsize=(20,20))\n",
    "\n",
    "plt.subplot(311)\n",
    "\n",
    "plt.scatter(\n",
    "    df_total[df_total.Prediction==1].index, df_total[df_total.Prediction==1].Discrepency, \n",
    "    c = \"k\",\n",
    "    linewidths = 1,\n",
    "    marker =\"s\",\n",
    "    s = 25)\n",
    "\n",
    "plt.scatter(\n",
    "    df_total[df_total.Prediction==0].index, df_total[df_total.Prediction==0].Discrepency, \n",
    "    c =\"red\",\n",
    "    linewidths = 3,\n",
    "    marker =\"x\",\n",
    "    s = 250)\n",
    "\n",
    "plt.scatter(\n",
    "    df_fixed.index, df_fixed.Discrepency, \n",
    "    c =\"green\",\n",
    "    linewidths = 3,\n",
    "    marker =\"x\",\n",
    "    s = 250)\n",
    "\n",
    "plt.title(f\"CutFree Misclassifications Corrected by Ensemble Model\", fontsize=32, **gfont)\n",
    "plt.ylabel(\"Discrepency (sec)\", fontsize=32, **gfont)\n",
    "plt.legend([\"Originally Correct Prediction\", \"Originally Incorrect Prediction\", \"Corrected by Failsafe\"], prop=font)\n",
    "ax = plt.gca()\n",
    "plt.xticks(fontsize=32, **gfont)\n",
    "plt.yticks(fontsize=32, **gfont)\n",
    "ax.get_xaxis().set_visible(False)\n",
    "ax.spines.right.set_visible(False)\n",
    "ax.spines.top.set_visible(False)"
   ]
  },
  {
   "cell_type": "code",
   "execution_count": 3349,
   "metadata": {},
   "outputs": [],
   "source": [
    "df_total.drop(df_total.loc[df_fixed.index].index, inplace=True)"
   ]
  },
  {
   "cell_type": "code",
   "execution_count": 3350,
   "metadata": {},
   "outputs": [
    {
     "data": {
      "text/plain": [
       "1.0"
      ]
     },
     "execution_count": 3350,
     "metadata": {},
     "output_type": "execute_result"
    }
   ],
   "source": [
    "false_positives = df_total[df_total.Prediction==0].CutFree_Time > 60\n",
    "false_positives = false_positives[false_positives==True].count()\n",
    "\n",
    "true_positives = df_total[df_total.Prediction==1].CutFree_Time > 60\n",
    "true_positives = true_positives[true_positives==True].count()\n",
    "\n",
    "ensemble_sensitivity = true_positives / (true_positives + false_positives)\n",
    "ensemble_sensitivity"
   ]
  },
  {
   "cell_type": "code",
   "execution_count": 3351,
   "metadata": {},
   "outputs": [],
   "source": [
    "with open(\"results/ensemble_sensitivity_results.csv\", \"a\") as f:\n",
    "    writer = csv.writer(f)\n",
    "    writer.writerow([ensemble_sensitivity])"
   ]
  },
  {
   "cell_type": "code",
   "execution_count": 3352,
   "metadata": {},
   "outputs": [
    {
     "name": "stdout",
     "output_type": "stream",
     "text": [
      "Average Sensitivity: 1.00000 +/- 0.00000\n",
      "Number of Trials: 17\n"
     ]
    }
   ],
   "source": [
    "average_sensitivity = np.array([])\n",
    "n = 0\n",
    "\n",
    "with open(\"results/ensemble_sensitivity_results.csv\", \"r\") as f:\n",
    "    reader = csv.reader(f)\n",
    "    for row in reader:\n",
    "        if row != []:\n",
    "            average_sensitivity = np.append(average_sensitivity, float(row[0]))\n",
    "            n += 1\n",
    "\n",
    "print(f\"Average Sensitivity: {average_sensitivity.mean():.5f} +/- {average_sensitivity.std():.5f}\")\n",
    "print(f\"Number of Trials: {n}\")"
   ]
  },
  {
   "cell_type": "markdown",
   "metadata": {},
   "source": [
    "# Save Model"
   ]
  },
  {
   "cell_type": "code",
   "execution_count": 3353,
   "metadata": {},
   "outputs": [],
   "source": [
    "# with open(\"cutfree_model.pkl\", \"wb\") as f:\n",
    "#     pickle.dump(class_NN, f)"
   ]
  },
  {
   "cell_type": "code",
   "execution_count": 3354,
   "metadata": {},
   "outputs": [],
   "source": [
    "# with open(\"../cutfree-models/cutfree_model.pkl\", \"rb\") as f:\n",
    "#     model = pickle.load(f)\n",
    "# model.predict([[6, 1, 4]])"
   ]
  },
  {
   "cell_type": "code",
   "execution_count": null,
   "metadata": {},
   "outputs": [],
   "source": []
  }
 ],
 "metadata": {
  "kernelspec": {
   "display_name": "base",
   "language": "python",
   "name": "python3"
  },
  "language_info": {
   "codemirror_mode": {
    "name": "ipython",
    "version": 3
   },
   "file_extension": ".py",
   "mimetype": "text/x-python",
   "name": "python",
   "nbconvert_exporter": "python",
   "pygments_lexer": "ipython3",
   "version": "3.9.7"
  }
 },
 "nbformat": 4,
 "nbformat_minor": 4
}
