{
 "cells": [
  {
   "cell_type": "markdown",
   "metadata": {},
   "source": [
    "# Import Dependencies"
   ]
  },
  {
   "cell_type": "code",
   "execution_count": 6,
   "metadata": {},
   "outputs": [],
   "source": [
    "# System\n",
    "import os\n",
    "\n",
    "# Data Analysis\n",
    "import numpy as np\n",
    "import pandas as pd\n",
    "import seaborn as sns\n",
    "import matplotlib.pyplot as plt\n",
    "\n",
    "# Machine Learning\n",
    "from sklearn.model_selection import train_test_split, GridSearchCV\n",
    "from sklearn.neural_network import MLPClassifier\n",
    "from sklearn.metrics import accuracy_score, classification_report, plot_confusion_matrix\n",
    "\n",
    "import tensorflow as tf\n",
    "\n",
    "import pickle"
   ]
  },
  {
   "cell_type": "markdown",
   "metadata": {},
   "source": [
    "# Get Data"
   ]
  },
  {
   "cell_type": "code",
   "execution_count": 7,
   "metadata": {},
   "outputs": [
    {
     "data": {
      "text/plain": [
       "Oligo                        NNNNNN\n",
       "OligoLength                       6\n",
       "Sites                   Any[\"YATR\"]\n",
       "TotalSites                        1\n",
       "SiteLength                        4\n",
       "CutFree_Randomer             NBNVVN\n",
       "CutFree_Degeneracy          7.45472\n",
       "CutFree_Time               0.006211\n",
       "CutFreeRL_Randomer           NNVVVN\n",
       "CutFreeRL_Degeneracy        7.45472\n",
       "CutFreeRL_Time             0.228063\n",
       "Name: 0, dtype: object"
      ]
     },
     "execution_count": 7,
     "metadata": {},
     "output_type": "execute_result"
    }
   ],
   "source": [
    "file_path = os.path.normpath(os.getcwd() + os.sep + os.pardir) + \"/cutfree-simulations/runtime_data_v2.csv\"\n",
    "df_original = pd.read_csv(file_path)\n",
    "df = df_original.copy()\n",
    "df.iloc[0]"
   ]
  },
  {
   "cell_type": "code",
   "execution_count": 8,
   "metadata": {},
   "outputs": [
    {
     "data": {
      "text/html": [
       "<div>\n",
       "<style scoped>\n",
       "    .dataframe tbody tr th:only-of-type {\n",
       "        vertical-align: middle;\n",
       "    }\n",
       "\n",
       "    .dataframe tbody tr th {\n",
       "        vertical-align: top;\n",
       "    }\n",
       "\n",
       "    .dataframe thead th {\n",
       "        text-align: right;\n",
       "    }\n",
       "</style>\n",
       "<table border=\"1\" class=\"dataframe\">\n",
       "  <thead>\n",
       "    <tr style=\"text-align: right;\">\n",
       "      <th></th>\n",
       "      <th>Oligo</th>\n",
       "      <th>OligoLength</th>\n",
       "      <th>Sites</th>\n",
       "      <th>TotalSites</th>\n",
       "      <th>SiteLength</th>\n",
       "      <th>CutFree_Randomer</th>\n",
       "      <th>CutFree_Degeneracy</th>\n",
       "      <th>CutFree_Time</th>\n",
       "      <th>CutFreeRL_Randomer</th>\n",
       "      <th>CutFreeRL_Degeneracy</th>\n",
       "      <th>CutFreeRL_Time</th>\n",
       "    </tr>\n",
       "  </thead>\n",
       "  <tbody>\n",
       "    <tr>\n",
       "      <th>0</th>\n",
       "      <td>NNNNNN</td>\n",
       "      <td>6</td>\n",
       "      <td>Any[\"YATR\"]</td>\n",
       "      <td>1</td>\n",
       "      <td>4</td>\n",
       "      <td>NBNVVN</td>\n",
       "      <td>7.454720</td>\n",
       "      <td>0.006211</td>\n",
       "      <td>NNVVVN</td>\n",
       "      <td>7.454720</td>\n",
       "      <td>0.228063</td>\n",
       "    </tr>\n",
       "    <tr>\n",
       "      <th>1750</th>\n",
       "      <td>NNNNNN</td>\n",
       "      <td>6</td>\n",
       "      <td>Any[\"GATC\"]</td>\n",
       "      <td>1</td>\n",
       "      <td>4</td>\n",
       "      <td>HNNNDD</td>\n",
       "      <td>7.454720</td>\n",
       "      <td>0.006383</td>\n",
       "      <td>NNNDDD</td>\n",
       "      <td>7.454720</td>\n",
       "      <td>0.225150</td>\n",
       "    </tr>\n",
       "    <tr>\n",
       "      <th>3500</th>\n",
       "      <td>NNNNNN</td>\n",
       "      <td>6</td>\n",
       "      <td>Any[\"GGCC\"]</td>\n",
       "      <td>1</td>\n",
       "      <td>4</td>\n",
       "      <td>NHNNDN</td>\n",
       "      <td>7.742402</td>\n",
       "      <td>0.007255</td>\n",
       "      <td>NNNDND</td>\n",
       "      <td>7.742402</td>\n",
       "      <td>0.080954</td>\n",
       "    </tr>\n",
       "  </tbody>\n",
       "</table>\n",
       "</div>"
      ],
      "text/plain": [
       "       Oligo  OligoLength        Sites  TotalSites  SiteLength  \\\n",
       "0     NNNNNN            6  Any[\"YATR\"]           1           4   \n",
       "1750  NNNNNN            6  Any[\"GATC\"]           1           4   \n",
       "3500  NNNNNN            6  Any[\"GGCC\"]           1           4   \n",
       "\n",
       "     CutFree_Randomer  CutFree_Degeneracy  CutFree_Time CutFreeRL_Randomer  \\\n",
       "0              NBNVVN            7.454720      0.006211             NNVVVN   \n",
       "1750           HNNNDD            7.454720      0.006383             NNNDDD   \n",
       "3500           NHNNDN            7.742402      0.007255             NNNDND   \n",
       "\n",
       "      CutFreeRL_Degeneracy  CutFreeRL_Time  \n",
       "0                 7.454720        0.228063  \n",
       "1750              7.454720        0.225150  \n",
       "3500              7.742402        0.080954  "
      ]
     },
     "execution_count": 8,
     "metadata": {},
     "output_type": "execute_result"
    }
   ],
   "source": [
    "df.loc[(df[\"OligoLength\"] == 6) & (df[\"TotalSites\"] == 1) & (df[\"SiteLength\"] == 4)]"
   ]
  },
  {
   "attachments": {},
   "cell_type": "markdown",
   "metadata": {
    "tags": []
   },
   "source": [
    "# Data Classification"
   ]
  },
  {
   "cell_type": "code",
   "execution_count": 9,
   "metadata": {},
   "outputs": [
    {
     "data": {
      "text/html": [
       "<div>\n",
       "<style scoped>\n",
       "    .dataframe tbody tr th:only-of-type {\n",
       "        vertical-align: middle;\n",
       "    }\n",
       "\n",
       "    .dataframe tbody tr th {\n",
       "        vertical-align: top;\n",
       "    }\n",
       "\n",
       "    .dataframe thead th {\n",
       "        text-align: right;\n",
       "    }\n",
       "</style>\n",
       "<table border=\"1\" class=\"dataframe\">\n",
       "  <thead>\n",
       "    <tr style=\"text-align: right;\">\n",
       "      <th></th>\n",
       "      <th>OligoLength</th>\n",
       "      <th>TotalSites</th>\n",
       "      <th>SiteLength</th>\n",
       "      <th>Algorithm</th>\n",
       "      <th>CutFree_Time</th>\n",
       "      <th>CutFreeRL_Time</th>\n",
       "    </tr>\n",
       "  </thead>\n",
       "  <tbody>\n",
       "    <tr>\n",
       "      <th>0</th>\n",
       "      <td>6</td>\n",
       "      <td>1</td>\n",
       "      <td>4</td>\n",
       "      <td>0</td>\n",
       "      <td>0.006211</td>\n",
       "      <td>0.228063</td>\n",
       "    </tr>\n",
       "    <tr>\n",
       "      <th>1</th>\n",
       "      <td>6</td>\n",
       "      <td>2</td>\n",
       "      <td>4</td>\n",
       "      <td>0</td>\n",
       "      <td>0.007820</td>\n",
       "      <td>0.087950</td>\n",
       "    </tr>\n",
       "    <tr>\n",
       "      <th>2</th>\n",
       "      <td>6</td>\n",
       "      <td>3</td>\n",
       "      <td>4</td>\n",
       "      <td>0</td>\n",
       "      <td>0.010071</td>\n",
       "      <td>0.136403</td>\n",
       "    </tr>\n",
       "    <tr>\n",
       "      <th>3</th>\n",
       "      <td>6</td>\n",
       "      <td>4</td>\n",
       "      <td>4</td>\n",
       "      <td>0</td>\n",
       "      <td>0.013531</td>\n",
       "      <td>0.150443</td>\n",
       "    </tr>\n",
       "    <tr>\n",
       "      <th>4</th>\n",
       "      <td>6</td>\n",
       "      <td>5</td>\n",
       "      <td>4</td>\n",
       "      <td>0</td>\n",
       "      <td>0.013882</td>\n",
       "      <td>0.183784</td>\n",
       "    </tr>\n",
       "    <tr>\n",
       "      <th>...</th>\n",
       "      <td>...</td>\n",
       "      <td>...</td>\n",
       "      <td>...</td>\n",
       "      <td>...</td>\n",
       "      <td>...</td>\n",
       "      <td>...</td>\n",
       "    </tr>\n",
       "    <tr>\n",
       "      <th>5244</th>\n",
       "      <td>40</td>\n",
       "      <td>6</td>\n",
       "      <td>8</td>\n",
       "      <td>1</td>\n",
       "      <td>12.737720</td>\n",
       "      <td>4.200124</td>\n",
       "    </tr>\n",
       "    <tr>\n",
       "      <th>5245</th>\n",
       "      <td>40</td>\n",
       "      <td>7</td>\n",
       "      <td>8</td>\n",
       "      <td>1</td>\n",
       "      <td>60.120769</td>\n",
       "      <td>3.009765</td>\n",
       "    </tr>\n",
       "    <tr>\n",
       "      <th>5246</th>\n",
       "      <td>40</td>\n",
       "      <td>8</td>\n",
       "      <td>8</td>\n",
       "      <td>1</td>\n",
       "      <td>60.379011</td>\n",
       "      <td>3.989743</td>\n",
       "    </tr>\n",
       "    <tr>\n",
       "      <th>5247</th>\n",
       "      <td>40</td>\n",
       "      <td>9</td>\n",
       "      <td>8</td>\n",
       "      <td>1</td>\n",
       "      <td>60.156297</td>\n",
       "      <td>3.611050</td>\n",
       "    </tr>\n",
       "    <tr>\n",
       "      <th>5248</th>\n",
       "      <td>40</td>\n",
       "      <td>10</td>\n",
       "      <td>8</td>\n",
       "      <td>1</td>\n",
       "      <td>60.159604</td>\n",
       "      <td>4.173604</td>\n",
       "    </tr>\n",
       "  </tbody>\n",
       "</table>\n",
       "<p>5249 rows × 6 columns</p>\n",
       "</div>"
      ],
      "text/plain": [
       "      OligoLength  TotalSites  SiteLength  Algorithm  CutFree_Time  \\\n",
       "0               6           1           4          0      0.006211   \n",
       "1               6           2           4          0      0.007820   \n",
       "2               6           3           4          0      0.010071   \n",
       "3               6           4           4          0      0.013531   \n",
       "4               6           5           4          0      0.013882   \n",
       "...           ...         ...         ...        ...           ...   \n",
       "5244           40           6           8          1     12.737720   \n",
       "5245           40           7           8          1     60.120769   \n",
       "5246           40           8           8          1     60.379011   \n",
       "5247           40           9           8          1     60.156297   \n",
       "5248           40          10           8          1     60.159604   \n",
       "\n",
       "      CutFreeRL_Time  \n",
       "0           0.228063  \n",
       "1           0.087950  \n",
       "2           0.136403  \n",
       "3           0.150443  \n",
       "4           0.183784  \n",
       "...              ...  \n",
       "5244        4.200124  \n",
       "5245        3.009765  \n",
       "5246        3.989743  \n",
       "5247        3.611050  \n",
       "5248        4.173604  \n",
       "\n",
       "[5249 rows x 6 columns]"
      ]
     },
     "execution_count": 9,
     "metadata": {},
     "output_type": "execute_result"
    }
   ],
   "source": [
    "conditions = [\n",
    "    (df[\"CutFree_Time\"] <= df[\"CutFreeRL_Time\"]),\n",
    "    (df[\"CutFree_Time\"] > df[\"CutFreeRL_Time\"])\n",
    "]\n",
    "\n",
    "values = [0, 1] # 0 = CutFree, 1 = CutFreeRL\n",
    "\n",
    "df[\"Algorithm\"] = np.select(conditions, values)\n",
    "df = df[[\"OligoLength\", \"TotalSites\", \"SiteLength\", \"Algorithm\", \"CutFree_Time\", \"CutFreeRL_Time\"]]\n",
    "df"
   ]
  },
  {
   "attachments": {},
   "cell_type": "markdown",
   "metadata": {},
   "source": [
    "# Rejection Sampling"
   ]
  },
  {
   "cell_type": "code",
   "execution_count": 10,
   "metadata": {},
   "outputs": [
    {
     "name": "stdout",
     "output_type": "stream",
     "text": [
      "3731\n",
      "1518\n"
     ]
    }
   ],
   "source": [
    "numCutFree = df[df.Algorithm == 0].shape[0]\n",
    "print(numCutFree)\n",
    "\n",
    "numCutFreeRL = df[df.Algorithm == 1].shape[0]\n",
    "print(numCutFreeRL)"
   ]
  },
  {
   "cell_type": "code",
   "execution_count": 11,
   "metadata": {},
   "outputs": [
    {
     "data": {
      "text/html": [
       "<div>\n",
       "<style scoped>\n",
       "    .dataframe tbody tr th:only-of-type {\n",
       "        vertical-align: middle;\n",
       "    }\n",
       "\n",
       "    .dataframe tbody tr th {\n",
       "        vertical-align: top;\n",
       "    }\n",
       "\n",
       "    .dataframe thead th {\n",
       "        text-align: right;\n",
       "    }\n",
       "</style>\n",
       "<table border=\"1\" class=\"dataframe\">\n",
       "  <thead>\n",
       "    <tr style=\"text-align: right;\">\n",
       "      <th></th>\n",
       "      <th>OligoLength</th>\n",
       "      <th>TotalSites</th>\n",
       "      <th>SiteLength</th>\n",
       "      <th>Algorithm</th>\n",
       "      <th>CutFree_Time</th>\n",
       "      <th>CutFreeRL_Time</th>\n",
       "    </tr>\n",
       "  </thead>\n",
       "  <tbody>\n",
       "    <tr>\n",
       "      <th>0</th>\n",
       "      <td>6</td>\n",
       "      <td>1</td>\n",
       "      <td>4</td>\n",
       "      <td>0</td>\n",
       "      <td>0.006211</td>\n",
       "      <td>0.228063</td>\n",
       "    </tr>\n",
       "    <tr>\n",
       "      <th>1</th>\n",
       "      <td>6</td>\n",
       "      <td>2</td>\n",
       "      <td>4</td>\n",
       "      <td>0</td>\n",
       "      <td>0.007820</td>\n",
       "      <td>0.087950</td>\n",
       "    </tr>\n",
       "    <tr>\n",
       "      <th>5</th>\n",
       "      <td>6</td>\n",
       "      <td>6</td>\n",
       "      <td>4</td>\n",
       "      <td>0</td>\n",
       "      <td>0.011498</td>\n",
       "      <td>0.194223</td>\n",
       "    </tr>\n",
       "    <tr>\n",
       "      <th>9</th>\n",
       "      <td>6</td>\n",
       "      <td>10</td>\n",
       "      <td>4</td>\n",
       "      <td>0</td>\n",
       "      <td>0.021175</td>\n",
       "      <td>0.262876</td>\n",
       "    </tr>\n",
       "    <tr>\n",
       "      <th>10</th>\n",
       "      <td>6</td>\n",
       "      <td>1</td>\n",
       "      <td>5</td>\n",
       "      <td>0</td>\n",
       "      <td>0.004702</td>\n",
       "      <td>0.119446</td>\n",
       "    </tr>\n",
       "    <tr>\n",
       "      <th>...</th>\n",
       "      <td>...</td>\n",
       "      <td>...</td>\n",
       "      <td>...</td>\n",
       "      <td>...</td>\n",
       "      <td>...</td>\n",
       "      <td>...</td>\n",
       "    </tr>\n",
       "    <tr>\n",
       "      <th>5244</th>\n",
       "      <td>40</td>\n",
       "      <td>6</td>\n",
       "      <td>8</td>\n",
       "      <td>1</td>\n",
       "      <td>12.737720</td>\n",
       "      <td>4.200124</td>\n",
       "    </tr>\n",
       "    <tr>\n",
       "      <th>5245</th>\n",
       "      <td>40</td>\n",
       "      <td>7</td>\n",
       "      <td>8</td>\n",
       "      <td>1</td>\n",
       "      <td>60.120769</td>\n",
       "      <td>3.009765</td>\n",
       "    </tr>\n",
       "    <tr>\n",
       "      <th>5246</th>\n",
       "      <td>40</td>\n",
       "      <td>8</td>\n",
       "      <td>8</td>\n",
       "      <td>1</td>\n",
       "      <td>60.379011</td>\n",
       "      <td>3.989743</td>\n",
       "    </tr>\n",
       "    <tr>\n",
       "      <th>5247</th>\n",
       "      <td>40</td>\n",
       "      <td>9</td>\n",
       "      <td>8</td>\n",
       "      <td>1</td>\n",
       "      <td>60.156297</td>\n",
       "      <td>3.611050</td>\n",
       "    </tr>\n",
       "    <tr>\n",
       "      <th>5248</th>\n",
       "      <td>40</td>\n",
       "      <td>10</td>\n",
       "      <td>8</td>\n",
       "      <td>1</td>\n",
       "      <td>60.159604</td>\n",
       "      <td>4.173604</td>\n",
       "    </tr>\n",
       "  </tbody>\n",
       "</table>\n",
       "<p>3036 rows × 6 columns</p>\n",
       "</div>"
      ],
      "text/plain": [
       "      OligoLength  TotalSites  SiteLength  Algorithm  CutFree_Time  \\\n",
       "0               6           1           4          0      0.006211   \n",
       "1               6           2           4          0      0.007820   \n",
       "5               6           6           4          0      0.011498   \n",
       "9               6          10           4          0      0.021175   \n",
       "10              6           1           5          0      0.004702   \n",
       "...           ...         ...         ...        ...           ...   \n",
       "5244           40           6           8          1     12.737720   \n",
       "5245           40           7           8          1     60.120769   \n",
       "5246           40           8           8          1     60.379011   \n",
       "5247           40           9           8          1     60.156297   \n",
       "5248           40          10           8          1     60.159604   \n",
       "\n",
       "      CutFreeRL_Time  \n",
       "0           0.228063  \n",
       "1           0.087950  \n",
       "5           0.194223  \n",
       "9           0.262876  \n",
       "10          0.119446  \n",
       "...              ...  \n",
       "5244        4.200124  \n",
       "5245        3.009765  \n",
       "5246        3.989743  \n",
       "5247        3.611050  \n",
       "5248        4.173604  \n",
       "\n",
       "[3036 rows x 6 columns]"
      ]
     },
     "execution_count": 11,
     "metadata": {},
     "output_type": "execute_result"
    }
   ],
   "source": [
    "df_rejection = df[df.Algorithm == 0].sample(numCutFree-numCutFreeRL, random_state=2)\n",
    "df = df.drop(df_rejection.index)\n",
    "df"
   ]
  },
  {
   "cell_type": "code",
   "execution_count": 12,
   "metadata": {},
   "outputs": [
    {
     "name": "stdout",
     "output_type": "stream",
     "text": [
      "1518\n",
      "1518\n"
     ]
    }
   ],
   "source": [
    "numCutFree = df[df.Algorithm == 0].shape[0]\n",
    "print(numCutFree)\n",
    "\n",
    "numCutFreeRL = df[df.Algorithm == 1].shape[0]\n",
    "print(numCutFreeRL)"
   ]
  },
  {
   "cell_type": "code",
   "execution_count": 13,
   "metadata": {},
   "outputs": [],
   "source": [
    "df_total = df.copy()\n",
    "df = df[[\"OligoLength\", \"TotalSites\", \"SiteLength\", \"Algorithm\"]]"
   ]
  },
  {
   "attachments": {},
   "cell_type": "markdown",
   "metadata": {},
   "source": [
    "# Visualize Data"
   ]
  },
  {
   "cell_type": "code",
   "execution_count": 14,
   "metadata": {},
   "outputs": [
    {
     "data": {
      "image/png": "[encoded data removed]",
      "text/plain": [
       "<Figure size 597x540 with 12 Axes>"
      ]
     },
     "metadata": {
      "needs_background": "light"
     },
     "output_type": "display_data"
    }
   ],
   "source": [
    "pair_plot = sns.pairplot(df, hue=\"Algorithm\", diag_kind=\"kde\")\n",
    "new_labels = [\"CutFree\", \"CutFreeRL\"]\n",
    "for t, l in zip(pair_plot._legend.texts, new_labels):\n",
    "    t.set_text(l)\n",
    "plt.show(pair_plot)"
   ]
  },
  {
   "attachments": {},
   "cell_type": "markdown",
   "metadata": {
    "tags": []
   },
   "source": [
    "# Get Train/Test Split"
   ]
  },
  {
   "cell_type": "code",
   "execution_count": 15,
   "metadata": {},
   "outputs": [],
   "source": [
    "x = df.drop([\"Algorithm\"], axis=1)\n",
    "y = df[\"Algorithm\"]"
   ]
  },
  {
   "cell_type": "code",
   "execution_count": 16,
   "metadata": {},
   "outputs": [
    {
     "data": {
      "text/html": [
       "<div>\n",
       "<style scoped>\n",
       "    .dataframe tbody tr th:only-of-type {\n",
       "        vertical-align: middle;\n",
       "    }\n",
       "\n",
       "    .dataframe tbody tr th {\n",
       "        vertical-align: top;\n",
       "    }\n",
       "\n",
       "    .dataframe thead th {\n",
       "        text-align: right;\n",
       "    }\n",
       "</style>\n",
       "<table border=\"1\" class=\"dataframe\">\n",
       "  <thead>\n",
       "    <tr style=\"text-align: right;\">\n",
       "      <th></th>\n",
       "      <th>OligoLength</th>\n",
       "      <th>TotalSites</th>\n",
       "      <th>SiteLength</th>\n",
       "    </tr>\n",
       "  </thead>\n",
       "  <tbody>\n",
       "    <tr>\n",
       "      <th>4304</th>\n",
       "      <td>22</td>\n",
       "      <td>5</td>\n",
       "      <td>4</td>\n",
       "    </tr>\n",
       "    <tr>\n",
       "      <th>2673</th>\n",
       "      <td>24</td>\n",
       "      <td>4</td>\n",
       "      <td>6</td>\n",
       "    </tr>\n",
       "    <tr>\n",
       "      <th>554</th>\n",
       "      <td>17</td>\n",
       "      <td>5</td>\n",
       "      <td>4</td>\n",
       "    </tr>\n",
       "    <tr>\n",
       "      <th>4197</th>\n",
       "      <td>19</td>\n",
       "      <td>8</td>\n",
       "      <td>8</td>\n",
       "    </tr>\n",
       "    <tr>\n",
       "      <th>3409</th>\n",
       "      <td>39</td>\n",
       "      <td>10</td>\n",
       "      <td>4</td>\n",
       "    </tr>\n",
       "  </tbody>\n",
       "</table>\n",
       "</div>"
      ],
      "text/plain": [
       "      OligoLength  TotalSites  SiteLength\n",
       "4304           22           5           4\n",
       "2673           24           4           6\n",
       "554            17           5           4\n",
       "4197           19           8           8\n",
       "3409           39          10           4"
      ]
     },
     "execution_count": 16,
     "metadata": {},
     "output_type": "execute_result"
    }
   ],
   "source": [
    "x_train_df, x_test_df, y_train_df, y_test_df = train_test_split(x, y, test_size=0.2, random_state=1)\n",
    "x_train_df.head()"
   ]
  },
  {
   "cell_type": "code",
   "execution_count": 17,
   "metadata": {},
   "outputs": [
    {
     "data": {
      "text/plain": [
       "4304    1\n",
       "2673    1\n",
       "554     0\n",
       "4197    1\n",
       "3409    0\n",
       "Name: Algorithm, dtype: int32"
      ]
     },
     "execution_count": 17,
     "metadata": {},
     "output_type": "execute_result"
    }
   ],
   "source": [
    "y_train_df.head()"
   ]
  },
  {
   "cell_type": "code",
   "execution_count": 18,
   "metadata": {},
   "outputs": [],
   "source": [
    "x_train, y_train = tf.convert_to_tensor(x_train_df, dtype=tf.float32), tf.convert_to_tensor(y_train_df, dtype=tf.float32)\n",
    "x_test, y_test = tf.convert_to_tensor(x_test_df, dtype=tf.float32), tf.convert_to_tensor(y_test_df, dtype=tf.float32)"
   ]
  },
  {
   "cell_type": "code",
   "execution_count": 19,
   "metadata": {},
   "outputs": [
    {
     "data": {
      "text/plain": [
       "<tf.Tensor: shape=(2428, 3), dtype=float32, numpy=\n",
       "array([[22.,  5.,  4.],\n",
       "       [24.,  4.,  6.],\n",
       "       [17.,  5.,  4.],\n",
       "       ...,\n",
       "       [11., 10.,  5.],\n",
       "       [17.,  5.,  7.],\n",
       "       [ 9., 10.,  7.]], dtype=float32)>"
      ]
     },
     "execution_count": 19,
     "metadata": {},
     "output_type": "execute_result"
    }
   ],
   "source": [
    "x_train"
   ]
  },
  {
   "attachments": {},
   "cell_type": "markdown",
   "metadata": {},
   "source": [
    "# Machine Learning"
   ]
  },
  {
   "attachments": {},
   "cell_type": "markdown",
   "metadata": {},
   "source": [
    "### Accuracy Function"
   ]
  },
  {
   "cell_type": "code",
   "execution_count": 20,
   "metadata": {},
   "outputs": [],
   "source": [
    "def get_accuracy(pred, true):\n",
    "    test_accuracy = accuracy_score(pred, true)*100\n",
    "    print(\"Accuracy: {:.2f}%\".format(test_accuracy))\n",
    "    return test_accuracy"
   ]
  },
  {
   "attachments": {},
   "cell_type": "markdown",
   "metadata": {},
   "source": [
    "### TensorFlow NN"
   ]
  },
  {
   "cell_type": "code",
   "execution_count": 21,
   "metadata": {},
   "outputs": [
    {
     "name": "stdout",
     "output_type": "stream",
     "text": [
      "Model: \"sequential\"\n",
      "_________________________________________________________________\n",
      " Layer (type)                Output Shape              Param #   \n",
      "=================================================================\n",
      " dense (Dense)               (None, 32)                128       \n",
      "                                                                 \n",
      " dense_1 (Dense)             (None, 32)                1056      \n",
      "                                                                 \n",
      " dropout (Dropout)           (None, 32)                0         \n",
      "                                                                 \n",
      " dense_2 (Dense)             (None, 16)                528       \n",
      "                                                                 \n",
      " dense_3 (Dense)             (None, 16)                272       \n",
      "                                                                 \n",
      " dense_4 (Dense)             (None, 8)                 136       \n",
      "                                                                 \n",
      " dense_5 (Dense)             (None, 1)                 9         \n",
      "                                                                 \n",
      "=================================================================\n",
      "Total params: 2,129\n",
      "Trainable params: 2,129\n",
      "Non-trainable params: 0\n",
      "_________________________________________________________________\n"
     ]
    }
   ],
   "source": [
    "model = tf.keras.Sequential([\n",
    "    tf.keras.layers.Dense(32, activation=\"tanh\", input_shape=(3,)),\n",
    "    tf.keras.layers.Dense(32, activation=\"tanh\"),\n",
    "    tf.keras.layers.Dropout(0.2),\n",
    "    tf.keras.layers.Dense(16, activation=\"tanh\"),\n",
    "    tf.keras.layers.Dense(16, activation=\"tanh\"),\n",
    "    tf.keras.layers.Dense(8, activation=\"tanh\"),\n",
    "    tf.keras.layers.Dense(1, activation=\"sigmoid\")\n",
    "])\n",
    "\n",
    "model.summary()"
   ]
  },
  {
   "cell_type": "code",
   "execution_count": 22,
   "metadata": {},
   "outputs": [
    {
     "name": "stdout",
     "output_type": "stream",
     "text": [
      "Epoch 1/100\n",
      "76/76 [==============================] - 1s 4ms/step - loss: 0.2553 - accuracy: 0.4872 - val_loss: 0.2494 - val_accuracy: 0.5378\n",
      "Epoch 2/100\n",
      "76/76 [==============================] - 0s 1ms/step - loss: 0.2535 - accuracy: 0.4955 - val_loss: 0.2476 - val_accuracy: 0.5757\n",
      "Epoch 3/100\n",
      "76/76 [==============================] - 0s 1ms/step - loss: 0.2509 - accuracy: 0.5255 - val_loss: 0.2461 - val_accuracy: 0.5855\n",
      "Epoch 4/100\n",
      "76/76 [==============================] - 0s 2ms/step - loss: 0.2505 - accuracy: 0.5239 - val_loss: 0.2444 - val_accuracy: 0.6086\n",
      "Epoch 5/100\n",
      "76/76 [==============================] - 0s 1ms/step - loss: 0.2485 - accuracy: 0.5309 - val_loss: 0.2429 - val_accuracy: 0.6234\n",
      "Epoch 6/100\n",
      "76/76 [==============================] - 0s 1ms/step - loss: 0.2473 - accuracy: 0.5560 - val_loss: 0.2414 - val_accuracy: 0.6283\n",
      "Epoch 7/100\n",
      "76/76 [==============================] - 0s 1ms/step - loss: 0.2450 - accuracy: 0.5577 - val_loss: 0.2400 - val_accuracy: 0.6382\n",
      "Epoch 8/100\n",
      "76/76 [==============================] - 0s 2ms/step - loss: 0.2425 - accuracy: 0.5783 - val_loss: 0.2385 - val_accuracy: 0.6497\n",
      "Epoch 9/100\n",
      "76/76 [==============================] - 0s 1ms/step - loss: 0.2433 - accuracy: 0.5770 - val_loss: 0.2371 - val_accuracy: 0.6530\n",
      "Epoch 10/100\n",
      "76/76 [==============================] - 0s 1ms/step - loss: 0.2407 - accuracy: 0.5902 - val_loss: 0.2356 - val_accuracy: 0.6530\n",
      "Epoch 11/100\n",
      "76/76 [==============================] - 0s 1ms/step - loss: 0.2407 - accuracy: 0.5898 - val_loss: 0.2342 - val_accuracy: 0.6562\n",
      "Epoch 12/100\n",
      "76/76 [==============================] - 0s 1ms/step - loss: 0.2386 - accuracy: 0.6017 - val_loss: 0.2328 - val_accuracy: 0.6595\n",
      "Epoch 13/100\n",
      "76/76 [==============================] - 0s 1ms/step - loss: 0.2399 - accuracy: 0.5894 - val_loss: 0.2315 - val_accuracy: 0.6612\n",
      "Epoch 14/100\n",
      "76/76 [==============================] - 0s 2ms/step - loss: 0.2369 - accuracy: 0.6129 - val_loss: 0.2301 - val_accuracy: 0.6678\n",
      "Epoch 15/100\n",
      "76/76 [==============================] - 0s 2ms/step - loss: 0.2336 - accuracy: 0.6256 - val_loss: 0.2287 - val_accuracy: 0.6727\n",
      "Epoch 16/100\n",
      "76/76 [==============================] - 0s 1ms/step - loss: 0.2339 - accuracy: 0.6236 - val_loss: 0.2273 - val_accuracy: 0.6776\n",
      "Epoch 17/100\n",
      "76/76 [==============================] - 0s 1ms/step - loss: 0.2333 - accuracy: 0.6277 - val_loss: 0.2260 - val_accuracy: 0.6793\n",
      "Epoch 18/100\n",
      "76/76 [==============================] - 0s 1ms/step - loss: 0.2326 - accuracy: 0.6277 - val_loss: 0.2246 - val_accuracy: 0.6859\n",
      "Epoch 19/100\n",
      "76/76 [==============================] - 0s 1ms/step - loss: 0.2311 - accuracy: 0.6384 - val_loss: 0.2232 - val_accuracy: 0.6891\n",
      "Epoch 20/100\n",
      "76/76 [==============================] - 0s 1ms/step - loss: 0.2268 - accuracy: 0.6598 - val_loss: 0.2218 - val_accuracy: 0.6891\n",
      "Epoch 21/100\n",
      "76/76 [==============================] - 0s 1ms/step - loss: 0.2271 - accuracy: 0.6610 - val_loss: 0.2204 - val_accuracy: 0.6974\n",
      "Epoch 22/100\n",
      "76/76 [==============================] - 0s 2ms/step - loss: 0.2264 - accuracy: 0.6598 - val_loss: 0.2190 - val_accuracy: 0.6990\n",
      "Epoch 23/100\n",
      "76/76 [==============================] - 0s 1ms/step - loss: 0.2235 - accuracy: 0.6767 - val_loss: 0.2176 - val_accuracy: 0.7105\n",
      "Epoch 24/100\n",
      "76/76 [==============================] - 0s 1ms/step - loss: 0.2254 - accuracy: 0.6623 - val_loss: 0.2162 - val_accuracy: 0.7188\n",
      "Epoch 25/100\n",
      "76/76 [==============================] - 0s 1ms/step - loss: 0.2239 - accuracy: 0.6808 - val_loss: 0.2148 - val_accuracy: 0.7237\n",
      "Epoch 26/100\n",
      "76/76 [==============================] - 0s 1ms/step - loss: 0.2213 - accuracy: 0.6825 - val_loss: 0.2134 - val_accuracy: 0.7352\n",
      "Epoch 27/100\n",
      "76/76 [==============================] - 0s 1ms/step - loss: 0.2220 - accuracy: 0.6750 - val_loss: 0.2120 - val_accuracy: 0.7434\n",
      "Epoch 28/100\n",
      "76/76 [==============================] - 0s 1ms/step - loss: 0.2197 - accuracy: 0.6771 - val_loss: 0.2106 - val_accuracy: 0.7500\n",
      "Epoch 29/100\n",
      "76/76 [==============================] - 0s 1ms/step - loss: 0.2171 - accuracy: 0.7035 - val_loss: 0.2092 - val_accuracy: 0.7533\n",
      "Epoch 30/100\n",
      "76/76 [==============================] - 0s 1ms/step - loss: 0.2148 - accuracy: 0.7138 - val_loss: 0.2078 - val_accuracy: 0.7599\n",
      "Epoch 31/100\n",
      "76/76 [==============================] - 0s 1ms/step - loss: 0.2152 - accuracy: 0.7030 - val_loss: 0.2063 - val_accuracy: 0.7632\n",
      "Epoch 32/100\n",
      "76/76 [==============================] - 0s 1ms/step - loss: 0.2147 - accuracy: 0.7117 - val_loss: 0.2049 - val_accuracy: 0.7681\n",
      "Epoch 33/100\n",
      "76/76 [==============================] - 0s 1ms/step - loss: 0.2126 - accuracy: 0.7133 - val_loss: 0.2036 - val_accuracy: 0.7664\n",
      "Epoch 34/100\n",
      "76/76 [==============================] - 0s 1ms/step - loss: 0.2107 - accuracy: 0.7171 - val_loss: 0.2022 - val_accuracy: 0.7664\n",
      "Epoch 35/100\n",
      "76/76 [==============================] - 0s 1ms/step - loss: 0.2102 - accuracy: 0.7150 - val_loss: 0.2007 - val_accuracy: 0.7697\n",
      "Epoch 36/100\n",
      "76/76 [==============================] - 0s 2ms/step - loss: 0.2089 - accuracy: 0.7228 - val_loss: 0.1993 - val_accuracy: 0.7747\n",
      "Epoch 37/100\n",
      "76/76 [==============================] - 0s 1ms/step - loss: 0.2075 - accuracy: 0.7302 - val_loss: 0.1978 - val_accuracy: 0.7780\n",
      "Epoch 38/100\n",
      "76/76 [==============================] - 0s 1ms/step - loss: 0.2067 - accuracy: 0.7154 - val_loss: 0.1964 - val_accuracy: 0.7796\n",
      "Epoch 39/100\n",
      "76/76 [==============================] - 0s 2ms/step - loss: 0.2049 - accuracy: 0.7319 - val_loss: 0.1950 - val_accuracy: 0.7796\n",
      "Epoch 40/100\n",
      "76/76 [==============================] - 0s 1ms/step - loss: 0.2039 - accuracy: 0.7311 - val_loss: 0.1936 - val_accuracy: 0.7829\n",
      "Epoch 41/100\n",
      "76/76 [==============================] - 0s 1ms/step - loss: 0.2015 - accuracy: 0.7352 - val_loss: 0.1922 - val_accuracy: 0.7829\n",
      "Epoch 42/100\n",
      "76/76 [==============================] - 0s 1ms/step - loss: 0.2012 - accuracy: 0.7294 - val_loss: 0.1908 - val_accuracy: 0.7895\n",
      "Epoch 43/100\n",
      "76/76 [==============================] - 0s 1ms/step - loss: 0.1995 - accuracy: 0.7426 - val_loss: 0.1895 - val_accuracy: 0.7878\n",
      "Epoch 44/100\n",
      "76/76 [==============================] - 0s 1ms/step - loss: 0.1999 - accuracy: 0.7488 - val_loss: 0.1881 - val_accuracy: 0.7878\n",
      "Epoch 45/100\n",
      "76/76 [==============================] - 0s 1ms/step - loss: 0.1991 - accuracy: 0.7368 - val_loss: 0.1868 - val_accuracy: 0.7928\n",
      "Epoch 46/100\n",
      "76/76 [==============================] - 0s 1ms/step - loss: 0.1954 - accuracy: 0.7414 - val_loss: 0.1854 - val_accuracy: 0.7944\n",
      "Epoch 47/100\n",
      "76/76 [==============================] - 0s 1ms/step - loss: 0.1944 - accuracy: 0.7512 - val_loss: 0.1841 - val_accuracy: 0.7944\n",
      "Epoch 48/100\n",
      "76/76 [==============================] - 0s 1ms/step - loss: 0.1931 - accuracy: 0.7512 - val_loss: 0.1828 - val_accuracy: 0.7944\n",
      "Epoch 49/100\n",
      "76/76 [==============================] - 0s 1ms/step - loss: 0.1925 - accuracy: 0.7471 - val_loss: 0.1815 - val_accuracy: 0.7944\n",
      "Epoch 50/100\n",
      "76/76 [==============================] - 0s 1ms/step - loss: 0.1917 - accuracy: 0.7537 - val_loss: 0.1802 - val_accuracy: 0.7928\n",
      "Epoch 51/100\n",
      "76/76 [==============================] - 0s 1ms/step - loss: 0.1893 - accuracy: 0.7574 - val_loss: 0.1789 - val_accuracy: 0.7928\n",
      "Epoch 52/100\n",
      "76/76 [==============================] - 0s 1ms/step - loss: 0.1872 - accuracy: 0.7578 - val_loss: 0.1776 - val_accuracy: 0.7928\n",
      "Epoch 53/100\n",
      "76/76 [==============================] - 0s 1ms/step - loss: 0.1853 - accuracy: 0.7599 - val_loss: 0.1764 - val_accuracy: 0.7895\n",
      "Epoch 54/100\n",
      "76/76 [==============================] - 0s 1ms/step - loss: 0.1855 - accuracy: 0.7558 - val_loss: 0.1751 - val_accuracy: 0.7895\n",
      "Epoch 55/100\n",
      "76/76 [==============================] - 0s 1ms/step - loss: 0.1856 - accuracy: 0.7599 - val_loss: 0.1740 - val_accuracy: 0.7928\n",
      "Epoch 56/100\n",
      "76/76 [==============================] - 0s 1ms/step - loss: 0.1849 - accuracy: 0.7562 - val_loss: 0.1728 - val_accuracy: 0.7911\n",
      "Epoch 57/100\n",
      "76/76 [==============================] - 0s 1ms/step - loss: 0.1831 - accuracy: 0.7698 - val_loss: 0.1717 - val_accuracy: 0.7911\n",
      "Epoch 58/100\n",
      "76/76 [==============================] - 0s 1ms/step - loss: 0.1837 - accuracy: 0.7574 - val_loss: 0.1706 - val_accuracy: 0.7928\n",
      "Epoch 59/100\n",
      "76/76 [==============================] - 0s 1ms/step - loss: 0.1798 - accuracy: 0.7731 - val_loss: 0.1695 - val_accuracy: 0.7911\n",
      "Epoch 60/100\n",
      "76/76 [==============================] - 0s 1ms/step - loss: 0.1794 - accuracy: 0.7764 - val_loss: 0.1684 - val_accuracy: 0.7911\n",
      "Epoch 61/100\n",
      "76/76 [==============================] - 0s 1ms/step - loss: 0.1780 - accuracy: 0.7694 - val_loss: 0.1673 - val_accuracy: 0.7895\n",
      "Epoch 62/100\n",
      "76/76 [==============================] - 0s 1ms/step - loss: 0.1783 - accuracy: 0.7558 - val_loss: 0.1663 - val_accuracy: 0.7878\n",
      "Epoch 63/100\n",
      "76/76 [==============================] - 0s 1ms/step - loss: 0.1738 - accuracy: 0.7735 - val_loss: 0.1653 - val_accuracy: 0.7895\n",
      "Epoch 64/100\n",
      "76/76 [==============================] - 0s 1ms/step - loss: 0.1751 - accuracy: 0.7669 - val_loss: 0.1644 - val_accuracy: 0.7944\n",
      "Epoch 65/100\n",
      "76/76 [==============================] - 0s 1ms/step - loss: 0.1735 - accuracy: 0.7743 - val_loss: 0.1635 - val_accuracy: 0.7911\n",
      "Epoch 66/100\n",
      "76/76 [==============================] - 0s 1ms/step - loss: 0.1746 - accuracy: 0.7714 - val_loss: 0.1626 - val_accuracy: 0.7944\n",
      "Epoch 67/100\n",
      "76/76 [==============================] - 0s 1ms/step - loss: 0.1731 - accuracy: 0.7735 - val_loss: 0.1617 - val_accuracy: 0.7895\n",
      "Epoch 68/100\n",
      "76/76 [==============================] - 0s 1ms/step - loss: 0.1714 - accuracy: 0.7722 - val_loss: 0.1609 - val_accuracy: 0.7911\n",
      "Epoch 69/100\n",
      "76/76 [==============================] - 0s 1ms/step - loss: 0.1726 - accuracy: 0.7731 - val_loss: 0.1601 - val_accuracy: 0.7911\n",
      "Epoch 70/100\n",
      "76/76 [==============================] - 0s 1ms/step - loss: 0.1709 - accuracy: 0.7710 - val_loss: 0.1593 - val_accuracy: 0.7911\n",
      "Epoch 71/100\n",
      "76/76 [==============================] - 0s 1ms/step - loss: 0.1704 - accuracy: 0.7673 - val_loss: 0.1586 - val_accuracy: 0.7911\n",
      "Epoch 72/100\n",
      "76/76 [==============================] - 0s 2ms/step - loss: 0.1686 - accuracy: 0.7747 - val_loss: 0.1579 - val_accuracy: 0.7911\n",
      "Epoch 73/100\n",
      "76/76 [==============================] - 0s 1ms/step - loss: 0.1659 - accuracy: 0.7768 - val_loss: 0.1572 - val_accuracy: 0.7878\n",
      "Epoch 74/100\n",
      "76/76 [==============================] - 0s 1ms/step - loss: 0.1663 - accuracy: 0.7838 - val_loss: 0.1565 - val_accuracy: 0.7928\n",
      "Epoch 75/100\n",
      "76/76 [==============================] - 0s 1ms/step - loss: 0.1668 - accuracy: 0.7772 - val_loss: 0.1559 - val_accuracy: 0.7944\n",
      "Epoch 76/100\n",
      "76/76 [==============================] - 0s 1ms/step - loss: 0.1657 - accuracy: 0.7755 - val_loss: 0.1553 - val_accuracy: 0.7895\n",
      "Epoch 77/100\n",
      "76/76 [==============================] - 0s 1ms/step - loss: 0.1644 - accuracy: 0.7735 - val_loss: 0.1546 - val_accuracy: 0.7911\n",
      "Epoch 78/100\n",
      "76/76 [==============================] - 0s 1ms/step - loss: 0.1662 - accuracy: 0.7743 - val_loss: 0.1541 - val_accuracy: 0.7928\n",
      "Epoch 79/100\n",
      "76/76 [==============================] - 0s 1ms/step - loss: 0.1622 - accuracy: 0.7788 - val_loss: 0.1535 - val_accuracy: 0.7911\n",
      "Epoch 80/100\n",
      "76/76 [==============================] - 0s 1ms/step - loss: 0.1631 - accuracy: 0.7809 - val_loss: 0.1530 - val_accuracy: 0.7911\n",
      "Epoch 81/100\n",
      "76/76 [==============================] - 0s 1ms/step - loss: 0.1620 - accuracy: 0.7755 - val_loss: 0.1525 - val_accuracy: 0.7928\n",
      "Epoch 82/100\n",
      "76/76 [==============================] - 0s 1ms/step - loss: 0.1615 - accuracy: 0.7776 - val_loss: 0.1520 - val_accuracy: 0.7928\n",
      "Epoch 83/100\n",
      "76/76 [==============================] - 0s 1ms/step - loss: 0.1611 - accuracy: 0.7685 - val_loss: 0.1515 - val_accuracy: 0.7928\n",
      "Epoch 84/100\n",
      "76/76 [==============================] - 0s 1ms/step - loss: 0.1615 - accuracy: 0.7784 - val_loss: 0.1511 - val_accuracy: 0.7928\n",
      "Epoch 85/100\n",
      "76/76 [==============================] - 0s 1ms/step - loss: 0.1621 - accuracy: 0.7772 - val_loss: 0.1507 - val_accuracy: 0.7911\n",
      "Epoch 86/100\n",
      "76/76 [==============================] - 0s 1ms/step - loss: 0.1603 - accuracy: 0.7854 - val_loss: 0.1503 - val_accuracy: 0.7928\n",
      "Epoch 87/100\n",
      "76/76 [==============================] - 0s 1ms/step - loss: 0.1604 - accuracy: 0.7813 - val_loss: 0.1499 - val_accuracy: 0.7911\n",
      "Epoch 88/100\n",
      "76/76 [==============================] - 0s 2ms/step - loss: 0.1593 - accuracy: 0.7797 - val_loss: 0.1495 - val_accuracy: 0.7911\n",
      "Epoch 89/100\n",
      "76/76 [==============================] - 0s 1ms/step - loss: 0.1593 - accuracy: 0.7776 - val_loss: 0.1491 - val_accuracy: 0.7911\n",
      "Epoch 90/100\n",
      "76/76 [==============================] - 0s 1ms/step - loss: 0.1562 - accuracy: 0.7875 - val_loss: 0.1488 - val_accuracy: 0.7911\n",
      "Epoch 91/100\n",
      "76/76 [==============================] - 0s 1ms/step - loss: 0.1572 - accuracy: 0.7875 - val_loss: 0.1485 - val_accuracy: 0.7895\n",
      "Epoch 92/100\n",
      "76/76 [==============================] - 0s 1ms/step - loss: 0.1586 - accuracy: 0.7792 - val_loss: 0.1481 - val_accuracy: 0.7895\n",
      "Epoch 93/100\n",
      "76/76 [==============================] - 0s 1ms/step - loss: 0.1573 - accuracy: 0.7858 - val_loss: 0.1478 - val_accuracy: 0.7895\n",
      "Epoch 94/100\n",
      "76/76 [==============================] - 0s 1ms/step - loss: 0.1553 - accuracy: 0.7846 - val_loss: 0.1475 - val_accuracy: 0.7895\n",
      "Epoch 95/100\n",
      "76/76 [==============================] - 0s 1ms/step - loss: 0.1565 - accuracy: 0.7850 - val_loss: 0.1472 - val_accuracy: 0.7895\n",
      "Epoch 96/100\n",
      "76/76 [==============================] - 0s 1ms/step - loss: 0.1560 - accuracy: 0.7829 - val_loss: 0.1469 - val_accuracy: 0.7895\n",
      "Epoch 97/100\n",
      "76/76 [==============================] - 0s 1ms/step - loss: 0.1568 - accuracy: 0.7821 - val_loss: 0.1467 - val_accuracy: 0.7911\n",
      "Epoch 98/100\n",
      "76/76 [==============================] - 0s 1ms/step - loss: 0.1568 - accuracy: 0.7772 - val_loss: 0.1464 - val_accuracy: 0.7895\n",
      "Epoch 99/100\n",
      "76/76 [==============================] - 0s 1ms/step - loss: 0.1554 - accuracy: 0.7838 - val_loss: 0.1462 - val_accuracy: 0.7911\n",
      "Epoch 100/100\n",
      "76/76 [==============================] - 0s 1ms/step - loss: 0.1554 - accuracy: 0.7755 - val_loss: 0.1460 - val_accuracy: 0.7895\n"
     ]
    }
   ],
   "source": [
    "optimizer = tf.keras.optimizers.Adam(learning_rate=0.00001)\n",
    "\n",
    "model.compile(\n",
    "    optimizer, \n",
    "    loss=\"mse\", \n",
    "    metrics=[\"accuracy\"])\n",
    "history = model.fit(x_train, y_train, epochs=100, batch_size=32, validation_data=(x_test, y_test))"
   ]
  },
  {
   "cell_type": "code",
   "execution_count": 23,
   "metadata": {},
   "outputs": [
    {
     "name": "stdout",
     "output_type": "stream",
     "text": [
      "19/19 [==============================] - 0s 611us/step\n",
      "Accuracy: 78.95%\n"
     ]
    }
   ],
   "source": [
    "y_pred_tf = np.round(model.predict(x_test)).reshape(1, -1)[0]\n",
    "tf_acc = get_accuracy(y_pred_tf, y_test)"
   ]
  },
  {
   "cell_type": "markdown",
   "metadata": {},
   "source": [
    "### Plot Loss and Accuracy Curves"
   ]
  },
  {
   "cell_type": "code",
   "execution_count": 24,
   "metadata": {},
   "outputs": [
    {
     "data": {
      "image/png": "[encoded data removed]",
      "text/plain": [
       "<Figure size 432x288 with 1 Axes>"
      ]
     },
     "metadata": {
      "needs_background": "light"
     },
     "output_type": "display_data"
    }
   ],
   "source": [
    "plt.plot(history.history['accuracy'])\n",
    "plt.plot(history.history['val_accuracy'])\n",
    "plt.title('model accuracy')\n",
    "plt.ylabel('accuracy')\n",
    "plt.xlabel('epoch')\n",
    "plt.legend(['train', 'val'], loc='upper left')\n",
    "plt.show()"
   ]
  },
  {
   "cell_type": "code",
   "execution_count": 25,
   "metadata": {},
   "outputs": [
    {
     "data": {
      "image/png": "[encoded data removed]",
      "text/plain": [
       "<Figure size 432x288 with 1 Axes>"
      ]
     },
     "metadata": {
      "needs_background": "light"
     },
     "output_type": "display_data"
    }
   ],
   "source": [
    "plt.plot(history.history['loss'])\n",
    "plt.plot(history.history['val_loss'])\n",
    "plt.title('model loss')\n",
    "plt.ylabel('loss')\n",
    "plt.xlabel('epoch')\n",
    "plt.legend(['train', 'val'], loc='upper left')\n",
    "plt.show()"
   ]
  },
  {
   "attachments": {},
   "cell_type": "markdown",
   "metadata": {},
   "source": [
    "### MLP Classifier NN"
   ]
  },
  {
   "cell_type": "code",
   "execution_count": 26,
   "metadata": {},
   "outputs": [
    {
     "data": {
      "text/plain": [
       "MLPClassifier(activation='tanh', hidden_layer_sizes=(32, 32, 32, 32, 32),\n",
       "              learning_rate='adaptive', max_iter=1000, random_state=1,\n",
       "              verbose=0)"
      ]
     },
     "execution_count": 26,
     "metadata": {},
     "output_type": "execute_result"
    }
   ],
   "source": [
    "class_NN = MLPClassifier(\n",
    "    hidden_layer_sizes=(32, 32, 32, 32, 32),\n",
    "    activation='tanh',\n",
    "    solver='adam',\n",
    "    alpha=0.0001,\n",
    "    learning_rate='adaptive',\n",
    "    max_iter=1000, \n",
    "    verbose=0,\n",
    "    random_state=1)\n",
    "class_NN.fit(x_train, y_train)"
   ]
  },
  {
   "cell_type": "code",
   "execution_count": 27,
   "metadata": {},
   "outputs": [
    {
     "name": "stdout",
     "output_type": "stream",
     "text": [
      "Accuracy: 81.58%\n"
     ]
    }
   ],
   "source": [
    "y_pred = class_NN.predict(x_test)\n",
    "mlp_acc = get_accuracy(y_pred, y_test)"
   ]
  },
  {
   "cell_type": "code",
   "execution_count": 40,
   "metadata": {},
   "outputs": [
    {
     "data": {
      "text/plain": [
       "<tf.Tensor: shape=(3,), dtype=float32, numpy=array([6., 4., 5.], dtype=float32)>"
      ]
     },
     "execution_count": 40,
     "metadata": {},
     "output_type": "execute_result"
    }
   ],
   "source": [
    "x_test[0]"
   ]
  },
  {
   "attachments": {},
   "cell_type": "markdown",
   "metadata": {},
   "source": [
    "### Grid Search to Find Optimal Parameters"
   ]
  },
  {
   "cell_type": "code",
   "execution_count": 29,
   "metadata": {},
   "outputs": [],
   "source": [
    "params = {\n",
    "    'hidden_layer_sizes' : [(64, 32, 32, 32, 16), (32, 32, 32, 32, 32)],\n",
    "}\n",
    "\n",
    "gscv = GridSearchCV(class_NN, params, verbose=1)\n",
    "\n",
    "# gscv.fit(np.array(x_train), np.array(y_train))\n",
    "# print(gscv.best_params_) "
   ]
  },
  {
   "cell_type": "markdown",
   "metadata": {},
   "source": [
    "### Analyze Results"
   ]
  },
  {
   "cell_type": "code",
   "execution_count": 30,
   "metadata": {},
   "outputs": [
    {
     "data": {
      "image/png": "[encoded data removed]",
      "text/plain": [
       "<Figure size 432x288 with 2 Axes>"
      ]
     },
     "metadata": {
      "needs_background": "light"
     },
     "output_type": "display_data"
    }
   ],
   "source": [
    "plot_confusion_matrix(class_NN, x_test, y_test)  \n",
    "plt.show()"
   ]
  },
  {
   "cell_type": "code",
   "execution_count": 31,
   "metadata": {},
   "outputs": [
    {
     "name": "stdout",
     "output_type": "stream",
     "text": [
      "              precision    recall  f1-score   support\n",
      "\n",
      "     CutFree       0.72      0.88      0.79       241\n",
      "   CutFreeRL       0.91      0.77      0.83       367\n",
      "\n",
      "    accuracy                           0.82       608\n",
      "   macro avg       0.81      0.83      0.81       608\n",
      "weighted avg       0.83      0.82      0.82       608\n",
      "\n"
     ]
    }
   ],
   "source": [
    "print(classification_report(y_pred, y_test, target_names=[\"CutFree\", \"CutFreeRL\"]))"
   ]
  },
  {
   "attachments": {},
   "cell_type": "markdown",
   "metadata": {},
   "source": [
    "# Visualize Incorrect Classifications"
   ]
  },
  {
   "cell_type": "code",
   "execution_count": 32,
   "metadata": {},
   "outputs": [
    {
     "data": {
      "text/html": [
       "<div>\n",
       "<style scoped>\n",
       "    .dataframe tbody tr th:only-of-type {\n",
       "        vertical-align: middle;\n",
       "    }\n",
       "\n",
       "    .dataframe tbody tr th {\n",
       "        vertical-align: top;\n",
       "    }\n",
       "\n",
       "    .dataframe thead th {\n",
       "        text-align: right;\n",
       "    }\n",
       "</style>\n",
       "<table border=\"1\" class=\"dataframe\">\n",
       "  <thead>\n",
       "    <tr style=\"text-align: right;\">\n",
       "      <th></th>\n",
       "      <th>OligoLength</th>\n",
       "      <th>TotalSites</th>\n",
       "      <th>SiteLength</th>\n",
       "      <th>Algorithm</th>\n",
       "      <th>CutFree_Time</th>\n",
       "      <th>CutFreeRL_Time</th>\n",
       "    </tr>\n",
       "  </thead>\n",
       "  <tbody>\n",
       "    <tr>\n",
       "      <th>0</th>\n",
       "      <td>6</td>\n",
       "      <td>1</td>\n",
       "      <td>4</td>\n",
       "      <td>0</td>\n",
       "      <td>0.006211</td>\n",
       "      <td>0.228063</td>\n",
       "    </tr>\n",
       "    <tr>\n",
       "      <th>1</th>\n",
       "      <td>6</td>\n",
       "      <td>2</td>\n",
       "      <td>4</td>\n",
       "      <td>0</td>\n",
       "      <td>0.007820</td>\n",
       "      <td>0.087950</td>\n",
       "    </tr>\n",
       "    <tr>\n",
       "      <th>5</th>\n",
       "      <td>6</td>\n",
       "      <td>6</td>\n",
       "      <td>4</td>\n",
       "      <td>0</td>\n",
       "      <td>0.011498</td>\n",
       "      <td>0.194223</td>\n",
       "    </tr>\n",
       "    <tr>\n",
       "      <th>9</th>\n",
       "      <td>6</td>\n",
       "      <td>10</td>\n",
       "      <td>4</td>\n",
       "      <td>0</td>\n",
       "      <td>0.021175</td>\n",
       "      <td>0.262876</td>\n",
       "    </tr>\n",
       "    <tr>\n",
       "      <th>10</th>\n",
       "      <td>6</td>\n",
       "      <td>1</td>\n",
       "      <td>5</td>\n",
       "      <td>0</td>\n",
       "      <td>0.004702</td>\n",
       "      <td>0.119446</td>\n",
       "    </tr>\n",
       "  </tbody>\n",
       "</table>\n",
       "</div>"
      ],
      "text/plain": [
       "    OligoLength  TotalSites  SiteLength  Algorithm  CutFree_Time  \\\n",
       "0             6           1           4          0      0.006211   \n",
       "1             6           2           4          0      0.007820   \n",
       "5             6           6           4          0      0.011498   \n",
       "9             6          10           4          0      0.021175   \n",
       "10            6           1           5          0      0.004702   \n",
       "\n",
       "    CutFreeRL_Time  \n",
       "0         0.228063  \n",
       "1         0.087950  \n",
       "5         0.194223  \n",
       "9         0.262876  \n",
       "10        0.119446  "
      ]
     },
     "execution_count": 32,
     "metadata": {},
     "output_type": "execute_result"
    }
   ],
   "source": [
    "df_total.head()"
   ]
  },
  {
   "cell_type": "code",
   "execution_count": 33,
   "metadata": {},
   "outputs": [
    {
     "data": {
      "text/html": [
       "<div>\n",
       "<style scoped>\n",
       "    .dataframe tbody tr th:only-of-type {\n",
       "        vertical-align: middle;\n",
       "    }\n",
       "\n",
       "    .dataframe tbody tr th {\n",
       "        vertical-align: top;\n",
       "    }\n",
       "\n",
       "    .dataframe thead th {\n",
       "        text-align: right;\n",
       "    }\n",
       "</style>\n",
       "<table border=\"1\" class=\"dataframe\">\n",
       "  <thead>\n",
       "    <tr style=\"text-align: right;\">\n",
       "      <th></th>\n",
       "      <th>OligoLength</th>\n",
       "      <th>TotalSites</th>\n",
       "      <th>SiteLength</th>\n",
       "      <th>Algorithm</th>\n",
       "      <th>CutFree_Time</th>\n",
       "      <th>CutFreeRL_Time</th>\n",
       "      <th>Discrepency</th>\n",
       "    </tr>\n",
       "  </thead>\n",
       "  <tbody>\n",
       "    <tr>\n",
       "      <th>3339</th>\n",
       "      <td>37</td>\n",
       "      <td>10</td>\n",
       "      <td>7</td>\n",
       "      <td>0</td>\n",
       "      <td>0.632616</td>\n",
       "      <td>4.039638</td>\n",
       "      <td>-3.407021</td>\n",
       "    </tr>\n",
       "    <tr>\n",
       "      <th>5137</th>\n",
       "      <td>38</td>\n",
       "      <td>9</td>\n",
       "      <td>7</td>\n",
       "      <td>0</td>\n",
       "      <td>0.649197</td>\n",
       "      <td>3.664514</td>\n",
       "      <td>-3.015318</td>\n",
       "    </tr>\n",
       "    <tr>\n",
       "      <th>5238</th>\n",
       "      <td>40</td>\n",
       "      <td>10</td>\n",
       "      <td>7</td>\n",
       "      <td>0</td>\n",
       "      <td>0.919619</td>\n",
       "      <td>3.840002</td>\n",
       "      <td>-2.920383</td>\n",
       "    </tr>\n",
       "    <tr>\n",
       "      <th>3445</th>\n",
       "      <td>39</td>\n",
       "      <td>6</td>\n",
       "      <td>8</td>\n",
       "      <td>0</td>\n",
       "      <td>0.295460</td>\n",
       "      <td>3.208158</td>\n",
       "      <td>-2.912698</td>\n",
       "    </tr>\n",
       "    <tr>\n",
       "      <th>3438</th>\n",
       "      <td>39</td>\n",
       "      <td>9</td>\n",
       "      <td>7</td>\n",
       "      <td>0</td>\n",
       "      <td>0.642305</td>\n",
       "      <td>3.527832</td>\n",
       "      <td>-2.885527</td>\n",
       "    </tr>\n",
       "  </tbody>\n",
       "</table>\n",
       "</div>"
      ],
      "text/plain": [
       "      OligoLength  TotalSites  SiteLength  Algorithm  CutFree_Time  \\\n",
       "3339           37          10           7          0      0.632616   \n",
       "5137           38           9           7          0      0.649197   \n",
       "5238           40          10           7          0      0.919619   \n",
       "3445           39           6           8          0      0.295460   \n",
       "3438           39           9           7          0      0.642305   \n",
       "\n",
       "      CutFreeRL_Time  Discrepency  \n",
       "3339        4.039638    -3.407021  \n",
       "5137        3.664514    -3.015318  \n",
       "5238        3.840002    -2.920383  \n",
       "3445        3.208158    -2.912698  \n",
       "3438        3.527832    -2.885527  "
      ]
     },
     "execution_count": 33,
     "metadata": {},
     "output_type": "execute_result"
    }
   ],
   "source": [
    "df_total[\"Discrepency\"] = df_total.CutFree_Time - df_total.CutFreeRL_Time\n",
    "df_total = df_total.sort_values(by=[\"Discrepency\"], ascending=True)\n",
    "df_total.head()"
   ]
  },
  {
   "cell_type": "code",
   "execution_count": 34,
   "metadata": {},
   "outputs": [],
   "source": [
    "df_total_tf = df_total.copy()\n",
    "\n",
    "df_total_tf.loc[x_test_df.index[np.where(y_test_df != y_pred_tf)], \"Prediction\"] = 0\n",
    "df_total_tf.loc[df_total_tf[\"Prediction\"].isna(), \"Prediction\"] = 1\n",
    "\n",
    "df_total_tf = df_total_tf.reset_index(drop=True)\n"
   ]
  },
  {
   "cell_type": "code",
   "execution_count": 35,
   "metadata": {},
   "outputs": [],
   "source": [
    "df_total.loc[x_test_df.index[np.where(y_test_df != y_pred)], \"Prediction\"] = 0\n",
    "df_total.loc[df_total[\"Prediction\"].isna(), \"Prediction\"] = 1\n"
   ]
  },
  {
   "cell_type": "code",
   "execution_count": 36,
   "metadata": {},
   "outputs": [
    {
     "data": {
      "text/html": [
       "<div>\n",
       "<style scoped>\n",
       "    .dataframe tbody tr th:only-of-type {\n",
       "        vertical-align: middle;\n",
       "    }\n",
       "\n",
       "    .dataframe tbody tr th {\n",
       "        vertical-align: top;\n",
       "    }\n",
       "\n",
       "    .dataframe thead th {\n",
       "        text-align: right;\n",
       "    }\n",
       "</style>\n",
       "<table border=\"1\" class=\"dataframe\">\n",
       "  <thead>\n",
       "    <tr style=\"text-align: right;\">\n",
       "      <th></th>\n",
       "      <th>OligoLength</th>\n",
       "      <th>TotalSites</th>\n",
       "      <th>SiteLength</th>\n",
       "      <th>Algorithm</th>\n",
       "      <th>CutFree_Time</th>\n",
       "      <th>CutFreeRL_Time</th>\n",
       "      <th>Discrepency</th>\n",
       "      <th>Prediction</th>\n",
       "    </tr>\n",
       "  </thead>\n",
       "  <tbody>\n",
       "    <tr>\n",
       "      <th>0</th>\n",
       "      <td>37</td>\n",
       "      <td>10</td>\n",
       "      <td>7</td>\n",
       "      <td>0</td>\n",
       "      <td>0.632616</td>\n",
       "      <td>4.039638</td>\n",
       "      <td>-3.407021</td>\n",
       "      <td>1.0</td>\n",
       "    </tr>\n",
       "    <tr>\n",
       "      <th>1</th>\n",
       "      <td>38</td>\n",
       "      <td>9</td>\n",
       "      <td>7</td>\n",
       "      <td>0</td>\n",
       "      <td>0.649197</td>\n",
       "      <td>3.664514</td>\n",
       "      <td>-3.015318</td>\n",
       "      <td>0.0</td>\n",
       "    </tr>\n",
       "    <tr>\n",
       "      <th>2</th>\n",
       "      <td>40</td>\n",
       "      <td>10</td>\n",
       "      <td>7</td>\n",
       "      <td>0</td>\n",
       "      <td>0.919619</td>\n",
       "      <td>3.840002</td>\n",
       "      <td>-2.920383</td>\n",
       "      <td>1.0</td>\n",
       "    </tr>\n",
       "    <tr>\n",
       "      <th>3</th>\n",
       "      <td>39</td>\n",
       "      <td>6</td>\n",
       "      <td>8</td>\n",
       "      <td>0</td>\n",
       "      <td>0.295460</td>\n",
       "      <td>3.208158</td>\n",
       "      <td>-2.912698</td>\n",
       "      <td>1.0</td>\n",
       "    </tr>\n",
       "    <tr>\n",
       "      <th>4</th>\n",
       "      <td>39</td>\n",
       "      <td>9</td>\n",
       "      <td>7</td>\n",
       "      <td>0</td>\n",
       "      <td>0.642305</td>\n",
       "      <td>3.527832</td>\n",
       "      <td>-2.885527</td>\n",
       "      <td>1.0</td>\n",
       "    </tr>\n",
       "  </tbody>\n",
       "</table>\n",
       "</div>"
      ],
      "text/plain": [
       "   OligoLength  TotalSites  SiteLength  Algorithm  CutFree_Time  \\\n",
       "0           37          10           7          0      0.632616   \n",
       "1           38           9           7          0      0.649197   \n",
       "2           40          10           7          0      0.919619   \n",
       "3           39           6           8          0      0.295460   \n",
       "4           39           9           7          0      0.642305   \n",
       "\n",
       "   CutFreeRL_Time  Discrepency  Prediction  \n",
       "0        4.039638    -3.407021         1.0  \n",
       "1        3.664514    -3.015318         0.0  \n",
       "2        3.840002    -2.920383         1.0  \n",
       "3        3.208158    -2.912698         1.0  \n",
       "4        3.527832    -2.885527         1.0  "
      ]
     },
     "execution_count": 36,
     "metadata": {},
     "output_type": "execute_result"
    }
   ],
   "source": [
    "df_total = df_total.reset_index(drop=True)\n",
    "df_total.head()"
   ]
  },
  {
   "cell_type": "code",
   "execution_count": 37,
   "metadata": {},
   "outputs": [
    {
     "data": {
      "text/plain": [
       "<matplotlib.legend.Legend at 0x2291e9c30d0>"
      ]
     },
     "execution_count": 37,
     "metadata": {},
     "output_type": "execute_result"
    },
    {
     "data": {
      "image/png": "[encoded data removed]",
      "text/plain": [
       "<Figure size 1440x1440 with 3 Axes>"
      ]
     },
     "metadata": {
      "needs_background": "light"
     },
     "output_type": "display_data"
    }
   ],
   "source": [
    "plt.figure(figsize=(20,20))\n",
    "\n",
    "plt.subplot(311)\n",
    "plt.scatter(\n",
    "    df_total[df_total.Algorithm==0].index, df_total[df_total.Algorithm==0].Discrepency, \n",
    "    c =\"blue\",\n",
    "    linewidths = 1,\n",
    "    marker =\"s\",\n",
    "    s = 25)\n",
    "\n",
    "plt.scatter(\n",
    "    df_total[df_total.Algorithm==1].index, df_total[df_total.Algorithm==1].Discrepency, \n",
    "    c =\"green\",\n",
    "    linewidths = 1,\n",
    "    marker =\"s\",\n",
    "    s = 25)\n",
    "\n",
    "plt.title(\"Correct Algorithm Selection for Time Discrepency vs. Index\")\n",
    "plt.xlabel(\"Index\")\n",
    "plt.ylabel(\"Time Discrepency (sec)\")\n",
    "plt.legend([\"CutFree\", \"CutFreeRL\"])\n",
    "\n",
    "plt.subplot(312)\n",
    "plt.scatter(\n",
    "    df_total[df_total.Prediction==1].index, df_total[df_total.Prediction==1].Discrepency, \n",
    "    c =\"black\",\n",
    "    linewidths = 1,\n",
    "    marker =\"s\",\n",
    "    s = 25)\n",
    "\n",
    "plt.scatter(\n",
    "    df_total[df_total.Prediction==0].index, df_total[df_total.Prediction==0].Discrepency, \n",
    "    c =\"red\",\n",
    "    linewidths = 3,\n",
    "    marker =\"x\",\n",
    "    s = 250)\n",
    "\n",
    "plt.title(f\"Accuracy of MLP Classifier Predictions ({mlp_acc:.2f}) for Time Discrepency vs. Index\")\n",
    "plt.xlabel(\"Index\")\n",
    "plt.ylabel(\"Time Discrepency (sec)\")\n",
    "plt.legend([\"Correct Prediction\", \"Incorrect Prediction\"])\n",
    "\n",
    "plt.subplot(313)\n",
    "plt.scatter(\n",
    "    df_total_tf[df_total_tf.Prediction==1].index, df_total_tf[df_total_tf.Prediction==1].Discrepency, \n",
    "    c =\"black\",\n",
    "    linewidths = 1,\n",
    "    marker =\"s\",\n",
    "    s = 25)\n",
    "\n",
    "plt.scatter(\n",
    "    df_total_tf[df_total_tf.Prediction==0].index, df_total_tf[df_total_tf.Prediction==0].Discrepency, \n",
    "    c =\"red\",\n",
    "    linewidths = 3,\n",
    "    marker =\"x\",\n",
    "    s = 250)\n",
    "\n",
    "plt.title(f\"Accuracy of TensforFlow Model Predictions ({tf_acc:.2f}%) for Time Discrepency vs. Index\")\n",
    "plt.xlabel(\"Index\")\n",
    "plt.ylabel(\"Time Discrepency (sec)\")\n",
    "plt.legend([\"Correct Prediction\", \"Incorrect Prediction\"])\n"
   ]
  },
  {
   "cell_type": "markdown",
   "metadata": {},
   "source": [
    "# Save Model"
   ]
  },
  {
   "cell_type": "code",
   "execution_count": 38,
   "metadata": {},
   "outputs": [],
   "source": [
    "with open(\"cutfree_model.pkl\", \"wb\") as f:\n",
    "    pickle.dump(class_NN, f)"
   ]
  },
  {
   "cell_type": "code",
   "execution_count": 41,
   "metadata": {},
   "outputs": [
    {
     "data": {
      "text/plain": [
       "array([0.], dtype=float32)"
      ]
     },
     "execution_count": 41,
     "metadata": {},
     "output_type": "execute_result"
    }
   ],
   "source": [
    "with open(\"../cutfree-models/cutfree_model.pkl\", \"rb\") as f:\n",
    "    model = pickle.load(f)\n",
    "model.predict([[6, 1, 4]])"
   ]
  },
  {
   "cell_type": "code",
   "execution_count": null,
   "metadata": {},
   "outputs": [],
   "source": []
  }
 ],
 "metadata": {
  "kernelspec": {
   "display_name": "base",
   "language": "python",
   "name": "python3"
  },
  "language_info": {
   "codemirror_mode": {
    "name": "ipython",
    "version": 3
   },
   "file_extension": ".py",
   "mimetype": "text/x-python",
   "name": "python",
   "nbconvert_exporter": "python",
   "pygments_lexer": "ipython3",
   "version": "3.9.7"
  }
 },
 "nbformat": 4,
 "nbformat_minor": 4
}
