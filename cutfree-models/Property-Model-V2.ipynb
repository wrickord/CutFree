{
 "cells": [
  {
   "cell_type": "markdown",
   "metadata": {},
   "source": [
    "# Import Dependencies"
   ]
  },
  {
   "cell_type": "code",
   "execution_count": 300,
   "metadata": {},
   "outputs": [],
   "source": [
    "# System\n",
    "import os\n",
    "\n",
    "# Data Analysis\n",
    "import numpy as np\n",
    "import pandas as pd\n",
    "import seaborn as sns\n",
    "import matplotlib.pyplot as plt\n",
    "\n",
    "# Machine Learning\n",
    "from sklearn.model_selection import train_test_split, GridSearchCV\n",
    "from sklearn.neural_network import MLPClassifier\n",
    "from sklearn.metrics import accuracy_score, classification_report, plot_confusion_matrix\n",
    "\n",
    "import tensorflow as tf"
   ]
  },
  {
   "cell_type": "markdown",
   "metadata": {},
   "source": [
    "# Get Data"
   ]
  },
  {
   "cell_type": "code",
   "execution_count": 301,
   "metadata": {},
   "outputs": [
    {
     "data": {
      "text/plain": [
       "Oligo                        NNNNNN\n",
       "OligoLength                       6\n",
       "Sites                   Any[\"YATR\"]\n",
       "TotalSites                        1\n",
       "SiteLength                        4\n",
       "CutFree_Randomer             NBNVVN\n",
       "CutFree_Degeneracy          7.45472\n",
       "CutFree_Time               0.006211\n",
       "CutFreeRL_Randomer           NNVVVN\n",
       "CutFreeRL_Degeneracy        7.45472\n",
       "CutFreeRL_Time             0.228063\n",
       "Name: 0, dtype: object"
      ]
     },
     "execution_count": 301,
     "metadata": {},
     "output_type": "execute_result"
    }
   ],
   "source": [
    "file_path = os.path.normpath(os.getcwd() + os.sep + os.pardir) + \"/cutfree-simulations/runtime_data_v2.csv\"\n",
    "df_original = pd.read_csv(file_path)\n",
    "df = df_original.copy()\n",
    "df.iloc[0]"
   ]
  },
  {
   "cell_type": "code",
   "execution_count": 302,
   "metadata": {},
   "outputs": [
    {
     "data": {
      "text/html": [
       "<div>\n",
       "<style scoped>\n",
       "    .dataframe tbody tr th:only-of-type {\n",
       "        vertical-align: middle;\n",
       "    }\n",
       "\n",
       "    .dataframe tbody tr th {\n",
       "        vertical-align: top;\n",
       "    }\n",
       "\n",
       "    .dataframe thead th {\n",
       "        text-align: right;\n",
       "    }\n",
       "</style>\n",
       "<table border=\"1\" class=\"dataframe\">\n",
       "  <thead>\n",
       "    <tr style=\"text-align: right;\">\n",
       "      <th></th>\n",
       "      <th>Oligo</th>\n",
       "      <th>OligoLength</th>\n",
       "      <th>Sites</th>\n",
       "      <th>TotalSites</th>\n",
       "      <th>SiteLength</th>\n",
       "      <th>CutFree_Randomer</th>\n",
       "      <th>CutFree_Degeneracy</th>\n",
       "      <th>CutFree_Time</th>\n",
       "      <th>CutFreeRL_Randomer</th>\n",
       "      <th>CutFreeRL_Degeneracy</th>\n",
       "      <th>CutFreeRL_Time</th>\n",
       "    </tr>\n",
       "  </thead>\n",
       "  <tbody>\n",
       "    <tr>\n",
       "      <th>0</th>\n",
       "      <td>NNNNNN</td>\n",
       "      <td>6</td>\n",
       "      <td>Any[\"YATR\"]</td>\n",
       "      <td>1</td>\n",
       "      <td>4</td>\n",
       "      <td>NBNVVN</td>\n",
       "      <td>7.454720</td>\n",
       "      <td>0.006211</td>\n",
       "      <td>NNVVVN</td>\n",
       "      <td>7.454720</td>\n",
       "      <td>0.228063</td>\n",
       "    </tr>\n",
       "    <tr>\n",
       "      <th>1750</th>\n",
       "      <td>NNNNNN</td>\n",
       "      <td>6</td>\n",
       "      <td>Any[\"GATC\"]</td>\n",
       "      <td>1</td>\n",
       "      <td>4</td>\n",
       "      <td>HNNNDD</td>\n",
       "      <td>7.454720</td>\n",
       "      <td>0.006383</td>\n",
       "      <td>NNNDDD</td>\n",
       "      <td>7.454720</td>\n",
       "      <td>0.225150</td>\n",
       "    </tr>\n",
       "    <tr>\n",
       "      <th>3500</th>\n",
       "      <td>NNNNNN</td>\n",
       "      <td>6</td>\n",
       "      <td>Any[\"GGCC\"]</td>\n",
       "      <td>1</td>\n",
       "      <td>4</td>\n",
       "      <td>NHNNDN</td>\n",
       "      <td>7.742402</td>\n",
       "      <td>0.007255</td>\n",
       "      <td>NNNDND</td>\n",
       "      <td>7.742402</td>\n",
       "      <td>0.080954</td>\n",
       "    </tr>\n",
       "  </tbody>\n",
       "</table>\n",
       "</div>"
      ],
      "text/plain": [
       "       Oligo  OligoLength        Sites  TotalSites  SiteLength  \\\n",
       "0     NNNNNN            6  Any[\"YATR\"]           1           4   \n",
       "1750  NNNNNN            6  Any[\"GATC\"]           1           4   \n",
       "3500  NNNNNN            6  Any[\"GGCC\"]           1           4   \n",
       "\n",
       "     CutFree_Randomer  CutFree_Degeneracy  CutFree_Time CutFreeRL_Randomer  \\\n",
       "0              NBNVVN            7.454720      0.006211             NNVVVN   \n",
       "1750           HNNNDD            7.454720      0.006383             NNNDDD   \n",
       "3500           NHNNDN            7.742402      0.007255             NNNDND   \n",
       "\n",
       "      CutFreeRL_Degeneracy  CutFreeRL_Time  \n",
       "0                 7.454720        0.228063  \n",
       "1750              7.454720        0.225150  \n",
       "3500              7.742402        0.080954  "
      ]
     },
     "execution_count": 302,
     "metadata": {},
     "output_type": "execute_result"
    }
   ],
   "source": [
    "df.loc[(df[\"OligoLength\"] == 6) & (df[\"TotalSites\"] == 1) & (df[\"SiteLength\"] == 4)]"
   ]
  },
  {
   "attachments": {},
   "cell_type": "markdown",
   "metadata": {
    "tags": []
   },
   "source": [
    "# Data Classification"
   ]
  },
  {
   "cell_type": "code",
   "execution_count": 303,
   "metadata": {},
   "outputs": [
    {
     "data": {
      "text/html": [
       "<div>\n",
       "<style scoped>\n",
       "    .dataframe tbody tr th:only-of-type {\n",
       "        vertical-align: middle;\n",
       "    }\n",
       "\n",
       "    .dataframe tbody tr th {\n",
       "        vertical-align: top;\n",
       "    }\n",
       "\n",
       "    .dataframe thead th {\n",
       "        text-align: right;\n",
       "    }\n",
       "</style>\n",
       "<table border=\"1\" class=\"dataframe\">\n",
       "  <thead>\n",
       "    <tr style=\"text-align: right;\">\n",
       "      <th></th>\n",
       "      <th>OligoLength</th>\n",
       "      <th>TotalSites</th>\n",
       "      <th>SiteLength</th>\n",
       "      <th>Algorithm</th>\n",
       "      <th>CutFree_Time</th>\n",
       "      <th>CutFreeRL_Time</th>\n",
       "    </tr>\n",
       "  </thead>\n",
       "  <tbody>\n",
       "    <tr>\n",
       "      <th>0</th>\n",
       "      <td>6</td>\n",
       "      <td>1</td>\n",
       "      <td>4</td>\n",
       "      <td>0</td>\n",
       "      <td>0.006211</td>\n",
       "      <td>0.228063</td>\n",
       "    </tr>\n",
       "    <tr>\n",
       "      <th>1</th>\n",
       "      <td>6</td>\n",
       "      <td>2</td>\n",
       "      <td>4</td>\n",
       "      <td>0</td>\n",
       "      <td>0.007820</td>\n",
       "      <td>0.087950</td>\n",
       "    </tr>\n",
       "    <tr>\n",
       "      <th>2</th>\n",
       "      <td>6</td>\n",
       "      <td>3</td>\n",
       "      <td>4</td>\n",
       "      <td>0</td>\n",
       "      <td>0.010071</td>\n",
       "      <td>0.136403</td>\n",
       "    </tr>\n",
       "    <tr>\n",
       "      <th>3</th>\n",
       "      <td>6</td>\n",
       "      <td>4</td>\n",
       "      <td>4</td>\n",
       "      <td>0</td>\n",
       "      <td>0.013531</td>\n",
       "      <td>0.150443</td>\n",
       "    </tr>\n",
       "    <tr>\n",
       "      <th>4</th>\n",
       "      <td>6</td>\n",
       "      <td>5</td>\n",
       "      <td>4</td>\n",
       "      <td>0</td>\n",
       "      <td>0.013882</td>\n",
       "      <td>0.183784</td>\n",
       "    </tr>\n",
       "    <tr>\n",
       "      <th>...</th>\n",
       "      <td>...</td>\n",
       "      <td>...</td>\n",
       "      <td>...</td>\n",
       "      <td>...</td>\n",
       "      <td>...</td>\n",
       "      <td>...</td>\n",
       "    </tr>\n",
       "    <tr>\n",
       "      <th>5244</th>\n",
       "      <td>40</td>\n",
       "      <td>6</td>\n",
       "      <td>8</td>\n",
       "      <td>1</td>\n",
       "      <td>12.737720</td>\n",
       "      <td>4.200124</td>\n",
       "    </tr>\n",
       "    <tr>\n",
       "      <th>5245</th>\n",
       "      <td>40</td>\n",
       "      <td>7</td>\n",
       "      <td>8</td>\n",
       "      <td>1</td>\n",
       "      <td>60.120769</td>\n",
       "      <td>3.009765</td>\n",
       "    </tr>\n",
       "    <tr>\n",
       "      <th>5246</th>\n",
       "      <td>40</td>\n",
       "      <td>8</td>\n",
       "      <td>8</td>\n",
       "      <td>1</td>\n",
       "      <td>60.379011</td>\n",
       "      <td>3.989743</td>\n",
       "    </tr>\n",
       "    <tr>\n",
       "      <th>5247</th>\n",
       "      <td>40</td>\n",
       "      <td>9</td>\n",
       "      <td>8</td>\n",
       "      <td>1</td>\n",
       "      <td>60.156297</td>\n",
       "      <td>3.611050</td>\n",
       "    </tr>\n",
       "    <tr>\n",
       "      <th>5248</th>\n",
       "      <td>40</td>\n",
       "      <td>10</td>\n",
       "      <td>8</td>\n",
       "      <td>1</td>\n",
       "      <td>60.159604</td>\n",
       "      <td>4.173604</td>\n",
       "    </tr>\n",
       "  </tbody>\n",
       "</table>\n",
       "<p>5249 rows × 6 columns</p>\n",
       "</div>"
      ],
      "text/plain": [
       "      OligoLength  TotalSites  SiteLength  Algorithm  CutFree_Time  \\\n",
       "0               6           1           4          0      0.006211   \n",
       "1               6           2           4          0      0.007820   \n",
       "2               6           3           4          0      0.010071   \n",
       "3               6           4           4          0      0.013531   \n",
       "4               6           5           4          0      0.013882   \n",
       "...           ...         ...         ...        ...           ...   \n",
       "5244           40           6           8          1     12.737720   \n",
       "5245           40           7           8          1     60.120769   \n",
       "5246           40           8           8          1     60.379011   \n",
       "5247           40           9           8          1     60.156297   \n",
       "5248           40          10           8          1     60.159604   \n",
       "\n",
       "      CutFreeRL_Time  \n",
       "0           0.228063  \n",
       "1           0.087950  \n",
       "2           0.136403  \n",
       "3           0.150443  \n",
       "4           0.183784  \n",
       "...              ...  \n",
       "5244        4.200124  \n",
       "5245        3.009765  \n",
       "5246        3.989743  \n",
       "5247        3.611050  \n",
       "5248        4.173604  \n",
       "\n",
       "[5249 rows x 6 columns]"
      ]
     },
     "execution_count": 303,
     "metadata": {},
     "output_type": "execute_result"
    }
   ],
   "source": [
    "conditions = [\n",
    "    (df[\"CutFree_Time\"] <= df[\"CutFreeRL_Time\"]),\n",
    "    (df[\"CutFree_Time\"] > df[\"CutFreeRL_Time\"])\n",
    "]\n",
    "\n",
    "values = [0, 1] # 0 = CutFree, 1 = CutFreeRL\n",
    "\n",
    "df[\"Algorithm\"] = np.select(conditions, values)\n",
    "df = df[[\"OligoLength\", \"TotalSites\", \"SiteLength\", \"Algorithm\", \"CutFree_Time\", \"CutFreeRL_Time\"]]\n",
    "df"
   ]
  },
  {
   "attachments": {},
   "cell_type": "markdown",
   "metadata": {},
   "source": [
    "# Rejection Sampling"
   ]
  },
  {
   "cell_type": "code",
   "execution_count": 304,
   "metadata": {},
   "outputs": [
    {
     "name": "stdout",
     "output_type": "stream",
     "text": [
      "3731\n",
      "1518\n"
     ]
    }
   ],
   "source": [
    "numCutFree = df[df.Algorithm == 0].shape[0]\n",
    "print(numCutFree)\n",
    "\n",
    "numCutFreeRL = df[df.Algorithm == 1].shape[0]\n",
    "print(numCutFreeRL)"
   ]
  },
  {
   "cell_type": "code",
   "execution_count": 305,
   "metadata": {},
   "outputs": [
    {
     "data": {
      "text/html": [
       "<div>\n",
       "<style scoped>\n",
       "    .dataframe tbody tr th:only-of-type {\n",
       "        vertical-align: middle;\n",
       "    }\n",
       "\n",
       "    .dataframe tbody tr th {\n",
       "        vertical-align: top;\n",
       "    }\n",
       "\n",
       "    .dataframe thead th {\n",
       "        text-align: right;\n",
       "    }\n",
       "</style>\n",
       "<table border=\"1\" class=\"dataframe\">\n",
       "  <thead>\n",
       "    <tr style=\"text-align: right;\">\n",
       "      <th></th>\n",
       "      <th>OligoLength</th>\n",
       "      <th>TotalSites</th>\n",
       "      <th>SiteLength</th>\n",
       "      <th>Algorithm</th>\n",
       "      <th>CutFree_Time</th>\n",
       "      <th>CutFreeRL_Time</th>\n",
       "    </tr>\n",
       "  </thead>\n",
       "  <tbody>\n",
       "    <tr>\n",
       "      <th>4</th>\n",
       "      <td>6</td>\n",
       "      <td>5</td>\n",
       "      <td>4</td>\n",
       "      <td>0</td>\n",
       "      <td>0.013882</td>\n",
       "      <td>0.183784</td>\n",
       "    </tr>\n",
       "    <tr>\n",
       "      <th>5</th>\n",
       "      <td>6</td>\n",
       "      <td>6</td>\n",
       "      <td>4</td>\n",
       "      <td>0</td>\n",
       "      <td>0.011498</td>\n",
       "      <td>0.194223</td>\n",
       "    </tr>\n",
       "    <tr>\n",
       "      <th>6</th>\n",
       "      <td>6</td>\n",
       "      <td>7</td>\n",
       "      <td>4</td>\n",
       "      <td>0</td>\n",
       "      <td>0.018870</td>\n",
       "      <td>0.205003</td>\n",
       "    </tr>\n",
       "    <tr>\n",
       "      <th>7</th>\n",
       "      <td>6</td>\n",
       "      <td>8</td>\n",
       "      <td>4</td>\n",
       "      <td>0</td>\n",
       "      <td>0.019908</td>\n",
       "      <td>0.165705</td>\n",
       "    </tr>\n",
       "    <tr>\n",
       "      <th>8</th>\n",
       "      <td>6</td>\n",
       "      <td>9</td>\n",
       "      <td>4</td>\n",
       "      <td>0</td>\n",
       "      <td>0.069817</td>\n",
       "      <td>0.201999</td>\n",
       "    </tr>\n",
       "    <tr>\n",
       "      <th>...</th>\n",
       "      <td>...</td>\n",
       "      <td>...</td>\n",
       "      <td>...</td>\n",
       "      <td>...</td>\n",
       "      <td>...</td>\n",
       "      <td>...</td>\n",
       "    </tr>\n",
       "    <tr>\n",
       "      <th>5244</th>\n",
       "      <td>40</td>\n",
       "      <td>6</td>\n",
       "      <td>8</td>\n",
       "      <td>1</td>\n",
       "      <td>12.737720</td>\n",
       "      <td>4.200124</td>\n",
       "    </tr>\n",
       "    <tr>\n",
       "      <th>5245</th>\n",
       "      <td>40</td>\n",
       "      <td>7</td>\n",
       "      <td>8</td>\n",
       "      <td>1</td>\n",
       "      <td>60.120769</td>\n",
       "      <td>3.009765</td>\n",
       "    </tr>\n",
       "    <tr>\n",
       "      <th>5246</th>\n",
       "      <td>40</td>\n",
       "      <td>8</td>\n",
       "      <td>8</td>\n",
       "      <td>1</td>\n",
       "      <td>60.379011</td>\n",
       "      <td>3.989743</td>\n",
       "    </tr>\n",
       "    <tr>\n",
       "      <th>5247</th>\n",
       "      <td>40</td>\n",
       "      <td>9</td>\n",
       "      <td>8</td>\n",
       "      <td>1</td>\n",
       "      <td>60.156297</td>\n",
       "      <td>3.611050</td>\n",
       "    </tr>\n",
       "    <tr>\n",
       "      <th>5248</th>\n",
       "      <td>40</td>\n",
       "      <td>10</td>\n",
       "      <td>8</td>\n",
       "      <td>1</td>\n",
       "      <td>60.159604</td>\n",
       "      <td>4.173604</td>\n",
       "    </tr>\n",
       "  </tbody>\n",
       "</table>\n",
       "<p>3036 rows × 6 columns</p>\n",
       "</div>"
      ],
      "text/plain": [
       "      OligoLength  TotalSites  SiteLength  Algorithm  CutFree_Time  \\\n",
       "4               6           5           4          0      0.013882   \n",
       "5               6           6           4          0      0.011498   \n",
       "6               6           7           4          0      0.018870   \n",
       "7               6           8           4          0      0.019908   \n",
       "8               6           9           4          0      0.069817   \n",
       "...           ...         ...         ...        ...           ...   \n",
       "5244           40           6           8          1     12.737720   \n",
       "5245           40           7           8          1     60.120769   \n",
       "5246           40           8           8          1     60.379011   \n",
       "5247           40           9           8          1     60.156297   \n",
       "5248           40          10           8          1     60.159604   \n",
       "\n",
       "      CutFreeRL_Time  \n",
       "4           0.183784  \n",
       "5           0.194223  \n",
       "6           0.205003  \n",
       "7           0.165705  \n",
       "8           0.201999  \n",
       "...              ...  \n",
       "5244        4.200124  \n",
       "5245        3.009765  \n",
       "5246        3.989743  \n",
       "5247        3.611050  \n",
       "5248        4.173604  \n",
       "\n",
       "[3036 rows x 6 columns]"
      ]
     },
     "execution_count": 305,
     "metadata": {},
     "output_type": "execute_result"
    }
   ],
   "source": [
    "df_rejection = df[df.Algorithm == 0].sample(numCutFree-numCutFreeRL)\n",
    "df = df.drop(df_rejection.index)\n",
    "df"
   ]
  },
  {
   "cell_type": "code",
   "execution_count": 306,
   "metadata": {},
   "outputs": [
    {
     "name": "stdout",
     "output_type": "stream",
     "text": [
      "1518\n",
      "1518\n"
     ]
    }
   ],
   "source": [
    "numCutFree = df[df.Algorithm == 0].shape[0]\n",
    "print(numCutFree)\n",
    "\n",
    "numCutFreeRL = df[df.Algorithm == 1].shape[0]\n",
    "print(numCutFreeRL)"
   ]
  },
  {
   "cell_type": "code",
   "execution_count": 307,
   "metadata": {},
   "outputs": [],
   "source": [
    "df_total = df.copy()\n",
    "df = df[[\"OligoLength\", \"TotalSites\", \"SiteLength\", \"Algorithm\"]]"
   ]
  },
  {
   "attachments": {},
   "cell_type": "markdown",
   "metadata": {},
   "source": [
    "# Visualize Data"
   ]
  },
  {
   "cell_type": "code",
   "execution_count": 308,
   "metadata": {},
   "outputs": [
    {
     "data": {
      "image/png": "[encoded data removed]",
      "text/plain": [
       "<Figure size 597x540 with 12 Axes>"
      ]
     },
     "metadata": {
      "needs_background": "light"
     },
     "output_type": "display_data"
    }
   ],
   "source": [
    "pair_plot = sns.pairplot(df, hue=\"Algorithm\", diag_kind=\"kde\")\n",
    "new_labels = [\"CutFree\", \"CutFreeRL\"]\n",
    "for t, l in zip(pair_plot._legend.texts, new_labels):\n",
    "    t.set_text(l)\n",
    "plt.show(pair_plot)"
   ]
  },
  {
   "attachments": {},
   "cell_type": "markdown",
   "metadata": {
    "tags": []
   },
   "source": [
    "# Get Train/Test Split"
   ]
  },
  {
   "cell_type": "code",
   "execution_count": 309,
   "metadata": {},
   "outputs": [],
   "source": [
    "x = df.drop([\"Algorithm\"], axis=1)\n",
    "y = df[\"Algorithm\"]"
   ]
  },
  {
   "cell_type": "code",
   "execution_count": 310,
   "metadata": {},
   "outputs": [
    {
     "data": {
      "text/html": [
       "<div>\n",
       "<style scoped>\n",
       "    .dataframe tbody tr th:only-of-type {\n",
       "        vertical-align: middle;\n",
       "    }\n",
       "\n",
       "    .dataframe tbody tr th {\n",
       "        vertical-align: top;\n",
       "    }\n",
       "\n",
       "    .dataframe thead th {\n",
       "        text-align: right;\n",
       "    }\n",
       "</style>\n",
       "<table border=\"1\" class=\"dataframe\">\n",
       "  <thead>\n",
       "    <tr style=\"text-align: right;\">\n",
       "      <th></th>\n",
       "      <th>OligoLength</th>\n",
       "      <th>TotalSites</th>\n",
       "      <th>SiteLength</th>\n",
       "    </tr>\n",
       "  </thead>\n",
       "  <tbody>\n",
       "    <tr>\n",
       "      <th>1395</th>\n",
       "      <td>33</td>\n",
       "      <td>6</td>\n",
       "      <td>8</td>\n",
       "    </tr>\n",
       "    <tr>\n",
       "      <th>4807</th>\n",
       "      <td>32</td>\n",
       "      <td>9</td>\n",
       "      <td>4</td>\n",
       "    </tr>\n",
       "    <tr>\n",
       "      <th>2512</th>\n",
       "      <td>21</td>\n",
       "      <td>3</td>\n",
       "      <td>5</td>\n",
       "    </tr>\n",
       "    <tr>\n",
       "      <th>956</th>\n",
       "      <td>25</td>\n",
       "      <td>7</td>\n",
       "      <td>4</td>\n",
       "    </tr>\n",
       "    <tr>\n",
       "      <th>599</th>\n",
       "      <td>17</td>\n",
       "      <td>10</td>\n",
       "      <td>8</td>\n",
       "    </tr>\n",
       "  </tbody>\n",
       "</table>\n",
       "</div>"
      ],
      "text/plain": [
       "      OligoLength  TotalSites  SiteLength\n",
       "1395           33           6           8\n",
       "4807           32           9           4\n",
       "2512           21           3           5\n",
       "956            25           7           4\n",
       "599            17          10           8"
      ]
     },
     "execution_count": 310,
     "metadata": {},
     "output_type": "execute_result"
    }
   ],
   "source": [
    "x_train_df, x_test_df, y_train_df, y_test_df = train_test_split(x, y, test_size=0.2, random_state=100)\n",
    "x_train_df.head()"
   ]
  },
  {
   "cell_type": "code",
   "execution_count": 311,
   "metadata": {},
   "outputs": [
    {
     "data": {
      "text/plain": [
       "1395    1\n",
       "4807    0\n",
       "2512    0\n",
       "956     0\n",
       "599     0\n",
       "Name: Algorithm, dtype: int32"
      ]
     },
     "execution_count": 311,
     "metadata": {},
     "output_type": "execute_result"
    }
   ],
   "source": [
    "y_train_df.head()"
   ]
  },
  {
   "cell_type": "code",
   "execution_count": 312,
   "metadata": {},
   "outputs": [],
   "source": [
    "x_train, y_train = tf.convert_to_tensor(x_train_df, dtype=tf.float32), tf.convert_to_tensor(y_train_df, dtype=tf.float32)\n",
    "x_test, y_test = tf.convert_to_tensor(x_test_df, dtype=tf.float32), tf.convert_to_tensor(y_test_df, dtype=tf.float32)"
   ]
  },
  {
   "cell_type": "code",
   "execution_count": 313,
   "metadata": {},
   "outputs": [
    {
     "data": {
      "text/plain": [
       "<tf.Tensor: shape=(2428, 3), dtype=float32, numpy=\n",
       "array([[33.,  6.,  8.],\n",
       "       [32.,  9.,  4.],\n",
       "       [21.,  3.,  5.],\n",
       "       ...,\n",
       "       [36.,  5.,  8.],\n",
       "       [35.,  4.,  7.],\n",
       "       [27., 10.,  7.]], dtype=float32)>"
      ]
     },
     "execution_count": 313,
     "metadata": {},
     "output_type": "execute_result"
    }
   ],
   "source": [
    "x_train"
   ]
  },
  {
   "attachments": {},
   "cell_type": "markdown",
   "metadata": {},
   "source": [
    "# Machine Learning"
   ]
  },
  {
   "attachments": {},
   "cell_type": "markdown",
   "metadata": {},
   "source": [
    "### Accuracy Function"
   ]
  },
  {
   "cell_type": "code",
   "execution_count": 314,
   "metadata": {},
   "outputs": [],
   "source": [
    "def get_accuracy(pred, true):\n",
    "    test_accuracy = accuracy_score(pred, true)*100\n",
    "    print(\"Accuracy: {:.2f}%\".format(test_accuracy))\n",
    "    return test_accuracy"
   ]
  },
  {
   "attachments": {},
   "cell_type": "markdown",
   "metadata": {},
   "source": [
    "### MLP Classifier NN"
   ]
  },
  {
   "cell_type": "code",
   "execution_count": 315,
   "metadata": {},
   "outputs": [
    {
     "data": {
      "text/plain": [
       "MLPClassifier(activation='tanh', hidden_layer_sizes=(32, 32, 32, 32, 32),\n",
       "              learning_rate='adaptive', max_iter=1000, random_state=1,\n",
       "              verbose=0)"
      ]
     },
     "execution_count": 315,
     "metadata": {},
     "output_type": "execute_result"
    }
   ],
   "source": [
    "class_NN = MLPClassifier(\n",
    "    hidden_layer_sizes=(32, 32, 32, 32, 32),\n",
    "    activation='tanh',\n",
    "    solver='adam',\n",
    "    alpha=0.0001,\n",
    "    learning_rate='adaptive',\n",
    "    max_iter=1000, \n",
    "    verbose=0,\n",
    "    random_state=1)\n",
    "class_NN.fit(x_train, y_train)"
   ]
  },
  {
   "cell_type": "code",
   "execution_count": 316,
   "metadata": {},
   "outputs": [
    {
     "name": "stdout",
     "output_type": "stream",
     "text": [
      "Accuracy: 82.07%\n"
     ]
    },
    {
     "data": {
      "text/plain": [
       "<tf.Tensor: shape=(608, 3), dtype=float32, numpy=\n",
       "array([[30.,  8.,  8.],\n",
       "       [39.,  8.,  5.],\n",
       "       [13.,  6.,  8.],\n",
       "       ...,\n",
       "       [31.,  5.,  8.],\n",
       "       [30.,  5.,  5.],\n",
       "       [23.,  5.,  4.]], dtype=float32)>"
      ]
     },
     "execution_count": 316,
     "metadata": {},
     "output_type": "execute_result"
    }
   ],
   "source": [
    "y_pred = class_NN.predict(x_test)\n",
    "get_accuracy(y_pred, y_test)\n",
    "x_test"
   ]
  },
  {
   "attachments": {},
   "cell_type": "markdown",
   "metadata": {},
   "source": [
    "### Grid Search to Find Optimal Parameters"
   ]
  },
  {
   "cell_type": "code",
   "execution_count": 317,
   "metadata": {},
   "outputs": [],
   "source": [
    "params = {\n",
    "    'hidden_layer_sizes' : [(64, 32, 32, 32, 16), (32, 32, 32, 32, 32)],\n",
    "}\n",
    "\n",
    "gscv = GridSearchCV(class_NN, params, verbose=1)\n",
    "\n",
    "# gscv.fit(np.array(x_train), np.array(y_train))\n",
    "# print(gscv.best_params_) "
   ]
  },
  {
   "cell_type": "markdown",
   "metadata": {},
   "source": [
    "### Analyze Results"
   ]
  },
  {
   "cell_type": "code",
   "execution_count": 318,
   "metadata": {},
   "outputs": [
    {
     "data": {
      "image/png": "[encoded data removed]",
      "text/plain": [
       "<Figure size 432x288 with 2 Axes>"
      ]
     },
     "metadata": {
      "needs_background": "light"
     },
     "output_type": "display_data"
    }
   ],
   "source": [
    "plot_confusion_matrix(class_NN, x_test, y_test)  \n",
    "plt.show()"
   ]
  },
  {
   "cell_type": "code",
   "execution_count": 319,
   "metadata": {},
   "outputs": [
    {
     "name": "stdout",
     "output_type": "stream",
     "text": [
      "              precision    recall  f1-score   support\n",
      "\n",
      "     CutFree       0.73      0.87      0.79       238\n",
      "   CutFreeRL       0.90      0.79      0.84       370\n",
      "\n",
      "    accuracy                           0.82       608\n",
      "   macro avg       0.82      0.83      0.82       608\n",
      "weighted avg       0.83      0.82      0.82       608\n",
      "\n"
     ]
    }
   ],
   "source": [
    "print(classification_report(y_pred, y_test, target_names=[\"CutFree\", \"CutFreeRL\"]))"
   ]
  },
  {
   "attachments": {},
   "cell_type": "markdown",
   "metadata": {},
   "source": [
    "# Visualize Incorrect Classifications"
   ]
  },
  {
   "cell_type": "code",
   "execution_count": 320,
   "metadata": {},
   "outputs": [
    {
     "data": {
      "text/html": [
       "<div>\n",
       "<style scoped>\n",
       "    .dataframe tbody tr th:only-of-type {\n",
       "        vertical-align: middle;\n",
       "    }\n",
       "\n",
       "    .dataframe tbody tr th {\n",
       "        vertical-align: top;\n",
       "    }\n",
       "\n",
       "    .dataframe thead th {\n",
       "        text-align: right;\n",
       "    }\n",
       "</style>\n",
       "<table border=\"1\" class=\"dataframe\">\n",
       "  <thead>\n",
       "    <tr style=\"text-align: right;\">\n",
       "      <th></th>\n",
       "      <th>OligoLength</th>\n",
       "      <th>TotalSites</th>\n",
       "      <th>SiteLength</th>\n",
       "      <th>Algorithm</th>\n",
       "      <th>CutFree_Time</th>\n",
       "      <th>CutFreeRL_Time</th>\n",
       "    </tr>\n",
       "  </thead>\n",
       "  <tbody>\n",
       "    <tr>\n",
       "      <th>4</th>\n",
       "      <td>6</td>\n",
       "      <td>5</td>\n",
       "      <td>4</td>\n",
       "      <td>0</td>\n",
       "      <td>0.013882</td>\n",
       "      <td>0.183784</td>\n",
       "    </tr>\n",
       "    <tr>\n",
       "      <th>5</th>\n",
       "      <td>6</td>\n",
       "      <td>6</td>\n",
       "      <td>4</td>\n",
       "      <td>0</td>\n",
       "      <td>0.011498</td>\n",
       "      <td>0.194223</td>\n",
       "    </tr>\n",
       "    <tr>\n",
       "      <th>6</th>\n",
       "      <td>6</td>\n",
       "      <td>7</td>\n",
       "      <td>4</td>\n",
       "      <td>0</td>\n",
       "      <td>0.018870</td>\n",
       "      <td>0.205003</td>\n",
       "    </tr>\n",
       "    <tr>\n",
       "      <th>7</th>\n",
       "      <td>6</td>\n",
       "      <td>8</td>\n",
       "      <td>4</td>\n",
       "      <td>0</td>\n",
       "      <td>0.019908</td>\n",
       "      <td>0.165705</td>\n",
       "    </tr>\n",
       "    <tr>\n",
       "      <th>8</th>\n",
       "      <td>6</td>\n",
       "      <td>9</td>\n",
       "      <td>4</td>\n",
       "      <td>0</td>\n",
       "      <td>0.069817</td>\n",
       "      <td>0.201999</td>\n",
       "    </tr>\n",
       "  </tbody>\n",
       "</table>\n",
       "</div>"
      ],
      "text/plain": [
       "   OligoLength  TotalSites  SiteLength  Algorithm  CutFree_Time  \\\n",
       "4            6           5           4          0      0.013882   \n",
       "5            6           6           4          0      0.011498   \n",
       "6            6           7           4          0      0.018870   \n",
       "7            6           8           4          0      0.019908   \n",
       "8            6           9           4          0      0.069817   \n",
       "\n",
       "   CutFreeRL_Time  \n",
       "4        0.183784  \n",
       "5        0.194223  \n",
       "6        0.205003  \n",
       "7        0.165705  \n",
       "8        0.201999  "
      ]
     },
     "execution_count": 320,
     "metadata": {},
     "output_type": "execute_result"
    }
   ],
   "source": [
    "df_total.head()"
   ]
  },
  {
   "cell_type": "code",
   "execution_count": 321,
   "metadata": {},
   "outputs": [
    {
     "data": {
      "text/html": [
       "<div>\n",
       "<style scoped>\n",
       "    .dataframe tbody tr th:only-of-type {\n",
       "        vertical-align: middle;\n",
       "    }\n",
       "\n",
       "    .dataframe tbody tr th {\n",
       "        vertical-align: top;\n",
       "    }\n",
       "\n",
       "    .dataframe thead th {\n",
       "        text-align: right;\n",
       "    }\n",
       "</style>\n",
       "<table border=\"1\" class=\"dataframe\">\n",
       "  <thead>\n",
       "    <tr style=\"text-align: right;\">\n",
       "      <th></th>\n",
       "      <th>OligoLength</th>\n",
       "      <th>TotalSites</th>\n",
       "      <th>SiteLength</th>\n",
       "      <th>Algorithm</th>\n",
       "      <th>CutFree_Time</th>\n",
       "      <th>CutFreeRL_Time</th>\n",
       "      <th>Discrepency</th>\n",
       "    </tr>\n",
       "  </thead>\n",
       "  <tbody>\n",
       "    <tr>\n",
       "      <th>3339</th>\n",
       "      <td>37</td>\n",
       "      <td>10</td>\n",
       "      <td>7</td>\n",
       "      <td>0</td>\n",
       "      <td>0.632616</td>\n",
       "      <td>4.039638</td>\n",
       "      <td>-3.407021</td>\n",
       "    </tr>\n",
       "    <tr>\n",
       "      <th>3139</th>\n",
       "      <td>33</td>\n",
       "      <td>10</td>\n",
       "      <td>7</td>\n",
       "      <td>0</td>\n",
       "      <td>0.632100</td>\n",
       "      <td>3.728101</td>\n",
       "      <td>-3.096001</td>\n",
       "    </tr>\n",
       "    <tr>\n",
       "      <th>4988</th>\n",
       "      <td>35</td>\n",
       "      <td>10</td>\n",
       "      <td>7</td>\n",
       "      <td>0</td>\n",
       "      <td>0.531718</td>\n",
       "      <td>3.553635</td>\n",
       "      <td>-3.021917</td>\n",
       "    </tr>\n",
       "    <tr>\n",
       "      <th>5137</th>\n",
       "      <td>38</td>\n",
       "      <td>9</td>\n",
       "      <td>7</td>\n",
       "      <td>0</td>\n",
       "      <td>0.649197</td>\n",
       "      <td>3.664514</td>\n",
       "      <td>-3.015318</td>\n",
       "    </tr>\n",
       "    <tr>\n",
       "      <th>5238</th>\n",
       "      <td>40</td>\n",
       "      <td>10</td>\n",
       "      <td>7</td>\n",
       "      <td>0</td>\n",
       "      <td>0.919619</td>\n",
       "      <td>3.840002</td>\n",
       "      <td>-2.920383</td>\n",
       "    </tr>\n",
       "  </tbody>\n",
       "</table>\n",
       "</div>"
      ],
      "text/plain": [
       "      OligoLength  TotalSites  SiteLength  Algorithm  CutFree_Time  \\\n",
       "3339           37          10           7          0      0.632616   \n",
       "3139           33          10           7          0      0.632100   \n",
       "4988           35          10           7          0      0.531718   \n",
       "5137           38           9           7          0      0.649197   \n",
       "5238           40          10           7          0      0.919619   \n",
       "\n",
       "      CutFreeRL_Time  Discrepency  \n",
       "3339        4.039638    -3.407021  \n",
       "3139        3.728101    -3.096001  \n",
       "4988        3.553635    -3.021917  \n",
       "5137        3.664514    -3.015318  \n",
       "5238        3.840002    -2.920383  "
      ]
     },
     "execution_count": 321,
     "metadata": {},
     "output_type": "execute_result"
    }
   ],
   "source": [
    "df_total[\"Discrepency\"] = df_total.CutFree_Time - df_total.CutFreeRL_Time\n",
    "df_total = df_total.sort_values(by=[\"Discrepency\"], ascending=True)\n",
    "df_total.head()"
   ]
  },
  {
   "cell_type": "code",
   "execution_count": 322,
   "metadata": {},
   "outputs": [
    {
     "data": {
      "text/html": [
       "<div>\n",
       "<style scoped>\n",
       "    .dataframe tbody tr th:only-of-type {\n",
       "        vertical-align: middle;\n",
       "    }\n",
       "\n",
       "    .dataframe tbody tr th {\n",
       "        vertical-align: top;\n",
       "    }\n",
       "\n",
       "    .dataframe thead th {\n",
       "        text-align: right;\n",
       "    }\n",
       "</style>\n",
       "<table border=\"1\" class=\"dataframe\">\n",
       "  <thead>\n",
       "    <tr style=\"text-align: right;\">\n",
       "      <th></th>\n",
       "      <th>OligoLength</th>\n",
       "      <th>TotalSites</th>\n",
       "      <th>SiteLength</th>\n",
       "      <th>Algorithm</th>\n",
       "      <th>CutFree_Time</th>\n",
       "      <th>CutFreeRL_Time</th>\n",
       "      <th>Discrepency</th>\n",
       "      <th>Prediction</th>\n",
       "    </tr>\n",
       "  </thead>\n",
       "  <tbody>\n",
       "    <tr>\n",
       "      <th>3339</th>\n",
       "      <td>37</td>\n",
       "      <td>10</td>\n",
       "      <td>7</td>\n",
       "      <td>0</td>\n",
       "      <td>0.632616</td>\n",
       "      <td>4.039638</td>\n",
       "      <td>-3.407021</td>\n",
       "      <td>1.0</td>\n",
       "    </tr>\n",
       "    <tr>\n",
       "      <th>3139</th>\n",
       "      <td>33</td>\n",
       "      <td>10</td>\n",
       "      <td>7</td>\n",
       "      <td>0</td>\n",
       "      <td>0.632100</td>\n",
       "      <td>3.728101</td>\n",
       "      <td>-3.096001</td>\n",
       "      <td>1.0</td>\n",
       "    </tr>\n",
       "    <tr>\n",
       "      <th>4988</th>\n",
       "      <td>35</td>\n",
       "      <td>10</td>\n",
       "      <td>7</td>\n",
       "      <td>0</td>\n",
       "      <td>0.531718</td>\n",
       "      <td>3.553635</td>\n",
       "      <td>-3.021917</td>\n",
       "      <td>1.0</td>\n",
       "    </tr>\n",
       "    <tr>\n",
       "      <th>5137</th>\n",
       "      <td>38</td>\n",
       "      <td>9</td>\n",
       "      <td>7</td>\n",
       "      <td>0</td>\n",
       "      <td>0.649197</td>\n",
       "      <td>3.664514</td>\n",
       "      <td>-3.015318</td>\n",
       "      <td>1.0</td>\n",
       "    </tr>\n",
       "    <tr>\n",
       "      <th>5238</th>\n",
       "      <td>40</td>\n",
       "      <td>10</td>\n",
       "      <td>7</td>\n",
       "      <td>0</td>\n",
       "      <td>0.919619</td>\n",
       "      <td>3.840002</td>\n",
       "      <td>-2.920383</td>\n",
       "      <td>1.0</td>\n",
       "    </tr>\n",
       "  </tbody>\n",
       "</table>\n",
       "</div>"
      ],
      "text/plain": [
       "      OligoLength  TotalSites  SiteLength  Algorithm  CutFree_Time  \\\n",
       "3339           37          10           7          0      0.632616   \n",
       "3139           33          10           7          0      0.632100   \n",
       "4988           35          10           7          0      0.531718   \n",
       "5137           38           9           7          0      0.649197   \n",
       "5238           40          10           7          0      0.919619   \n",
       "\n",
       "      CutFreeRL_Time  Discrepency  Prediction  \n",
       "3339        4.039638    -3.407021         1.0  \n",
       "3139        3.728101    -3.096001         1.0  \n",
       "4988        3.553635    -3.021917         1.0  \n",
       "5137        3.664514    -3.015318         1.0  \n",
       "5238        3.840002    -2.920383         1.0  "
      ]
     },
     "execution_count": 322,
     "metadata": {},
     "output_type": "execute_result"
    }
   ],
   "source": [
    "df_total.loc[x_test_df.index[np.where(y_test_df != y_pred)], \"Prediction\"] = 0\n",
    "df_total.loc[df_total[\"Prediction\"].isna(), \"Prediction\"] = 1\n",
    "df_total.head()"
   ]
  },
  {
   "cell_type": "code",
   "execution_count": 323,
   "metadata": {},
   "outputs": [
    {
     "data": {
      "text/html": [
       "<div>\n",
       "<style scoped>\n",
       "    .dataframe tbody tr th:only-of-type {\n",
       "        vertical-align: middle;\n",
       "    }\n",
       "\n",
       "    .dataframe tbody tr th {\n",
       "        vertical-align: top;\n",
       "    }\n",
       "\n",
       "    .dataframe thead th {\n",
       "        text-align: right;\n",
       "    }\n",
       "</style>\n",
       "<table border=\"1\" class=\"dataframe\">\n",
       "  <thead>\n",
       "    <tr style=\"text-align: right;\">\n",
       "      <th></th>\n",
       "      <th>OligoLength</th>\n",
       "      <th>TotalSites</th>\n",
       "      <th>SiteLength</th>\n",
       "      <th>Algorithm</th>\n",
       "      <th>CutFree_Time</th>\n",
       "      <th>CutFreeRL_Time</th>\n",
       "      <th>Discrepency</th>\n",
       "      <th>Prediction</th>\n",
       "    </tr>\n",
       "  </thead>\n",
       "  <tbody>\n",
       "    <tr>\n",
       "      <th>0</th>\n",
       "      <td>37</td>\n",
       "      <td>10</td>\n",
       "      <td>7</td>\n",
       "      <td>0</td>\n",
       "      <td>0.632616</td>\n",
       "      <td>4.039638</td>\n",
       "      <td>-3.407021</td>\n",
       "      <td>1.0</td>\n",
       "    </tr>\n",
       "    <tr>\n",
       "      <th>1</th>\n",
       "      <td>33</td>\n",
       "      <td>10</td>\n",
       "      <td>7</td>\n",
       "      <td>0</td>\n",
       "      <td>0.632100</td>\n",
       "      <td>3.728101</td>\n",
       "      <td>-3.096001</td>\n",
       "      <td>1.0</td>\n",
       "    </tr>\n",
       "    <tr>\n",
       "      <th>2</th>\n",
       "      <td>35</td>\n",
       "      <td>10</td>\n",
       "      <td>7</td>\n",
       "      <td>0</td>\n",
       "      <td>0.531718</td>\n",
       "      <td>3.553635</td>\n",
       "      <td>-3.021917</td>\n",
       "      <td>1.0</td>\n",
       "    </tr>\n",
       "    <tr>\n",
       "      <th>3</th>\n",
       "      <td>38</td>\n",
       "      <td>9</td>\n",
       "      <td>7</td>\n",
       "      <td>0</td>\n",
       "      <td>0.649197</td>\n",
       "      <td>3.664514</td>\n",
       "      <td>-3.015318</td>\n",
       "      <td>1.0</td>\n",
       "    </tr>\n",
       "    <tr>\n",
       "      <th>4</th>\n",
       "      <td>40</td>\n",
       "      <td>10</td>\n",
       "      <td>7</td>\n",
       "      <td>0</td>\n",
       "      <td>0.919619</td>\n",
       "      <td>3.840002</td>\n",
       "      <td>-2.920383</td>\n",
       "      <td>1.0</td>\n",
       "    </tr>\n",
       "  </tbody>\n",
       "</table>\n",
       "</div>"
      ],
      "text/plain": [
       "   OligoLength  TotalSites  SiteLength  Algorithm  CutFree_Time  \\\n",
       "0           37          10           7          0      0.632616   \n",
       "1           33          10           7          0      0.632100   \n",
       "2           35          10           7          0      0.531718   \n",
       "3           38           9           7          0      0.649197   \n",
       "4           40          10           7          0      0.919619   \n",
       "\n",
       "   CutFreeRL_Time  Discrepency  Prediction  \n",
       "0        4.039638    -3.407021         1.0  \n",
       "1        3.728101    -3.096001         1.0  \n",
       "2        3.553635    -3.021917         1.0  \n",
       "3        3.664514    -3.015318         1.0  \n",
       "4        3.840002    -2.920383         1.0  "
      ]
     },
     "execution_count": 323,
     "metadata": {},
     "output_type": "execute_result"
    }
   ],
   "source": [
    "df_total = df_total.reset_index(drop=True)\n",
    "df_total.head()"
   ]
  },
  {
   "cell_type": "code",
   "execution_count": 324,
   "metadata": {},
   "outputs": [
    {
     "data": {
      "text/plain": [
       "<matplotlib.legend.Legend at 0x1e3d9aecb20>"
      ]
     },
     "execution_count": 324,
     "metadata": {},
     "output_type": "execute_result"
    },
    {
     "data": {
      "image/png": "[encoded data removed]",
      "text/plain": [
       "<Figure size 720x720 with 2 Axes>"
      ]
     },
     "metadata": {
      "needs_background": "light"
     },
     "output_type": "display_data"
    }
   ],
   "source": [
    "plt.figure(figsize=(10,10))\n",
    "\n",
    "plt.subplot(211)\n",
    "plt.scatter(\n",
    "    df_total[df_total.Algorithm==0].index, df_total[df_total.Algorithm==0].Discrepency, \n",
    "    c =\"blue\",\n",
    "    linewidths = 1,\n",
    "    marker =\"s\",\n",
    "    s = 25)\n",
    "\n",
    "plt.scatter(\n",
    "    df_total[df_total.Algorithm==1].index, df_total[df_total.Algorithm==1].Discrepency, \n",
    "    c =\"green\",\n",
    "    linewidths = 1,\n",
    "    marker =\"s\",\n",
    "    s = 25)\n",
    "\n",
    "plt.title(\"Correct Algorithm Selection for Time Discrepency vs. Index\")\n",
    "plt.xlabel(\"Index\")\n",
    "plt.ylabel(\"Time Discrepency (sec)\")\n",
    "plt.legend([\"CutFree\", \"CutFreeRL\"])\n",
    "\n",
    "plt.subplot(212)\n",
    "plt.scatter(\n",
    "    df_total[df_total.Prediction==1].index, df_total[df_total.Prediction==1].Discrepency, \n",
    "    c =\"black\",\n",
    "    linewidths = 1,\n",
    "    marker =\"s\",\n",
    "    s = 25)\n",
    "\n",
    "plt.scatter(\n",
    "    df_total[df_total.Prediction==0].index, df_total[df_total.Prediction==0].Discrepency, \n",
    "    c =\"red\",\n",
    "    linewidths = 3,\n",
    "    marker =\"x\",\n",
    "    s = 250)\n",
    "\n",
    "plt.title(\"Accuracy of Prediction for Time Discrepency vs. Index\")\n",
    "plt.xlabel(\"Index\")\n",
    "plt.ylabel(\"Time Discrepency (sec)\")\n",
    "plt.legend([\"Correct Prediction\", \"Incorrect Prediction\"])\n"
   ]
  },
  {
   "cell_type": "code",
   "execution_count": null,
   "metadata": {},
   "outputs": [],
   "source": []
  }
 ],
 "metadata": {
  "kernelspec": {
   "display_name": "base",
   "language": "python",
   "name": "python3"
  },
  "language_info": {
   "codemirror_mode": {
    "name": "ipython",
    "version": 3
   },
   "file_extension": ".py",
   "mimetype": "text/x-python",
   "name": "python",
   "nbconvert_exporter": "python",
   "pygments_lexer": "ipython3",
   "version": "3.9.7"
  }
 },
 "nbformat": 4,
 "nbformat_minor": 4
}
