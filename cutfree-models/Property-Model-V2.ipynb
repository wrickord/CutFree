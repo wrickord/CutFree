{
 "cells": [
  {
   "cell_type": "markdown",
   "metadata": {},
   "source": [
    "# Import Dependencies"
   ]
  },
  {
   "cell_type": "code",
   "execution_count": 1137,
   "metadata": {},
   "outputs": [],
   "source": [
    "# System\n",
    "import os\n",
    "\n",
    "# Data Analysis\n",
    "import numpy as np\n",
    "import pandas as pd\n",
    "import seaborn as sns\n",
    "import matplotlib.pyplot as plt\n",
    "\n",
    "# Machine Learning\n",
    "from sklearn.model_selection import train_test_split, GridSearchCV\n",
    "from sklearn.neural_network import MLPClassifier\n",
    "from sklearn.metrics import accuracy_score, classification_report, plot_confusion_matrix\n",
    "\n",
    "import tensorflow as tf\n",
    "\n",
    "import pickle"
   ]
  },
  {
   "cell_type": "markdown",
   "metadata": {},
   "source": [
    "# Get Data"
   ]
  },
  {
   "cell_type": "code",
   "execution_count": 1138,
   "metadata": {},
   "outputs": [
    {
     "data": {
      "text/plain": [
       "Oligo                        NNNNNN\n",
       "OligoLength                       6\n",
       "Sites                   Any[\"YATR\"]\n",
       "TotalSites                        1\n",
       "SiteLength                        4\n",
       "CutFree_Randomer             NBNVVN\n",
       "CutFree_Degeneracy          7.45472\n",
       "CutFree_Time               0.006211\n",
       "CutFreeRL_Randomer           NNVVVN\n",
       "CutFreeRL_Degeneracy        7.45472\n",
       "CutFreeRL_Time             0.228063\n",
       "Name: 0, dtype: object"
      ]
     },
     "execution_count": 1138,
     "metadata": {},
     "output_type": "execute_result"
    }
   ],
   "source": [
    "file_path = os.path.normpath(os.getcwd() + os.sep + os.pardir) + \"/cutfree-simulations/runtime_data_v2.csv\"\n",
    "df_original = pd.read_csv(file_path)\n",
    "df = df_original.copy()\n",
    "df.iloc[0]"
   ]
  },
  {
   "cell_type": "code",
   "execution_count": 1139,
   "metadata": {},
   "outputs": [
    {
     "data": {
      "text/html": [
       "<div>\n",
       "<style scoped>\n",
       "    .dataframe tbody tr th:only-of-type {\n",
       "        vertical-align: middle;\n",
       "    }\n",
       "\n",
       "    .dataframe tbody tr th {\n",
       "        vertical-align: top;\n",
       "    }\n",
       "\n",
       "    .dataframe thead th {\n",
       "        text-align: right;\n",
       "    }\n",
       "</style>\n",
       "<table border=\"1\" class=\"dataframe\">\n",
       "  <thead>\n",
       "    <tr style=\"text-align: right;\">\n",
       "      <th></th>\n",
       "      <th>Oligo</th>\n",
       "      <th>OligoLength</th>\n",
       "      <th>Sites</th>\n",
       "      <th>TotalSites</th>\n",
       "      <th>SiteLength</th>\n",
       "      <th>CutFree_Randomer</th>\n",
       "      <th>CutFree_Degeneracy</th>\n",
       "      <th>CutFree_Time</th>\n",
       "      <th>CutFreeRL_Randomer</th>\n",
       "      <th>CutFreeRL_Degeneracy</th>\n",
       "      <th>CutFreeRL_Time</th>\n",
       "    </tr>\n",
       "  </thead>\n",
       "  <tbody>\n",
       "    <tr>\n",
       "      <th>0</th>\n",
       "      <td>NNNNNN</td>\n",
       "      <td>6</td>\n",
       "      <td>Any[\"YATR\"]</td>\n",
       "      <td>1</td>\n",
       "      <td>4</td>\n",
       "      <td>NBNVVN</td>\n",
       "      <td>7.454720</td>\n",
       "      <td>0.006211</td>\n",
       "      <td>NNVVVN</td>\n",
       "      <td>7.454720</td>\n",
       "      <td>0.228063</td>\n",
       "    </tr>\n",
       "    <tr>\n",
       "      <th>1750</th>\n",
       "      <td>NNNNNN</td>\n",
       "      <td>6</td>\n",
       "      <td>Any[\"GATC\"]</td>\n",
       "      <td>1</td>\n",
       "      <td>4</td>\n",
       "      <td>HNNNDD</td>\n",
       "      <td>7.454720</td>\n",
       "      <td>0.006383</td>\n",
       "      <td>NNNDDD</td>\n",
       "      <td>7.454720</td>\n",
       "      <td>0.225150</td>\n",
       "    </tr>\n",
       "    <tr>\n",
       "      <th>3500</th>\n",
       "      <td>NNNNNN</td>\n",
       "      <td>6</td>\n",
       "      <td>Any[\"GGCC\"]</td>\n",
       "      <td>1</td>\n",
       "      <td>4</td>\n",
       "      <td>NHNNDN</td>\n",
       "      <td>7.742402</td>\n",
       "      <td>0.007255</td>\n",
       "      <td>NNNDND</td>\n",
       "      <td>7.742402</td>\n",
       "      <td>0.080954</td>\n",
       "    </tr>\n",
       "  </tbody>\n",
       "</table>\n",
       "</div>"
      ],
      "text/plain": [
       "       Oligo  OligoLength        Sites  TotalSites  SiteLength  \\\n",
       "0     NNNNNN            6  Any[\"YATR\"]           1           4   \n",
       "1750  NNNNNN            6  Any[\"GATC\"]           1           4   \n",
       "3500  NNNNNN            6  Any[\"GGCC\"]           1           4   \n",
       "\n",
       "     CutFree_Randomer  CutFree_Degeneracy  CutFree_Time CutFreeRL_Randomer  \\\n",
       "0              NBNVVN            7.454720      0.006211             NNVVVN   \n",
       "1750           HNNNDD            7.454720      0.006383             NNNDDD   \n",
       "3500           NHNNDN            7.742402      0.007255             NNNDND   \n",
       "\n",
       "      CutFreeRL_Degeneracy  CutFreeRL_Time  \n",
       "0                 7.454720        0.228063  \n",
       "1750              7.454720        0.225150  \n",
       "3500              7.742402        0.080954  "
      ]
     },
     "execution_count": 1139,
     "metadata": {},
     "output_type": "execute_result"
    }
   ],
   "source": [
    "df.loc[(df[\"OligoLength\"] == 6) & (df[\"TotalSites\"] == 1) & (df[\"SiteLength\"] == 4)]"
   ]
  },
  {
   "attachments": {},
   "cell_type": "markdown",
   "metadata": {
    "tags": []
   },
   "source": [
    "# Data Classification"
   ]
  },
  {
   "cell_type": "code",
   "execution_count": 1140,
   "metadata": {},
   "outputs": [
    {
     "data": {
      "text/html": [
       "<div>\n",
       "<style scoped>\n",
       "    .dataframe tbody tr th:only-of-type {\n",
       "        vertical-align: middle;\n",
       "    }\n",
       "\n",
       "    .dataframe tbody tr th {\n",
       "        vertical-align: top;\n",
       "    }\n",
       "\n",
       "    .dataframe thead th {\n",
       "        text-align: right;\n",
       "    }\n",
       "</style>\n",
       "<table border=\"1\" class=\"dataframe\">\n",
       "  <thead>\n",
       "    <tr style=\"text-align: right;\">\n",
       "      <th></th>\n",
       "      <th>OligoLength</th>\n",
       "      <th>TotalSites</th>\n",
       "      <th>SiteLength</th>\n",
       "      <th>Algorithm</th>\n",
       "      <th>CutFree_Time</th>\n",
       "      <th>CutFreeRL_Time</th>\n",
       "    </tr>\n",
       "  </thead>\n",
       "  <tbody>\n",
       "    <tr>\n",
       "      <th>0</th>\n",
       "      <td>6</td>\n",
       "      <td>1</td>\n",
       "      <td>4</td>\n",
       "      <td>0</td>\n",
       "      <td>0.006211</td>\n",
       "      <td>0.228063</td>\n",
       "    </tr>\n",
       "    <tr>\n",
       "      <th>1</th>\n",
       "      <td>6</td>\n",
       "      <td>2</td>\n",
       "      <td>4</td>\n",
       "      <td>0</td>\n",
       "      <td>0.007820</td>\n",
       "      <td>0.087950</td>\n",
       "    </tr>\n",
       "    <tr>\n",
       "      <th>2</th>\n",
       "      <td>6</td>\n",
       "      <td>3</td>\n",
       "      <td>4</td>\n",
       "      <td>0</td>\n",
       "      <td>0.010071</td>\n",
       "      <td>0.136403</td>\n",
       "    </tr>\n",
       "    <tr>\n",
       "      <th>3</th>\n",
       "      <td>6</td>\n",
       "      <td>4</td>\n",
       "      <td>4</td>\n",
       "      <td>0</td>\n",
       "      <td>0.013531</td>\n",
       "      <td>0.150443</td>\n",
       "    </tr>\n",
       "    <tr>\n",
       "      <th>4</th>\n",
       "      <td>6</td>\n",
       "      <td>5</td>\n",
       "      <td>4</td>\n",
       "      <td>0</td>\n",
       "      <td>0.013882</td>\n",
       "      <td>0.183784</td>\n",
       "    </tr>\n",
       "    <tr>\n",
       "      <th>...</th>\n",
       "      <td>...</td>\n",
       "      <td>...</td>\n",
       "      <td>...</td>\n",
       "      <td>...</td>\n",
       "      <td>...</td>\n",
       "      <td>...</td>\n",
       "    </tr>\n",
       "    <tr>\n",
       "      <th>5244</th>\n",
       "      <td>40</td>\n",
       "      <td>6</td>\n",
       "      <td>8</td>\n",
       "      <td>1</td>\n",
       "      <td>12.737720</td>\n",
       "      <td>4.200124</td>\n",
       "    </tr>\n",
       "    <tr>\n",
       "      <th>5245</th>\n",
       "      <td>40</td>\n",
       "      <td>7</td>\n",
       "      <td>8</td>\n",
       "      <td>1</td>\n",
       "      <td>60.120769</td>\n",
       "      <td>3.009765</td>\n",
       "    </tr>\n",
       "    <tr>\n",
       "      <th>5246</th>\n",
       "      <td>40</td>\n",
       "      <td>8</td>\n",
       "      <td>8</td>\n",
       "      <td>1</td>\n",
       "      <td>60.379011</td>\n",
       "      <td>3.989743</td>\n",
       "    </tr>\n",
       "    <tr>\n",
       "      <th>5247</th>\n",
       "      <td>40</td>\n",
       "      <td>9</td>\n",
       "      <td>8</td>\n",
       "      <td>1</td>\n",
       "      <td>60.156297</td>\n",
       "      <td>3.611050</td>\n",
       "    </tr>\n",
       "    <tr>\n",
       "      <th>5248</th>\n",
       "      <td>40</td>\n",
       "      <td>10</td>\n",
       "      <td>8</td>\n",
       "      <td>1</td>\n",
       "      <td>60.159604</td>\n",
       "      <td>4.173604</td>\n",
       "    </tr>\n",
       "  </tbody>\n",
       "</table>\n",
       "<p>5249 rows × 6 columns</p>\n",
       "</div>"
      ],
      "text/plain": [
       "      OligoLength  TotalSites  SiteLength  Algorithm  CutFree_Time  \\\n",
       "0               6           1           4          0      0.006211   \n",
       "1               6           2           4          0      0.007820   \n",
       "2               6           3           4          0      0.010071   \n",
       "3               6           4           4          0      0.013531   \n",
       "4               6           5           4          0      0.013882   \n",
       "...           ...         ...         ...        ...           ...   \n",
       "5244           40           6           8          1     12.737720   \n",
       "5245           40           7           8          1     60.120769   \n",
       "5246           40           8           8          1     60.379011   \n",
       "5247           40           9           8          1     60.156297   \n",
       "5248           40          10           8          1     60.159604   \n",
       "\n",
       "      CutFreeRL_Time  \n",
       "0           0.228063  \n",
       "1           0.087950  \n",
       "2           0.136403  \n",
       "3           0.150443  \n",
       "4           0.183784  \n",
       "...              ...  \n",
       "5244        4.200124  \n",
       "5245        3.009765  \n",
       "5246        3.989743  \n",
       "5247        3.611050  \n",
       "5248        4.173604  \n",
       "\n",
       "[5249 rows x 6 columns]"
      ]
     },
     "execution_count": 1140,
     "metadata": {},
     "output_type": "execute_result"
    }
   ],
   "source": [
    "conditions = [\n",
    "    (df[\"CutFree_Time\"] <= df[\"CutFreeRL_Time\"]),\n",
    "    (df[\"CutFree_Time\"] > df[\"CutFreeRL_Time\"])\n",
    "]\n",
    "\n",
    "values = [0, 1] # 0 = CutFree, 1 = CutFreeRL\n",
    "\n",
    "df[\"Algorithm\"] = np.select(conditions, values)\n",
    "df = df[[\"OligoLength\", \"TotalSites\", \"SiteLength\", \"Algorithm\", \"CutFree_Time\", \"CutFreeRL_Time\"]]\n",
    "df"
   ]
  },
  {
   "attachments": {},
   "cell_type": "markdown",
   "metadata": {},
   "source": [
    "# Rejection Sampling"
   ]
  },
  {
   "cell_type": "code",
   "execution_count": 1141,
   "metadata": {},
   "outputs": [
    {
     "name": "stdout",
     "output_type": "stream",
     "text": [
      "3731\n",
      "1518\n"
     ]
    }
   ],
   "source": [
    "numCutFree = df[df.Algorithm == 0].shape[0]\n",
    "print(numCutFree)\n",
    "\n",
    "numCutFreeRL = df[df.Algorithm == 1].shape[0]\n",
    "print(numCutFreeRL)"
   ]
  },
  {
   "cell_type": "code",
   "execution_count": 1142,
   "metadata": {},
   "outputs": [
    {
     "data": {
      "text/html": [
       "<div>\n",
       "<style scoped>\n",
       "    .dataframe tbody tr th:only-of-type {\n",
       "        vertical-align: middle;\n",
       "    }\n",
       "\n",
       "    .dataframe tbody tr th {\n",
       "        vertical-align: top;\n",
       "    }\n",
       "\n",
       "    .dataframe thead th {\n",
       "        text-align: right;\n",
       "    }\n",
       "</style>\n",
       "<table border=\"1\" class=\"dataframe\">\n",
       "  <thead>\n",
       "    <tr style=\"text-align: right;\">\n",
       "      <th></th>\n",
       "      <th>OligoLength</th>\n",
       "      <th>TotalSites</th>\n",
       "      <th>SiteLength</th>\n",
       "      <th>Algorithm</th>\n",
       "      <th>CutFree_Time</th>\n",
       "      <th>CutFreeRL_Time</th>\n",
       "    </tr>\n",
       "  </thead>\n",
       "  <tbody>\n",
       "    <tr>\n",
       "      <th>0</th>\n",
       "      <td>6</td>\n",
       "      <td>1</td>\n",
       "      <td>4</td>\n",
       "      <td>0</td>\n",
       "      <td>0.006211</td>\n",
       "      <td>0.228063</td>\n",
       "    </tr>\n",
       "    <tr>\n",
       "      <th>4</th>\n",
       "      <td>6</td>\n",
       "      <td>5</td>\n",
       "      <td>4</td>\n",
       "      <td>0</td>\n",
       "      <td>0.013882</td>\n",
       "      <td>0.183784</td>\n",
       "    </tr>\n",
       "    <tr>\n",
       "      <th>5</th>\n",
       "      <td>6</td>\n",
       "      <td>6</td>\n",
       "      <td>4</td>\n",
       "      <td>0</td>\n",
       "      <td>0.011498</td>\n",
       "      <td>0.194223</td>\n",
       "    </tr>\n",
       "    <tr>\n",
       "      <th>11</th>\n",
       "      <td>6</td>\n",
       "      <td>2</td>\n",
       "      <td>5</td>\n",
       "      <td>0</td>\n",
       "      <td>0.006018</td>\n",
       "      <td>0.099851</td>\n",
       "    </tr>\n",
       "    <tr>\n",
       "      <th>19</th>\n",
       "      <td>6</td>\n",
       "      <td>10</td>\n",
       "      <td>5</td>\n",
       "      <td>0</td>\n",
       "      <td>0.030398</td>\n",
       "      <td>0.299281</td>\n",
       "    </tr>\n",
       "    <tr>\n",
       "      <th>...</th>\n",
       "      <td>...</td>\n",
       "      <td>...</td>\n",
       "      <td>...</td>\n",
       "      <td>...</td>\n",
       "      <td>...</td>\n",
       "      <td>...</td>\n",
       "    </tr>\n",
       "    <tr>\n",
       "      <th>5244</th>\n",
       "      <td>40</td>\n",
       "      <td>6</td>\n",
       "      <td>8</td>\n",
       "      <td>1</td>\n",
       "      <td>12.737720</td>\n",
       "      <td>4.200124</td>\n",
       "    </tr>\n",
       "    <tr>\n",
       "      <th>5245</th>\n",
       "      <td>40</td>\n",
       "      <td>7</td>\n",
       "      <td>8</td>\n",
       "      <td>1</td>\n",
       "      <td>60.120769</td>\n",
       "      <td>3.009765</td>\n",
       "    </tr>\n",
       "    <tr>\n",
       "      <th>5246</th>\n",
       "      <td>40</td>\n",
       "      <td>8</td>\n",
       "      <td>8</td>\n",
       "      <td>1</td>\n",
       "      <td>60.379011</td>\n",
       "      <td>3.989743</td>\n",
       "    </tr>\n",
       "    <tr>\n",
       "      <th>5247</th>\n",
       "      <td>40</td>\n",
       "      <td>9</td>\n",
       "      <td>8</td>\n",
       "      <td>1</td>\n",
       "      <td>60.156297</td>\n",
       "      <td>3.611050</td>\n",
       "    </tr>\n",
       "    <tr>\n",
       "      <th>5248</th>\n",
       "      <td>40</td>\n",
       "      <td>10</td>\n",
       "      <td>8</td>\n",
       "      <td>1</td>\n",
       "      <td>60.159604</td>\n",
       "      <td>4.173604</td>\n",
       "    </tr>\n",
       "  </tbody>\n",
       "</table>\n",
       "<p>3036 rows × 6 columns</p>\n",
       "</div>"
      ],
      "text/plain": [
       "      OligoLength  TotalSites  SiteLength  Algorithm  CutFree_Time  \\\n",
       "0               6           1           4          0      0.006211   \n",
       "4               6           5           4          0      0.013882   \n",
       "5               6           6           4          0      0.011498   \n",
       "11              6           2           5          0      0.006018   \n",
       "19              6          10           5          0      0.030398   \n",
       "...           ...         ...         ...        ...           ...   \n",
       "5244           40           6           8          1     12.737720   \n",
       "5245           40           7           8          1     60.120769   \n",
       "5246           40           8           8          1     60.379011   \n",
       "5247           40           9           8          1     60.156297   \n",
       "5248           40          10           8          1     60.159604   \n",
       "\n",
       "      CutFreeRL_Time  \n",
       "0           0.228063  \n",
       "4           0.183784  \n",
       "5           0.194223  \n",
       "11          0.099851  \n",
       "19          0.299281  \n",
       "...              ...  \n",
       "5244        4.200124  \n",
       "5245        3.009765  \n",
       "5246        3.989743  \n",
       "5247        3.611050  \n",
       "5248        4.173604  \n",
       "\n",
       "[3036 rows x 6 columns]"
      ]
     },
     "execution_count": 1142,
     "metadata": {},
     "output_type": "execute_result"
    }
   ],
   "source": [
    "df_rejection = df[df.Algorithm == 0].sample(numCutFree-numCutFreeRL)\n",
    "df = df.drop(df_rejection.index)\n",
    "df"
   ]
  },
  {
   "cell_type": "code",
   "execution_count": 1143,
   "metadata": {},
   "outputs": [
    {
     "name": "stdout",
     "output_type": "stream",
     "text": [
      "1518\n",
      "1518\n"
     ]
    }
   ],
   "source": [
    "numCutFree = df[df.Algorithm == 0].shape[0]\n",
    "print(numCutFree)\n",
    "\n",
    "numCutFreeRL = df[df.Algorithm == 1].shape[0]\n",
    "print(numCutFreeRL)"
   ]
  },
  {
   "cell_type": "code",
   "execution_count": 1144,
   "metadata": {},
   "outputs": [],
   "source": [
    "df_total = df.copy()\n",
    "df = df[[\"OligoLength\", \"TotalSites\", \"SiteLength\", \"Algorithm\"]]"
   ]
  },
  {
   "attachments": {},
   "cell_type": "markdown",
   "metadata": {},
   "source": [
    "# Visualize Data"
   ]
  },
  {
   "cell_type": "code",
   "execution_count": 1145,
   "metadata": {},
   "outputs": [
    {
     "data": {
      "image/png": "[encoded data removed]",
      "text/plain": [
       "<Figure size 597x540 with 12 Axes>"
      ]
     },
     "metadata": {
      "needs_background": "light"
     },
     "output_type": "display_data"
    }
   ],
   "source": [
    "pair_plot = sns.pairplot(df, hue=\"Algorithm\", diag_kind=\"kde\")\n",
    "new_labels = [\"CutFree\", \"CutFreeRL\"]\n",
    "for t, l in zip(pair_plot._legend.texts, new_labels):\n",
    "    t.set_text(l)\n",
    "plt.show(pair_plot)"
   ]
  },
  {
   "attachments": {},
   "cell_type": "markdown",
   "metadata": {
    "tags": []
   },
   "source": [
    "# Get Train/Test Split"
   ]
  },
  {
   "cell_type": "code",
   "execution_count": 1146,
   "metadata": {},
   "outputs": [],
   "source": [
    "x = df.drop([\"Algorithm\"], axis=1)\n",
    "y = df[\"Algorithm\"]"
   ]
  },
  {
   "cell_type": "code",
   "execution_count": 1147,
   "metadata": {},
   "outputs": [
    {
     "data": {
      "text/html": [
       "<div>\n",
       "<style scoped>\n",
       "    .dataframe tbody tr th:only-of-type {\n",
       "        vertical-align: middle;\n",
       "    }\n",
       "\n",
       "    .dataframe tbody tr th {\n",
       "        vertical-align: top;\n",
       "    }\n",
       "\n",
       "    .dataframe thead th {\n",
       "        text-align: right;\n",
       "    }\n",
       "</style>\n",
       "<table border=\"1\" class=\"dataframe\">\n",
       "  <thead>\n",
       "    <tr style=\"text-align: right;\">\n",
       "      <th></th>\n",
       "      <th>OligoLength</th>\n",
       "      <th>TotalSites</th>\n",
       "      <th>SiteLength</th>\n",
       "    </tr>\n",
       "  </thead>\n",
       "  <tbody>\n",
       "    <tr>\n",
       "      <th>4277</th>\n",
       "      <td>21</td>\n",
       "      <td>8</td>\n",
       "      <td>6</td>\n",
       "    </tr>\n",
       "    <tr>\n",
       "      <th>2640</th>\n",
       "      <td>23</td>\n",
       "      <td>1</td>\n",
       "      <td>8</td>\n",
       "    </tr>\n",
       "    <tr>\n",
       "      <th>540</th>\n",
       "      <td>16</td>\n",
       "      <td>1</td>\n",
       "      <td>8</td>\n",
       "    </tr>\n",
       "    <tr>\n",
       "      <th>4182</th>\n",
       "      <td>19</td>\n",
       "      <td>3</td>\n",
       "      <td>7</td>\n",
       "    </tr>\n",
       "    <tr>\n",
       "      <th>3382</th>\n",
       "      <td>38</td>\n",
       "      <td>3</td>\n",
       "      <td>7</td>\n",
       "    </tr>\n",
       "  </tbody>\n",
       "</table>\n",
       "</div>"
      ],
      "text/plain": [
       "      OligoLength  TotalSites  SiteLength\n",
       "4277           21           8           6\n",
       "2640           23           1           8\n",
       "540            16           1           8\n",
       "4182           19           3           7\n",
       "3382           38           3           7"
      ]
     },
     "execution_count": 1147,
     "metadata": {},
     "output_type": "execute_result"
    }
   ],
   "source": [
    "x_train_df, x_test_df, y_train_df, y_test_df = train_test_split(x, y, test_size=0.2, random_state=1)\n",
    "x_train_df.head()"
   ]
  },
  {
   "cell_type": "code",
   "execution_count": 1148,
   "metadata": {},
   "outputs": [
    {
     "data": {
      "text/plain": [
       "4277    1\n",
       "2640    0\n",
       "540     0\n",
       "4182    0\n",
       "3382    1\n",
       "Name: Algorithm, dtype: int32"
      ]
     },
     "execution_count": 1148,
     "metadata": {},
     "output_type": "execute_result"
    }
   ],
   "source": [
    "y_train_df.head()"
   ]
  },
  {
   "cell_type": "code",
   "execution_count": 1149,
   "metadata": {},
   "outputs": [],
   "source": [
    "x_train, y_train = tf.convert_to_tensor(x_train_df, dtype=tf.float32), tf.convert_to_tensor(y_train_df, dtype=tf.float32)\n",
    "x_test, y_test = tf.convert_to_tensor(x_test_df, dtype=tf.float32), tf.convert_to_tensor(y_test_df, dtype=tf.float32)"
   ]
  },
  {
   "cell_type": "code",
   "execution_count": 1150,
   "metadata": {},
   "outputs": [
    {
     "data": {
      "text/plain": [
       "<tf.Tensor: shape=(2428, 3), dtype=float32, numpy=\n",
       "array([[21.,  8.,  6.],\n",
       "       [23.,  1.,  8.],\n",
       "       [16.,  1.,  8.],\n",
       "       ...,\n",
       "       [11.,  4.,  8.],\n",
       "       [17.,  2.,  6.],\n",
       "       [ 9.,  6.,  7.]], dtype=float32)>"
      ]
     },
     "execution_count": 1150,
     "metadata": {},
     "output_type": "execute_result"
    }
   ],
   "source": [
    "x_train"
   ]
  },
  {
   "attachments": {},
   "cell_type": "markdown",
   "metadata": {},
   "source": [
    "# Machine Learning"
   ]
  },
  {
   "attachments": {},
   "cell_type": "markdown",
   "metadata": {},
   "source": [
    "### Accuracy Function"
   ]
  },
  {
   "cell_type": "code",
   "execution_count": 1151,
   "metadata": {},
   "outputs": [],
   "source": [
    "def get_accuracy(pred, true):\n",
    "    test_accuracy = accuracy_score(pred, true)*100\n",
    "    print(\"Accuracy: {:.2f}%\".format(test_accuracy))\n",
    "    return test_accuracy"
   ]
  },
  {
   "attachments": {},
   "cell_type": "markdown",
   "metadata": {},
   "source": [
    "### TensorFlow NN"
   ]
  },
  {
   "cell_type": "code",
   "execution_count": 1152,
   "metadata": {},
   "outputs": [
    {
     "name": "stdout",
     "output_type": "stream",
     "text": [
      "Model: \"sequential_32\"\n",
      "_________________________________________________________________\n",
      " Layer (type)                Output Shape              Param #   \n",
      "=================================================================\n",
      " dense_192 (Dense)           (None, 32)                128       \n",
      "                                                                 \n",
      " batch_normalization_93 (Bat  (None, 32)               128       \n",
      " chNormalization)                                                \n",
      "                                                                 \n",
      " dropout_111 (Dropout)       (None, 32)                0         \n",
      "                                                                 \n",
      " dense_193 (Dense)           (None, 32)                1056      \n",
      "                                                                 \n",
      " dropout_112 (Dropout)       (None, 32)                0         \n",
      "                                                                 \n",
      " dense_194 (Dense)           (None, 16)                528       \n",
      "                                                                 \n",
      " dropout_113 (Dropout)       (None, 16)                0         \n",
      "                                                                 \n",
      " dense_195 (Dense)           (None, 16)                272       \n",
      "                                                                 \n",
      " dense_196 (Dense)           (None, 8)                 136       \n",
      "                                                                 \n",
      " dense_197 (Dense)           (None, 1)                 9         \n",
      "                                                                 \n",
      "=================================================================\n",
      "Total params: 2,257\n",
      "Trainable params: 2,193\n",
      "Non-trainable params: 64\n",
      "_________________________________________________________________\n"
     ]
    }
   ],
   "source": [
    "model = tf.keras.Sequential([\n",
    "    tf.keras.layers.Dense(32, activation=\"tanh\", input_shape=(3,)),\n",
    "    tf.keras.layers.BatchNormalization(),\n",
    "    tf.keras.layers.Dropout(0.1),\n",
    "    tf.keras.layers.Dense(32, activation=\"tanh\"),\n",
    "    tf.keras.layers.Dropout(0.1),\n",
    "    tf.keras.layers.Dense(16, activation=\"tanh\"),\n",
    "    tf.keras.layers.Dropout(0.1),\n",
    "    tf.keras.layers.Dense(16, activation=\"tanh\"),\n",
    "    tf.keras.layers.Dense(8, activation=\"tanh\"),\n",
    "    tf.keras.layers.Dense(1, activation=\"sigmoid\")\n",
    "])\n",
    "\n",
    "model.summary()"
   ]
  },
  {
   "cell_type": "code",
   "execution_count": 1153,
   "metadata": {},
   "outputs": [
    {
     "name": "stdout",
     "output_type": "stream",
     "text": [
      "Epoch 1/100\n",
      "76/76 [==============================] - 1s 3ms/step - loss: 0.3237 - accuracy: 0.2965 - val_loss: 0.3075 - val_accuracy: 0.3454\n",
      "Epoch 2/100\n",
      "76/76 [==============================] - 0s 2ms/step - loss: 0.3171 - accuracy: 0.3072 - val_loss: 0.3068 - val_accuracy: 0.2730\n",
      "Epoch 3/100\n",
      "76/76 [==============================] - 0s 2ms/step - loss: 0.3078 - accuracy: 0.3328 - val_loss: 0.3023 - val_accuracy: 0.2730\n",
      "Epoch 4/100\n",
      "76/76 [==============================] - 0s 2ms/step - loss: 0.2985 - accuracy: 0.3567 - val_loss: 0.2965 - val_accuracy: 0.3043\n",
      "Epoch 5/100\n",
      "76/76 [==============================] - 0s 2ms/step - loss: 0.2924 - accuracy: 0.3748 - val_loss: 0.2897 - val_accuracy: 0.3372\n",
      "Epoch 6/100\n",
      "76/76 [==============================] - 0s 2ms/step - loss: 0.2843 - accuracy: 0.4189 - val_loss: 0.2819 - val_accuracy: 0.3701\n",
      "Epoch 7/100\n",
      "76/76 [==============================] - 0s 2ms/step - loss: 0.2744 - accuracy: 0.4502 - val_loss: 0.2736 - val_accuracy: 0.4424\n",
      "Epoch 8/100\n",
      "76/76 [==============================] - 0s 3ms/step - loss: 0.2686 - accuracy: 0.4848 - val_loss: 0.2654 - val_accuracy: 0.5164\n",
      "Epoch 9/100\n",
      "76/76 [==============================] - 0s 2ms/step - loss: 0.2625 - accuracy: 0.5202 - val_loss: 0.2578 - val_accuracy: 0.5559\n",
      "Epoch 10/100\n",
      "76/76 [==============================] - 0s 1ms/step - loss: 0.2537 - accuracy: 0.5465 - val_loss: 0.2510 - val_accuracy: 0.5954\n",
      "Epoch 11/100\n",
      "76/76 [==============================] - 0s 2ms/step - loss: 0.2527 - accuracy: 0.5560 - val_loss: 0.2447 - val_accuracy: 0.6151\n",
      "Epoch 12/100\n",
      "76/76 [==============================] - 0s 1ms/step - loss: 0.2436 - accuracy: 0.6009 - val_loss: 0.2394 - val_accuracy: 0.6365\n",
      "Epoch 13/100\n",
      "76/76 [==============================] - 0s 2ms/step - loss: 0.2405 - accuracy: 0.6034 - val_loss: 0.2345 - val_accuracy: 0.6414\n",
      "Epoch 14/100\n",
      "76/76 [==============================] - 0s 2ms/step - loss: 0.2344 - accuracy: 0.6281 - val_loss: 0.2299 - val_accuracy: 0.6480\n",
      "Epoch 15/100\n",
      "76/76 [==============================] - 0s 2ms/step - loss: 0.2296 - accuracy: 0.6359 - val_loss: 0.2257 - val_accuracy: 0.6530\n",
      "Epoch 16/100\n",
      "76/76 [==============================] - 0s 1ms/step - loss: 0.2262 - accuracy: 0.6421 - val_loss: 0.2218 - val_accuracy: 0.6546\n",
      "Epoch 17/100\n",
      "76/76 [==============================] - 0s 2ms/step - loss: 0.2250 - accuracy: 0.6544 - val_loss: 0.2180 - val_accuracy: 0.6595\n",
      "Epoch 18/100\n",
      "76/76 [==============================] - 0s 2ms/step - loss: 0.2217 - accuracy: 0.6610 - val_loss: 0.2144 - val_accuracy: 0.6661\n",
      "Epoch 19/100\n",
      "76/76 [==============================] - 0s 2ms/step - loss: 0.2162 - accuracy: 0.6652 - val_loss: 0.2111 - val_accuracy: 0.6678\n",
      "Epoch 20/100\n",
      "76/76 [==============================] - 0s 2ms/step - loss: 0.2131 - accuracy: 0.6750 - val_loss: 0.2079 - val_accuracy: 0.6678\n",
      "Epoch 21/100\n",
      "76/76 [==============================] - 0s 2ms/step - loss: 0.2114 - accuracy: 0.6783 - val_loss: 0.2048 - val_accuracy: 0.6711\n",
      "Epoch 22/100\n",
      "76/76 [==============================] - 0s 2ms/step - loss: 0.2068 - accuracy: 0.6956 - val_loss: 0.2019 - val_accuracy: 0.6743\n",
      "Epoch 23/100\n",
      "76/76 [==============================] - 0s 2ms/step - loss: 0.2047 - accuracy: 0.6965 - val_loss: 0.1993 - val_accuracy: 0.6809\n",
      "Epoch 24/100\n",
      "76/76 [==============================] - 0s 2ms/step - loss: 0.2029 - accuracy: 0.7014 - val_loss: 0.1966 - val_accuracy: 0.6908\n",
      "Epoch 25/100\n",
      "76/76 [==============================] - 0s 2ms/step - loss: 0.1996 - accuracy: 0.7076 - val_loss: 0.1938 - val_accuracy: 0.7007\n",
      "Epoch 26/100\n",
      "76/76 [==============================] - 0s 2ms/step - loss: 0.1933 - accuracy: 0.7208 - val_loss: 0.1915 - val_accuracy: 0.7056\n",
      "Epoch 27/100\n",
      "76/76 [==============================] - 0s 2ms/step - loss: 0.1942 - accuracy: 0.7142 - val_loss: 0.1889 - val_accuracy: 0.7072\n",
      "Epoch 28/100\n",
      "76/76 [==============================] - 0s 2ms/step - loss: 0.1925 - accuracy: 0.7245 - val_loss: 0.1866 - val_accuracy: 0.7155\n",
      "Epoch 29/100\n",
      "76/76 [==============================] - 0s 2ms/step - loss: 0.1883 - accuracy: 0.7426 - val_loss: 0.1844 - val_accuracy: 0.7171\n",
      "Epoch 30/100\n",
      "76/76 [==============================] - 0s 1ms/step - loss: 0.1848 - accuracy: 0.7372 - val_loss: 0.1823 - val_accuracy: 0.7253\n",
      "Epoch 31/100\n",
      "76/76 [==============================] - 0s 1ms/step - loss: 0.1858 - accuracy: 0.7385 - val_loss: 0.1802 - val_accuracy: 0.7352\n",
      "Epoch 32/100\n",
      "76/76 [==============================] - 0s 1ms/step - loss: 0.1824 - accuracy: 0.7479 - val_loss: 0.1782 - val_accuracy: 0.7582\n",
      "Epoch 33/100\n",
      "76/76 [==============================] - 0s 2ms/step - loss: 0.1810 - accuracy: 0.7467 - val_loss: 0.1764 - val_accuracy: 0.7664\n",
      "Epoch 34/100\n",
      "76/76 [==============================] - 0s 2ms/step - loss: 0.1793 - accuracy: 0.7541 - val_loss: 0.1747 - val_accuracy: 0.7697\n",
      "Epoch 35/100\n",
      "76/76 [==============================] - 0s 1ms/step - loss: 0.1773 - accuracy: 0.7529 - val_loss: 0.1730 - val_accuracy: 0.7730\n",
      "Epoch 36/100\n",
      "76/76 [==============================] - 0s 1ms/step - loss: 0.1728 - accuracy: 0.7657 - val_loss: 0.1712 - val_accuracy: 0.7763\n",
      "Epoch 37/100\n",
      "76/76 [==============================] - 0s 2ms/step - loss: 0.1769 - accuracy: 0.7529 - val_loss: 0.1699 - val_accuracy: 0.7780\n",
      "Epoch 38/100\n",
      "76/76 [==============================] - 0s 1ms/step - loss: 0.1727 - accuracy: 0.7694 - val_loss: 0.1682 - val_accuracy: 0.7747\n",
      "Epoch 39/100\n",
      "76/76 [==============================] - 0s 2ms/step - loss: 0.1717 - accuracy: 0.7681 - val_loss: 0.1669 - val_accuracy: 0.7780\n",
      "Epoch 40/100\n",
      "76/76 [==============================] - 0s 2ms/step - loss: 0.1715 - accuracy: 0.7657 - val_loss: 0.1655 - val_accuracy: 0.7796\n",
      "Epoch 41/100\n",
      "76/76 [==============================] - 0s 2ms/step - loss: 0.1714 - accuracy: 0.7673 - val_loss: 0.1641 - val_accuracy: 0.7796\n",
      "Epoch 42/100\n",
      "76/76 [==============================] - 0s 2ms/step - loss: 0.1676 - accuracy: 0.7743 - val_loss: 0.1631 - val_accuracy: 0.7812\n",
      "Epoch 43/100\n",
      "76/76 [==============================] - 0s 1ms/step - loss: 0.1672 - accuracy: 0.7747 - val_loss: 0.1619 - val_accuracy: 0.7812\n",
      "Epoch 44/100\n",
      "76/76 [==============================] - 0s 1ms/step - loss: 0.1669 - accuracy: 0.7706 - val_loss: 0.1609 - val_accuracy: 0.7812\n",
      "Epoch 45/100\n",
      "76/76 [==============================] - 0s 1ms/step - loss: 0.1636 - accuracy: 0.7714 - val_loss: 0.1598 - val_accuracy: 0.7796\n",
      "Epoch 46/100\n",
      "76/76 [==============================] - 0s 2ms/step - loss: 0.1658 - accuracy: 0.7780 - val_loss: 0.1589 - val_accuracy: 0.7812\n",
      "Epoch 47/100\n",
      "76/76 [==============================] - 0s 2ms/step - loss: 0.1621 - accuracy: 0.7801 - val_loss: 0.1580 - val_accuracy: 0.7845\n",
      "Epoch 48/100\n",
      "76/76 [==============================] - 0s 2ms/step - loss: 0.1600 - accuracy: 0.7883 - val_loss: 0.1571 - val_accuracy: 0.7862\n",
      "Epoch 49/100\n",
      "76/76 [==============================] - 0s 2ms/step - loss: 0.1613 - accuracy: 0.7817 - val_loss: 0.1562 - val_accuracy: 0.7911\n",
      "Epoch 50/100\n",
      "76/76 [==============================] - 0s 1ms/step - loss: 0.1590 - accuracy: 0.7867 - val_loss: 0.1555 - val_accuracy: 0.7961\n",
      "Epoch 51/100\n",
      "76/76 [==============================] - 0s 1ms/step - loss: 0.1597 - accuracy: 0.7854 - val_loss: 0.1547 - val_accuracy: 0.8010\n",
      "Epoch 52/100\n",
      "76/76 [==============================] - 0s 2ms/step - loss: 0.1587 - accuracy: 0.7862 - val_loss: 0.1541 - val_accuracy: 0.8026\n",
      "Epoch 53/100\n",
      "76/76 [==============================] - 0s 2ms/step - loss: 0.1599 - accuracy: 0.7817 - val_loss: 0.1534 - val_accuracy: 0.8043\n",
      "Epoch 54/100\n",
      "76/76 [==============================] - 0s 2ms/step - loss: 0.1576 - accuracy: 0.7862 - val_loss: 0.1528 - val_accuracy: 0.8043\n",
      "Epoch 55/100\n",
      "76/76 [==============================] - 0s 3ms/step - loss: 0.1566 - accuracy: 0.7887 - val_loss: 0.1522 - val_accuracy: 0.8076\n",
      "Epoch 56/100\n",
      "76/76 [==============================] - 0s 2ms/step - loss: 0.1582 - accuracy: 0.7871 - val_loss: 0.1517 - val_accuracy: 0.8059\n",
      "Epoch 57/100\n",
      "76/76 [==============================] - 0s 3ms/step - loss: 0.1542 - accuracy: 0.7928 - val_loss: 0.1511 - val_accuracy: 0.8059\n",
      "Epoch 58/100\n",
      "76/76 [==============================] - 0s 3ms/step - loss: 0.1549 - accuracy: 0.7912 - val_loss: 0.1506 - val_accuracy: 0.8059\n",
      "Epoch 59/100\n",
      "76/76 [==============================] - 0s 2ms/step - loss: 0.1524 - accuracy: 0.8007 - val_loss: 0.1502 - val_accuracy: 0.8076\n",
      "Epoch 60/100\n",
      "76/76 [==============================] - 0s 2ms/step - loss: 0.1539 - accuracy: 0.7924 - val_loss: 0.1496 - val_accuracy: 0.8092\n",
      "Epoch 61/100\n",
      "76/76 [==============================] - 0s 2ms/step - loss: 0.1528 - accuracy: 0.7932 - val_loss: 0.1492 - val_accuracy: 0.8125\n",
      "Epoch 62/100\n",
      "76/76 [==============================] - 0s 2ms/step - loss: 0.1541 - accuracy: 0.7924 - val_loss: 0.1488 - val_accuracy: 0.8141\n",
      "Epoch 63/100\n",
      "76/76 [==============================] - 0s 2ms/step - loss: 0.1493 - accuracy: 0.8011 - val_loss: 0.1484 - val_accuracy: 0.8141\n",
      "Epoch 64/100\n",
      "76/76 [==============================] - 0s 2ms/step - loss: 0.1529 - accuracy: 0.7949 - val_loss: 0.1481 - val_accuracy: 0.8141\n",
      "Epoch 65/100\n",
      "76/76 [==============================] - 0s 2ms/step - loss: 0.1511 - accuracy: 0.8027 - val_loss: 0.1478 - val_accuracy: 0.8158\n",
      "Epoch 66/100\n",
      "76/76 [==============================] - 0s 2ms/step - loss: 0.1463 - accuracy: 0.8118 - val_loss: 0.1475 - val_accuracy: 0.8158\n",
      "Epoch 67/100\n",
      "76/76 [==============================] - 0s 2ms/step - loss: 0.1539 - accuracy: 0.7941 - val_loss: 0.1472 - val_accuracy: 0.8158\n",
      "Epoch 68/100\n",
      "76/76 [==============================] - 0s 2ms/step - loss: 0.1521 - accuracy: 0.7916 - val_loss: 0.1469 - val_accuracy: 0.8158\n",
      "Epoch 69/100\n",
      "76/76 [==============================] - 0s 2ms/step - loss: 0.1508 - accuracy: 0.7916 - val_loss: 0.1465 - val_accuracy: 0.8158\n",
      "Epoch 70/100\n",
      "76/76 [==============================] - 0s 2ms/step - loss: 0.1460 - accuracy: 0.8052 - val_loss: 0.1463 - val_accuracy: 0.8158\n",
      "Epoch 71/100\n",
      "76/76 [==============================] - 0s 1ms/step - loss: 0.1495 - accuracy: 0.7978 - val_loss: 0.1459 - val_accuracy: 0.8224\n",
      "Epoch 72/100\n",
      "76/76 [==============================] - 0s 1ms/step - loss: 0.1519 - accuracy: 0.7891 - val_loss: 0.1456 - val_accuracy: 0.8224\n",
      "Epoch 73/100\n",
      "76/76 [==============================] - 0s 1ms/step - loss: 0.1477 - accuracy: 0.7990 - val_loss: 0.1454 - val_accuracy: 0.8257\n",
      "Epoch 74/100\n",
      "76/76 [==============================] - 0s 2ms/step - loss: 0.1500 - accuracy: 0.7941 - val_loss: 0.1451 - val_accuracy: 0.8257\n",
      "Epoch 75/100\n",
      "76/76 [==============================] - 0s 2ms/step - loss: 0.1481 - accuracy: 0.7990 - val_loss: 0.1450 - val_accuracy: 0.8257\n",
      "Epoch 76/100\n",
      "76/76 [==============================] - 0s 2ms/step - loss: 0.1471 - accuracy: 0.8002 - val_loss: 0.1447 - val_accuracy: 0.8257\n",
      "Epoch 77/100\n",
      "76/76 [==============================] - 0s 2ms/step - loss: 0.1488 - accuracy: 0.7957 - val_loss: 0.1446 - val_accuracy: 0.8273\n",
      "Epoch 78/100\n",
      "76/76 [==============================] - 0s 2ms/step - loss: 0.1491 - accuracy: 0.7924 - val_loss: 0.1444 - val_accuracy: 0.8257\n",
      "Epoch 79/100\n",
      "76/76 [==============================] - 0s 2ms/step - loss: 0.1469 - accuracy: 0.8019 - val_loss: 0.1442 - val_accuracy: 0.8257\n",
      "Epoch 80/100\n",
      "76/76 [==============================] - 0s 2ms/step - loss: 0.1473 - accuracy: 0.7974 - val_loss: 0.1440 - val_accuracy: 0.8257\n",
      "Epoch 81/100\n",
      "76/76 [==============================] - 0s 2ms/step - loss: 0.1471 - accuracy: 0.8002 - val_loss: 0.1438 - val_accuracy: 0.8273\n",
      "Epoch 82/100\n",
      "76/76 [==============================] - 0s 2ms/step - loss: 0.1447 - accuracy: 0.8040 - val_loss: 0.1438 - val_accuracy: 0.8273\n",
      "Epoch 83/100\n",
      "76/76 [==============================] - 0s 2ms/step - loss: 0.1468 - accuracy: 0.8011 - val_loss: 0.1435 - val_accuracy: 0.8273\n",
      "Epoch 84/100\n",
      "76/76 [==============================] - 0s 2ms/step - loss: 0.1477 - accuracy: 0.7986 - val_loss: 0.1435 - val_accuracy: 0.8289\n",
      "Epoch 85/100\n",
      "76/76 [==============================] - 0s 2ms/step - loss: 0.1510 - accuracy: 0.7887 - val_loss: 0.1434 - val_accuracy: 0.8289\n",
      "Epoch 86/100\n",
      "76/76 [==============================] - 0s 2ms/step - loss: 0.1458 - accuracy: 0.7965 - val_loss: 0.1432 - val_accuracy: 0.8289\n",
      "Epoch 87/100\n",
      "76/76 [==============================] - 0s 1ms/step - loss: 0.1480 - accuracy: 0.7957 - val_loss: 0.1431 - val_accuracy: 0.8257\n",
      "Epoch 88/100\n",
      "76/76 [==============================] - 0s 2ms/step - loss: 0.1472 - accuracy: 0.7998 - val_loss: 0.1429 - val_accuracy: 0.8289\n",
      "Epoch 89/100\n",
      "76/76 [==============================] - 0s 2ms/step - loss: 0.1456 - accuracy: 0.8023 - val_loss: 0.1428 - val_accuracy: 0.8289\n",
      "Epoch 90/100\n",
      "76/76 [==============================] - 0s 2ms/step - loss: 0.1454 - accuracy: 0.8015 - val_loss: 0.1427 - val_accuracy: 0.8257\n",
      "Epoch 91/100\n",
      "76/76 [==============================] - 0s 2ms/step - loss: 0.1465 - accuracy: 0.8002 - val_loss: 0.1425 - val_accuracy: 0.8257\n",
      "Epoch 92/100\n",
      "76/76 [==============================] - 0s 1ms/step - loss: 0.1430 - accuracy: 0.8072 - val_loss: 0.1425 - val_accuracy: 0.8257\n",
      "Epoch 93/100\n",
      "76/76 [==============================] - 0s 1ms/step - loss: 0.1440 - accuracy: 0.8114 - val_loss: 0.1424 - val_accuracy: 0.8257\n",
      "Epoch 94/100\n",
      "76/76 [==============================] - 0s 1ms/step - loss: 0.1441 - accuracy: 0.8031 - val_loss: 0.1423 - val_accuracy: 0.8257\n",
      "Epoch 95/100\n",
      "76/76 [==============================] - 0s 2ms/step - loss: 0.1472 - accuracy: 0.7932 - val_loss: 0.1423 - val_accuracy: 0.8257\n",
      "Epoch 96/100\n",
      "76/76 [==============================] - 0s 2ms/step - loss: 0.1450 - accuracy: 0.8064 - val_loss: 0.1421 - val_accuracy: 0.8240\n",
      "Epoch 97/100\n",
      "76/76 [==============================] - 0s 2ms/step - loss: 0.1427 - accuracy: 0.8072 - val_loss: 0.1421 - val_accuracy: 0.8240\n",
      "Epoch 98/100\n",
      "76/76 [==============================] - 0s 2ms/step - loss: 0.1449 - accuracy: 0.8023 - val_loss: 0.1420 - val_accuracy: 0.8240\n",
      "Epoch 99/100\n",
      "76/76 [==============================] - 0s 2ms/step - loss: 0.1454 - accuracy: 0.8002 - val_loss: 0.1419 - val_accuracy: 0.8240\n",
      "Epoch 100/100\n",
      "76/76 [==============================] - 0s 2ms/step - loss: 0.1442 - accuracy: 0.7998 - val_loss: 0.1418 - val_accuracy: 0.8257\n"
     ]
    }
   ],
   "source": [
    "optimizer = tf.keras.optimizers.Adam(learning_rate=0.00001)\n",
    "\n",
    "model.compile(\n",
    "    optimizer, \n",
    "    loss=\"mse\", \n",
    "    metrics=[\"accuracy\"])\n",
    "history = model.fit(x_train, y_train, epochs=100, batch_size=32, validation_data=(x_test, y_test))"
   ]
  },
  {
   "cell_type": "code",
   "execution_count": 1154,
   "metadata": {},
   "outputs": [
    {
     "name": "stdout",
     "output_type": "stream",
     "text": [
      "19/19 [==============================] - 0s 752us/step\n",
      "Accuracy: 82.57%\n"
     ]
    }
   ],
   "source": [
    "y_pred_tf = np.round(model.predict(x_test)).reshape(1, -1)[0]\n",
    "tf_acc = get_accuracy(y_pred_tf, y_test)"
   ]
  },
  {
   "cell_type": "markdown",
   "metadata": {},
   "source": [
    "### Plot Loss and Accuracy Curves"
   ]
  },
  {
   "cell_type": "code",
   "execution_count": 1155,
   "metadata": {},
   "outputs": [
    {
     "data": {
      "image/png": "[encoded data removed]",
      "text/plain": [
       "<Figure size 432x288 with 1 Axes>"
      ]
     },
     "metadata": {
      "needs_background": "light"
     },
     "output_type": "display_data"
    }
   ],
   "source": [
    "plt.plot(history.history['accuracy'])\n",
    "plt.plot(history.history['val_accuracy'])\n",
    "plt.title('model accuracy')\n",
    "plt.ylabel('accuracy')\n",
    "plt.xlabel('epoch')\n",
    "plt.legend(['train', 'val'], loc='upper left')\n",
    "plt.show()"
   ]
  },
  {
   "cell_type": "code",
   "execution_count": 1156,
   "metadata": {},
   "outputs": [
    {
     "data": {
      "image/png": "[encoded data removed]",
      "text/plain": [
       "<Figure size 432x288 with 1 Axes>"
      ]
     },
     "metadata": {
      "needs_background": "light"
     },
     "output_type": "display_data"
    }
   ],
   "source": [
    "plt.plot(history.history['loss'])\n",
    "plt.plot(history.history['val_loss'])\n",
    "plt.title('model loss')\n",
    "plt.ylabel('loss')\n",
    "plt.xlabel('epoch')\n",
    "plt.legend(['train', 'val'], loc='upper left')\n",
    "plt.show()"
   ]
  },
  {
   "attachments": {},
   "cell_type": "markdown",
   "metadata": {},
   "source": [
    "### MLP Classifier NN"
   ]
  },
  {
   "cell_type": "code",
   "execution_count": 1157,
   "metadata": {},
   "outputs": [
    {
     "data": {
      "text/plain": [
       "MLPClassifier(activation='tanh', hidden_layer_sizes=(32, 32, 32, 32, 32),\n",
       "              learning_rate='adaptive', max_iter=1000, random_state=1,\n",
       "              verbose=0)"
      ]
     },
     "execution_count": 1157,
     "metadata": {},
     "output_type": "execute_result"
    }
   ],
   "source": [
    "class_NN = MLPClassifier(\n",
    "    hidden_layer_sizes=(32, 32, 32, 32, 32),\n",
    "    activation='tanh',\n",
    "    solver='adam',\n",
    "    alpha=0.0001,\n",
    "    learning_rate='adaptive',\n",
    "    max_iter=1000, \n",
    "    verbose=0,\n",
    "    random_state=1)\n",
    "class_NN.fit(x_train, y_train)"
   ]
  },
  {
   "cell_type": "code",
   "execution_count": 1158,
   "metadata": {},
   "outputs": [
    {
     "name": "stdout",
     "output_type": "stream",
     "text": [
      "Accuracy: 81.91%\n"
     ]
    }
   ],
   "source": [
    "y_pred = class_NN.predict(x_test)\n",
    "mlp_acc = get_accuracy(y_pred, y_test)"
   ]
  },
  {
   "cell_type": "code",
   "execution_count": 1159,
   "metadata": {},
   "outputs": [
    {
     "data": {
      "text/plain": [
       "<tf.Tensor: shape=(3,), dtype=float32, numpy=array([6., 5., 6.], dtype=float32)>"
      ]
     },
     "execution_count": 1159,
     "metadata": {},
     "output_type": "execute_result"
    }
   ],
   "source": [
    "x_test[0]"
   ]
  },
  {
   "attachments": {},
   "cell_type": "markdown",
   "metadata": {},
   "source": [
    "### Grid Search to Find Optimal Parameters"
   ]
  },
  {
   "cell_type": "code",
   "execution_count": 1160,
   "metadata": {},
   "outputs": [],
   "source": [
    "params = {\n",
    "    'hidden_layer_sizes' : [(64, 32, 32, 32, 16), (32, 32, 32, 32, 32)],\n",
    "}\n",
    "\n",
    "gscv = GridSearchCV(class_NN, params, verbose=1)\n",
    "\n",
    "# gscv.fit(np.array(x_train), np.array(y_train))\n",
    "# print(gscv.best_params_) "
   ]
  },
  {
   "cell_type": "markdown",
   "metadata": {},
   "source": [
    "### Analyze Results"
   ]
  },
  {
   "cell_type": "code",
   "execution_count": 1161,
   "metadata": {},
   "outputs": [
    {
     "data": {
      "image/png": "[encoded data removed]",
      "text/plain": [
       "<Figure size 432x288 with 2 Axes>"
      ]
     },
     "metadata": {
      "needs_background": "light"
     },
     "output_type": "display_data"
    }
   ],
   "source": [
    "plot_confusion_matrix(class_NN, x_test, y_test)  \n",
    "plt.show()"
   ]
  },
  {
   "cell_type": "code",
   "execution_count": 1162,
   "metadata": {},
   "outputs": [
    {
     "name": "stdout",
     "output_type": "stream",
     "text": [
      "              precision    recall  f1-score   support\n",
      "\n",
      "     CutFree       0.72      0.90      0.80       242\n",
      "   CutFreeRL       0.92      0.77      0.84       366\n",
      "\n",
      "    accuracy                           0.82       608\n",
      "   macro avg       0.82      0.83      0.82       608\n",
      "weighted avg       0.84      0.82      0.82       608\n",
      "\n"
     ]
    }
   ],
   "source": [
    "print(classification_report(y_pred, y_test, target_names=[\"CutFree\", \"CutFreeRL\"]))"
   ]
  },
  {
   "attachments": {},
   "cell_type": "markdown",
   "metadata": {},
   "source": [
    "# Visualize Incorrect Classifications"
   ]
  },
  {
   "cell_type": "code",
   "execution_count": 1163,
   "metadata": {},
   "outputs": [
    {
     "data": {
      "text/html": [
       "<div>\n",
       "<style scoped>\n",
       "    .dataframe tbody tr th:only-of-type {\n",
       "        vertical-align: middle;\n",
       "    }\n",
       "\n",
       "    .dataframe tbody tr th {\n",
       "        vertical-align: top;\n",
       "    }\n",
       "\n",
       "    .dataframe thead th {\n",
       "        text-align: right;\n",
       "    }\n",
       "</style>\n",
       "<table border=\"1\" class=\"dataframe\">\n",
       "  <thead>\n",
       "    <tr style=\"text-align: right;\">\n",
       "      <th></th>\n",
       "      <th>OligoLength</th>\n",
       "      <th>TotalSites</th>\n",
       "      <th>SiteLength</th>\n",
       "      <th>Algorithm</th>\n",
       "      <th>CutFree_Time</th>\n",
       "      <th>CutFreeRL_Time</th>\n",
       "    </tr>\n",
       "  </thead>\n",
       "  <tbody>\n",
       "    <tr>\n",
       "      <th>0</th>\n",
       "      <td>6</td>\n",
       "      <td>1</td>\n",
       "      <td>4</td>\n",
       "      <td>0</td>\n",
       "      <td>0.006211</td>\n",
       "      <td>0.228063</td>\n",
       "    </tr>\n",
       "    <tr>\n",
       "      <th>4</th>\n",
       "      <td>6</td>\n",
       "      <td>5</td>\n",
       "      <td>4</td>\n",
       "      <td>0</td>\n",
       "      <td>0.013882</td>\n",
       "      <td>0.183784</td>\n",
       "    </tr>\n",
       "    <tr>\n",
       "      <th>5</th>\n",
       "      <td>6</td>\n",
       "      <td>6</td>\n",
       "      <td>4</td>\n",
       "      <td>0</td>\n",
       "      <td>0.011498</td>\n",
       "      <td>0.194223</td>\n",
       "    </tr>\n",
       "    <tr>\n",
       "      <th>11</th>\n",
       "      <td>6</td>\n",
       "      <td>2</td>\n",
       "      <td>5</td>\n",
       "      <td>0</td>\n",
       "      <td>0.006018</td>\n",
       "      <td>0.099851</td>\n",
       "    </tr>\n",
       "    <tr>\n",
       "      <th>19</th>\n",
       "      <td>6</td>\n",
       "      <td>10</td>\n",
       "      <td>5</td>\n",
       "      <td>0</td>\n",
       "      <td>0.030398</td>\n",
       "      <td>0.299281</td>\n",
       "    </tr>\n",
       "  </tbody>\n",
       "</table>\n",
       "</div>"
      ],
      "text/plain": [
       "    OligoLength  TotalSites  SiteLength  Algorithm  CutFree_Time  \\\n",
       "0             6           1           4          0      0.006211   \n",
       "4             6           5           4          0      0.013882   \n",
       "5             6           6           4          0      0.011498   \n",
       "11            6           2           5          0      0.006018   \n",
       "19            6          10           5          0      0.030398   \n",
       "\n",
       "    CutFreeRL_Time  \n",
       "0         0.228063  \n",
       "4         0.183784  \n",
       "5         0.194223  \n",
       "11        0.099851  \n",
       "19        0.299281  "
      ]
     },
     "execution_count": 1163,
     "metadata": {},
     "output_type": "execute_result"
    }
   ],
   "source": [
    "df_total.head()"
   ]
  },
  {
   "cell_type": "code",
   "execution_count": 1164,
   "metadata": {},
   "outputs": [
    {
     "data": {
      "text/html": [
       "<div>\n",
       "<style scoped>\n",
       "    .dataframe tbody tr th:only-of-type {\n",
       "        vertical-align: middle;\n",
       "    }\n",
       "\n",
       "    .dataframe tbody tr th {\n",
       "        vertical-align: top;\n",
       "    }\n",
       "\n",
       "    .dataframe thead th {\n",
       "        text-align: right;\n",
       "    }\n",
       "</style>\n",
       "<table border=\"1\" class=\"dataframe\">\n",
       "  <thead>\n",
       "    <tr style=\"text-align: right;\">\n",
       "      <th></th>\n",
       "      <th>OligoLength</th>\n",
       "      <th>TotalSites</th>\n",
       "      <th>SiteLength</th>\n",
       "      <th>Algorithm</th>\n",
       "      <th>CutFree_Time</th>\n",
       "      <th>CutFreeRL_Time</th>\n",
       "      <th>Discrepency</th>\n",
       "    </tr>\n",
       "  </thead>\n",
       "  <tbody>\n",
       "    <tr>\n",
       "      <th>3139</th>\n",
       "      <td>33</td>\n",
       "      <td>10</td>\n",
       "      <td>7</td>\n",
       "      <td>0</td>\n",
       "      <td>0.632100</td>\n",
       "      <td>3.728101</td>\n",
       "      <td>-3.096001</td>\n",
       "    </tr>\n",
       "    <tr>\n",
       "      <th>4988</th>\n",
       "      <td>35</td>\n",
       "      <td>10</td>\n",
       "      <td>7</td>\n",
       "      <td>0</td>\n",
       "      <td>0.531718</td>\n",
       "      <td>3.553635</td>\n",
       "      <td>-3.021917</td>\n",
       "    </tr>\n",
       "    <tr>\n",
       "      <th>5238</th>\n",
       "      <td>40</td>\n",
       "      <td>10</td>\n",
       "      <td>7</td>\n",
       "      <td>0</td>\n",
       "      <td>0.919619</td>\n",
       "      <td>3.840002</td>\n",
       "      <td>-2.920383</td>\n",
       "    </tr>\n",
       "    <tr>\n",
       "      <th>1239</th>\n",
       "      <td>30</td>\n",
       "      <td>10</td>\n",
       "      <td>7</td>\n",
       "      <td>0</td>\n",
       "      <td>0.290017</td>\n",
       "      <td>3.013270</td>\n",
       "      <td>-2.723253</td>\n",
       "    </tr>\n",
       "    <tr>\n",
       "      <th>4945</th>\n",
       "      <td>34</td>\n",
       "      <td>7</td>\n",
       "      <td>8</td>\n",
       "      <td>0</td>\n",
       "      <td>0.143880</td>\n",
       "      <td>2.799703</td>\n",
       "      <td>-2.655823</td>\n",
       "    </tr>\n",
       "  </tbody>\n",
       "</table>\n",
       "</div>"
      ],
      "text/plain": [
       "      OligoLength  TotalSites  SiteLength  Algorithm  CutFree_Time  \\\n",
       "3139           33          10           7          0      0.632100   \n",
       "4988           35          10           7          0      0.531718   \n",
       "5238           40          10           7          0      0.919619   \n",
       "1239           30          10           7          0      0.290017   \n",
       "4945           34           7           8          0      0.143880   \n",
       "\n",
       "      CutFreeRL_Time  Discrepency  \n",
       "3139        3.728101    -3.096001  \n",
       "4988        3.553635    -3.021917  \n",
       "5238        3.840002    -2.920383  \n",
       "1239        3.013270    -2.723253  \n",
       "4945        2.799703    -2.655823  "
      ]
     },
     "execution_count": 1164,
     "metadata": {},
     "output_type": "execute_result"
    }
   ],
   "source": [
    "df_total[\"Discrepency\"] = df_total.CutFree_Time - df_total.CutFreeRL_Time\n",
    "df_total = df_total.sort_values(by=[\"Discrepency\"], ascending=True)\n",
    "df_total.head()"
   ]
  },
  {
   "cell_type": "code",
   "execution_count": 1165,
   "metadata": {},
   "outputs": [],
   "source": [
    "df_total_tf = df_total.copy()\n",
    "\n",
    "df_total_tf.loc[x_test_df.index[np.where(y_test_df != y_pred_tf)], \"Prediction\"] = 0\n",
    "df_total_tf.loc[df_total_tf[\"Prediction\"].isna(), \"Prediction\"] = 1\n",
    "\n",
    "df_total_tf = df_total_tf.reset_index(drop=True)\n"
   ]
  },
  {
   "cell_type": "code",
   "execution_count": 1166,
   "metadata": {},
   "outputs": [],
   "source": [
    "df_total.loc[x_test_df.index[np.where(y_test_df != y_pred)], \"Prediction\"] = 0\n",
    "df_total.loc[df_total[\"Prediction\"].isna(), \"Prediction\"] = 1\n"
   ]
  },
  {
   "cell_type": "code",
   "execution_count": 1167,
   "metadata": {},
   "outputs": [
    {
     "data": {
      "text/html": [
       "<div>\n",
       "<style scoped>\n",
       "    .dataframe tbody tr th:only-of-type {\n",
       "        vertical-align: middle;\n",
       "    }\n",
       "\n",
       "    .dataframe tbody tr th {\n",
       "        vertical-align: top;\n",
       "    }\n",
       "\n",
       "    .dataframe thead th {\n",
       "        text-align: right;\n",
       "    }\n",
       "</style>\n",
       "<table border=\"1\" class=\"dataframe\">\n",
       "  <thead>\n",
       "    <tr style=\"text-align: right;\">\n",
       "      <th></th>\n",
       "      <th>OligoLength</th>\n",
       "      <th>TotalSites</th>\n",
       "      <th>SiteLength</th>\n",
       "      <th>Algorithm</th>\n",
       "      <th>CutFree_Time</th>\n",
       "      <th>CutFreeRL_Time</th>\n",
       "      <th>Discrepency</th>\n",
       "      <th>Prediction</th>\n",
       "    </tr>\n",
       "  </thead>\n",
       "  <tbody>\n",
       "    <tr>\n",
       "      <th>0</th>\n",
       "      <td>33</td>\n",
       "      <td>10</td>\n",
       "      <td>7</td>\n",
       "      <td>0</td>\n",
       "      <td>0.632100</td>\n",
       "      <td>3.728101</td>\n",
       "      <td>-3.096001</td>\n",
       "      <td>1.0</td>\n",
       "    </tr>\n",
       "    <tr>\n",
       "      <th>1</th>\n",
       "      <td>35</td>\n",
       "      <td>10</td>\n",
       "      <td>7</td>\n",
       "      <td>0</td>\n",
       "      <td>0.531718</td>\n",
       "      <td>3.553635</td>\n",
       "      <td>-3.021917</td>\n",
       "      <td>1.0</td>\n",
       "    </tr>\n",
       "    <tr>\n",
       "      <th>2</th>\n",
       "      <td>40</td>\n",
       "      <td>10</td>\n",
       "      <td>7</td>\n",
       "      <td>0</td>\n",
       "      <td>0.919619</td>\n",
       "      <td>3.840002</td>\n",
       "      <td>-2.920383</td>\n",
       "      <td>1.0</td>\n",
       "    </tr>\n",
       "    <tr>\n",
       "      <th>3</th>\n",
       "      <td>30</td>\n",
       "      <td>10</td>\n",
       "      <td>7</td>\n",
       "      <td>0</td>\n",
       "      <td>0.290017</td>\n",
       "      <td>3.013270</td>\n",
       "      <td>-2.723253</td>\n",
       "      <td>1.0</td>\n",
       "    </tr>\n",
       "    <tr>\n",
       "      <th>4</th>\n",
       "      <td>34</td>\n",
       "      <td>7</td>\n",
       "      <td>8</td>\n",
       "      <td>0</td>\n",
       "      <td>0.143880</td>\n",
       "      <td>2.799703</td>\n",
       "      <td>-2.655823</td>\n",
       "      <td>1.0</td>\n",
       "    </tr>\n",
       "  </tbody>\n",
       "</table>\n",
       "</div>"
      ],
      "text/plain": [
       "   OligoLength  TotalSites  SiteLength  Algorithm  CutFree_Time  \\\n",
       "0           33          10           7          0      0.632100   \n",
       "1           35          10           7          0      0.531718   \n",
       "2           40          10           7          0      0.919619   \n",
       "3           30          10           7          0      0.290017   \n",
       "4           34           7           8          0      0.143880   \n",
       "\n",
       "   CutFreeRL_Time  Discrepency  Prediction  \n",
       "0        3.728101    -3.096001         1.0  \n",
       "1        3.553635    -3.021917         1.0  \n",
       "2        3.840002    -2.920383         1.0  \n",
       "3        3.013270    -2.723253         1.0  \n",
       "4        2.799703    -2.655823         1.0  "
      ]
     },
     "execution_count": 1167,
     "metadata": {},
     "output_type": "execute_result"
    }
   ],
   "source": [
    "df_total = df_total.reset_index(drop=True)\n",
    "df_total.head()"
   ]
  },
  {
   "cell_type": "code",
   "execution_count": 1168,
   "metadata": {},
   "outputs": [
    {
     "data": {
      "text/plain": [
       "<matplotlib.legend.Legend at 0x21f64f59af0>"
      ]
     },
     "execution_count": 1168,
     "metadata": {},
     "output_type": "execute_result"
    },
    {
     "data": {
      "image/png": "[encoded data removed]",
      "text/plain": [
       "<Figure size 1440x1440 with 3 Axes>"
      ]
     },
     "metadata": {
      "needs_background": "light"
     },
     "output_type": "display_data"
    }
   ],
   "source": [
    "plt.figure(figsize=(20,20))\n",
    "\n",
    "plt.subplot(311)\n",
    "plt.scatter(\n",
    "    df_total[df_total.Algorithm==0].index, df_total[df_total.Algorithm==0].Discrepency, \n",
    "    c =\"blue\",\n",
    "    linewidths = 1,\n",
    "    marker =\"s\",\n",
    "    s = 25)\n",
    "\n",
    "plt.scatter(\n",
    "    df_total[df_total.Algorithm==1].index, df_total[df_total.Algorithm==1].Discrepency, \n",
    "    c =\"green\",\n",
    "    linewidths = 1,\n",
    "    marker =\"s\",\n",
    "    s = 25)\n",
    "\n",
    "plt.title(\"Correct Algorithm Selection for Time Discrepency vs. Index\")\n",
    "plt.xlabel(\"Index\")\n",
    "plt.ylabel(\"Time Discrepency (sec)\")\n",
    "plt.legend([\"CutFree\", \"CutFreeRL\"])\n",
    "\n",
    "plt.subplot(312)\n",
    "plt.scatter(\n",
    "    df_total[df_total.Prediction==1].index, df_total[df_total.Prediction==1].Discrepency, \n",
    "    c =\"black\",\n",
    "    linewidths = 1,\n",
    "    marker =\"s\",\n",
    "    s = 25)\n",
    "\n",
    "plt.scatter(\n",
    "    df_total[df_total.Prediction==0].index, df_total[df_total.Prediction==0].Discrepency, \n",
    "    c =\"red\",\n",
    "    linewidths = 3,\n",
    "    marker =\"x\",\n",
    "    s = 250)\n",
    "\n",
    "plt.title(f\"Accuracy of MLP Classifier Predictions ({mlp_acc:.2f}) for Time Discrepency vs. Index\")\n",
    "plt.xlabel(\"Index\")\n",
    "plt.ylabel(\"Time Discrepency (sec)\")\n",
    "plt.legend([\"Correct Prediction\", \"Incorrect Prediction\"])\n",
    "\n",
    "plt.subplot(313)\n",
    "plt.scatter(\n",
    "    df_total_tf[df_total_tf.Prediction==1].index, df_total_tf[df_total_tf.Prediction==1].Discrepency, \n",
    "    c =\"black\",\n",
    "    linewidths = 1,\n",
    "    marker =\"s\",\n",
    "    s = 25)\n",
    "\n",
    "plt.scatter(\n",
    "    df_total_tf[df_total_tf.Prediction==0].index, df_total_tf[df_total_tf.Prediction==0].Discrepency, \n",
    "    c =\"red\",\n",
    "    linewidths = 3,\n",
    "    marker =\"x\",\n",
    "    s = 250)\n",
    "\n",
    "plt.title(f\"Accuracy of TensforFlow Model Predictions ({tf_acc:.2f}%) for Time Discrepency vs. Index\")\n",
    "plt.xlabel(\"Index\")\n",
    "plt.ylabel(\"Time Discrepency (sec)\")\n",
    "plt.legend([\"Correct Prediction\", \"Incorrect Prediction\"])\n"
   ]
  },
  {
   "cell_type": "markdown",
   "metadata": {},
   "source": [
    "# Save Model"
   ]
  },
  {
   "cell_type": "code",
   "execution_count": 1169,
   "metadata": {},
   "outputs": [],
   "source": [
    "with open(\"cutfree_model.pkl\", \"wb\") as f:\n",
    "    pickle.dump(class_NN, f)"
   ]
  },
  {
   "cell_type": "code",
   "execution_count": 1170,
   "metadata": {},
   "outputs": [
    {
     "data": {
      "text/plain": [
       "array([0.], dtype=float32)"
      ]
     },
     "execution_count": 1170,
     "metadata": {},
     "output_type": "execute_result"
    }
   ],
   "source": [
    "with open(\"../cutfree-models/cutfree_model.pkl\", \"rb\") as f:\n",
    "    model = pickle.load(f)\n",
    "model.predict([[6, 1, 4]])"
   ]
  },
  {
   "cell_type": "code",
   "execution_count": null,
   "metadata": {},
   "outputs": [],
   "source": []
  }
 ],
 "metadata": {
  "kernelspec": {
   "display_name": "base",
   "language": "python",
   "name": "python3"
  },
  "language_info": {
   "codemirror_mode": {
    "name": "ipython",
    "version": 3
   },
   "file_extension": ".py",
   "mimetype": "text/x-python",
   "name": "python",
   "nbconvert_exporter": "python",
   "pygments_lexer": "ipython3",
   "version": "3.9.7"
  }
 },
 "nbformat": 4,
 "nbformat_minor": 4
}
