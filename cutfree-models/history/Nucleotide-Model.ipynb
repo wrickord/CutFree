{
 "cells": [
  {
   "cell_type": "markdown",
   "metadata": {},
   "source": [
    "# Import Dependencies"
   ]
  },
  {
   "cell_type": "code",
   "execution_count": 1,
   "metadata": {},
   "outputs": [],
   "source": [
    "# System\n",
    "import os\n",
    "\n",
    "# Data Analysis\n",
    "import numpy as np\n",
    "import pandas as pd\n",
    "import matplotlib.pyplot as plt\n",
    "\n",
    "# Machine Learning\n",
    "from sklearn.model_selection import train_test_split\n",
    "from sklearn.neural_network import MLPClassifier\n",
    "from sklearn.metrics import accuracy_score, classification_report, plot_confusion_matrix"
   ]
  },
  {
   "cell_type": "markdown",
   "metadata": {},
   "source": [
    "# Get Data"
   ]
  },
  {
   "cell_type": "code",
   "execution_count": 2,
   "metadata": {},
   "outputs": [
    {
     "data": {
      "text/plain": [
       "Oligo                        NNNNNN\n",
       "OligoLength                       6\n",
       "Sites                   Any[\"YATR\"]\n",
       "TotalSites                        1\n",
       "SiteLength                        4\n",
       "CutFree_Randomer             NBNVVN\n",
       "CutFree_Degeneracy          7.45472\n",
       "CutFree_Time               0.006211\n",
       "CutFreeRL_Randomer           NNVVVN\n",
       "CutFreeRL_Degeneracy        7.45472\n",
       "CutFreeRL_Time             0.228063\n",
       "Name: 0, dtype: object"
      ]
     },
     "execution_count": 2,
     "metadata": {},
     "output_type": "execute_result"
    }
   ],
   "source": [
    "file_path = os.path.normpath(os.getcwd() + os.sep + os.pardir) + \"/cutfree-simulations/runtime_data_v1.csv\"\n",
    "df = pd.read_csv(file_path)\n",
    "df.iloc[0]"
   ]
  },
  {
   "cell_type": "code",
   "execution_count": 3,
   "metadata": {},
   "outputs": [
    {
     "data": {
      "text/html": [
       "<div>\n",
       "<style scoped>\n",
       "    .dataframe tbody tr th:only-of-type {\n",
       "        vertical-align: middle;\n",
       "    }\n",
       "\n",
       "    .dataframe tbody tr th {\n",
       "        vertical-align: top;\n",
       "    }\n",
       "\n",
       "    .dataframe thead th {\n",
       "        text-align: right;\n",
       "    }\n",
       "</style>\n",
       "<table border=\"1\" class=\"dataframe\">\n",
       "  <thead>\n",
       "    <tr style=\"text-align: right;\">\n",
       "      <th></th>\n",
       "      <th>Oligo</th>\n",
       "      <th>OligoLength</th>\n",
       "      <th>Sites</th>\n",
       "      <th>TotalSites</th>\n",
       "      <th>SiteLength</th>\n",
       "      <th>CutFree_Randomer</th>\n",
       "      <th>CutFree_Degeneracy</th>\n",
       "      <th>CutFree_Time</th>\n",
       "      <th>CutFreeRL_Randomer</th>\n",
       "      <th>CutFreeRL_Degeneracy</th>\n",
       "      <th>CutFreeRL_Time</th>\n",
       "    </tr>\n",
       "  </thead>\n",
       "  <tbody>\n",
       "    <tr>\n",
       "      <th>0</th>\n",
       "      <td>NNNNNN</td>\n",
       "      <td>6</td>\n",
       "      <td>Any[\"YATR\"]</td>\n",
       "      <td>1</td>\n",
       "      <td>4</td>\n",
       "      <td>NBNVVN</td>\n",
       "      <td>7.45472</td>\n",
       "      <td>0.006211</td>\n",
       "      <td>NNVVVN</td>\n",
       "      <td>7.45472</td>\n",
       "      <td>0.228063</td>\n",
       "    </tr>\n",
       "  </tbody>\n",
       "</table>\n",
       "</div>"
      ],
      "text/plain": [
       "    Oligo  OligoLength        Sites  TotalSites  SiteLength CutFree_Randomer  \\\n",
       "0  NNNNNN            6  Any[\"YATR\"]           1           4           NBNVVN   \n",
       "\n",
       "   CutFree_Degeneracy  CutFree_Time CutFreeRL_Randomer  CutFreeRL_Degeneracy  \\\n",
       "0             7.45472      0.006211             NNVVVN               7.45472   \n",
       "\n",
       "   CutFreeRL_Time  \n",
       "0        0.228063  "
      ]
     },
     "execution_count": 3,
     "metadata": {},
     "output_type": "execute_result"
    }
   ],
   "source": [
    "df.loc[(df[\"OligoLength\"] == 6) & (df[\"TotalSites\"] == 1) & (df[\"SiteLength\"] == 4)]"
   ]
  },
  {
   "cell_type": "code",
   "execution_count": 4,
   "metadata": {},
   "outputs": [],
   "source": [
    "conditions = [\n",
    "    (df[\"CutFree_Time\"] <= df[\"CutFreeRL_Time\"]),\n",
    "    (df[\"CutFree_Time\"] > df[\"CutFreeRL_Time\"])\n",
    "]\n",
    "\n",
    "values = [0, 1] # 0 = CutFree, 1 = CutFreeRL"
   ]
  },
  {
   "cell_type": "code",
   "execution_count": 5,
   "metadata": {},
   "outputs": [
    {
     "name": "stdout",
     "output_type": "stream",
     "text": [
      "<class 'pandas.core.frame.DataFrame'>\n",
      "RangeIndex: 1750 entries, 0 to 1749\n",
      "Data columns (total 3 columns):\n",
      " #   Column     Non-Null Count  Dtype   \n",
      "---  ------     --------------  -----   \n",
      " 0   Oligo      1750 non-null   category\n",
      " 1   Sites      1750 non-null   category\n",
      " 2   Algorithm  1750 non-null   int32   \n",
      "dtypes: category(2), int32(1)\n",
      "memory usage: 91.0 KB\n"
     ]
    },
    {
     "data": {
      "text/html": [
       "<div>\n",
       "<style scoped>\n",
       "    .dataframe tbody tr th:only-of-type {\n",
       "        vertical-align: middle;\n",
       "    }\n",
       "\n",
       "    .dataframe tbody tr th {\n",
       "        vertical-align: top;\n",
       "    }\n",
       "\n",
       "    .dataframe thead th {\n",
       "        text-align: right;\n",
       "    }\n",
       "</style>\n",
       "<table border=\"1\" class=\"dataframe\">\n",
       "  <thead>\n",
       "    <tr style=\"text-align: right;\">\n",
       "      <th></th>\n",
       "      <th>Oligo</th>\n",
       "      <th>Sites</th>\n",
       "      <th>Algorithm</th>\n",
       "    </tr>\n",
       "  </thead>\n",
       "  <tbody>\n",
       "    <tr>\n",
       "      <th>0</th>\n",
       "      <td>NNNNNN</td>\n",
       "      <td>Any[\"YATR\"]</td>\n",
       "      <td>0</td>\n",
       "    </tr>\n",
       "    <tr>\n",
       "      <th>1</th>\n",
       "      <td>NNNNNN</td>\n",
       "      <td>Any[\"TTAA\", \"RGCY\"]</td>\n",
       "      <td>0</td>\n",
       "    </tr>\n",
       "    <tr>\n",
       "      <th>2</th>\n",
       "      <td>NNNNNN</td>\n",
       "      <td>Any[\"CGCG\", \"CCTC\", \"CTAG\"]</td>\n",
       "      <td>0</td>\n",
       "    </tr>\n",
       "    <tr>\n",
       "      <th>3</th>\n",
       "      <td>NNNNNN</td>\n",
       "      <td>Any[\"CNNR\", \"GATC\", \"AATT\", \"TCGA\"]</td>\n",
       "      <td>0</td>\n",
       "    </tr>\n",
       "    <tr>\n",
       "      <th>4</th>\n",
       "      <td>NNNNNN</td>\n",
       "      <td>Any[\"AATT\", \"CATG\", \"ASST\", \"CNNR\", \"YATR\"]</td>\n",
       "      <td>0</td>\n",
       "    </tr>\n",
       "    <tr>\n",
       "      <th>...</th>\n",
       "      <td>...</td>\n",
       "      <td>...</td>\n",
       "      <td>...</td>\n",
       "    </tr>\n",
       "    <tr>\n",
       "      <th>1745</th>\n",
       "      <td>NNNNNNNNNNNNNNNNNNNNNNNNNNNNNNNNNNNNNNNN</td>\n",
       "      <td>Any[\"CRCCGGYG\", \"GTTTAAAC\", \"CCTGCAGG\", \"GCGGC...</td>\n",
       "      <td>1</td>\n",
       "    </tr>\n",
       "    <tr>\n",
       "      <th>1746</th>\n",
       "      <td>NNNNNNNNNNNNNNNNNNNNNNNNNNNNNNNNNNNNNNNN</td>\n",
       "      <td>Any[\"CCTCGAGG\", \"TTAATTAA\", \"GCGATCGC\", \"CGTCG...</td>\n",
       "      <td>1</td>\n",
       "    </tr>\n",
       "    <tr>\n",
       "      <th>1747</th>\n",
       "      <td>NNNNNNNNNNNNNNNNNNNNNNNNNNNNNNNNNNNNNNNN</td>\n",
       "      <td>Any[\"GCGATCGC\", \"CGCGCGCG\", \"GCCCGGGC\", \"CCTGC...</td>\n",
       "      <td>1</td>\n",
       "    </tr>\n",
       "    <tr>\n",
       "      <th>1748</th>\n",
       "      <td>NNNNNNNNNNNNNNNNNNNNNNNNNNNNNNNNNNNNNNNN</td>\n",
       "      <td>Any[\"CGCCGGCG\", \"RTGCGCAY\", \"GCCCGGGC\", \"GTTTA...</td>\n",
       "      <td>1</td>\n",
       "    </tr>\n",
       "    <tr>\n",
       "      <th>1749</th>\n",
       "      <td>NNNNNNNNNNNNNNNNNNNNNNNNNNNNNNNNNNNNNNNN</td>\n",
       "      <td>Any[\"CCTGCAGG\", \"CCTCGAGG\", \"GCGATCGC\", \"CGCCG...</td>\n",
       "      <td>1</td>\n",
       "    </tr>\n",
       "  </tbody>\n",
       "</table>\n",
       "<p>1750 rows × 3 columns</p>\n",
       "</div>"
      ],
      "text/plain": [
       "                                         Oligo  \\\n",
       "0                                       NNNNNN   \n",
       "1                                       NNNNNN   \n",
       "2                                       NNNNNN   \n",
       "3                                       NNNNNN   \n",
       "4                                       NNNNNN   \n",
       "...                                        ...   \n",
       "1745  NNNNNNNNNNNNNNNNNNNNNNNNNNNNNNNNNNNNNNNN   \n",
       "1746  NNNNNNNNNNNNNNNNNNNNNNNNNNNNNNNNNNNNNNNN   \n",
       "1747  NNNNNNNNNNNNNNNNNNNNNNNNNNNNNNNNNNNNNNNN   \n",
       "1748  NNNNNNNNNNNNNNNNNNNNNNNNNNNNNNNNNNNNNNNN   \n",
       "1749  NNNNNNNNNNNNNNNNNNNNNNNNNNNNNNNNNNNNNNNN   \n",
       "\n",
       "                                                  Sites  Algorithm  \n",
       "0                                           Any[\"YATR\"]          0  \n",
       "1                                   Any[\"TTAA\", \"RGCY\"]          0  \n",
       "2                           Any[\"CGCG\", \"CCTC\", \"CTAG\"]          0  \n",
       "3                   Any[\"CNNR\", \"GATC\", \"AATT\", \"TCGA\"]          0  \n",
       "4           Any[\"AATT\", \"CATG\", \"ASST\", \"CNNR\", \"YATR\"]          0  \n",
       "...                                                 ...        ...  \n",
       "1745  Any[\"CRCCGGYG\", \"GTTTAAAC\", \"CCTGCAGG\", \"GCGGC...          1  \n",
       "1746  Any[\"CCTCGAGG\", \"TTAATTAA\", \"GCGATCGC\", \"CGTCG...          1  \n",
       "1747  Any[\"GCGATCGC\", \"CGCGCGCG\", \"GCCCGGGC\", \"CCTGC...          1  \n",
       "1748  Any[\"CGCCGGCG\", \"RTGCGCAY\", \"GCCCGGGC\", \"GTTTA...          1  \n",
       "1749  Any[\"CCTGCAGG\", \"CCTCGAGG\", \"GCGATCGC\", \"CGCCG...          1  \n",
       "\n",
       "[1750 rows x 3 columns]"
      ]
     },
     "execution_count": 5,
     "metadata": {},
     "output_type": "execute_result"
    }
   ],
   "source": [
    "df[\"Algorithm\"] = np.select(conditions, values)\n",
    "df = df[[\"Oligo\", \"Sites\", \"Algorithm\"]]\n",
    "df.Oligo = df.Oligo.astype(\"category\")\n",
    "df.Sites = df.Sites.astype(\"category\")\n",
    "df.info()\n",
    "df"
   ]
  },
  {
   "attachments": {},
   "cell_type": "markdown",
   "metadata": {
    "tags": []
   },
   "source": [
    "# Get Train/Test Split"
   ]
  },
  {
   "cell_type": "code",
   "execution_count": 6,
   "metadata": {},
   "outputs": [],
   "source": [
    "x = df.drop([\"Algorithm\"], axis=1)\n",
    "y = df[\"Algorithm\"]"
   ]
  },
  {
   "cell_type": "code",
   "execution_count": 7,
   "metadata": {},
   "outputs": [
    {
     "data": {
      "text/html": [
       "<div>\n",
       "<style scoped>\n",
       "    .dataframe tbody tr th:only-of-type {\n",
       "        vertical-align: middle;\n",
       "    }\n",
       "\n",
       "    .dataframe tbody tr th {\n",
       "        vertical-align: top;\n",
       "    }\n",
       "\n",
       "    .dataframe thead th {\n",
       "        text-align: right;\n",
       "    }\n",
       "</style>\n",
       "<table border=\"1\" class=\"dataframe\">\n",
       "  <thead>\n",
       "    <tr style=\"text-align: right;\">\n",
       "      <th></th>\n",
       "      <th>Oligo</th>\n",
       "      <th>Sites</th>\n",
       "    </tr>\n",
       "  </thead>\n",
       "  <tbody>\n",
       "    <tr>\n",
       "      <th>642</th>\n",
       "      <td>NNNNNNNNNNNNNNNNNN</td>\n",
       "      <td>Any[\"VCTCGAGB\", \"TTAATTAA\", \"CRCCGGYG\"]</td>\n",
       "    </tr>\n",
       "    <tr>\n",
       "      <th>1141</th>\n",
       "      <td>NNNNNNNNNNNNNNNNNNNNNNNNNNNN</td>\n",
       "      <td>Any[\"CRCCGGYG\", \"CCTCGAGG\"]</td>\n",
       "    </tr>\n",
       "    <tr>\n",
       "      <th>1027</th>\n",
       "      <td>NNNNNNNNNNNNNNNNNNNNNNNNNN</td>\n",
       "      <td>Any[\"CAGCTG\", \"ACTAGT\", \"GAGGAG\", \"TCGCGA\", \"C...</td>\n",
       "    </tr>\n",
       "    <tr>\n",
       "      <th>977</th>\n",
       "      <td>NNNNNNNNNNNNNNNNNNNNNNNNN</td>\n",
       "      <td>Any[\"GTCGAC\", \"GTGCAC\", \"ACCGGT\", \"GCCGAG\", \"C...</td>\n",
       "    </tr>\n",
       "    <tr>\n",
       "      <th>570</th>\n",
       "      <td>NNNNNNNNNNNNNNNNN</td>\n",
       "      <td>Any[\"GATATC\"]</td>\n",
       "    </tr>\n",
       "  </tbody>\n",
       "</table>\n",
       "</div>"
      ],
      "text/plain": [
       "                             Oligo  \\\n",
       "642             NNNNNNNNNNNNNNNNNN   \n",
       "1141  NNNNNNNNNNNNNNNNNNNNNNNNNNNN   \n",
       "1027    NNNNNNNNNNNNNNNNNNNNNNNNNN   \n",
       "977      NNNNNNNNNNNNNNNNNNNNNNNNN   \n",
       "570              NNNNNNNNNNNNNNNNN   \n",
       "\n",
       "                                                  Sites  \n",
       "642             Any[\"VCTCGAGB\", \"TTAATTAA\", \"CRCCGGYG\"]  \n",
       "1141                        Any[\"CRCCGGYG\", \"CCTCGAGG\"]  \n",
       "1027  Any[\"CAGCTG\", \"ACTAGT\", \"GAGGAG\", \"TCGCGA\", \"C...  \n",
       "977   Any[\"GTCGAC\", \"GTGCAC\", \"ACCGGT\", \"GCCGAG\", \"C...  \n",
       "570                                       Any[\"GATATC\"]  "
      ]
     },
     "execution_count": 7,
     "metadata": {},
     "output_type": "execute_result"
    }
   ],
   "source": [
    "x_train, x_test, y_train, y_test = train_test_split(x, y, test_size=0.2, random_state=100)\n",
    "x_train.head()"
   ]
  },
  {
   "cell_type": "code",
   "execution_count": 8,
   "metadata": {},
   "outputs": [
    {
     "data": {
      "text/plain": [
       "642     0\n",
       "1141    0\n",
       "1027    1\n",
       "977     0\n",
       "570     0\n",
       "Name: Algorithm, dtype: int32"
      ]
     },
     "execution_count": 8,
     "metadata": {},
     "output_type": "execute_result"
    }
   ],
   "source": [
    "y_train.head()"
   ]
  },
  {
   "attachments": {},
   "cell_type": "markdown",
   "metadata": {},
   "source": [
    "# One-Hot Encoder"
   ]
  },
  {
   "cell_type": "code",
   "execution_count": 9,
   "metadata": {},
   "outputs": [],
   "source": [
    "x_train_one_hot = pd.get_dummies(x_train, columns = [\"Oligo\", \"Sites\"])\n",
    "x_test_one_hot = pd.get_dummies(x_test, columns = [\"Oligo\", \"Sites\"])"
   ]
  },
  {
   "attachments": {},
   "cell_type": "markdown",
   "metadata": {},
   "source": [
    "# Accuracy Function"
   ]
  },
  {
   "cell_type": "code",
   "execution_count": 10,
   "metadata": {},
   "outputs": [],
   "source": [
    "def get_accuracy(pred, true):\n",
    "    test_accuracy = accuracy_score(pred, true)*100\n",
    "    print(\"Accuracy: {:.2f}%\".format(test_accuracy))\n",
    "    return test_accuracy"
   ]
  },
  {
   "attachments": {},
   "cell_type": "markdown",
   "metadata": {},
   "source": [
    "# MLP Classifier NN"
   ]
  },
  {
   "cell_type": "code",
   "execution_count": 11,
   "metadata": {},
   "outputs": [
    {
     "data": {
      "text/plain": [
       "MLPClassifier(max_iter=500, random_state=1)"
      ]
     },
     "execution_count": 11,
     "metadata": {},
     "output_type": "execute_result"
    }
   ],
   "source": [
    "class_NN = MLPClassifier(max_iter=500, random_state=1)\n",
    "class_NN.fit(x_train_one_hot, y_train)"
   ]
  },
  {
   "cell_type": "code",
   "execution_count": 12,
   "metadata": {},
   "outputs": [
    {
     "name": "stdout",
     "output_type": "stream",
     "text": [
      "Accuracy: 75.71%\n"
     ]
    },
    {
     "data": {
      "text/plain": [
       "75.71428571428571"
      ]
     },
     "execution_count": 12,
     "metadata": {},
     "output_type": "execute_result"
    }
   ],
   "source": [
    "y_pred = class_NN.predict(x_test_one_hot)\n",
    "get_accuracy(y_pred, y_test)"
   ]
  },
  {
   "cell_type": "code",
   "execution_count": 13,
   "metadata": {},
   "outputs": [
    {
     "data": {
      "image/png": "[encoded data removed]",
      "text/plain": [
       "<Figure size 432x288 with 2 Axes>"
      ]
     },
     "metadata": {
      "needs_background": "light"
     },
     "output_type": "display_data"
    }
   ],
   "source": [
    "plot_confusion_matrix(class_NN, x_test_one_hot, y_test)  \n",
    "plt.show()"
   ]
  },
  {
   "cell_type": "code",
   "execution_count": 14,
   "metadata": {},
   "outputs": [
    {
     "name": "stdout",
     "output_type": "stream",
     "text": [
      "              precision    recall  f1-score   support\n",
      "\n",
      "     CutFree       0.87      0.81      0.84       273\n",
      "   CutFreeRL       0.46      0.57      0.51        77\n",
      "\n",
      "    accuracy                           0.76       350\n",
      "   macro avg       0.66      0.69      0.67       350\n",
      "weighted avg       0.78      0.76      0.77       350\n",
      "\n"
     ]
    }
   ],
   "source": [
    "print(classification_report(y_pred, y_test, target_names=[\"CutFree\", \"CutFreeRL\"]))"
   ]
  },
  {
   "cell_type": "code",
   "execution_count": null,
   "metadata": {},
   "outputs": [],
   "source": []
  }
 ],
 "metadata": {
  "kernelspec": {
   "display_name": "base",
   "language": "python",
   "name": "python3"
  },
  "language_info": {
   "codemirror_mode": {
    "name": "ipython",
    "version": 3
   },
   "file_extension": ".py",
   "mimetype": "text/x-python",
   "name": "python",
   "nbconvert_exporter": "python",
   "pygments_lexer": "ipython3",
   "version": "3.9.7"
  }
 },
 "nbformat": 4,
 "nbformat_minor": 4
}
